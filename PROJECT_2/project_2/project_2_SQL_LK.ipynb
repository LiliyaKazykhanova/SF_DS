{
  "cells": [
    {
      "cell_type": "markdown",
      "id": "42289889-bd57-434e-9637-d3e354756316",
      "metadata": {
        "id": "42289889-bd57-434e-9637-d3e354756316"
      },
      "source": [
        "<center> <img src = https://raw.githubusercontent.com/AndreyRysistov/DatasetsForPandas/main/hh%20label.jpg alt=\"drawing\" style=\"width:400px;\">"
      ]
    },
    {
      "cell_type": "markdown",
      "id": "829cb75b-f14e-4ba8-9195-7ba929a7d656",
      "metadata": {
        "id": "829cb75b-f14e-4ba8-9195-7ba929a7d656",
        "tags": []
      },
      "source": [
        "# <center> Проект: Анализ вакансий для IT-специалистов из HeadHunter\n",
        "   "
      ]
    },
    {
      "cell_type": "markdown",
      "id": "5dbda0e6",
      "metadata": {},
      "source": [
        "# Юнит 1. Этапы"
      ]
    },
    {
      "cell_type": "markdown",
      "id": "eaaf7546",
      "metadata": {},
      "source": [
        "* знакомство с данными;\n",
        "* предварительный анализ данных;\n",
        "* детальный анализ вакансий;\n",
        "* анализ работодателей;\n",
        "* предметный анализ."
      ]
    },
    {
      "cell_type": "code",
      "execution_count": 1,
      "id": "dccfde33-2452-43fb-a8a5-5c6ebc02a71d",
      "metadata": {
        "id": "dccfde33-2452-43fb-a8a5-5c6ebc02a71d"
      },
      "outputs": [],
      "source": [
        "# !pip install psycopg2 - для работы в Python: отправка запросов в PostgreSQL и получение ответа\n",
        "# !pip install configparser - для поиска .ini файла\n",
        "# !pip install -U kaleido - для сохранения интерактивной картинки графиков Plotly\n",
        "\n",
        "import pandas as pd\n",
        "import psycopg2\n",
        "import plotly.express as px\n",
        "\n",
        "from configparser import ConfigParser"
      ]
    },
    {
      "cell_type": "code",
      "execution_count": 2,
      "id": "8024792f",
      "metadata": {},
      "outputs": [
        {
          "data": {
            "text/plain": [
              "['config/config.ini']"
            ]
          },
          "execution_count": 2,
          "metadata": {},
          "output_type": "execute_result"
        }
      ],
      "source": [
        "\"\"\"Скрываем пароль и логин от БД для выгрузки в git\n",
        "Создаем переменную config и urlsconf, в которой будет храниться адрес до файла .ini\n",
        "\"\"\"\n",
        "\n",
        "urlsconf = 'config/config.ini'\n",
        "config = ConfigParser()\n",
        "\n",
        "config.read(urlsconf) "
      ]
    },
    {
      "cell_type": "code",
      "execution_count": 3,
      "id": "oVKH4ehvf8Ay",
      "metadata": {
        "id": "oVKH4ehvf8Ay"
      },
      "outputs": [],
      "source": [
        "DBNAME = config['login_db']['DBNAME']\n",
        "USER = config['login_db']['USER']\n",
        "PASSWORD = config['login_db']['PASSWORD']\n",
        "HOST = config['tg_bot']['HOST']\n",
        "PORT = config['tg_bot']['PORT']"
      ]
    },
    {
      "cell_type": "code",
      "execution_count": 4,
      "id": "G4X_q8KBf7SF",
      "metadata": {
        "id": "G4X_q8KBf7SF"
      },
      "outputs": [],
      "source": [
        "connection = psycopg2.connect(\n",
        "    dbname=DBNAME,\n",
        "    user=USER,\n",
        "    host=HOST,\n",
        "    password=PASSWORD,\n",
        "    port=PORT\n",
        ")"
      ]
    },
    {
      "cell_type": "markdown",
      "id": "a9d4f9f6",
      "metadata": {},
      "source": [
        "# Юнит 2. Знакомство с данными"
      ]
    },
    {
      "cell_type": "markdown",
      "id": "e86c72ef",
      "metadata": {},
      "source": [
        "5 таблиц:\n",
        "* VACANCIES\n",
        "* AREAS\n",
        "* EMPLOYERS\n",
        "* INDUSTRIES\n",
        "* EMPLOYERS_INDUSTRIES"
      ]
    },
    {
      "cell_type": "markdown",
      "id": "71d09ace",
      "metadata": {},
      "source": [
        "**Таблица 1. VACANCIES содержит данные по вакансиям для IT-специалистов**\n",
        "\n",
        "10 параметров: название вакансии, ключевые навыки, тип рабочего графика, требования к опыту, тип трудоустройства, зарплата, ID региона вакансии, ID работодателя и пр."
      ]
    },
    {
      "cell_type": "code",
      "execution_count": 5,
      "id": "81c60baf",
      "metadata": {},
      "outputs": [
        {
          "data": {
            "text/html": [
              "<div>\n",
              "<style scoped>\n",
              "    .dataframe tbody tr th:only-of-type {\n",
              "        vertical-align: middle;\n",
              "    }\n",
              "\n",
              "    .dataframe tbody tr th {\n",
              "        vertical-align: top;\n",
              "    }\n",
              "\n",
              "    .dataframe thead th {\n",
              "        text-align: right;\n",
              "    }\n",
              "</style>\n",
              "<table border=\"1\" class=\"dataframe\">\n",
              "  <thead>\n",
              "    <tr style=\"text-align: right;\">\n",
              "      <th></th>\n",
              "      <th>id</th>\n",
              "      <th>name</th>\n",
              "      <th>key_skills</th>\n",
              "      <th>schedule</th>\n",
              "      <th>experience</th>\n",
              "      <th>employment</th>\n",
              "      <th>salary_from</th>\n",
              "      <th>salary_to</th>\n",
              "      <th>area_id</th>\n",
              "      <th>employer_id</th>\n",
              "    </tr>\n",
              "  </thead>\n",
              "  <tbody>\n",
              "    <tr>\n",
              "      <th>0</th>\n",
              "      <td>55312386</td>\n",
              "      <td>Компьютерный Мастер</td>\n",
              "      <td>Пользователь ПК\\tРабота в команде\\tРемонт ноут...</td>\n",
              "      <td>Полный день</td>\n",
              "      <td>Нет опыта</td>\n",
              "      <td>Полная занятость</td>\n",
              "      <td>64000.0</td>\n",
              "      <td>NaN</td>\n",
              "      <td>1516</td>\n",
              "      <td>5724811</td>\n",
              "    </tr>\n",
              "    <tr>\n",
              "      <th>1</th>\n",
              "      <td>55843014</td>\n",
              "      <td>Системный администратор</td>\n",
              "      <td>Средства криптографической защиты информации\\t...</td>\n",
              "      <td>Полный день</td>\n",
              "      <td>От 3 до 6 лет</td>\n",
              "      <td>Полная занятость</td>\n",
              "      <td>NaN</td>\n",
              "      <td>NaN</td>\n",
              "      <td>130</td>\n",
              "      <td>4903713</td>\n",
              "    </tr>\n",
              "    <tr>\n",
              "      <th>2</th>\n",
              "      <td>54525964</td>\n",
              "      <td>Lead Java Developer to Poland</td>\n",
              "      <td>Spring Framework\\tSQL\\tHibernate ORM\\tJava\\tGit</td>\n",
              "      <td>Удаленная работа</td>\n",
              "      <td>От 3 до 6 лет</td>\n",
              "      <td>Полная занятость</td>\n",
              "      <td>NaN</td>\n",
              "      <td>NaN</td>\n",
              "      <td>160</td>\n",
              "      <td>69961</td>\n",
              "    </tr>\n",
              "    <tr>\n",
              "      <th>3</th>\n",
              "      <td>54525965</td>\n",
              "      <td>Lead Java Developer to Poland</td>\n",
              "      <td>Spring Framework\\tSQL\\tHibernate ORM\\tJava\\tGit</td>\n",
              "      <td>Удаленная работа</td>\n",
              "      <td>От 3 до 6 лет</td>\n",
              "      <td>Полная занятость</td>\n",
              "      <td>NaN</td>\n",
              "      <td>NaN</td>\n",
              "      <td>159</td>\n",
              "      <td>69961</td>\n",
              "    </tr>\n",
              "    <tr>\n",
              "      <th>4</th>\n",
              "      <td>55354053</td>\n",
              "      <td>Специалист службы поддержки с техническими зна...</td>\n",
              "      <td>None</td>\n",
              "      <td>Удаленная работа</td>\n",
              "      <td>Нет опыта</td>\n",
              "      <td>Частичная занятость</td>\n",
              "      <td>15000.0</td>\n",
              "      <td>NaN</td>\n",
              "      <td>1955</td>\n",
              "      <td>1740</td>\n",
              "    </tr>\n",
              "    <tr>\n",
              "      <th>...</th>\n",
              "      <td>...</td>\n",
              "      <td>...</td>\n",
              "      <td>...</td>\n",
              "      <td>...</td>\n",
              "      <td>...</td>\n",
              "      <td>...</td>\n",
              "      <td>...</td>\n",
              "      <td>...</td>\n",
              "      <td>...</td>\n",
              "      <td>...</td>\n",
              "    </tr>\n",
              "    <tr>\n",
              "      <th>49192</th>\n",
              "      <td>55589514</td>\n",
              "      <td>Специалист по информационным технологиям</td>\n",
              "      <td>Электронный документооборот\\t1С: Предприятие 8...</td>\n",
              "      <td>Полный день</td>\n",
              "      <td>От 3 до 6 лет</td>\n",
              "      <td>Полная занятость</td>\n",
              "      <td>NaN</td>\n",
              "      <td>NaN</td>\n",
              "      <td>66</td>\n",
              "      <td>5109332</td>\n",
              "    </tr>\n",
              "    <tr>\n",
              "      <th>49193</th>\n",
              "      <td>55029668</td>\n",
              "      <td>Руководитель процессного офиса</td>\n",
              "      <td>Оптимизация бизнес-процессов\\tСтратегическое м...</td>\n",
              "      <td>Полный день</td>\n",
              "      <td>От 3 до 6 лет</td>\n",
              "      <td>Полная занятость</td>\n",
              "      <td>NaN</td>\n",
              "      <td>NaN</td>\n",
              "      <td>26</td>\n",
              "      <td>51333</td>\n",
              "    </tr>\n",
              "    <tr>\n",
              "      <th>49194</th>\n",
              "      <td>66172263</td>\n",
              "      <td>Начальник сервисной службы</td>\n",
              "      <td>Организаторские навыки\\tУправление персоналом\\...</td>\n",
              "      <td>Полный день</td>\n",
              "      <td>От 1 года до 3 лет</td>\n",
              "      <td>Полная занятость</td>\n",
              "      <td>60000.0</td>\n",
              "      <td>NaN</td>\n",
              "      <td>1930</td>\n",
              "      <td>4094700</td>\n",
              "    </tr>\n",
              "    <tr>\n",
              "      <th>49195</th>\n",
              "      <td>66180086</td>\n",
              "      <td>Senior IOS разработчик</td>\n",
              "      <td>Swift\\tRealm\\tiOS\\tАнглийский язык\\tMVP\\tMVVM\\...</td>\n",
              "      <td>Полный день</td>\n",
              "      <td>От 1 года до 3 лет</td>\n",
              "      <td>Полная занятость</td>\n",
              "      <td>146456.0</td>\n",
              "      <td>244094.0</td>\n",
              "      <td>160</td>\n",
              "      <td>4469939</td>\n",
              "    </tr>\n",
              "    <tr>\n",
              "      <th>49196</th>\n",
              "      <td>55547842</td>\n",
              "      <td>DataOps Engineer</td>\n",
              "      <td>None</td>\n",
              "      <td>Удаленная работа</td>\n",
              "      <td>От 3 до 6 лет</td>\n",
              "      <td>Полная занятость</td>\n",
              "      <td>NaN</td>\n",
              "      <td>NaN</td>\n",
              "      <td>160</td>\n",
              "      <td>4978627</td>\n",
              "    </tr>\n",
              "  </tbody>\n",
              "</table>\n",
              "<p>49197 rows × 10 columns</p>\n",
              "</div>"
            ],
            "text/plain": [
              "             id                                               name  \\\n",
              "0      55312386                                Компьютерный Мастер   \n",
              "1      55843014                            Системный администратор   \n",
              "2      54525964                      Lead Java Developer to Poland   \n",
              "3      54525965                      Lead Java Developer to Poland   \n",
              "4      55354053  Специалист службы поддержки с техническими зна...   \n",
              "...         ...                                                ...   \n",
              "49192  55589514           Специалист по информационным технологиям   \n",
              "49193  55029668                     Руководитель процессного офиса   \n",
              "49194  66172263                         Начальник сервисной службы   \n",
              "49195  66180086                             Senior IOS разработчик   \n",
              "49196  55547842                                   DataOps Engineer   \n",
              "\n",
              "                                              key_skills          schedule  \\\n",
              "0      Пользователь ПК\\tРабота в команде\\tРемонт ноут...       Полный день   \n",
              "1      Средства криптографической защиты информации\\t...       Полный день   \n",
              "2        Spring Framework\\tSQL\\tHibernate ORM\\tJava\\tGit  Удаленная работа   \n",
              "3        Spring Framework\\tSQL\\tHibernate ORM\\tJava\\tGit  Удаленная работа   \n",
              "4                                                   None  Удаленная работа   \n",
              "...                                                  ...               ...   \n",
              "49192  Электронный документооборот\\t1С: Предприятие 8...       Полный день   \n",
              "49193  Оптимизация бизнес-процессов\\tСтратегическое м...       Полный день   \n",
              "49194  Организаторские навыки\\tУправление персоналом\\...       Полный день   \n",
              "49195  Swift\\tRealm\\tiOS\\tАнглийский язык\\tMVP\\tMVVM\\...       Полный день   \n",
              "49196                                               None  Удаленная работа   \n",
              "\n",
              "               experience           employment  salary_from  salary_to  \\\n",
              "0               Нет опыта     Полная занятость      64000.0        NaN   \n",
              "1           От 3 до 6 лет     Полная занятость          NaN        NaN   \n",
              "2           От 3 до 6 лет     Полная занятость          NaN        NaN   \n",
              "3           От 3 до 6 лет     Полная занятость          NaN        NaN   \n",
              "4               Нет опыта  Частичная занятость      15000.0        NaN   \n",
              "...                   ...                  ...          ...        ...   \n",
              "49192       От 3 до 6 лет     Полная занятость          NaN        NaN   \n",
              "49193       От 3 до 6 лет     Полная занятость          NaN        NaN   \n",
              "49194  От 1 года до 3 лет     Полная занятость      60000.0        NaN   \n",
              "49195  От 1 года до 3 лет     Полная занятость     146456.0   244094.0   \n",
              "49196       От 3 до 6 лет     Полная занятость          NaN        NaN   \n",
              "\n",
              "       area_id  employer_id  \n",
              "0         1516      5724811  \n",
              "1          130      4903713  \n",
              "2          160        69961  \n",
              "3          159        69961  \n",
              "4         1955         1740  \n",
              "...        ...          ...  \n",
              "49192       66      5109332  \n",
              "49193       26        51333  \n",
              "49194     1930      4094700  \n",
              "49195      160      4469939  \n",
              "49196      160      4978627  \n",
              "\n",
              "[49197 rows x 10 columns]"
            ]
          },
          "execution_count": 5,
          "metadata": {},
          "output_type": "execute_result"
        }
      ],
      "source": [
        "\"\"\"Код запроса представляет из себя строковую переменную (f-строка)\n",
        "Используем метод read_sql_query, чтобы получить результаты запроса сразу в виде датафрейма.\n",
        "Выводим полную БД. Необходима для последующего анализа.\n",
        "\"\"\"\n",
        "query_2_1 = f'''select *\n",
        "           from public.vacancies\n",
        "            '''\n",
        "            \n",
        "vacancies_df = pd.read_sql_query(query_2_1, connection)\n",
        "vacancies_df"
      ]
    },
    {
      "cell_type": "markdown",
      "id": "21987456",
      "metadata": {},
      "source": [
        "**Таблица 2. AREAS - таблица-справочник, которая хранит код города и его название.**"
      ]
    },
    {
      "cell_type": "code",
      "execution_count": 6,
      "id": "2b62d9f6",
      "metadata": {},
      "outputs": [
        {
          "data": {
            "text/html": [
              "<div>\n",
              "<style scoped>\n",
              "    .dataframe tbody tr th:only-of-type {\n",
              "        vertical-align: middle;\n",
              "    }\n",
              "\n",
              "    .dataframe tbody tr th {\n",
              "        vertical-align: top;\n",
              "    }\n",
              "\n",
              "    .dataframe thead th {\n",
              "        text-align: right;\n",
              "    }\n",
              "</style>\n",
              "<table border=\"1\" class=\"dataframe\">\n",
              "  <thead>\n",
              "    <tr style=\"text-align: right;\">\n",
              "      <th></th>\n",
              "      <th>id</th>\n",
              "      <th>name</th>\n",
              "    </tr>\n",
              "  </thead>\n",
              "  <tbody>\n",
              "    <tr>\n",
              "      <th>0</th>\n",
              "      <td>2758</td>\n",
              "      <td>Тбилиси</td>\n",
              "    </tr>\n",
              "    <tr>\n",
              "      <th>1</th>\n",
              "      <td>8</td>\n",
              "      <td>Майкоп</td>\n",
              "    </tr>\n",
              "    <tr>\n",
              "      <th>2</th>\n",
              "      <td>1180</td>\n",
              "      <td>Нерюнгри</td>\n",
              "    </tr>\n",
              "    <tr>\n",
              "      <th>3</th>\n",
              "      <td>1240</td>\n",
              "      <td>Новокузнецк</td>\n",
              "    </tr>\n",
              "    <tr>\n",
              "      <th>4</th>\n",
              "      <td>2</td>\n",
              "      <td>Санкт-Петербург</td>\n",
              "    </tr>\n",
              "  </tbody>\n",
              "</table>\n",
              "</div>"
            ],
            "text/plain": [
              "     id             name\n",
              "0  2758          Тбилиси\n",
              "1     8           Майкоп\n",
              "2  1180         Нерюнгри\n",
              "3  1240      Новокузнецк\n",
              "4     2  Санкт-Петербург"
            ]
          },
          "execution_count": 6,
          "metadata": {},
          "output_type": "execute_result"
        }
      ],
      "source": [
        "query_2_2 = f'''select *\n",
        "           from public.areas\n",
        "           limit 5\n",
        "            '''\n",
        "            \n",
        "areas_df_part = pd.read_sql_query(query_2_2, connection)\n",
        "areas_df_part"
      ]
    },
    {
      "cell_type": "markdown",
      "id": "32a38dd8",
      "metadata": {},
      "source": [
        "**Таблица 3. EMPLOYERS - таблица-справочник со списком работодателей.**"
      ]
    },
    {
      "cell_type": "code",
      "execution_count": 7,
      "id": "73906cfe",
      "metadata": {},
      "outputs": [
        {
          "data": {
            "text/html": [
              "<div>\n",
              "<style scoped>\n",
              "    .dataframe tbody tr th:only-of-type {\n",
              "        vertical-align: middle;\n",
              "    }\n",
              "\n",
              "    .dataframe tbody tr th {\n",
              "        vertical-align: top;\n",
              "    }\n",
              "\n",
              "    .dataframe thead th {\n",
              "        text-align: right;\n",
              "    }\n",
              "</style>\n",
              "<table border=\"1\" class=\"dataframe\">\n",
              "  <thead>\n",
              "    <tr style=\"text-align: right;\">\n",
              "      <th></th>\n",
              "      <th>id</th>\n",
              "      <th>name</th>\n",
              "      <th>area</th>\n",
              "    </tr>\n",
              "  </thead>\n",
              "  <tbody>\n",
              "    <tr>\n",
              "      <th>0</th>\n",
              "      <td>2393</td>\n",
              "      <td>Программный Продукт, ИТ-компания</td>\n",
              "      <td>1</td>\n",
              "    </tr>\n",
              "    <tr>\n",
              "      <th>1</th>\n",
              "      <td>72977</td>\n",
              "      <td>БАРС Груп</td>\n",
              "      <td>88</td>\n",
              "    </tr>\n",
              "    <tr>\n",
              "      <th>2</th>\n",
              "      <td>3155</td>\n",
              "      <td>Бест, Торгово-производственная компания, Екате...</td>\n",
              "      <td>3</td>\n",
              "    </tr>\n",
              "    <tr>\n",
              "      <th>3</th>\n",
              "      <td>675</td>\n",
              "      <td>КОРУС Консалтинг</td>\n",
              "      <td>2</td>\n",
              "    </tr>\n",
              "    <tr>\n",
              "      <th>4</th>\n",
              "      <td>1840010</td>\n",
              "      <td>филиал ФКУ Налог-Сервис ФНС России в Республик...</td>\n",
              "      <td>88</td>\n",
              "    </tr>\n",
              "  </tbody>\n",
              "</table>\n",
              "</div>"
            ],
            "text/plain": [
              "        id                                               name  area\n",
              "0     2393                   Программный Продукт, ИТ-компания     1\n",
              "1    72977                                          БАРС Груп    88\n",
              "2     3155  Бест, Торгово-производственная компания, Екате...     3\n",
              "3      675                                   КОРУС Консалтинг     2\n",
              "4  1840010  филиал ФКУ Налог-Сервис ФНС России в Республик...    88"
            ]
          },
          "execution_count": 7,
          "metadata": {},
          "output_type": "execute_result"
        }
      ],
      "source": [
        "query_2_3 = f'''select *\n",
        "           from public.employers\n",
        "           limit 5\n",
        "            '''\n",
        "            \n",
        "employers_df_part = pd.read_sql_query(query_2_3, connection)\n",
        "employers_df_part"
      ]
    },
    {
      "cell_type": "markdown",
      "id": "1ee428a8",
      "metadata": {},
      "source": [
        "**Таблица 4. INDUSTRIES - таблица-справочник вариантов сфер деятельности работодателей.**"
      ]
    },
    {
      "cell_type": "code",
      "execution_count": 8,
      "id": "f77baad1",
      "metadata": {},
      "outputs": [
        {
          "data": {
            "text/html": [
              "<div>\n",
              "<style scoped>\n",
              "    .dataframe tbody tr th:only-of-type {\n",
              "        vertical-align: middle;\n",
              "    }\n",
              "\n",
              "    .dataframe tbody tr th {\n",
              "        vertical-align: top;\n",
              "    }\n",
              "\n",
              "    .dataframe thead th {\n",
              "        text-align: right;\n",
              "    }\n",
              "</style>\n",
              "<table border=\"1\" class=\"dataframe\">\n",
              "  <thead>\n",
              "    <tr style=\"text-align: right;\">\n",
              "      <th></th>\n",
              "      <th>id</th>\n",
              "      <th>name</th>\n",
              "    </tr>\n",
              "  </thead>\n",
              "  <tbody>\n",
              "    <tr>\n",
              "      <th>0</th>\n",
              "      <td>7.540</td>\n",
              "      <td>Разработка программного обеспечения</td>\n",
              "    </tr>\n",
              "    <tr>\n",
              "      <th>1</th>\n",
              "      <td>7.539</td>\n",
              "      <td>Системная интеграция,  автоматизации технологи...</td>\n",
              "    </tr>\n",
              "    <tr>\n",
              "      <th>2</th>\n",
              "      <td>27.550</td>\n",
              "      <td>Безалкогольные напитки (производство)</td>\n",
              "    </tr>\n",
              "    <tr>\n",
              "      <th>3</th>\n",
              "      <td>27.551</td>\n",
              "      <td>Безалкогольные напитки (продвижение, оптовая т...</td>\n",
              "    </tr>\n",
              "    <tr>\n",
              "      <th>4</th>\n",
              "      <td>13.664</td>\n",
              "      <td>Управление и эксплуатация недвижимости</td>\n",
              "    </tr>\n",
              "  </tbody>\n",
              "</table>\n",
              "</div>"
            ],
            "text/plain": [
              "       id                                               name\n",
              "0   7.540                Разработка программного обеспечения\n",
              "1   7.539  Системная интеграция,  автоматизации технологи...\n",
              "2  27.550              Безалкогольные напитки (производство)\n",
              "3  27.551  Безалкогольные напитки (продвижение, оптовая т...\n",
              "4  13.664             Управление и эксплуатация недвижимости"
            ]
          },
          "execution_count": 8,
          "metadata": {},
          "output_type": "execute_result"
        }
      ],
      "source": [
        "query_2_4 = f'''select *\n",
        "           from public.industries\n",
        "           limit 5\n",
        "            '''\n",
        "            \n",
        "industries_df_part = pd.read_sql_query(query_2_4, connection)\n",
        "industries_df_part"
      ]
    },
    {
      "cell_type": "markdown",
      "id": "0be29cf5",
      "metadata": {},
      "source": [
        "**Таблица 5. EMPLOYERS_INDUSTRIES - дополнительная таблица, которая существует для организации связи между работодателями и сферами их деятельности.**"
      ]
    },
    {
      "cell_type": "code",
      "execution_count": 9,
      "id": "6e30ad8d",
      "metadata": {},
      "outputs": [
        {
          "data": {
            "text/html": [
              "<div>\n",
              "<style scoped>\n",
              "    .dataframe tbody tr th:only-of-type {\n",
              "        vertical-align: middle;\n",
              "    }\n",
              "\n",
              "    .dataframe tbody tr th {\n",
              "        vertical-align: top;\n",
              "    }\n",
              "\n",
              "    .dataframe thead th {\n",
              "        text-align: right;\n",
              "    }\n",
              "</style>\n",
              "<table border=\"1\" class=\"dataframe\">\n",
              "  <thead>\n",
              "    <tr style=\"text-align: right;\">\n",
              "      <th></th>\n",
              "      <th>employer_id</th>\n",
              "      <th>industry_id</th>\n",
              "    </tr>\n",
              "  </thead>\n",
              "  <tbody>\n",
              "    <tr>\n",
              "      <th>0</th>\n",
              "      <td>2393</td>\n",
              "      <td>7.540</td>\n",
              "    </tr>\n",
              "    <tr>\n",
              "      <th>1</th>\n",
              "      <td>2393</td>\n",
              "      <td>7.539</td>\n",
              "    </tr>\n",
              "    <tr>\n",
              "      <th>2</th>\n",
              "      <td>72977</td>\n",
              "      <td>7.540</td>\n",
              "    </tr>\n",
              "    <tr>\n",
              "      <th>3</th>\n",
              "      <td>72977</td>\n",
              "      <td>7.539</td>\n",
              "    </tr>\n",
              "    <tr>\n",
              "      <th>4</th>\n",
              "      <td>3155</td>\n",
              "      <td>27.550</td>\n",
              "    </tr>\n",
              "  </tbody>\n",
              "</table>\n",
              "</div>"
            ],
            "text/plain": [
              "   employer_id industry_id\n",
              "0         2393       7.540\n",
              "1         2393       7.539\n",
              "2        72977       7.540\n",
              "3        72977       7.539\n",
              "4         3155      27.550"
            ]
          },
          "execution_count": 9,
          "metadata": {},
          "output_type": "execute_result"
        }
      ],
      "source": [
        "query_2_5 = f'''select *\n",
        "           from public.employers_industries\n",
        "           limit 5\n",
        "            '''\n",
        "            \n",
        "emp_ind_df_part = pd.read_sql_query(query_2_5, connection)\n",
        "emp_ind_df_part"
      ]
    },
    {
      "cell_type": "markdown",
      "id": "0dc6476b-7a00-44f1-ac93-6e3baed33a29",
      "metadata": {
        "id": "0dc6476b-7a00-44f1-ac93-6e3baed33a29"
      },
      "source": [
        "# Юнит 3. Предварительный анализ данных"
      ]
    },
    {
      "cell_type": "markdown",
      "id": "889782b6-8d1c-410e-8920-e57f27917c64",
      "metadata": {
        "id": "889782b6-8d1c-410e-8920-e57f27917c64"
      },
      "source": [
        "1. Напишите запрос, который посчитает количество вакансий в нашей базе (вакансии находятся в таблице vacancies). "
      ]
    },
    {
      "cell_type": "code",
      "execution_count": 10,
      "id": "bc39e68e-ed02-4ee2-9235-7258a2f867a8",
      "metadata": {
        "id": "bc39e68e-ed02-4ee2-9235-7258a2f867a8"
      },
      "outputs": [],
      "source": [
        "query_3_1 = f'''select count(*) cnt\n",
        "           from public.vacancies\n",
        "            '''"
      ]
    },
    {
      "cell_type": "code",
      "execution_count": 11,
      "id": "7mAwtsk4hEHY",
      "metadata": {
        "id": "7mAwtsk4hEHY"
      },
      "outputs": [
        {
          "data": {
            "text/html": [
              "<div>\n",
              "<style scoped>\n",
              "    .dataframe tbody tr th:only-of-type {\n",
              "        vertical-align: middle;\n",
              "    }\n",
              "\n",
              "    .dataframe tbody tr th {\n",
              "        vertical-align: top;\n",
              "    }\n",
              "\n",
              "    .dataframe thead th {\n",
              "        text-align: right;\n",
              "    }\n",
              "</style>\n",
              "<table border=\"1\" class=\"dataframe\">\n",
              "  <thead>\n",
              "    <tr style=\"text-align: right;\">\n",
              "      <th></th>\n",
              "      <th>cnt</th>\n",
              "    </tr>\n",
              "  </thead>\n",
              "  <tbody>\n",
              "    <tr>\n",
              "      <th>0</th>\n",
              "      <td>49197</td>\n",
              "    </tr>\n",
              "  </tbody>\n",
              "</table>\n",
              "</div>"
            ],
            "text/plain": [
              "     cnt\n",
              "0  49197"
            ]
          },
          "execution_count": 11,
          "metadata": {},
          "output_type": "execute_result"
        }
      ],
      "source": [
        "df = pd.read_sql_query(query_3_1, connection)\n",
        "df"
      ]
    },
    {
      "cell_type": "markdown",
      "id": "b583485d-1f9e-494e-ada4-80ffff7c53d6",
      "metadata": {
        "id": "b583485d-1f9e-494e-ada4-80ffff7c53d6"
      },
      "source": [
        "2. Напишите запрос, который посчитает количество работодателей (таблица employers). "
      ]
    },
    {
      "cell_type": "code",
      "execution_count": 12,
      "id": "5408c52c-3407-4a63-b25b-1aafa2322d28",
      "metadata": {
        "id": "5408c52c-3407-4a63-b25b-1aafa2322d28"
      },
      "outputs": [],
      "source": [
        "query_3_2 = f'''select count(*) cnt\n",
        "           from public.employers\n",
        "            '''"
      ]
    },
    {
      "cell_type": "code",
      "execution_count": 13,
      "id": "jVL4eshKhdqc",
      "metadata": {
        "id": "jVL4eshKhdqc"
      },
      "outputs": [
        {
          "data": {
            "text/html": [
              "<div>\n",
              "<style scoped>\n",
              "    .dataframe tbody tr th:only-of-type {\n",
              "        vertical-align: middle;\n",
              "    }\n",
              "\n",
              "    .dataframe tbody tr th {\n",
              "        vertical-align: top;\n",
              "    }\n",
              "\n",
              "    .dataframe thead th {\n",
              "        text-align: right;\n",
              "    }\n",
              "</style>\n",
              "<table border=\"1\" class=\"dataframe\">\n",
              "  <thead>\n",
              "    <tr style=\"text-align: right;\">\n",
              "      <th></th>\n",
              "      <th>cnt</th>\n",
              "    </tr>\n",
              "  </thead>\n",
              "  <tbody>\n",
              "    <tr>\n",
              "      <th>0</th>\n",
              "      <td>23501</td>\n",
              "    </tr>\n",
              "  </tbody>\n",
              "</table>\n",
              "</div>"
            ],
            "text/plain": [
              "     cnt\n",
              "0  23501"
            ]
          },
          "execution_count": 13,
          "metadata": {},
          "output_type": "execute_result"
        }
      ],
      "source": [
        "df = pd.read_sql_query(query_3_2, connection)\n",
        "df"
      ]
    },
    {
      "cell_type": "markdown",
      "id": "a2bfff1f-c975-4bf6-84be-2185d79dcb76",
      "metadata": {
        "id": "a2bfff1f-c975-4bf6-84be-2185d79dcb76"
      },
      "source": [
        "3. Посчитайте с помощью запроса количество регионов (таблица areas)."
      ]
    },
    {
      "cell_type": "code",
      "execution_count": 14,
      "id": "1m8QJwBYhey6",
      "metadata": {
        "id": "1m8QJwBYhey6"
      },
      "outputs": [],
      "source": [
        "query_3_3 = f'''select count(id) cnt\n",
        "           from public.areas\n",
        "        '''"
      ]
    },
    {
      "cell_type": "code",
      "execution_count": 15,
      "id": "EZsn9tlfhe7f",
      "metadata": {
        "id": "EZsn9tlfhe7f"
      },
      "outputs": [
        {
          "data": {
            "text/html": [
              "<div>\n",
              "<style scoped>\n",
              "    .dataframe tbody tr th:only-of-type {\n",
              "        vertical-align: middle;\n",
              "    }\n",
              "\n",
              "    .dataframe tbody tr th {\n",
              "        vertical-align: top;\n",
              "    }\n",
              "\n",
              "    .dataframe thead th {\n",
              "        text-align: right;\n",
              "    }\n",
              "</style>\n",
              "<table border=\"1\" class=\"dataframe\">\n",
              "  <thead>\n",
              "    <tr style=\"text-align: right;\">\n",
              "      <th></th>\n",
              "      <th>cnt</th>\n",
              "    </tr>\n",
              "  </thead>\n",
              "  <tbody>\n",
              "    <tr>\n",
              "      <th>0</th>\n",
              "      <td>1362</td>\n",
              "    </tr>\n",
              "  </tbody>\n",
              "</table>\n",
              "</div>"
            ],
            "text/plain": [
              "    cnt\n",
              "0  1362"
            ]
          },
          "execution_count": 15,
          "metadata": {},
          "output_type": "execute_result"
        }
      ],
      "source": [
        "df = pd.read_sql_query(query_3_3, connection)\n",
        "df"
      ]
    },
    {
      "cell_type": "markdown",
      "id": "41bb59f3-53cc-4a67-a5bc-bedf573955e4",
      "metadata": {
        "id": "41bb59f3-53cc-4a67-a5bc-bedf573955e4"
      },
      "source": [
        "4. Посчитайте с помощью запроса количество сфер деятельности в базе (таблица industries)."
      ]
    },
    {
      "cell_type": "code",
      "execution_count": 16,
      "id": "d286cf4c-707b-4cd2-9190-7ab3587d04a1",
      "metadata": {
        "id": "d286cf4c-707b-4cd2-9190-7ab3587d04a1"
      },
      "outputs": [],
      "source": [
        "query_3_4 = f'''select count(*) cnt\n",
        "           from public.industries\n",
        "        '''"
      ]
    },
    {
      "cell_type": "code",
      "execution_count": 17,
      "id": "JYAaoZ4qhfzW",
      "metadata": {
        "id": "JYAaoZ4qhfzW"
      },
      "outputs": [
        {
          "data": {
            "text/html": [
              "<div>\n",
              "<style scoped>\n",
              "    .dataframe tbody tr th:only-of-type {\n",
              "        vertical-align: middle;\n",
              "    }\n",
              "\n",
              "    .dataframe tbody tr th {\n",
              "        vertical-align: top;\n",
              "    }\n",
              "\n",
              "    .dataframe thead th {\n",
              "        text-align: right;\n",
              "    }\n",
              "</style>\n",
              "<table border=\"1\" class=\"dataframe\">\n",
              "  <thead>\n",
              "    <tr style=\"text-align: right;\">\n",
              "      <th></th>\n",
              "      <th>cnt</th>\n",
              "    </tr>\n",
              "  </thead>\n",
              "  <tbody>\n",
              "    <tr>\n",
              "      <th>0</th>\n",
              "      <td>294</td>\n",
              "    </tr>\n",
              "  </tbody>\n",
              "</table>\n",
              "</div>"
            ],
            "text/plain": [
              "   cnt\n",
              "0  294"
            ]
          },
          "execution_count": 17,
          "metadata": {},
          "output_type": "execute_result"
        }
      ],
      "source": [
        "df = pd.read_sql_query(query_3_4, connection)\n",
        "df"
      ]
    },
    {
      "cell_type": "markdown",
      "id": "9a8a2181-6914-448b-85f1-38f5f18b8a93",
      "metadata": {
        "id": "9a8a2181-6914-448b-85f1-38f5f18b8a93"
      },
      "source": [
        "***"
      ]
    },
    {
      "cell_type": "markdown",
      "id": "6fa5651d",
      "metadata": {},
      "source": [
        "### Выводы по Предварительному анализу данных\n",
        "По предварительному анализу данных мы получили следующие значения:\n",
        "* в таблице VACANCIES представлена информация о 49197 вакансиях;\n",
        "* в таблице EMPLOYERS указаны 23501 работодатель;\n",
        "* в таблице AREAS - 1362 наименования;\n",
        "* в таблице INDUSTRIES указаны 294 сферы деятельности.\n",
        "\n",
        "На основании полученных данных можно сделать следующие выводы:\n",
        "- На каждого работодателя приходится около 2 вакансий (кол-во вакансий/ кол-во работодателей). Однако, как мы увидим далее, данные выводы будут НЕ верны:\n",
        "    * у 6 работодателей указано более 300 вакансий (~2000 у \"Яндекс\") - это порядка 8% от всех вакансий в БД,\n",
        "    * ~17% (8544) работодателей предлагают 1 вакансию.\n",
        "- IT-специалисты требуются в 294 сферах деятельности. IT может являться ключевой деятельностью компании либо отвечать за решение отдельных задач.\n",
        "Даже при поверхностном просмотре позиций по вакансиям есть такие профессии, как \"корректор\", \"продюсер\" и пр. Вероятно, ключевым критерием при выгрузке данных могла быть обозначена сфера деятельности компании (связана с IT или нет), а не соответствие ключевых слов IT-области в названии вакансии. Возможно, этот момент требует более детального анализа.\n",
        "- Вакансии представлены для 1362 географических областей. Здесь присутствуют как названия населенных пунктов / городов, так и стран. Вероятно, впоследствии лучше попробовать объединить вакансии по странам (вручную?)."
      ]
    },
    {
      "cell_type": "markdown",
      "id": "8d62a9f3-f64e-4fe7-bdac-c4dffa16155e",
      "metadata": {
        "id": "8d62a9f3-f64e-4fe7-bdac-c4dffa16155e"
      },
      "source": [
        "# Юнит 4. Детальный анализ вакансий"
      ]
    },
    {
      "cell_type": "markdown",
      "id": "93053d3d-b284-481a-9cf7-012d7014c0e0",
      "metadata": {
        "id": "93053d3d-b284-481a-9cf7-012d7014c0e0"
      },
      "source": [
        "1. Напишите запрос, который позволит узнать, сколько (cnt) вакансий в каждом регионе (area).\n",
        "Отсортируйте по количеству вакансий в порядке убывания."
      ]
    },
    {
      "cell_type": "code",
      "execution_count": 18,
      "id": "3f069da6-fdc9-4ae7-b514-fafe2675efd3",
      "metadata": {
        "id": "3f069da6-fdc9-4ae7-b514-fafe2675efd3"
      },
      "outputs": [],
      "source": [
        "query_4_1 = f'''select count(vac.id) \"cnt\", areas.name \"area\"\n",
        "           from public.vacancies vac\n",
        "           join public.areas on areas.id = vac.area_id\n",
        "           group by areas.name\n",
        "           order by cnt desc\n",
        "        '''\n",
        "# Варианты написания alias: \"cnt\" / vac.\n",
        "# Можно добавить в SQL-запрос последнюю строчку LIMIT для вывода ТОП-5"
      ]
    },
    {
      "cell_type": "code",
      "execution_count": 19,
      "id": "P7QL86hrjhRJ",
      "metadata": {
        "id": "P7QL86hrjhRJ"
      },
      "outputs": [
        {
          "data": {
            "text/html": [
              "<div>\n",
              "<style scoped>\n",
              "    .dataframe tbody tr th:only-of-type {\n",
              "        vertical-align: middle;\n",
              "    }\n",
              "\n",
              "    .dataframe tbody tr th {\n",
              "        vertical-align: top;\n",
              "    }\n",
              "\n",
              "    .dataframe thead th {\n",
              "        text-align: right;\n",
              "    }\n",
              "</style>\n",
              "<table border=\"1\" class=\"dataframe\">\n",
              "  <thead>\n",
              "    <tr style=\"text-align: right;\">\n",
              "      <th></th>\n",
              "      <th>cnt</th>\n",
              "      <th>area</th>\n",
              "    </tr>\n",
              "  </thead>\n",
              "  <tbody>\n",
              "    <tr>\n",
              "      <th>0</th>\n",
              "      <td>5333</td>\n",
              "      <td>Москва</td>\n",
              "    </tr>\n",
              "    <tr>\n",
              "      <th>1</th>\n",
              "      <td>2851</td>\n",
              "      <td>Санкт-Петербург</td>\n",
              "    </tr>\n",
              "    <tr>\n",
              "      <th>2</th>\n",
              "      <td>2112</td>\n",
              "      <td>Минск</td>\n",
              "    </tr>\n",
              "    <tr>\n",
              "      <th>3</th>\n",
              "      <td>2006</td>\n",
              "      <td>Новосибирск</td>\n",
              "    </tr>\n",
              "    <tr>\n",
              "      <th>4</th>\n",
              "      <td>1892</td>\n",
              "      <td>Алматы</td>\n",
              "    </tr>\n",
              "    <tr>\n",
              "      <th>...</th>\n",
              "      <td>...</td>\n",
              "      <td>...</td>\n",
              "    </tr>\n",
              "    <tr>\n",
              "      <th>764</th>\n",
              "      <td>1</td>\n",
              "      <td>Тарко-Сале</td>\n",
              "    </tr>\n",
              "    <tr>\n",
              "      <th>765</th>\n",
              "      <td>1</td>\n",
              "      <td>Новоаннинский</td>\n",
              "    </tr>\n",
              "    <tr>\n",
              "      <th>766</th>\n",
              "      <td>1</td>\n",
              "      <td>Бирск</td>\n",
              "    </tr>\n",
              "    <tr>\n",
              "      <th>767</th>\n",
              "      <td>1</td>\n",
              "      <td>Сасово</td>\n",
              "    </tr>\n",
              "    <tr>\n",
              "      <th>768</th>\n",
              "      <td>1</td>\n",
              "      <td>Анна</td>\n",
              "    </tr>\n",
              "  </tbody>\n",
              "</table>\n",
              "<p>769 rows × 2 columns</p>\n",
              "</div>"
            ],
            "text/plain": [
              "      cnt             area\n",
              "0    5333           Москва\n",
              "1    2851  Санкт-Петербург\n",
              "2    2112            Минск\n",
              "3    2006      Новосибирск\n",
              "4    1892           Алматы\n",
              "..    ...              ...\n",
              "764     1       Тарко-Сале\n",
              "765     1    Новоаннинский\n",
              "766     1            Бирск\n",
              "767     1           Сасово\n",
              "768     1             Анна\n",
              "\n",
              "[769 rows x 2 columns]"
            ]
          },
          "execution_count": 19,
          "metadata": {},
          "output_type": "execute_result"
        }
      ],
      "source": [
        "df = pd.read_sql_query(query_4_1, connection)\n",
        "df\n",
        "# В df получено 769 записей, или 769 уникальных наименований геогр.областей. Для 44% геогр.областей вакансии не указаны."
      ]
    },
    {
      "cell_type": "markdown",
      "id": "4266f0b6-1646-492a-88b4-2f6a46502135",
      "metadata": {
        "id": "4266f0b6-1646-492a-88b4-2f6a46502135"
      },
      "source": [
        "2. Напишите запрос, чтобы определить у какого количества вакансий заполнено хотя бы одно из двух полей с зарплатой."
      ]
    },
    {
      "cell_type": "code",
      "execution_count": 20,
      "id": "0c44b350-72eb-4d65-8b54-a1fc449ba9fd",
      "metadata": {
        "id": "0c44b350-72eb-4d65-8b54-a1fc449ba9fd"
      },
      "outputs": [],
      "source": [
        "query_4_2 = f'''select count(*) cnt\n",
        "           from public.vacancies\n",
        "           where salary_from IS NOT NULL\n",
        "           or salary_to IS NOT NULL\n",
        "        '''"
      ]
    },
    {
      "cell_type": "code",
      "execution_count": 21,
      "id": "rhvwaMDkoWTi",
      "metadata": {
        "id": "rhvwaMDkoWTi"
      },
      "outputs": [
        {
          "data": {
            "text/html": [
              "<div>\n",
              "<style scoped>\n",
              "    .dataframe tbody tr th:only-of-type {\n",
              "        vertical-align: middle;\n",
              "    }\n",
              "\n",
              "    .dataframe tbody tr th {\n",
              "        vertical-align: top;\n",
              "    }\n",
              "\n",
              "    .dataframe thead th {\n",
              "        text-align: right;\n",
              "    }\n",
              "</style>\n",
              "<table border=\"1\" class=\"dataframe\">\n",
              "  <thead>\n",
              "    <tr style=\"text-align: right;\">\n",
              "      <th></th>\n",
              "      <th>cnt</th>\n",
              "    </tr>\n",
              "  </thead>\n",
              "  <tbody>\n",
              "    <tr>\n",
              "      <th>0</th>\n",
              "      <td>24073</td>\n",
              "    </tr>\n",
              "  </tbody>\n",
              "</table>\n",
              "</div>"
            ],
            "text/plain": [
              "     cnt\n",
              "0  24073"
            ]
          },
          "execution_count": 21,
          "metadata": {},
          "output_type": "execute_result"
        }
      ],
      "source": [
        "df = pd.read_sql_query(query_4_2, connection)\n",
        "df"
      ]
    },
    {
      "cell_type": "code",
      "execution_count": 22,
      "id": "d7680c47",
      "metadata": {},
      "outputs": [],
      "source": [
        "# Количество вакансий с наличием/ отсутствием значений зарплаты в соответствии с опытом кандидата\n",
        "query_4_2_1 = f'''(select count(experience) cnt, experience, 'Указан' salary_information\n",
        "           from public.vacancies\n",
        "           where salary_from is NULL and salary_from is NULL\n",
        "           group by experience)\n",
        "           union all\n",
        "           (select count(experience) cnt, experience,'Не указан'\n",
        "           from public.vacancies\n",
        "           where salary_from is not NULL and salary_from is not NULL\n",
        "           group by experience)\n",
        "           order by cnt desc\n",
        "        '''"
      ]
    },
    {
      "cell_type": "code",
      "execution_count": 23,
      "id": "359ab4ef",
      "metadata": {},
      "outputs": [
        {
          "data": {
            "text/html": [
              "<div>\n",
              "<style scoped>\n",
              "    .dataframe tbody tr th:only-of-type {\n",
              "        vertical-align: middle;\n",
              "    }\n",
              "\n",
              "    .dataframe tbody tr th {\n",
              "        vertical-align: top;\n",
              "    }\n",
              "\n",
              "    .dataframe thead th {\n",
              "        text-align: right;\n",
              "    }\n",
              "</style>\n",
              "<table border=\"1\" class=\"dataframe\">\n",
              "  <thead>\n",
              "    <tr style=\"text-align: right;\">\n",
              "      <th></th>\n",
              "      <th>cnt</th>\n",
              "      <th>experience</th>\n",
              "      <th>salary_information</th>\n",
              "    </tr>\n",
              "  </thead>\n",
              "  <tbody>\n",
              "    <tr>\n",
              "      <th>0</th>\n",
              "      <td>14757</td>\n",
              "      <td>От 1 года до 3 лет</td>\n",
              "      <td>Указан</td>\n",
              "    </tr>\n",
              "    <tr>\n",
              "      <th>1</th>\n",
              "      <td>11395</td>\n",
              "      <td>От 1 года до 3 лет</td>\n",
              "      <td>Не указан</td>\n",
              "    </tr>\n",
              "    <tr>\n",
              "      <th>2</th>\n",
              "      <td>9585</td>\n",
              "      <td>От 3 до 6 лет</td>\n",
              "      <td>Указан</td>\n",
              "    </tr>\n",
              "    <tr>\n",
              "      <th>3</th>\n",
              "      <td>4926</td>\n",
              "      <td>От 3 до 6 лет</td>\n",
              "      <td>Не указан</td>\n",
              "    </tr>\n",
              "    <tr>\n",
              "      <th>4</th>\n",
              "      <td>4655</td>\n",
              "      <td>Нет опыта</td>\n",
              "      <td>Не указан</td>\n",
              "    </tr>\n",
              "    <tr>\n",
              "      <th>5</th>\n",
              "      <td>2542</td>\n",
              "      <td>Нет опыта</td>\n",
              "      <td>Указан</td>\n",
              "    </tr>\n",
              "    <tr>\n",
              "      <th>6</th>\n",
              "      <td>828</td>\n",
              "      <td>Более 6 лет</td>\n",
              "      <td>Указан</td>\n",
              "    </tr>\n",
              "    <tr>\n",
              "      <th>7</th>\n",
              "      <td>509</td>\n",
              "      <td>Более 6 лет</td>\n",
              "      <td>Не указан</td>\n",
              "    </tr>\n",
              "  </tbody>\n",
              "</table>\n",
              "</div>"
            ],
            "text/plain": [
              "     cnt          experience salary_information\n",
              "0  14757  От 1 года до 3 лет             Указан\n",
              "1  11395  От 1 года до 3 лет          Не указан\n",
              "2   9585       От 3 до 6 лет             Указан\n",
              "3   4926       От 3 до 6 лет          Не указан\n",
              "4   4655           Нет опыта          Не указан\n",
              "5   2542           Нет опыта             Указан\n",
              "6    828         Более 6 лет             Указан\n",
              "7    509         Более 6 лет          Не указан"
            ]
          },
          "execution_count": 23,
          "metadata": {},
          "output_type": "execute_result"
        }
      ],
      "source": [
        "df = pd.read_sql_query(query_4_2_1, connection)\n",
        "df"
      ]
    },
    {
      "cell_type": "markdown",
      "id": "635c4d5d-f323-4c66-b428-50a088120aa0",
      "metadata": {
        "id": "635c4d5d-f323-4c66-b428-50a088120aa0"
      },
      "source": [
        "3. Найдите средние значения для нижней и верхней границы зарплатной вилки. Округлите значения до целого."
      ]
    },
    {
      "cell_type": "code",
      "execution_count": 24,
      "id": "603cdbe4-0ec3-4106-8eaf-c73fcdd29165",
      "metadata": {
        "id": "603cdbe4-0ec3-4106-8eaf-c73fcdd29165"
      },
      "outputs": [],
      "source": [
        "query_4_3 = f'''select avg(salary_from) lower_bound, avg(salary_to) upper_bound\n",
        "           from public.vacancies\n",
        "        '''"
      ]
    },
    {
      "cell_type": "code",
      "execution_count": 25,
      "id": "pswpAb66ovZZ",
      "metadata": {
        "id": "pswpAb66ovZZ"
      },
      "outputs": [
        {
          "data": {
            "text/html": [
              "<div>\n",
              "<style scoped>\n",
              "    .dataframe tbody tr th:only-of-type {\n",
              "        vertical-align: middle;\n",
              "    }\n",
              "\n",
              "    .dataframe tbody tr th {\n",
              "        vertical-align: top;\n",
              "    }\n",
              "\n",
              "    .dataframe thead th {\n",
              "        text-align: right;\n",
              "    }\n",
              "</style>\n",
              "<table border=\"1\" class=\"dataframe\">\n",
              "  <thead>\n",
              "    <tr style=\"text-align: right;\">\n",
              "      <th></th>\n",
              "      <th>lower_bound</th>\n",
              "      <th>upper_bound</th>\n",
              "    </tr>\n",
              "  </thead>\n",
              "  <tbody>\n",
              "    <tr>\n",
              "      <th>0</th>\n",
              "      <td>71065.0</td>\n",
              "      <td>110537.0</td>\n",
              "    </tr>\n",
              "  </tbody>\n",
              "</table>\n",
              "</div>"
            ],
            "text/plain": [
              "   lower_bound  upper_bound\n",
              "0      71065.0     110537.0"
            ]
          },
          "execution_count": 25,
          "metadata": {},
          "output_type": "execute_result"
        }
      ],
      "source": [
        "df = pd.read_sql_query(query_4_3, connection)\n",
        "round(df)"
      ]
    },
    {
      "cell_type": "markdown",
      "id": "f3fdaec9-5fd3-4260-9cf5-1d7406b628a5",
      "metadata": {
        "id": "f3fdaec9-5fd3-4260-9cf5-1d7406b628a5"
      },
      "source": [
        "4. Напишите запрос, который выведет количество вакансий для каждого сочетания типа рабочего графика (schedule) и типа трудоустройства (employment), используемого в вакансиях. Результат отсортируйте по убыванию количества."
      ]
    },
    {
      "cell_type": "code",
      "execution_count": 26,
      "id": "1ea710ec-871b-431e-9462-c7d0fd87011b",
      "metadata": {
        "id": "1ea710ec-871b-431e-9462-c7d0fd87011b"
      },
      "outputs": [],
      "source": [
        "query_4_4 = f'''select count(id) cnt, schedule, employment\n",
        "           from public.vacancies\n",
        "           group by schedule, employment\n",
        "           order by cnt desc\n",
        "        '''"
      ]
    },
    {
      "cell_type": "code",
      "execution_count": 27,
      "id": "lGUVqavdo4JQ",
      "metadata": {
        "id": "lGUVqavdo4JQ"
      },
      "outputs": [
        {
          "data": {
            "text/html": [
              "<div>\n",
              "<style scoped>\n",
              "    .dataframe tbody tr th:only-of-type {\n",
              "        vertical-align: middle;\n",
              "    }\n",
              "\n",
              "    .dataframe tbody tr th {\n",
              "        vertical-align: top;\n",
              "    }\n",
              "\n",
              "    .dataframe thead th {\n",
              "        text-align: right;\n",
              "    }\n",
              "</style>\n",
              "<table border=\"1\" class=\"dataframe\">\n",
              "  <thead>\n",
              "    <tr style=\"text-align: right;\">\n",
              "      <th></th>\n",
              "      <th>cnt</th>\n",
              "      <th>schedule</th>\n",
              "      <th>employment</th>\n",
              "    </tr>\n",
              "  </thead>\n",
              "  <tbody>\n",
              "    <tr>\n",
              "      <th>0</th>\n",
              "      <td>35367</td>\n",
              "      <td>Полный день</td>\n",
              "      <td>Полная занятость</td>\n",
              "    </tr>\n",
              "    <tr>\n",
              "      <th>1</th>\n",
              "      <td>7802</td>\n",
              "      <td>Удаленная работа</td>\n",
              "      <td>Полная занятость</td>\n",
              "    </tr>\n",
              "    <tr>\n",
              "      <th>2</th>\n",
              "      <td>1593</td>\n",
              "      <td>Гибкий график</td>\n",
              "      <td>Полная занятость</td>\n",
              "    </tr>\n",
              "    <tr>\n",
              "      <th>3</th>\n",
              "      <td>1312</td>\n",
              "      <td>Удаленная работа</td>\n",
              "      <td>Частичная занятость</td>\n",
              "    </tr>\n",
              "    <tr>\n",
              "      <th>4</th>\n",
              "      <td>940</td>\n",
              "      <td>Сменный график</td>\n",
              "      <td>Полная занятость</td>\n",
              "    </tr>\n",
              "    <tr>\n",
              "      <th>5</th>\n",
              "      <td>569</td>\n",
              "      <td>Полный день</td>\n",
              "      <td>Стажировка</td>\n",
              "    </tr>\n",
              "    <tr>\n",
              "      <th>6</th>\n",
              "      <td>367</td>\n",
              "      <td>Вахтовый метод</td>\n",
              "      <td>Полная занятость</td>\n",
              "    </tr>\n",
              "    <tr>\n",
              "      <th>7</th>\n",
              "      <td>347</td>\n",
              "      <td>Полный день</td>\n",
              "      <td>Частичная занятость</td>\n",
              "    </tr>\n",
              "    <tr>\n",
              "      <th>8</th>\n",
              "      <td>312</td>\n",
              "      <td>Гибкий график</td>\n",
              "      <td>Частичная занятость</td>\n",
              "    </tr>\n",
              "    <tr>\n",
              "      <th>9</th>\n",
              "      <td>141</td>\n",
              "      <td>Полный день</td>\n",
              "      <td>Проектная работа</td>\n",
              "    </tr>\n",
              "    <tr>\n",
              "      <th>10</th>\n",
              "      <td>133</td>\n",
              "      <td>Удаленная работа</td>\n",
              "      <td>Проектная работа</td>\n",
              "    </tr>\n",
              "    <tr>\n",
              "      <th>11</th>\n",
              "      <td>116</td>\n",
              "      <td>Гибкий график</td>\n",
              "      <td>Стажировка</td>\n",
              "    </tr>\n",
              "    <tr>\n",
              "      <th>12</th>\n",
              "      <td>101</td>\n",
              "      <td>Сменный график</td>\n",
              "      <td>Частичная занятость</td>\n",
              "    </tr>\n",
              "    <tr>\n",
              "      <th>13</th>\n",
              "      <td>64</td>\n",
              "      <td>Удаленная работа</td>\n",
              "      <td>Стажировка</td>\n",
              "    </tr>\n",
              "    <tr>\n",
              "      <th>14</th>\n",
              "      <td>18</td>\n",
              "      <td>Гибкий график</td>\n",
              "      <td>Проектная работа</td>\n",
              "    </tr>\n",
              "    <tr>\n",
              "      <th>15</th>\n",
              "      <td>12</td>\n",
              "      <td>Сменный график</td>\n",
              "      <td>Стажировка</td>\n",
              "    </tr>\n",
              "    <tr>\n",
              "      <th>16</th>\n",
              "      <td>2</td>\n",
              "      <td>Вахтовый метод</td>\n",
              "      <td>Проектная работа</td>\n",
              "    </tr>\n",
              "    <tr>\n",
              "      <th>17</th>\n",
              "      <td>1</td>\n",
              "      <td>Сменный график</td>\n",
              "      <td>Проектная работа</td>\n",
              "    </tr>\n",
              "  </tbody>\n",
              "</table>\n",
              "</div>"
            ],
            "text/plain": [
              "      cnt          schedule           employment\n",
              "0   35367       Полный день     Полная занятость\n",
              "1    7802  Удаленная работа     Полная занятость\n",
              "2    1593     Гибкий график     Полная занятость\n",
              "3    1312  Удаленная работа  Частичная занятость\n",
              "4     940    Сменный график     Полная занятость\n",
              "5     569       Полный день           Стажировка\n",
              "6     367    Вахтовый метод     Полная занятость\n",
              "7     347       Полный день  Частичная занятость\n",
              "8     312     Гибкий график  Частичная занятость\n",
              "9     141       Полный день     Проектная работа\n",
              "10    133  Удаленная работа     Проектная работа\n",
              "11    116     Гибкий график           Стажировка\n",
              "12    101    Сменный график  Частичная занятость\n",
              "13     64  Удаленная работа           Стажировка\n",
              "14     18     Гибкий график     Проектная работа\n",
              "15     12    Сменный график           Стажировка\n",
              "16      2    Вахтовый метод     Проектная работа\n",
              "17      1    Сменный график     Проектная работа"
            ]
          },
          "execution_count": 27,
          "metadata": {},
          "output_type": "execute_result"
        }
      ],
      "source": [
        "df = pd.read_sql_query(query_4_4, connection)\n",
        "df"
      ]
    },
    {
      "cell_type": "markdown",
      "id": "0136ffee-0ead-4a6b-b608-61d1c753a438",
      "metadata": {
        "id": "0136ffee-0ead-4a6b-b608-61d1c753a438"
      },
      "source": [
        "5. Напишите запрос, выводящий значения поля Требуемый опыт работы (experience) в порядке возрастания количества вакансий, в которых указан данный вариант опыта. "
      ]
    },
    {
      "cell_type": "code",
      "execution_count": 28,
      "id": "5b3a8e79-f7ab-4008-b767-12aea3a205ea",
      "metadata": {
        "id": "5b3a8e79-f7ab-4008-b767-12aea3a205ea"
      },
      "outputs": [],
      "source": [
        "query_4_5 = f'''select count(id) cnt, experience\n",
        "           from public.vacancies\n",
        "           group by experience\n",
        "           order by cnt\n",
        "        '''"
      ]
    },
    {
      "cell_type": "code",
      "execution_count": 29,
      "id": "3Is64Y-hpDpq",
      "metadata": {
        "id": "3Is64Y-hpDpq"
      },
      "outputs": [
        {
          "data": {
            "text/html": [
              "<div>\n",
              "<style scoped>\n",
              "    .dataframe tbody tr th:only-of-type {\n",
              "        vertical-align: middle;\n",
              "    }\n",
              "\n",
              "    .dataframe tbody tr th {\n",
              "        vertical-align: top;\n",
              "    }\n",
              "\n",
              "    .dataframe thead th {\n",
              "        text-align: right;\n",
              "    }\n",
              "</style>\n",
              "<table border=\"1\" class=\"dataframe\">\n",
              "  <thead>\n",
              "    <tr style=\"text-align: right;\">\n",
              "      <th></th>\n",
              "      <th>cnt</th>\n",
              "      <th>experience</th>\n",
              "    </tr>\n",
              "  </thead>\n",
              "  <tbody>\n",
              "    <tr>\n",
              "      <th>0</th>\n",
              "      <td>1337</td>\n",
              "      <td>Более 6 лет</td>\n",
              "    </tr>\n",
              "    <tr>\n",
              "      <th>1</th>\n",
              "      <td>7197</td>\n",
              "      <td>Нет опыта</td>\n",
              "    </tr>\n",
              "    <tr>\n",
              "      <th>2</th>\n",
              "      <td>14511</td>\n",
              "      <td>От 3 до 6 лет</td>\n",
              "    </tr>\n",
              "    <tr>\n",
              "      <th>3</th>\n",
              "      <td>26152</td>\n",
              "      <td>От 1 года до 3 лет</td>\n",
              "    </tr>\n",
              "  </tbody>\n",
              "</table>\n",
              "</div>"
            ],
            "text/plain": [
              "     cnt          experience\n",
              "0   1337         Более 6 лет\n",
              "1   7197           Нет опыта\n",
              "2  14511       От 3 до 6 лет\n",
              "3  26152  От 1 года до 3 лет"
            ]
          },
          "execution_count": 29,
          "metadata": {},
          "output_type": "execute_result"
        }
      ],
      "source": [
        "df = pd.read_sql_query(query_4_5, connection)\n",
        "df"
      ]
    },
    {
      "cell_type": "code",
      "execution_count": 30,
      "id": "f05d1c60",
      "metadata": {},
      "outputs": [
        {
          "data": {
            "image/png": "[encoded data removed]"
          },
          "metadata": {},
          "output_type": "display_data"
        }
      ],
      "source": [
        "\"\"\"\n",
        "Группируем данные по категории \"Опыт\" (Experience)\n",
        "Проводим расчет количества вакансий по соответствующим группам (\"Нет опыта\" ... \"Более 6 лет\")\n",
        "В результате получаем объект данных типа Series\n",
        "Строим график - Круговая диаграмма\n",
        "\"\"\"\n",
        "pie_data = vacancies_df.groupby('experience')['id'].count()\n",
        "pie_data.index = ['More than 6 years', 'No experience', 'From 1 to 3 years', 'From 3 to 6 years']\n",
        "\n",
        "# визуализация систем координат (Plotly)\n",
        "fig = px.pie(\n",
        "    values=pie_data,\n",
        "    names=pie_data.index,\n",
        "    hole=0.8\n",
        ")\n",
        "fig.update_layout(\n",
        "    annotations=[dict(text='Vacancies share<br>for IT-specialists<br>with different work experience',\n",
        "                      x=0.5, y=0.5, font_size=14, showarrow=False)]\n",
        "    )\n",
        "fig.show('png')\n",
        "# fig.show()"
      ]
    },
    {
      "cell_type": "markdown",
      "id": "oq2b7n1QpIka",
      "metadata": {
        "id": "oq2b7n1QpIka"
      },
      "source": [
        "***"
      ]
    },
    {
      "cell_type": "markdown",
      "id": "2dad6572",
      "metadata": {},
      "source": [
        "### Выводы по Анализу вакансий\n",
        "1) ТОП-5 городов по количеству вакансий для IT-специалистов в представленной базе данных (БД):\n",
        "* Москва\n",
        "* Санкт-Петербург\n",
        "* Минск\n",
        "* Новосибирск\n",
        "* Алматы\n",
        "\n",
        "В БД представлены вакансии как в России, так и в других странах (Республика Беларусь, Казахстан и пр.).\n",
        "В нижних позициях отмечены города с населением до 100 тыс. (или до 50 тыс.). Можем предположить, что свободные вакансии в городах с населением более 1 млн встречаются чаще. Здесь же больше спрос на IT-специалистов.\n",
        "\n",
        "2) Всего указано 49197 вакансий. У половины записей отсутствует информация о зарплатной вилке. В основном для соискателей с опытом работы от 1 года и до 3 лет.\n",
        "Возможные причины того, почему работодатель не раскрывает зарплату:\n",
        "* зарплата зависит от уровня кандидата,\n",
        "* внутренние правила компании (неразглашение информации о ЗП),\n",
        "* не определен объем работы (будет известно после встречи с кандидатом).\n",
        "\n",
        "3) Среднее значение минимальной границы заработной платы находится на уровне 71 тыс. руб., а максимальная около 111 тыс.руб. Как указано ниже, большая часть вакансий для соискателей с опытом работы \"от 1 года и до 3 лет\" (более 50%). Для более глубокого анализа, конечно, можно изучить для каких профессий соответствует тот или иной средний уровень ЗП. При необходимости можно заполнить пропуски при условии, что будут схожи характеристики вакансий (сфера деятельности работодателя, опыт работы соискателя, регион, профессия и пр.)\n",
        "\n",
        "4) При найме IT-специалистов на Полную занятость чаше встречаются вакансии с графиком работы на полный день (72% записей) или удаленный формат (~16%). Наименьшей популярностью пользуется формат проектной работы со сменным графиком или вахтовым методом (для инженеров).\n",
        "\n",
        "5) В БД более 50% вакансий для соискателей с опытом работы от 1 года и до 3 лет;\n",
        "- 30% вакансий - для соискателей с опытом работы от 3 до 6 лет;\n",
        "- ~15% - для соискателей без опыта;\n",
        "- ~3% - для IT-специалистов с опытом работы более 6 лет.\n",
        "\n",
        "Данное распределение говорит о том, что:\n",
        "* есть спрос на специалистов с опытом работы по данному направлению (не менее 1 года),\n",
        "* вероятно, в компаниях есть множество задач, требующих специальных знаний, но не требующих нетривиального подхода в решении. Что чаще оценивается при найме специалистов на уровень Senior. Возможно также, что не для всех компаний IT-специалисты являются ключевыми."
      ]
    },
    {
      "cell_type": "markdown",
      "id": "7ea20ab6-04a7-40a0-adec-443a0e5a42c3",
      "metadata": {
        "id": "7ea20ab6-04a7-40a0-adec-443a0e5a42c3"
      },
      "source": [
        "# Юнит 5. Анализ работодателей"
      ]
    },
    {
      "cell_type": "markdown",
      "id": "968aed80-74ef-4ffb-b5bf-c65b84e9caea",
      "metadata": {
        "id": "968aed80-74ef-4ffb-b5bf-c65b84e9caea"
      },
      "source": [
        "1. Напишите запрос, который позволит узнать, какие работодатели находятся на первом и пятом месте по количеству вакансий."
      ]
    },
    {
      "cell_type": "code",
      "execution_count": 31,
      "id": "f2d62796-d400-4ec1-a675-88112739a50e",
      "metadata": {
        "id": "f2d62796-d400-4ec1-a675-88112739a50e"
      },
      "outputs": [],
      "source": [
        "query_5_1 = f'''select count(vac.id) cnt, emp.name\n",
        "           from public.vacancies vac\n",
        "           join public.employers emp on emp.id = vac.employer_id\n",
        "           group by emp.name\n",
        "           order by cnt desc\n",
        "           limit 5\n",
        "        '''"
      ]
    },
    {
      "cell_type": "code",
      "execution_count": 32,
      "id": "64tOMkAxqkQk",
      "metadata": {
        "id": "64tOMkAxqkQk"
      },
      "outputs": [
        {
          "data": {
            "text/html": [
              "<div>\n",
              "<style scoped>\n",
              "    .dataframe tbody tr th:only-of-type {\n",
              "        vertical-align: middle;\n",
              "    }\n",
              "\n",
              "    .dataframe tbody tr th {\n",
              "        vertical-align: top;\n",
              "    }\n",
              "\n",
              "    .dataframe thead th {\n",
              "        text-align: right;\n",
              "    }\n",
              "</style>\n",
              "<table border=\"1\" class=\"dataframe\">\n",
              "  <thead>\n",
              "    <tr style=\"text-align: right;\">\n",
              "      <th></th>\n",
              "      <th>cnt</th>\n",
              "      <th>name</th>\n",
              "    </tr>\n",
              "  </thead>\n",
              "  <tbody>\n",
              "    <tr>\n",
              "      <th>0</th>\n",
              "      <td>1933</td>\n",
              "      <td>Яндекс</td>\n",
              "    </tr>\n",
              "    <tr>\n",
              "      <th>1</th>\n",
              "      <td>491</td>\n",
              "      <td>Ростелеком</td>\n",
              "    </tr>\n",
              "    <tr>\n",
              "      <th>2</th>\n",
              "      <td>444</td>\n",
              "      <td>Тинькофф</td>\n",
              "    </tr>\n",
              "    <tr>\n",
              "      <th>3</th>\n",
              "      <td>428</td>\n",
              "      <td>СБЕР</td>\n",
              "    </tr>\n",
              "    <tr>\n",
              "      <th>4</th>\n",
              "      <td>331</td>\n",
              "      <td>Газпром нефть</td>\n",
              "    </tr>\n",
              "  </tbody>\n",
              "</table>\n",
              "</div>"
            ],
            "text/plain": [
              "    cnt           name\n",
              "0  1933         Яндекс\n",
              "1   491     Ростелеком\n",
              "2   444       Тинькофф\n",
              "3   428           СБЕР\n",
              "4   331  Газпром нефть"
            ]
          },
          "execution_count": 32,
          "metadata": {},
          "output_type": "execute_result"
        }
      ],
      "source": [
        "df = pd.read_sql_query(query_5_1, connection)\n",
        "df"
      ]
    },
    {
      "cell_type": "code",
      "execution_count": 33,
      "id": "a1660bfd",
      "metadata": {},
      "outputs": [],
      "source": [
        "# Список компаний, которые предлагают 300 и более вакансий для IT-специалистов\n",
        "query_5_1_1 = f'''select count(vac.id) cnt, emp.name\n",
        "           from public.vacancies vac\n",
        "           join public.employers emp on emp.id = vac.employer_id\n",
        "           group by emp.name\n",
        "           having count(vac.id) >= 300\n",
        "           order by cnt desc\n",
        "        '''"
      ]
    },
    {
      "cell_type": "code",
      "execution_count": 34,
      "id": "fbb0f80f",
      "metadata": {},
      "outputs": [
        {
          "data": {
            "text/html": [
              "<div>\n",
              "<style scoped>\n",
              "    .dataframe tbody tr th:only-of-type {\n",
              "        vertical-align: middle;\n",
              "    }\n",
              "\n",
              "    .dataframe tbody tr th {\n",
              "        vertical-align: top;\n",
              "    }\n",
              "\n",
              "    .dataframe thead th {\n",
              "        text-align: right;\n",
              "    }\n",
              "</style>\n",
              "<table border=\"1\" class=\"dataframe\">\n",
              "  <thead>\n",
              "    <tr style=\"text-align: right;\">\n",
              "      <th></th>\n",
              "      <th>cnt</th>\n",
              "      <th>name</th>\n",
              "    </tr>\n",
              "  </thead>\n",
              "  <tbody>\n",
              "    <tr>\n",
              "      <th>0</th>\n",
              "      <td>1933</td>\n",
              "      <td>Яндекс</td>\n",
              "    </tr>\n",
              "    <tr>\n",
              "      <th>1</th>\n",
              "      <td>491</td>\n",
              "      <td>Ростелеком</td>\n",
              "    </tr>\n",
              "    <tr>\n",
              "      <th>2</th>\n",
              "      <td>444</td>\n",
              "      <td>Тинькофф</td>\n",
              "    </tr>\n",
              "    <tr>\n",
              "      <th>3</th>\n",
              "      <td>428</td>\n",
              "      <td>СБЕР</td>\n",
              "    </tr>\n",
              "    <tr>\n",
              "      <th>4</th>\n",
              "      <td>331</td>\n",
              "      <td>Газпром нефть</td>\n",
              "    </tr>\n",
              "    <tr>\n",
              "      <th>5</th>\n",
              "      <td>327</td>\n",
              "      <td>ИК СИБИНТЕК</td>\n",
              "    </tr>\n",
              "  </tbody>\n",
              "</table>\n",
              "</div>"
            ],
            "text/plain": [
              "    cnt           name\n",
              "0  1933         Яндекс\n",
              "1   491     Ростелеком\n",
              "2   444       Тинькофф\n",
              "3   428           СБЕР\n",
              "4   331  Газпром нефть\n",
              "5   327    ИК СИБИНТЕК"
            ]
          },
          "execution_count": 34,
          "metadata": {},
          "output_type": "execute_result"
        }
      ],
      "source": [
        "df = pd.read_sql_query(query_5_1_1, connection)\n",
        "df"
      ]
    },
    {
      "cell_type": "code",
      "execution_count": 35,
      "id": "fbec9c6d",
      "metadata": {},
      "outputs": [],
      "source": [
        "# Список компаний, которые предлагают 1 вакансию для IT-специалистов\n",
        "query_5_1_2 = f'''select count(vac.id) cnt, emp.name\n",
        "           from public.vacancies vac\n",
        "           join public.employers emp on emp.id = vac.employer_id\n",
        "           group by emp.name\n",
        "           having count(vac.id) = 1\n",
        "           order by cnt desc\n",
        "        '''"
      ]
    },
    {
      "cell_type": "code",
      "execution_count": 36,
      "id": "926202f0",
      "metadata": {},
      "outputs": [
        {
          "data": {
            "text/html": [
              "<div>\n",
              "<style scoped>\n",
              "    .dataframe tbody tr th:only-of-type {\n",
              "        vertical-align: middle;\n",
              "    }\n",
              "\n",
              "    .dataframe tbody tr th {\n",
              "        vertical-align: top;\n",
              "    }\n",
              "\n",
              "    .dataframe thead th {\n",
              "        text-align: right;\n",
              "    }\n",
              "</style>\n",
              "<table border=\"1\" class=\"dataframe\">\n",
              "  <thead>\n",
              "    <tr style=\"text-align: right;\">\n",
              "      <th></th>\n",
              "      <th>cnt</th>\n",
              "      <th>name</th>\n",
              "    </tr>\n",
              "  </thead>\n",
              "  <tbody>\n",
              "    <tr>\n",
              "      <th>0</th>\n",
              "      <td>1</td>\n",
              "      <td>Торговый дом Аскания</td>\n",
              "    </tr>\n",
              "    <tr>\n",
              "      <th>1</th>\n",
              "      <td>1</td>\n",
              "      <td>Тойота Центр Омск / Лексус Омск</td>\n",
              "    </tr>\n",
              "    <tr>\n",
              "      <th>2</th>\n",
              "      <td>1</td>\n",
              "      <td>ФПГ Энергоконтракт</td>\n",
              "    </tr>\n",
              "    <tr>\n",
              "      <th>3</th>\n",
              "      <td>1</td>\n",
              "      <td>Svetek</td>\n",
              "    </tr>\n",
              "    <tr>\n",
              "      <th>4</th>\n",
              "      <td>1</td>\n",
              "      <td>Ульяновскцентргаз</td>\n",
              "    </tr>\n",
              "    <tr>\n",
              "      <th>...</th>\n",
              "      <td>...</td>\n",
              "      <td>...</td>\n",
              "    </tr>\n",
              "    <tr>\n",
              "      <th>8539</th>\n",
              "      <td>1</td>\n",
              "      <td>АПРИ Флай Плэнинг</td>\n",
              "    </tr>\n",
              "    <tr>\n",
              "      <th>8540</th>\n",
              "      <td>1</td>\n",
              "      <td>Учебный Центр Развитие</td>\n",
              "    </tr>\n",
              "    <tr>\n",
              "      <th>8541</th>\n",
              "      <td>1</td>\n",
              "      <td>ГБУЗ Городская поликлиника №2 г. Сочи Министер...</td>\n",
              "    </tr>\n",
              "    <tr>\n",
              "      <th>8542</th>\n",
              "      <td>1</td>\n",
              "      <td>iAGE</td>\n",
              "    </tr>\n",
              "    <tr>\n",
              "      <th>8543</th>\n",
              "      <td>1</td>\n",
              "      <td>AST Group Capital</td>\n",
              "    </tr>\n",
              "  </tbody>\n",
              "</table>\n",
              "<p>8544 rows × 2 columns</p>\n",
              "</div>"
            ],
            "text/plain": [
              "      cnt                                               name\n",
              "0       1                               Торговый дом Аскания\n",
              "1       1                    Тойота Центр Омск / Лексус Омск\n",
              "2       1                                 ФПГ Энергоконтракт\n",
              "3       1                                             Svetek\n",
              "4       1                                  Ульяновскцентргаз\n",
              "...   ...                                                ...\n",
              "8539    1                                  АПРИ Флай Плэнинг\n",
              "8540    1                             Учебный Центр Развитие\n",
              "8541    1  ГБУЗ Городская поликлиника №2 г. Сочи Министер...\n",
              "8542    1                                               iAGE\n",
              "8543    1                                  AST Group Capital\n",
              "\n",
              "[8544 rows x 2 columns]"
            ]
          },
          "execution_count": 36,
          "metadata": {},
          "output_type": "execute_result"
        }
      ],
      "source": [
        "df = pd.read_sql_query(query_5_1_2, connection)\n",
        "df"
      ]
    },
    {
      "cell_type": "markdown",
      "id": "68377cfc-b378-43dc-ab7d-1195abf2c515",
      "metadata": {
        "id": "68377cfc-b378-43dc-ab7d-1195abf2c515"
      },
      "source": [
        "2. Напишите запрос, который для каждого региона выведет количество работодателей и вакансий в нём.\n",
        "Среди регионов, в которых нет вакансий, найдите тот, в котором наибольшее количество работодателей."
      ]
    },
    {
      "cell_type": "code",
      "execution_count": 37,
      "id": "dd7df27a-e3e8-412e-a21a-5d389b71e891",
      "metadata": {
        "id": "dd7df27a-e3e8-412e-a21a-5d389b71e891"
      },
      "outputs": [],
      "source": [
        "query_5_2 = f'''select areas.name area_name, count(emp.id) cnt_employer, count(vac.id) cnt_vacancies\n",
        "           from public.areas\n",
        "           left join public.vacancies vac on areas.id = vac.area_id\n",
        "           left join public.employers emp on emp.area = areas.id\n",
        "           group by area_name\n",
        "           having count(vac.id) = 0\n",
        "           order by cnt_employer desc\n",
        "        '''"
      ]
    },
    {
      "cell_type": "code",
      "execution_count": 38,
      "id": "x1ikWbydrbf6",
      "metadata": {
        "id": "x1ikWbydrbf6"
      },
      "outputs": [
        {
          "data": {
            "text/html": [
              "<div>\n",
              "<style scoped>\n",
              "    .dataframe tbody tr th:only-of-type {\n",
              "        vertical-align: middle;\n",
              "    }\n",
              "\n",
              "    .dataframe tbody tr th {\n",
              "        vertical-align: top;\n",
              "    }\n",
              "\n",
              "    .dataframe thead th {\n",
              "        text-align: right;\n",
              "    }\n",
              "</style>\n",
              "<table border=\"1\" class=\"dataframe\">\n",
              "  <thead>\n",
              "    <tr style=\"text-align: right;\">\n",
              "      <th></th>\n",
              "      <th>area_name</th>\n",
              "      <th>cnt_employer</th>\n",
              "      <th>cnt_vacancies</th>\n",
              "    </tr>\n",
              "  </thead>\n",
              "  <tbody>\n",
              "    <tr>\n",
              "      <th>0</th>\n",
              "      <td>Россия</td>\n",
              "      <td>410</td>\n",
              "      <td>0</td>\n",
              "    </tr>\n",
              "    <tr>\n",
              "      <th>1</th>\n",
              "      <td>Казахстан</td>\n",
              "      <td>207</td>\n",
              "      <td>0</td>\n",
              "    </tr>\n",
              "    <tr>\n",
              "      <th>2</th>\n",
              "      <td>Московская область</td>\n",
              "      <td>75</td>\n",
              "      <td>0</td>\n",
              "    </tr>\n",
              "    <tr>\n",
              "      <th>3</th>\n",
              "      <td>Краснодарский край</td>\n",
              "      <td>19</td>\n",
              "      <td>0</td>\n",
              "    </tr>\n",
              "    <tr>\n",
              "      <th>4</th>\n",
              "      <td>Ростовская область</td>\n",
              "      <td>18</td>\n",
              "      <td>0</td>\n",
              "    </tr>\n",
              "    <tr>\n",
              "      <th>...</th>\n",
              "      <td>...</td>\n",
              "      <td>...</td>\n",
              "      <td>...</td>\n",
              "    </tr>\n",
              "    <tr>\n",
              "      <th>588</th>\n",
              "      <td>Струнино</td>\n",
              "      <td>0</td>\n",
              "      <td>0</td>\n",
              "    </tr>\n",
              "    <tr>\n",
              "      <th>589</th>\n",
              "      <td>Славгород (Алтайский край)</td>\n",
              "      <td>0</td>\n",
              "      <td>0</td>\n",
              "    </tr>\n",
              "    <tr>\n",
              "      <th>590</th>\n",
              "      <td>Сорочинск</td>\n",
              "      <td>0</td>\n",
              "      <td>0</td>\n",
              "    </tr>\n",
              "    <tr>\n",
              "      <th>591</th>\n",
              "      <td>Ленинский (Тульская область)</td>\n",
              "      <td>0</td>\n",
              "      <td>0</td>\n",
              "    </tr>\n",
              "    <tr>\n",
              "      <th>592</th>\n",
              "      <td>Тавда</td>\n",
              "      <td>0</td>\n",
              "      <td>0</td>\n",
              "    </tr>\n",
              "  </tbody>\n",
              "</table>\n",
              "<p>593 rows × 3 columns</p>\n",
              "</div>"
            ],
            "text/plain": [
              "                        area_name  cnt_employer  cnt_vacancies\n",
              "0                          Россия           410              0\n",
              "1                       Казахстан           207              0\n",
              "2              Московская область            75              0\n",
              "3              Краснодарский край            19              0\n",
              "4              Ростовская область            18              0\n",
              "..                            ...           ...            ...\n",
              "588                      Струнино             0              0\n",
              "589    Славгород (Алтайский край)             0              0\n",
              "590                     Сорочинск             0              0\n",
              "591  Ленинский (Тульская область)             0              0\n",
              "592                         Тавда             0              0\n",
              "\n",
              "[593 rows x 3 columns]"
            ]
          },
          "execution_count": 38,
          "metadata": {},
          "output_type": "execute_result"
        }
      ],
      "source": [
        "df = pd.read_sql_query(query_5_2, connection)\n",
        "df"
      ]
    },
    {
      "cell_type": "markdown",
      "id": "f2fe0acb-ab1a-4e15-9326-2560e22d73c1",
      "metadata": {
        "id": "f2fe0acb-ab1a-4e15-9326-2560e22d73c1"
      },
      "source": [
        "3. Для каждого работодателя посчитайте количество регионов, в которых он публикует свои вакансии. Отсортируйте результат по убыванию количества."
      ]
    },
    {
      "cell_type": "code",
      "execution_count": 39,
      "id": "6271f8ad-bd2e-4196-ae4a-5b39c4c1010e",
      "metadata": {
        "id": "6271f8ad-bd2e-4196-ae4a-5b39c4c1010e"
      },
      "outputs": [],
      "source": [
        "\"\"\"Необходимо количество неповторяющихся кодов area, поэтому используем distinct в расчетах\n",
        "Необходимо присоединить только те записи, которые удовлетворяют условию, поэтому используем left join\n",
        "Условие: только те записи (регионы), где опубликованы вакансии у соответствующих работодателей\n",
        "\"\"\"\n",
        "query_5_3 = f'''select emp.name emp_name, count(distinct vac.area_id) cnt_area\n",
        "           from public.employers emp\n",
        "           left join public.vacancies vac on vac.employer_id = emp.id\n",
        "           where vac.id is not null\n",
        "           group by emp_name\n",
        "           order by cnt_area desc\n",
        "        '''"
      ]
    },
    {
      "cell_type": "code",
      "execution_count": 40,
      "id": "1EIvX3HasH4F",
      "metadata": {
        "id": "1EIvX3HasH4F"
      },
      "outputs": [
        {
          "data": {
            "text/html": [
              "<div>\n",
              "<style scoped>\n",
              "    .dataframe tbody tr th:only-of-type {\n",
              "        vertical-align: middle;\n",
              "    }\n",
              "\n",
              "    .dataframe tbody tr th {\n",
              "        vertical-align: top;\n",
              "    }\n",
              "\n",
              "    .dataframe thead th {\n",
              "        text-align: right;\n",
              "    }\n",
              "</style>\n",
              "<table border=\"1\" class=\"dataframe\">\n",
              "  <thead>\n",
              "    <tr style=\"text-align: right;\">\n",
              "      <th></th>\n",
              "      <th>emp_name</th>\n",
              "      <th>cnt_area</th>\n",
              "    </tr>\n",
              "  </thead>\n",
              "  <tbody>\n",
              "    <tr>\n",
              "      <th>0</th>\n",
              "      <td>Яндекс</td>\n",
              "      <td>181</td>\n",
              "    </tr>\n",
              "    <tr>\n",
              "      <th>1</th>\n",
              "      <td>Ростелеком</td>\n",
              "      <td>152</td>\n",
              "    </tr>\n",
              "    <tr>\n",
              "      <th>2</th>\n",
              "      <td>Спецремонт</td>\n",
              "      <td>116</td>\n",
              "    </tr>\n",
              "    <tr>\n",
              "      <th>3</th>\n",
              "      <td>Поляков Денис Иванович</td>\n",
              "      <td>88</td>\n",
              "    </tr>\n",
              "    <tr>\n",
              "      <th>4</th>\n",
              "      <td>ООО ЕФИН</td>\n",
              "      <td>71</td>\n",
              "    </tr>\n",
              "    <tr>\n",
              "      <th>...</th>\n",
              "      <td>...</td>\n",
              "      <td>...</td>\n",
              "    </tr>\n",
              "    <tr>\n",
              "      <th>14761</th>\n",
              "      <td>UniSol</td>\n",
              "      <td>1</td>\n",
              "    </tr>\n",
              "    <tr>\n",
              "      <th>14762</th>\n",
              "      <td>UNISTORY LLC</td>\n",
              "      <td>1</td>\n",
              "    </tr>\n",
              "    <tr>\n",
              "      <th>14763</th>\n",
              "      <td>UNIT6</td>\n",
              "      <td>1</td>\n",
              "    </tr>\n",
              "    <tr>\n",
              "      <th>14764</th>\n",
              "      <td>United Distribution</td>\n",
              "      <td>1</td>\n",
              "    </tr>\n",
              "    <tr>\n",
              "      <th>14765</th>\n",
              "      <td>UNITEL LLC</td>\n",
              "      <td>1</td>\n",
              "    </tr>\n",
              "  </tbody>\n",
              "</table>\n",
              "<p>14766 rows × 2 columns</p>\n",
              "</div>"
            ],
            "text/plain": [
              "                     emp_name  cnt_area\n",
              "0                      Яндекс       181\n",
              "1                  Ростелеком       152\n",
              "2                  Спецремонт       116\n",
              "3      Поляков Денис Иванович        88\n",
              "4                   ООО ЕФИН         71\n",
              "...                       ...       ...\n",
              "14761                  UniSol         1\n",
              "14762            UNISTORY LLC         1\n",
              "14763                   UNIT6         1\n",
              "14764     United Distribution         1\n",
              "14765              UNITEL LLC         1\n",
              "\n",
              "[14766 rows x 2 columns]"
            ]
          },
          "execution_count": 40,
          "metadata": {},
          "output_type": "execute_result"
        }
      ],
      "source": [
        "df = pd.read_sql_query(query_5_3, connection)\n",
        "df"
      ]
    },
    {
      "cell_type": "code",
      "execution_count": 41,
      "id": "bd82aef5",
      "metadata": {},
      "outputs": [],
      "source": [
        "# Количество регионов, где \"Яндекс\" предлагает вакансии с удаленным форматом работы при полной занятости\n",
        "query_5_3_1 = f'''select emp.name emp_name, count(distinct vac.area_id) cnt_area, employment, schedule\n",
        "           from public.employers emp\n",
        "           left join public.vacancies vac on vac.employer_id = emp.id\n",
        "           where vac.id is not null\n",
        "           and emp.name = 'Яндекс'\n",
        "           and schedule = 'Удаленная работа'\n",
        "           group by emp_name, employment, schedule\n",
        "        '''"
      ]
    },
    {
      "cell_type": "code",
      "execution_count": 42,
      "id": "9622cf65",
      "metadata": {},
      "outputs": [
        {
          "data": {
            "text/html": [
              "<div>\n",
              "<style scoped>\n",
              "    .dataframe tbody tr th:only-of-type {\n",
              "        vertical-align: middle;\n",
              "    }\n",
              "\n",
              "    .dataframe tbody tr th {\n",
              "        vertical-align: top;\n",
              "    }\n",
              "\n",
              "    .dataframe thead th {\n",
              "        text-align: right;\n",
              "    }\n",
              "</style>\n",
              "<table border=\"1\" class=\"dataframe\">\n",
              "  <thead>\n",
              "    <tr style=\"text-align: right;\">\n",
              "      <th></th>\n",
              "      <th>emp_name</th>\n",
              "      <th>cnt_area</th>\n",
              "      <th>employment</th>\n",
              "      <th>schedule</th>\n",
              "    </tr>\n",
              "  </thead>\n",
              "  <tbody>\n",
              "    <tr>\n",
              "      <th>0</th>\n",
              "      <td>Яндекс</td>\n",
              "      <td>173</td>\n",
              "      <td>Полная занятость</td>\n",
              "      <td>Удаленная работа</td>\n",
              "    </tr>\n",
              "    <tr>\n",
              "      <th>1</th>\n",
              "      <td>Яндекс</td>\n",
              "      <td>175</td>\n",
              "      <td>Частичная занятость</td>\n",
              "      <td>Удаленная работа</td>\n",
              "    </tr>\n",
              "  </tbody>\n",
              "</table>\n",
              "</div>"
            ],
            "text/plain": [
              "  emp_name  cnt_area           employment          schedule\n",
              "0   Яндекс       173     Полная занятость  Удаленная работа\n",
              "1   Яндекс       175  Частичная занятость  Удаленная работа"
            ]
          },
          "execution_count": 42,
          "metadata": {},
          "output_type": "execute_result"
        }
      ],
      "source": [
        "df = pd.read_sql_query(query_5_3_1, connection)\n",
        "df"
      ]
    },
    {
      "cell_type": "markdown",
      "id": "eab2206d-d95b-468b-8e5f-34381abf0ce7",
      "metadata": {
        "id": "eab2206d-d95b-468b-8e5f-34381abf0ce7"
      },
      "source": [
        "4. Напишите запрос для подсчёта количества работодателей, у которых не указана сфера деятельности. "
      ]
    },
    {
      "cell_type": "code",
      "execution_count": 43,
      "id": "80defb23-bfb1-4a18-8be6-bf36aa7165d5",
      "metadata": {
        "id": "80defb23-bfb1-4a18-8be6-bf36aa7165d5"
      },
      "outputs": [],
      "source": [
        "query_5_4 = f'''select count(emp.id) cnt\n",
        "           from public.employers emp\n",
        "           left join public.employers_industries emp_ind on emp_ind.employer_id = emp.id\n",
        "           where emp_ind.industry_id is null\n",
        "        '''"
      ]
    },
    {
      "cell_type": "code",
      "execution_count": 44,
      "id": "Dp_yCx6ysQSu",
      "metadata": {
        "id": "Dp_yCx6ysQSu"
      },
      "outputs": [
        {
          "data": {
            "text/html": [
              "<div>\n",
              "<style scoped>\n",
              "    .dataframe tbody tr th:only-of-type {\n",
              "        vertical-align: middle;\n",
              "    }\n",
              "\n",
              "    .dataframe tbody tr th {\n",
              "        vertical-align: top;\n",
              "    }\n",
              "\n",
              "    .dataframe thead th {\n",
              "        text-align: right;\n",
              "    }\n",
              "</style>\n",
              "<table border=\"1\" class=\"dataframe\">\n",
              "  <thead>\n",
              "    <tr style=\"text-align: right;\">\n",
              "      <th></th>\n",
              "      <th>cnt</th>\n",
              "    </tr>\n",
              "  </thead>\n",
              "  <tbody>\n",
              "    <tr>\n",
              "      <th>0</th>\n",
              "      <td>8419</td>\n",
              "    </tr>\n",
              "  </tbody>\n",
              "</table>\n",
              "</div>"
            ],
            "text/plain": [
              "    cnt\n",
              "0  8419"
            ]
          },
          "execution_count": 44,
          "metadata": {},
          "output_type": "execute_result"
        }
      ],
      "source": [
        "df = pd.read_sql_query(query_5_4, connection)\n",
        "df"
      ]
    },
    {
      "cell_type": "markdown",
      "id": "0112af31-f6b0-4e3b-82ab-71296e752e5e",
      "metadata": {
        "id": "0112af31-f6b0-4e3b-82ab-71296e752e5e"
      },
      "source": [
        "5. Напишите запрос, чтобы узнать название компании, находящейся на третьем месте в алфавитном списке (по названию) компаний, у которых указано четыре сферы деятельности. "
      ]
    },
    {
      "cell_type": "code",
      "execution_count": 45,
      "id": "973b0cfc-a972-470a-8b4a-68744ef220c4",
      "metadata": {
        "id": "973b0cfc-a972-470a-8b4a-68744ef220c4"
      },
      "outputs": [],
      "source": [
        "query_5_5 = f'''select emp.name emp_name\n",
        "           from public.employers emp\n",
        "           left join public.employers_industries emp_ind on emp_ind.employer_id = emp.id\n",
        "           group by emp_name\n",
        "           having count(emp_ind.employer_id) = 4\n",
        "           order by emp_name\n",
        "           offset 2 limit 1\n",
        "        '''"
      ]
    },
    {
      "cell_type": "code",
      "execution_count": 46,
      "id": "xsPtpp8EsaED",
      "metadata": {
        "id": "xsPtpp8EsaED"
      },
      "outputs": [
        {
          "data": {
            "text/html": [
              "<div>\n",
              "<style scoped>\n",
              "    .dataframe tbody tr th:only-of-type {\n",
              "        vertical-align: middle;\n",
              "    }\n",
              "\n",
              "    .dataframe tbody tr th {\n",
              "        vertical-align: top;\n",
              "    }\n",
              "\n",
              "    .dataframe thead th {\n",
              "        text-align: right;\n",
              "    }\n",
              "</style>\n",
              "<table border=\"1\" class=\"dataframe\">\n",
              "  <thead>\n",
              "    <tr style=\"text-align: right;\">\n",
              "      <th></th>\n",
              "      <th>emp_name</th>\n",
              "    </tr>\n",
              "  </thead>\n",
              "  <tbody>\n",
              "    <tr>\n",
              "      <th>0</th>\n",
              "      <td>2ГИС</td>\n",
              "    </tr>\n",
              "  </tbody>\n",
              "</table>\n",
              "</div>"
            ],
            "text/plain": [
              "  emp_name\n",
              "0     2ГИС"
            ]
          },
          "execution_count": 46,
          "metadata": {},
          "output_type": "execute_result"
        }
      ],
      "source": [
        "df = pd.read_sql_query(query_5_5, connection)\n",
        "df"
      ]
    },
    {
      "cell_type": "code",
      "execution_count": 47,
      "id": "d1a3cfc8",
      "metadata": {},
      "outputs": [],
      "source": [
        "# Количество сфер деятельности, которые указывают компании\n",
        "query_5_5_1 = f'''select max(cnt_of_field), min(cnt_of_field)\n",
        "           from(\n",
        "           select emp.name emp_name, count(emp_ind.employer_id) cnt_of_field\n",
        "           from public.employers emp\n",
        "           join public.employers_industries emp_ind on emp_ind.employer_id = emp.id\n",
        "           group by emp_name\n",
        "           order by cnt_of_field desc) as x\n",
        "        '''"
      ]
    },
    {
      "cell_type": "code",
      "execution_count": 48,
      "id": "68aa0303",
      "metadata": {},
      "outputs": [
        {
          "data": {
            "text/html": [
              "<div>\n",
              "<style scoped>\n",
              "    .dataframe tbody tr th:only-of-type {\n",
              "        vertical-align: middle;\n",
              "    }\n",
              "\n",
              "    .dataframe tbody tr th {\n",
              "        vertical-align: top;\n",
              "    }\n",
              "\n",
              "    .dataframe thead th {\n",
              "        text-align: right;\n",
              "    }\n",
              "</style>\n",
              "<table border=\"1\" class=\"dataframe\">\n",
              "  <thead>\n",
              "    <tr style=\"text-align: right;\">\n",
              "      <th></th>\n",
              "      <th>max</th>\n",
              "      <th>min</th>\n",
              "    </tr>\n",
              "  </thead>\n",
              "  <tbody>\n",
              "    <tr>\n",
              "      <th>0</th>\n",
              "      <td>16</td>\n",
              "      <td>1</td>\n",
              "    </tr>\n",
              "  </tbody>\n",
              "</table>\n",
              "</div>"
            ],
            "text/plain": [
              "   max  min\n",
              "0   16    1"
            ]
          },
          "execution_count": 48,
          "metadata": {},
          "output_type": "execute_result"
        }
      ],
      "source": [
        "df = pd.read_sql_query(query_5_5_1, connection)\n",
        "df"
      ]
    },
    {
      "cell_type": "markdown",
      "id": "3bfcfdaf-755d-4d2b-8ed8-326201dc07ab",
      "metadata": {
        "id": "3bfcfdaf-755d-4d2b-8ed8-326201dc07ab"
      },
      "source": [
        "6. С помощью запроса выясните, у какого количества работодателей в качестве сферы деятельности указана Разработка программного обеспечения."
      ]
    },
    {
      "cell_type": "code",
      "execution_count": 49,
      "id": "ad3f270f-2991-47eb-929b-e8f88a55b0d1",
      "metadata": {
        "id": "ad3f270f-2991-47eb-929b-e8f88a55b0d1"
      },
      "outputs": [],
      "source": [
        "query_5_6 = f'''select count(emp.id) cnt\n",
        "           from public.employers emp\n",
        "           left join public.employers_industries emp_ind on emp_ind.employer_id = emp.id\n",
        "           left join public.industries ind on ind.id = emp_ind.industry_id\n",
        "           where ind.name = 'Разработка программного обеспечения'\n",
        "        '''"
      ]
    },
    {
      "cell_type": "code",
      "execution_count": 50,
      "id": "H72qxWM0shPR",
      "metadata": {
        "id": "H72qxWM0shPR"
      },
      "outputs": [
        {
          "data": {
            "text/html": [
              "<div>\n",
              "<style scoped>\n",
              "    .dataframe tbody tr th:only-of-type {\n",
              "        vertical-align: middle;\n",
              "    }\n",
              "\n",
              "    .dataframe tbody tr th {\n",
              "        vertical-align: top;\n",
              "    }\n",
              "\n",
              "    .dataframe thead th {\n",
              "        text-align: right;\n",
              "    }\n",
              "</style>\n",
              "<table border=\"1\" class=\"dataframe\">\n",
              "  <thead>\n",
              "    <tr style=\"text-align: right;\">\n",
              "      <th></th>\n",
              "      <th>cnt</th>\n",
              "    </tr>\n",
              "  </thead>\n",
              "  <tbody>\n",
              "    <tr>\n",
              "      <th>0</th>\n",
              "      <td>3553</td>\n",
              "    </tr>\n",
              "  </tbody>\n",
              "</table>\n",
              "</div>"
            ],
            "text/plain": [
              "    cnt\n",
              "0  3553"
            ]
          },
          "execution_count": 50,
          "metadata": {},
          "output_type": "execute_result"
        }
      ],
      "source": [
        "df = pd.read_sql_query(query_5_6, connection)\n",
        "df"
      ]
    },
    {
      "cell_type": "markdown",
      "id": "7b02bb86-0546-40fb-94a4-242f050a5c57",
      "metadata": {
        "id": "7b02bb86-0546-40fb-94a4-242f050a5c57"
      },
      "source": [
        "7. Для компании «Яндекс» выведите список регионов-миллионеров, в которых представлены вакансии компании, вместе с количеством вакансий в этих регионах. Также добавьте строку Total с общим количеством вакансий компании. Результат отсортируйте по возрастанию количества.\n",
        "\n",
        "Список городов-миллионеров надо взять [отсюда](https://ru.wikipedia.org/wiki/%D0%93%D0%BE%D1%80%D0%BE%D0%B4%D0%B0-%D0%BC%D0%B8%D0%BB%D0%BB%D0%B8%D0%BE%D0%BD%D0%B5%D1%80%D1%8B_%D0%A0%D0%BE%D1%81%D1%81%D0%B8%D0%B8)."
      ]
    },
    {
      "cell_type": "code",
      "execution_count": 51,
      "id": "ZdfrL6gIs1Pn",
      "metadata": {
        "id": "ZdfrL6gIs1Pn"
      },
      "outputs": [
        {
          "name": "stdout",
          "output_type": "stream",
          "text": [
            "['Москва', 'Санкт-Петербург', 'Новосибирск', 'Екатеринбург', 'Казань', 'Нижний Новгород', 'Челябинск', 'Красноярск', 'Самара', 'Уфа', 'Ростов-на-Дону', 'Омск', 'Краснодар', 'Воронеж', 'Пермь', 'Волгоград']\n"
          ]
        }
      ],
      "source": [
        "\"\"\" Чтение html-файла и поиск нужной таблицы.\n",
        "Корректировка значений в таблице (название города).\n",
        "Заполнение списка с названиями городов-миллионеров (по численности населения).\n",
        "\"\"\"\n",
        "url = 'https://ru.wikipedia.org/wiki/%D0%93%D0%BE%D1%80%D0%BE%D0%B4%D0%B0-%D0%BC%D0%B8%D0%BB%D0%BB%D0%B8%D0%BE%D0%BD%D0%B5%D1%80%D1%8B_%D0%A0%D0%BE%D1%81%D1%81%D0%B8%D0%B8'\n",
        "tables = pd.read_html(url)\n",
        "temp_table = tables[1]\n",
        "\n",
        "tables_of_big_city = temp_table[['Город', 'Население, тыс. чел. (итоги переписи 2021 года)[5]']]\n",
        "\n",
        "tables_of_big_city = tables_of_big_city.replace({'Город': {'Воронеж[a]': 'Воронеж'}})\n",
        "\n",
        "list_of_big_city = []\n",
        "\n",
        "for city in tables_of_big_city['Город']:\n",
        "    list_of_big_city.append(city)\n",
        "    \n",
        "print(list_of_big_city)"
      ]
    },
    {
      "cell_type": "code",
      "execution_count": 52,
      "id": "5a0e32a4-e68a-4365-8a39-2fe24c542c36",
      "metadata": {
        "id": "5a0e32a4-e68a-4365-8a39-2fe24c542c36"
      },
      "outputs": [],
      "source": [
        "\"\"\"Используем left join для присоединения столбцов из других таблиц по заданному условию (3 условия)\n",
        "Объединяем таблицы: город и количество вакансий + общее количество вакансий в городах-миллионерах\n",
        "\"\"\"\n",
        "\n",
        "query_5_7 = f'''select areas.name area_name, count(*) cnt_of_vac\n",
        "           from public.vacancies vac\n",
        "           left join public.employers emp on emp.id = vac.employer_id\n",
        "           left join public.areas on areas.id = vac.area_id\n",
        "           where emp.name = 'Яндекс'\n",
        "           and vac.id is not null\n",
        "           and areas.name in ('Москва', 'Санкт-Петербург', 'Новосибирск', 'Екатеринбург',\n",
        "           'Казань', 'Нижний Новгород', 'Челябинск', 'Красноярск', 'Самара', 'Уфа',\n",
        "           'Ростов-на-Дону', 'Омск', 'Краснодар', 'Воронеж', 'Пермь', 'Волгоград')\n",
        "           group by area_name\n",
        "           union all\n",
        "           select 'Total', count(*) cnt_of_vac\n",
        "           from public.vacancies vac\n",
        "           left join public.employers emp on emp.id = vac.employer_id\n",
        "           left join public.areas on areas.id = vac.area_id\n",
        "           where emp.name = 'Яндекс'\n",
        "           and vac.id is not null\n",
        "           and areas.name in ('Москва', 'Санкт-Петербург', 'Новосибирск', 'Екатеринбург',\n",
        "           'Казань', 'Нижний Новгород', 'Челябинск', 'Красноярск', 'Самара', 'Уфа',\n",
        "           'Ростов-на-Дону', 'Омск', 'Краснодар', 'Воронеж', 'Пермь', 'Волгоград')\n",
        "           order by cnt_of_vac\n",
        "        '''"
      ]
    },
    {
      "cell_type": "code",
      "execution_count": 53,
      "id": "ttPhiO1rsvPq",
      "metadata": {
        "id": "ttPhiO1rsvPq"
      },
      "outputs": [
        {
          "data": {
            "text/html": [
              "<div>\n",
              "<style scoped>\n",
              "    .dataframe tbody tr th:only-of-type {\n",
              "        vertical-align: middle;\n",
              "    }\n",
              "\n",
              "    .dataframe tbody tr th {\n",
              "        vertical-align: top;\n",
              "    }\n",
              "\n",
              "    .dataframe thead th {\n",
              "        text-align: right;\n",
              "    }\n",
              "</style>\n",
              "<table border=\"1\" class=\"dataframe\">\n",
              "  <thead>\n",
              "    <tr style=\"text-align: right;\">\n",
              "      <th></th>\n",
              "      <th>area_name</th>\n",
              "      <th>cnt_of_vac</th>\n",
              "    </tr>\n",
              "  </thead>\n",
              "  <tbody>\n",
              "    <tr>\n",
              "      <th>0</th>\n",
              "      <td>Омск</td>\n",
              "      <td>21</td>\n",
              "    </tr>\n",
              "    <tr>\n",
              "      <th>1</th>\n",
              "      <td>Челябинск</td>\n",
              "      <td>22</td>\n",
              "    </tr>\n",
              "    <tr>\n",
              "      <th>2</th>\n",
              "      <td>Красноярск</td>\n",
              "      <td>23</td>\n",
              "    </tr>\n",
              "    <tr>\n",
              "      <th>3</th>\n",
              "      <td>Волгоград</td>\n",
              "      <td>24</td>\n",
              "    </tr>\n",
              "    <tr>\n",
              "      <th>4</th>\n",
              "      <td>Пермь</td>\n",
              "      <td>25</td>\n",
              "    </tr>\n",
              "    <tr>\n",
              "      <th>5</th>\n",
              "      <td>Казань</td>\n",
              "      <td>25</td>\n",
              "    </tr>\n",
              "    <tr>\n",
              "      <th>6</th>\n",
              "      <td>Ростов-на-Дону</td>\n",
              "      <td>25</td>\n",
              "    </tr>\n",
              "    <tr>\n",
              "      <th>7</th>\n",
              "      <td>Уфа</td>\n",
              "      <td>26</td>\n",
              "    </tr>\n",
              "    <tr>\n",
              "      <th>8</th>\n",
              "      <td>Самара</td>\n",
              "      <td>26</td>\n",
              "    </tr>\n",
              "    <tr>\n",
              "      <th>9</th>\n",
              "      <td>Краснодар</td>\n",
              "      <td>30</td>\n",
              "    </tr>\n",
              "    <tr>\n",
              "      <th>10</th>\n",
              "      <td>Воронеж</td>\n",
              "      <td>32</td>\n",
              "    </tr>\n",
              "    <tr>\n",
              "      <th>11</th>\n",
              "      <td>Новосибирск</td>\n",
              "      <td>35</td>\n",
              "    </tr>\n",
              "    <tr>\n",
              "      <th>12</th>\n",
              "      <td>Нижний Новгород</td>\n",
              "      <td>36</td>\n",
              "    </tr>\n",
              "    <tr>\n",
              "      <th>13</th>\n",
              "      <td>Екатеринбург</td>\n",
              "      <td>39</td>\n",
              "    </tr>\n",
              "    <tr>\n",
              "      <th>14</th>\n",
              "      <td>Санкт-Петербург</td>\n",
              "      <td>42</td>\n",
              "    </tr>\n",
              "    <tr>\n",
              "      <th>15</th>\n",
              "      <td>Москва</td>\n",
              "      <td>54</td>\n",
              "    </tr>\n",
              "    <tr>\n",
              "      <th>16</th>\n",
              "      <td>Total</td>\n",
              "      <td>485</td>\n",
              "    </tr>\n",
              "  </tbody>\n",
              "</table>\n",
              "</div>"
            ],
            "text/plain": [
              "          area_name  cnt_of_vac\n",
              "0              Омск          21\n",
              "1         Челябинск          22\n",
              "2        Красноярск          23\n",
              "3         Волгоград          24\n",
              "4             Пермь          25\n",
              "5            Казань          25\n",
              "6    Ростов-на-Дону          25\n",
              "7               Уфа          26\n",
              "8            Самара          26\n",
              "9         Краснодар          30\n",
              "10          Воронеж          32\n",
              "11      Новосибирск          35\n",
              "12  Нижний Новгород          36\n",
              "13     Екатеринбург          39\n",
              "14  Санкт-Петербург          42\n",
              "15           Москва          54\n",
              "16            Total         485"
            ]
          },
          "execution_count": 53,
          "metadata": {},
          "output_type": "execute_result"
        }
      ],
      "source": [
        "df = pd.read_sql_query(query_5_7, connection)\n",
        "df"
      ]
    },
    {
      "cell_type": "code",
      "execution_count": 54,
      "id": "eb42e8a9",
      "metadata": {},
      "outputs": [
        {
          "data": {
            "image/svg+xml": "<svg class=\"main-svg\" xmlns=\"http://www.w3.org/2000/svg\" xmlns:xlink=\"http://www.w3.org/1999/xlink\" width=\"1150\" height=\"600\" style=\"\" viewBox=\"0 0 1150 600\"><rect x=\"0\" y=\"0\" width=\"1150\" height=\"600\" style=\"fill: rgb(255, 255, 255); fill-opacity: 1;\"/><defs id=\"defs-ff9389\"><g class=\"clips\"><clipPath id=\"clipff9389xyplot\" class=\"plotclip\"><rect width=\"892\" height=\"420\"/></clipPath><clipPath class=\"axesclip\" id=\"clipff9389x\"><rect x=\"80\" y=\"0\" width=\"892\" height=\"600\"/></clipPath><clipPath class=\"axesclip\" id=\"clipff9389y\"><rect x=\"0\" y=\"100\" width=\"1150\" height=\"420\"/></clipPath><clipPath class=\"axesclip\" id=\"clipff9389xy\"><rect x=\"80\" y=\"100\" width=\"892\" height=\"420\"/></clipPath></g><g class=\"gradients\"/><g class=\"patterns\"/></defs><g class=\"bglayer\"><rect class=\"bg\" x=\"80\" y=\"100\" width=\"892\" height=\"420\" style=\"fill: rgb(229, 236, 246); fill-opacity: 1; stroke-width: 0;\"/></g><g class=\"layer-below\"><g class=\"imagelayer\"/><g class=\"shapelayer\"/></g><g class=\"cartesianlayer\"><g class=\"subplot xy\"><g class=\"layer-subplot\"><g class=\"shapelayer\"/><g class=\"imagelayer\"/></g><g class=\"minor-gridlayer\"><g class=\"x\"/><g class=\"y\"/></g><g class=\"gridlayer\"><g class=\"x\"><path class=\"xgrid crisp\" transform=\"translate(129.04,0)\" d=\"M0,100v420\" style=\"stroke: rgb(255, 255, 255); stroke-opacity: 1; stroke-width: 1px;\"/><path class=\"xgrid crisp\" transform=\"translate(271.40999999999997,0)\" d=\"M0,100v420\" style=\"stroke: rgb(255, 255, 255); stroke-opacity: 1; stroke-width: 1px;\"/><path class=\"xgrid crisp\" transform=\"translate(394.74,0)\" d=\"M0,100v420\" style=\"stroke: rgb(255, 255, 255); stroke-opacity: 1; stroke-width: 1px;\"/><path class=\"xgrid crisp\" transform=\"translate(503.52,0)\" d=\"M0,100v420\" style=\"stroke: rgb(255, 255, 255); stroke-opacity: 1; stroke-width: 1px;\"/><path class=\"xgrid crisp\" transform=\"translate(600.83,0)\" d=\"M0,100v420\" style=\"stroke: rgb(255, 255, 255); stroke-opacity: 1; stroke-width: 1px;\"/><path class=\"xgrid crisp\" transform=\"translate(688.86,0)\" d=\"M0,100v420\" style=\"stroke: rgb(255, 255, 255); stroke-opacity: 1; stroke-width: 1px;\"/><path class=\"xgrid crisp\" transform=\"translate(769.22,0)\" d=\"M0,100v420\" style=\"stroke: rgb(255, 255, 255); stroke-opacity: 1; stroke-width: 1px;\"/><path class=\"xgrid crisp\" transform=\"translate(843.14,0)\" d=\"M0,100v420\" style=\"stroke: rgb(255, 255, 255); stroke-opacity: 1; stroke-width: 1px;\"/><path class=\"xgrid crisp\" transform=\"translate(911.59,0)\" d=\"M0,100v420\" style=\"stroke: rgb(255, 255, 255); stroke-opacity: 1; stroke-width: 1px;\"/></g><g class=\"y\"><path class=\"ygrid crisp\" transform=\"translate(0,462.03)\" d=\"M80,0h892\" style=\"stroke: rgb(255, 255, 255); stroke-opacity: 1; stroke-width: 1px;\"/><path class=\"ygrid crisp\" transform=\"translate(0,396.99)\" d=\"M80,0h892\" style=\"stroke: rgb(255, 255, 255); stroke-opacity: 1; stroke-width: 1px;\"/><path class=\"ygrid crisp\" transform=\"translate(0,331.94)\" d=\"M80,0h892\" style=\"stroke: rgb(255, 255, 255); stroke-opacity: 1; stroke-width: 1px;\"/><path class=\"ygrid crisp\" transform=\"translate(0,266.9)\" d=\"M80,0h892\" style=\"stroke: rgb(255, 255, 255); stroke-opacity: 1; stroke-width: 1px;\"/><path class=\"ygrid crisp\" transform=\"translate(0,201.86)\" d=\"M80,0h892\" style=\"stroke: rgb(255, 255, 255); stroke-opacity: 1; stroke-width: 1px;\"/><path class=\"ygrid crisp\" transform=\"translate(0,136.81)\" d=\"M80,0h892\" style=\"stroke: rgb(255, 255, 255); stroke-opacity: 1; stroke-width: 1px;\"/></g></g><g class=\"zerolinelayer\"/><path class=\"xlines-below\"/><path class=\"ylines-below\"/><g class=\"overlines-below\"/><g class=\"xaxislayer-below\"/><g class=\"yaxislayer-below\"/><g class=\"overaxes-below\"/><g class=\"plot\" transform=\"translate(80,100)\" clip-path=\"url(#clipff9389xyplot)\"><g class=\"scatterlayer mlayer\"><g class=\"trace scatter trace2af407\" style=\"stroke-miterlimit: 2; opacity: 1;\"><g class=\"fills\"/><g class=\"errorbars\"/><g class=\"lines\"/><g class=\"points\"><path class=\"point\" transform=\"translate(314.74,296.99)\" d=\"M4.28,0A4.28,4.28 0 1,1 0,-4.28A4.28,4.28 0 0,1 4.28,0Z\" style=\"opacity: 0.7; stroke-width: 1px; fill: rgb(99, 110, 250); fill-opacity: 1; stroke: rgb(255, 255, 255); stroke-opacity: 1;\"/></g><g class=\"text\"/></g><g class=\"trace scatter trace21079b\" style=\"stroke-miterlimit: 2; opacity: 1;\"><g class=\"fills\"/><g class=\"errorbars\"/><g class=\"lines\"/><g class=\"points\"><path class=\"point\" transform=\"translate(314.74,329.51)\" d=\"M4.49,0A4.49,4.49 0 1,1 0,-4.49A4.49,4.49 0 0,1 4.49,0Z\" style=\"opacity: 0.7; stroke-width: 1px; fill: rgb(239, 85, 59); fill-opacity: 1; stroke: rgb(255, 255, 255); stroke-opacity: 1;\"/></g><g class=\"text\"/></g><g class=\"trace scatter tracec10f18\" style=\"stroke-miterlimit: 2; opacity: 1;\"><g class=\"fills\"/><g class=\"errorbars\"/><g class=\"lines\"/><g class=\"points\"><path class=\"point\" transform=\"translate(423.52,296.99)\" d=\"M4.11,0A4.11,4.11 0 1,1 0,-4.11A4.11,4.11 0 0,1 4.11,0Z\" style=\"opacity: 0.7; stroke-width: 1px; fill: rgb(0, 204, 150); fill-opacity: 1; stroke: rgb(255, 255, 255); stroke-opacity: 1;\"/></g><g class=\"text\"/></g><g class=\"trace scatter tracec68a45\" style=\"stroke-miterlimit: 2; opacity: 1;\"><g class=\"fills\"/><g class=\"errorbars\"/><g class=\"lines\"/><g class=\"points\"><path class=\"point\" transform=\"translate(191.41,362.03)\" d=\"M4.27,0A4.27,4.27 0 1,1 0,-4.27A4.27,4.27 0 0,1 4.27,0Z\" style=\"opacity: 0.7; stroke-width: 1px; fill: rgb(171, 99, 250); fill-opacity: 1; stroke: rgb(255, 255, 255); stroke-opacity: 1;\"/></g><g class=\"text\"/></g><g class=\"trace scatter trace235790\" style=\"stroke-miterlimit: 2; opacity: 1;\"><g class=\"fills\"/><g class=\"errorbars\"/><g class=\"lines\"/><g class=\"points\"><path class=\"point\" transform=\"translate(831.59,36.81)\" d=\"M14.14,0A14.14,14.14 0 1,1 0,-14.14A14.14,14.14 0 0,1 14.14,0Z\" style=\"opacity: 0.7; stroke-width: 1px; fill: rgb(255, 161, 90); fill-opacity: 1; stroke: rgb(255, 255, 255); stroke-opacity: 1;\"/></g><g class=\"text\"/></g><g class=\"trace scatter tracefc3e86\" style=\"stroke-miterlimit: 2; opacity: 1;\"><g class=\"fills\"/><g class=\"errorbars\"/><g class=\"lines\"/><g class=\"points\"><path class=\"point\" transform=\"translate(423.52,296.99)\" d=\"M4.34,0A4.34,4.34 0 1,1 0,-4.34A4.34,4.34 0 0,1 4.34,0Z\" style=\"opacity: 0.7; stroke-width: 1px; fill: rgb(25, 211, 243); fill-opacity: 1; stroke: rgb(255, 255, 255); stroke-opacity: 1;\"/></g><g class=\"text\"/></g><g class=\"trace scatter traceac22d0\" style=\"stroke-miterlimit: 2; opacity: 1;\"><g class=\"fills\"/><g class=\"errorbars\"/><g class=\"lines\"/><g class=\"points\"><path class=\"point\" transform=\"translate(565.89,231.94)\" d=\"M5.01,0A5.01,5.01 0 1,1 0,-5.01A5.01,5.01 0 0,1 5.01,0Z\" style=\"opacity: 0.7; stroke-width: 1px; fill: rgb(255, 102, 146); fill-opacity: 1; stroke: rgb(255, 255, 255); stroke-opacity: 1;\"/></g><g class=\"text\"/></g><g class=\"trace scatter trace25699b\" style=\"stroke-miterlimit: 2; opacity: 1;\"><g class=\"fills\"/><g class=\"errorbars\"/><g class=\"lines\"/><g class=\"points\"><path class=\"point\" transform=\"translate(314.74,353.27)\" d=\"M4.16,0A4.16,4.16 0 1,1 0,-4.16A4.16,4.16 0 0,1 4.16,0Z\" style=\"opacity: 0.7; stroke-width: 1px; fill: rgb(182, 232, 128); fill-opacity: 1; stroke: rgb(255, 255, 255); stroke-opacity: 1;\"/></g><g class=\"text\"/></g><g class=\"trace scatter trace81ac46\" style=\"stroke-miterlimit: 2; opacity: 1;\"><g class=\"fills\"/><g class=\"errorbars\"/><g class=\"lines\"/><g class=\"points\"><path class=\"point\" transform=\"translate(520.83,267.72)\" d=\"M3.99,0A3.99,3.99 0 1,1 0,-3.99A3.99,3.99 0 0,1 3.99,0Z\" style=\"opacity: 0.7; stroke-width: 1px; fill: rgb(255, 151, 255); fill-opacity: 1; stroke: rgb(255, 255, 255); stroke-opacity: 1;\"/></g><g class=\"text\"/></g><g class=\"trace scatter trace108bd0\" style=\"stroke-miterlimit: 2; opacity: 1;\"><g class=\"fills\"/><g class=\"errorbars\"/><g class=\"lines\"/><g class=\"points\"><path class=\"point\" transform=\"translate(423.52,296.99)\" d=\"M4.19,0A4.19,4.19 0 1,1 0,-4.19A4.19,4.19 0 0,1 4.19,0Z\" style=\"opacity: 0.7; stroke-width: 1px; fill: rgb(254, 203, 82); fill-opacity: 1; stroke: rgb(255, 255, 255); stroke-opacity: 1;\"/></g><g class=\"text\"/></g><g class=\"trace scatter trace72591c\" style=\"stroke-miterlimit: 2; opacity: 1;\"><g class=\"fills\"/><g class=\"errorbars\"/><g class=\"lines\"/><g class=\"points\"><path class=\"point\" transform=\"translate(520.83,231.94)\" d=\"M9.28,0A9.28,9.28 0 1,1 0,-9.28A9.28,9.28 0 0,1 9.28,0Z\" style=\"opacity: 0.7; stroke-width: 1px; fill: rgb(99, 110, 250); fill-opacity: 1; stroke: rgb(255, 255, 255); stroke-opacity: 1;\"/></g><g class=\"text\"/></g><g class=\"trace scatter trace80a518\" style=\"stroke-miterlimit: 2; opacity: 1;\"><g class=\"fills\"/><g class=\"errorbars\"/><g class=\"lines\"/><g class=\"points\"><path class=\"point\" transform=\"translate(191.41,362.03)\" d=\"M4.25,0A4.25,4.25 0 1,1 0,-4.25A4.25,4.25 0 0,1 4.25,0Z\" style=\"opacity: 0.7; stroke-width: 1px; fill: rgb(239, 85, 59); fill-opacity: 1; stroke: rgb(255, 255, 255); stroke-opacity: 1;\"/></g><g class=\"text\"/></g><g class=\"trace scatter trace99e18c\" style=\"stroke-miterlimit: 2; opacity: 1;\"><g class=\"fills\"/><g class=\"errorbars\"/><g class=\"lines\"/><g class=\"points\"><path class=\"point\" transform=\"translate(314.74,362.03)\" d=\"M4.2,0A4.2,4.2 0 1,1 0,-4.2A4.2,4.2 0 0,1 4.2,0Z\" style=\"opacity: 0.7; stroke-width: 1px; fill: rgb(0, 204, 150); fill-opacity: 1; stroke: rgb(255, 255, 255); stroke-opacity: 1;\"/></g><g class=\"text\"/></g><g class=\"trace scatter trace8e1f03\" style=\"stroke-miterlimit: 2; opacity: 1;\"><g class=\"fills\"/><g class=\"errorbars\"/><g class=\"lines\"/><g class=\"points\"><path class=\"point\" transform=\"translate(49.04,394.56)\" d=\"M3.98,0A3.98,3.98 0 1,1 0,-3.98A3.98,3.98 0 0,1 3.98,0Z\" style=\"opacity: 0.7; stroke-width: 1px; fill: rgb(171, 99, 250); fill-opacity: 1; stroke: rgb(255, 255, 255); stroke-opacity: 1;\"/></g><g class=\"text\"/></g><g class=\"trace scatter trace252742\" style=\"stroke-miterlimit: 2; opacity: 1;\"><g class=\"fills\"/><g class=\"errorbars\"/><g class=\"lines\"/><g class=\"points\"><path class=\"point\" transform=\"translate(314.74,362.03)\" d=\"M4.03,0A4.03,4.03 0 1,1 0,-4.03A4.03,4.03 0 0,1 4.03,0Z\" style=\"opacity: 0.7; stroke-width: 1px; fill: rgb(255, 161, 90); fill-opacity: 1; stroke: rgb(255, 255, 255); stroke-opacity: 1;\"/></g><g class=\"text\"/></g><g class=\"trace scatter tracec19679\" style=\"stroke-miterlimit: 2; opacity: 1;\"><g class=\"fills\"/><g class=\"errorbars\"/><g class=\"lines\"/><g class=\"points\"><path class=\"point\" transform=\"translate(497.45,296.99)\" d=\"M4.87,0A4.87,4.87 0 1,1 0,-4.87A4.87,4.87 0 0,1 4.87,0Z\" style=\"opacity: 0.7; stroke-width: 1px; fill: rgb(25, 211, 243); fill-opacity: 1; stroke: rgb(255, 255, 255); stroke-opacity: 1;\"/></g><g class=\"text\"/></g></g></g><g class=\"overplot\"/><path class=\"xlines-above crisp\" d=\"M0,0\" style=\"fill: none;\"/><path class=\"ylines-above crisp\" d=\"M0,0\" style=\"fill: none;\"/><g class=\"overlines-above\"/><g class=\"xaxislayer-above\"><g class=\"xtick\"><text text-anchor=\"middle\" x=\"0\" y=\"533\" transform=\"translate(129.04,0)\" style=\"font-family: Verdana; font-size: 12px; fill: rgb(42, 63, 95); fill-opacity: 1; white-space: pre; opacity: 1;\">60k</text></g><g class=\"xtick\"><text text-anchor=\"middle\" x=\"0\" y=\"533\" style=\"font-family: Verdana; font-size: 12px; fill: rgb(42, 63, 95); fill-opacity: 1; white-space: pre; opacity: 1;\" transform=\"translate(271.40999999999997,0)\">70k</text></g><g class=\"xtick\"><text text-anchor=\"middle\" x=\"0\" y=\"533\" style=\"font-family: Verdana; font-size: 12px; fill: rgb(42, 63, 95); fill-opacity: 1; white-space: pre; opacity: 1;\" transform=\"translate(394.74,0)\">80k</text></g><g class=\"xtick\"><text text-anchor=\"middle\" x=\"0\" y=\"533\" style=\"font-family: Verdana; font-size: 12px; fill: rgb(42, 63, 95); fill-opacity: 1; white-space: pre; opacity: 1;\" transform=\"translate(503.52,0)\">90k</text></g><g class=\"xtick\"><text text-anchor=\"middle\" x=\"0\" y=\"533\" style=\"font-family: Verdana; font-size: 12px; fill: rgb(42, 63, 95); fill-opacity: 1; white-space: pre; opacity: 1;\" transform=\"translate(600.83,0)\">100k</text></g><g class=\"xtick\"><text text-anchor=\"middle\" x=\"0\" y=\"533\" style=\"font-family: Verdana; font-size: 12px; fill: rgb(42, 63, 95); fill-opacity: 1; white-space: pre; opacity: 1;\" transform=\"translate(688.86,0)\">110k</text></g><g class=\"xtick\"><text text-anchor=\"middle\" x=\"0\" y=\"533\" style=\"font-family: Verdana; font-size: 12px; fill: rgb(42, 63, 95); fill-opacity: 1; white-space: pre; opacity: 1;\" transform=\"translate(769.22,0)\">120k</text></g><g class=\"xtick\"><text text-anchor=\"middle\" x=\"0\" y=\"533\" style=\"font-family: Verdana; font-size: 12px; fill: rgb(42, 63, 95); fill-opacity: 1; white-space: pre; opacity: 1;\" transform=\"translate(843.14,0)\">130k</text></g><g class=\"xtick\"><text text-anchor=\"middle\" x=\"0\" y=\"533\" style=\"font-family: Verdana; font-size: 12px; fill: rgb(42, 63, 95); fill-opacity: 1; white-space: pre; opacity: 1;\" transform=\"translate(911.59,0)\">140k</text></g></g><g class=\"yaxislayer-above\"><g class=\"ytick\"><text text-anchor=\"end\" x=\"79\" y=\"4.199999999999999\" transform=\"translate(0,462.03)\" style=\"font-family: Verdana; font-size: 12px; fill: rgb(42, 63, 95); fill-opacity: 1; white-space: pre; opacity: 1;\">50k</text></g><g class=\"ytick\"><text text-anchor=\"end\" x=\"79\" y=\"4.199999999999999\" style=\"font-family: Verdana; font-size: 12px; fill: rgb(42, 63, 95); fill-opacity: 1; white-space: pre; opacity: 1;\" transform=\"translate(0,396.99)\">60k</text></g><g class=\"ytick\"><text text-anchor=\"end\" x=\"79\" y=\"4.199999999999999\" style=\"font-family: Verdana; font-size: 12px; fill: rgb(42, 63, 95); fill-opacity: 1; white-space: pre; opacity: 1;\" transform=\"translate(0,331.94)\">70k</text></g><g class=\"ytick\"><text text-anchor=\"end\" x=\"79\" y=\"4.199999999999999\" style=\"font-family: Verdana; font-size: 12px; fill: rgb(42, 63, 95); fill-opacity: 1; white-space: pre; opacity: 1;\" transform=\"translate(0,266.9)\">80k</text></g><g class=\"ytick\"><text text-anchor=\"end\" x=\"79\" y=\"4.199999999999999\" style=\"font-family: Verdana; font-size: 12px; fill: rgb(42, 63, 95); fill-opacity: 1; white-space: pre; opacity: 1;\" transform=\"translate(0,201.86)\">90k</text></g><g class=\"ytick\"><text text-anchor=\"end\" x=\"79\" y=\"4.199999999999999\" style=\"font-family: Verdana; font-size: 12px; fill: rgb(42, 63, 95); fill-opacity: 1; white-space: pre; opacity: 1;\" transform=\"translate(0,136.81)\">100k</text></g></g><g class=\"overaxes-above\"/></g></g><g class=\"polarlayer\"/><g class=\"smithlayer\"/><g class=\"ternarylayer\"/><g class=\"geolayer\"/><g class=\"funnelarealayer\"/><g class=\"pielayer\"/><g class=\"iciclelayer\"/><g class=\"treemaplayer\"/><g class=\"sunburstlayer\"/><g class=\"glimages\"/><defs id=\"topdefs-ff9389\"><g class=\"clips\"/><clipPath id=\"legendff9389\"><rect width=\"148\" height=\"333\" x=\"0\" y=\"0\"/></clipPath></defs><g class=\"layer-above\"><g class=\"imagelayer\"/><g class=\"shapelayer\"/></g><g class=\"infolayer\"><g class=\"legend\" pointer-events=\"all\" transform=\"translate(989.84,100)\"><rect class=\"bg\" shape-rendering=\"crispEdges\" style=\"stroke: rgb(68, 68, 68); stroke-opacity: 1; fill: rgb(255, 255, 255); fill-opacity: 1; stroke-width: 0px;\" width=\"148\" height=\"333\" x=\"0\" y=\"0\"/><g class=\"scrollbox\" transform=\"\" clip-path=\"url(#legendff9389)\"><text class=\"legendtitletext\" text-anchor=\"start\" x=\"2\" y=\"18.2\" style=\"font-family: Verdana; font-size: 14px; fill: rgb(42, 63, 95); fill-opacity: 1; white-space: pre;\">area_id</text><g class=\"groups\" transform=\"\"><g class=\"traces\" transform=\"translate(0,32.7)\" style=\"opacity: 1;\"><text class=\"legendtext\" text-anchor=\"start\" x=\"40\" y=\"4.680000000000001\" style=\"font-family: Verdana; font-size: 12px; fill: rgb(42, 63, 95); fill-opacity: 1; white-space: pre;\">Chelyabinsk</text><g class=\"layers\" style=\"opacity: 1;\"><g class=\"legendfill\"/><g class=\"legendlines\"/><g class=\"legendsymbols\"><g class=\"legendpoints\"><path class=\"scatterpts\" transform=\"translate(20,0)\" d=\"M6,0A6,6 0 1,1 0,-6A6,6 0 0,1 6,0Z\" style=\"opacity: 0.7; stroke-width: 2px; fill: rgb(99, 110, 250); fill-opacity: 1; stroke: rgb(255, 255, 255); stroke-opacity: 1;\"/></g></g></g><rect class=\"legendtoggle\" x=\"0\" y=\"-9.5\" width=\"142.890625\" height=\"19\" style=\"fill: rgb(0, 0, 0); fill-opacity: 0;\"/></g></g><g class=\"groups\" transform=\"\"><g class=\"traces\" transform=\"translate(0,51.7)\" style=\"opacity: 1;\"><text class=\"legendtext\" text-anchor=\"start\" x=\"40\" y=\"4.680000000000001\" style=\"font-family: Verdana; font-size: 12px; fill: rgb(42, 63, 95); fill-opacity: 1; white-space: pre;\">Kazan</text><g class=\"layers\" style=\"opacity: 1;\"><g class=\"legendfill\"/><g class=\"legendlines\"/><g class=\"legendsymbols\"><g class=\"legendpoints\"><path class=\"scatterpts\" transform=\"translate(20,0)\" d=\"M6,0A6,6 0 1,1 0,-6A6,6 0 0,1 6,0Z\" style=\"opacity: 0.7; stroke-width: 2px; fill: rgb(239, 85, 59); fill-opacity: 1; stroke: rgb(255, 255, 255); stroke-opacity: 1;\"/></g></g></g><rect class=\"legendtoggle\" x=\"0\" y=\"-9.5\" width=\"142.890625\" height=\"19\" style=\"fill: rgb(0, 0, 0); fill-opacity: 0;\"/></g></g><g class=\"groups\" transform=\"\"><g class=\"traces\" transform=\"translate(0,70.7)\" style=\"opacity: 1;\"><text class=\"legendtext\" text-anchor=\"start\" x=\"40\" y=\"4.680000000000001\" style=\"font-family: Verdana; font-size: 12px; fill: rgb(42, 63, 95); fill-opacity: 1; white-space: pre;\">Krasnodar</text><g class=\"layers\" style=\"opacity: 1;\"><g class=\"legendfill\"/><g class=\"legendlines\"/><g class=\"legendsymbols\"><g class=\"legendpoints\"><path class=\"scatterpts\" transform=\"translate(20,0)\" d=\"M6,0A6,6 0 1,1 0,-6A6,6 0 0,1 6,0Z\" style=\"opacity: 0.7; stroke-width: 2px; fill: rgb(0, 204, 150); fill-opacity: 1; stroke: rgb(255, 255, 255); stroke-opacity: 1;\"/></g></g></g><rect class=\"legendtoggle\" x=\"0\" y=\"-9.5\" width=\"142.890625\" height=\"19\" style=\"fill: rgb(0, 0, 0); fill-opacity: 0;\"/></g></g><g class=\"groups\" transform=\"\"><g class=\"traces\" transform=\"translate(0,89.7)\" style=\"opacity: 1;\"><text class=\"legendtext\" text-anchor=\"start\" x=\"40\" y=\"4.680000000000001\" style=\"font-family: Verdana; font-size: 12px; fill: rgb(42, 63, 95); fill-opacity: 1; white-space: pre;\">Krasnoyarsk</text><g class=\"layers\" style=\"opacity: 1;\"><g class=\"legendfill\"/><g class=\"legendlines\"/><g class=\"legendsymbols\"><g class=\"legendpoints\"><path class=\"scatterpts\" transform=\"translate(20,0)\" d=\"M6,0A6,6 0 1,1 0,-6A6,6 0 0,1 6,0Z\" style=\"opacity: 0.7; stroke-width: 2px; fill: rgb(171, 99, 250); fill-opacity: 1; stroke: rgb(255, 255, 255); stroke-opacity: 1;\"/></g></g></g><rect class=\"legendtoggle\" x=\"0\" y=\"-9.5\" width=\"142.890625\" height=\"19\" style=\"fill: rgb(0, 0, 0); fill-opacity: 0;\"/></g></g><g class=\"groups\" transform=\"\"><g class=\"traces\" transform=\"translate(0,108.7)\" style=\"opacity: 1;\"><text class=\"legendtext\" text-anchor=\"start\" x=\"40\" y=\"4.680000000000001\" style=\"font-family: Verdana; font-size: 12px; fill: rgb(42, 63, 95); fill-opacity: 1; white-space: pre;\">Moscow</text><g class=\"layers\" style=\"opacity: 1;\"><g class=\"legendfill\"/><g class=\"legendlines\"/><g class=\"legendsymbols\"><g class=\"legendpoints\"><path class=\"scatterpts\" transform=\"translate(20,0)\" d=\"M6,0A6,6 0 1,1 0,-6A6,6 0 0,1 6,0Z\" style=\"opacity: 0.7; stroke-width: 2px; fill: rgb(255, 161, 90); fill-opacity: 1; stroke: rgb(255, 255, 255); stroke-opacity: 1;\"/></g></g></g><rect class=\"legendtoggle\" x=\"0\" y=\"-9.5\" width=\"142.890625\" height=\"19\" style=\"fill: rgb(0, 0, 0); fill-opacity: 0;\"/></g></g><g class=\"groups\" transform=\"\"><g class=\"traces\" transform=\"translate(0,127.7)\" style=\"opacity: 1;\"><text class=\"legendtext\" text-anchor=\"start\" x=\"40\" y=\"4.680000000000001\" style=\"font-family: Verdana; font-size: 12px; fill: rgb(42, 63, 95); fill-opacity: 1; white-space: pre;\">Nizhny Novgorod</text><g class=\"layers\" style=\"opacity: 1;\"><g class=\"legendfill\"/><g class=\"legendlines\"/><g class=\"legendsymbols\"><g class=\"legendpoints\"><path class=\"scatterpts\" transform=\"translate(20,0)\" d=\"M6,0A6,6 0 1,1 0,-6A6,6 0 0,1 6,0Z\" style=\"opacity: 0.7; stroke-width: 2px; fill: rgb(25, 211, 243); fill-opacity: 1; stroke: rgb(255, 255, 255); stroke-opacity: 1;\"/></g></g></g><rect class=\"legendtoggle\" x=\"0\" y=\"-9.5\" width=\"142.890625\" height=\"19\" style=\"fill: rgb(0, 0, 0); fill-opacity: 0;\"/></g></g><g class=\"groups\" transform=\"\"><g class=\"traces\" transform=\"translate(0,146.7)\" style=\"opacity: 1;\"><text class=\"legendtext\" text-anchor=\"start\" x=\"40\" y=\"4.680000000000001\" style=\"font-family: Verdana; font-size: 12px; fill: rgb(42, 63, 95); fill-opacity: 1; white-space: pre;\">Novosibirsk</text><g class=\"layers\" style=\"opacity: 1;\"><g class=\"legendfill\"/><g class=\"legendlines\"/><g class=\"legendsymbols\"><g class=\"legendpoints\"><path class=\"scatterpts\" transform=\"translate(20,0)\" d=\"M6,0A6,6 0 1,1 0,-6A6,6 0 0,1 6,0Z\" style=\"opacity: 0.7; stroke-width: 2px; fill: rgb(255, 102, 146); fill-opacity: 1; stroke: rgb(255, 255, 255); stroke-opacity: 1;\"/></g></g></g><rect class=\"legendtoggle\" x=\"0\" y=\"-9.5\" width=\"142.890625\" height=\"19\" style=\"fill: rgb(0, 0, 0); fill-opacity: 0;\"/></g></g><g class=\"groups\" transform=\"\"><g class=\"traces\" transform=\"translate(0,165.7)\" style=\"opacity: 1;\"><text class=\"legendtext\" text-anchor=\"start\" x=\"40\" y=\"4.680000000000001\" style=\"font-family: Verdana; font-size: 12px; fill: rgb(42, 63, 95); fill-opacity: 1; white-space: pre;\">Omsk</text><g class=\"layers\" style=\"opacity: 1;\"><g class=\"legendfill\"/><g class=\"legendlines\"/><g class=\"legendsymbols\"><g class=\"legendpoints\"><path class=\"scatterpts\" transform=\"translate(20,0)\" d=\"M6,0A6,6 0 1,1 0,-6A6,6 0 0,1 6,0Z\" style=\"opacity: 0.7; stroke-width: 2px; fill: rgb(182, 232, 128); fill-opacity: 1; stroke: rgb(255, 255, 255); stroke-opacity: 1;\"/></g></g></g><rect class=\"legendtoggle\" x=\"0\" y=\"-9.5\" width=\"142.890625\" height=\"19\" style=\"fill: rgb(0, 0, 0); fill-opacity: 0;\"/></g></g><g class=\"groups\" transform=\"\"><g class=\"traces\" transform=\"translate(0,184.7)\" style=\"opacity: 1;\"><text class=\"legendtext\" text-anchor=\"start\" x=\"40\" y=\"4.680000000000001\" style=\"font-family: Verdana; font-size: 12px; fill: rgb(42, 63, 95); fill-opacity: 1; white-space: pre;\">Perm</text><g class=\"layers\" style=\"opacity: 1;\"><g class=\"legendfill\"/><g class=\"legendlines\"/><g class=\"legendsymbols\"><g class=\"legendpoints\"><path class=\"scatterpts\" transform=\"translate(20,0)\" d=\"M6,0A6,6 0 1,1 0,-6A6,6 0 0,1 6,0Z\" style=\"opacity: 0.7; stroke-width: 2px; fill: rgb(255, 151, 255); fill-opacity: 1; stroke: rgb(255, 255, 255); stroke-opacity: 1;\"/></g></g></g><rect class=\"legendtoggle\" x=\"0\" y=\"-9.5\" width=\"142.890625\" height=\"19\" style=\"fill: rgb(0, 0, 0); fill-opacity: 0;\"/></g></g><g class=\"groups\" transform=\"\"><g class=\"traces\" transform=\"translate(0,203.7)\" style=\"opacity: 1;\"><text class=\"legendtext\" text-anchor=\"start\" x=\"40\" y=\"4.680000000000001\" style=\"font-family: Verdana; font-size: 12px; fill: rgb(42, 63, 95); fill-opacity: 1; white-space: pre;\">Rostov-on-Don</text><g class=\"layers\" style=\"opacity: 1;\"><g class=\"legendfill\"/><g class=\"legendlines\"/><g class=\"legendsymbols\"><g class=\"legendpoints\"><path class=\"scatterpts\" transform=\"translate(20,0)\" d=\"M6,0A6,6 0 1,1 0,-6A6,6 0 0,1 6,0Z\" style=\"opacity: 0.7; stroke-width: 2px; fill: rgb(254, 203, 82); fill-opacity: 1; stroke: rgb(255, 255, 255); stroke-opacity: 1;\"/></g></g></g><rect class=\"legendtoggle\" x=\"0\" y=\"-9.5\" width=\"142.890625\" height=\"19\" style=\"fill: rgb(0, 0, 0); fill-opacity: 0;\"/></g></g><g class=\"groups\" transform=\"\"><g class=\"traces\" transform=\"translate(0,222.7)\" style=\"opacity: 1;\"><text class=\"legendtext\" text-anchor=\"start\" x=\"40\" y=\"4.680000000000001\" style=\"font-family: Verdana; font-size: 12px; fill: rgb(42, 63, 95); fill-opacity: 1; white-space: pre;\">Saint Petersburg</text><g class=\"layers\" style=\"opacity: 1;\"><g class=\"legendfill\"/><g class=\"legendlines\"/><g class=\"legendsymbols\"><g class=\"legendpoints\"><path class=\"scatterpts\" transform=\"translate(20,0)\" d=\"M6,0A6,6 0 1,1 0,-6A6,6 0 0,1 6,0Z\" style=\"opacity: 0.7; stroke-width: 2px; fill: rgb(99, 110, 250); fill-opacity: 1; stroke: rgb(255, 255, 255); stroke-opacity: 1;\"/></g></g></g><rect class=\"legendtoggle\" x=\"0\" y=\"-9.5\" width=\"142.890625\" height=\"19\" style=\"fill: rgb(0, 0, 0); fill-opacity: 0;\"/></g></g><g class=\"groups\" transform=\"\"><g class=\"traces\" transform=\"translate(0,241.7)\" style=\"opacity: 1;\"><text class=\"legendtext\" text-anchor=\"start\" x=\"40\" y=\"4.680000000000001\" style=\"font-family: Verdana; font-size: 12px; fill: rgb(42, 63, 95); fill-opacity: 1; white-space: pre;\">Samara</text><g class=\"layers\" style=\"opacity: 1;\"><g class=\"legendfill\"/><g class=\"legendlines\"/><g class=\"legendsymbols\"><g class=\"legendpoints\"><path class=\"scatterpts\" transform=\"translate(20,0)\" d=\"M6,0A6,6 0 1,1 0,-6A6,6 0 0,1 6,0Z\" style=\"opacity: 0.7; stroke-width: 2px; fill: rgb(239, 85, 59); fill-opacity: 1; stroke: rgb(255, 255, 255); stroke-opacity: 1;\"/></g></g></g><rect class=\"legendtoggle\" x=\"0\" y=\"-9.5\" width=\"142.890625\" height=\"19\" style=\"fill: rgb(0, 0, 0); fill-opacity: 0;\"/></g></g><g class=\"groups\" transform=\"\"><g class=\"traces\" transform=\"translate(0,260.7)\" style=\"opacity: 1;\"><text class=\"legendtext\" text-anchor=\"start\" x=\"40\" y=\"4.680000000000001\" style=\"font-family: Verdana; font-size: 12px; fill: rgb(42, 63, 95); fill-opacity: 1; white-space: pre;\">Ufa</text><g class=\"layers\" style=\"opacity: 1;\"><g class=\"legendfill\"/><g class=\"legendlines\"/><g class=\"legendsymbols\"><g class=\"legendpoints\"><path class=\"scatterpts\" transform=\"translate(20,0)\" d=\"M6,0A6,6 0 1,1 0,-6A6,6 0 0,1 6,0Z\" style=\"opacity: 0.7; stroke-width: 2px; fill: rgb(0, 204, 150); fill-opacity: 1; stroke: rgb(255, 255, 255); stroke-opacity: 1;\"/></g></g></g><rect class=\"legendtoggle\" x=\"0\" y=\"-9.5\" width=\"142.890625\" height=\"19\" style=\"fill: rgb(0, 0, 0); fill-opacity: 0;\"/></g></g><g class=\"groups\" transform=\"\"><g class=\"traces\" transform=\"translate(0,279.7)\" style=\"opacity: 1;\"><text class=\"legendtext\" text-anchor=\"start\" x=\"40\" y=\"4.680000000000001\" style=\"font-family: Verdana; font-size: 12px; fill: rgb(42, 63, 95); fill-opacity: 1; white-space: pre;\">Volgograd</text><g class=\"layers\" style=\"opacity: 1;\"><g class=\"legendfill\"/><g class=\"legendlines\"/><g class=\"legendsymbols\"><g class=\"legendpoints\"><path class=\"scatterpts\" transform=\"translate(20,0)\" d=\"M6,0A6,6 0 1,1 0,-6A6,6 0 0,1 6,0Z\" style=\"opacity: 0.7; stroke-width: 2px; fill: rgb(171, 99, 250); fill-opacity: 1; stroke: rgb(255, 255, 255); stroke-opacity: 1;\"/></g></g></g><rect class=\"legendtoggle\" x=\"0\" y=\"-9.5\" width=\"142.890625\" height=\"19\" style=\"fill: rgb(0, 0, 0); fill-opacity: 0;\"/></g></g><g class=\"groups\" transform=\"\"><g class=\"traces\" transform=\"translate(0,298.7)\" style=\"opacity: 1;\"><text class=\"legendtext\" text-anchor=\"start\" x=\"40\" y=\"4.680000000000001\" style=\"font-family: Verdana; font-size: 12px; fill: rgb(42, 63, 95); fill-opacity: 1; white-space: pre;\">Voronezh</text><g class=\"layers\" style=\"opacity: 1;\"><g class=\"legendfill\"/><g class=\"legendlines\"/><g class=\"legendsymbols\"><g class=\"legendpoints\"><path class=\"scatterpts\" transform=\"translate(20,0)\" d=\"M6,0A6,6 0 1,1 0,-6A6,6 0 0,1 6,0Z\" style=\"opacity: 0.7; stroke-width: 2px; fill: rgb(255, 161, 90); fill-opacity: 1; stroke: rgb(255, 255, 255); stroke-opacity: 1;\"/></g></g></g><rect class=\"legendtoggle\" x=\"0\" y=\"-9.5\" width=\"142.890625\" height=\"19\" style=\"fill: rgb(0, 0, 0); fill-opacity: 0;\"/></g></g><g class=\"groups\" transform=\"\"><g class=\"traces\" transform=\"translate(0,317.7)\" style=\"opacity: 1;\"><text class=\"legendtext\" text-anchor=\"start\" x=\"40\" y=\"4.680000000000001\" style=\"font-family: Verdana; font-size: 12px; fill: rgb(42, 63, 95); fill-opacity: 1; white-space: pre;\">Yekaterinburg</text><g class=\"layers\" style=\"opacity: 1;\"><g class=\"legendfill\"/><g class=\"legendlines\"/><g class=\"legendsymbols\"><g class=\"legendpoints\"><path class=\"scatterpts\" transform=\"translate(20,0)\" d=\"M6,0A6,6 0 1,1 0,-6A6,6 0 0,1 6,0Z\" style=\"opacity: 0.7; stroke-width: 2px; fill: rgb(25, 211, 243); fill-opacity: 1; stroke: rgb(255, 255, 255); stroke-opacity: 1;\"/></g></g></g><rect class=\"legendtoggle\" x=\"0\" y=\"-9.5\" width=\"142.890625\" height=\"19\" style=\"fill: rgb(0, 0, 0); fill-opacity: 0;\"/></g></g></g><rect class=\"scrollbar\" rx=\"20\" ry=\"3\" width=\"0\" height=\"0\" style=\"fill: rgb(128, 139, 164); fill-opacity: 1;\" x=\"0\" y=\"0\"/></g><g class=\"g-gtitle\"><text class=\"gtitle\" x=\"57.5\" y=\"50\" text-anchor=\"start\" dy=\"0em\" style=\"font-family: Verdana; font-size: 17px; fill: rgb(42, 63, 95); opacity: 1; font-weight: normal; white-space: pre;\">Correlation between Median level of salary and Population in million-plus cities</text></g><g class=\"g-xtitle\"><text class=\"xtitle\" x=\"526\" y=\"560.8\" text-anchor=\"middle\" style=\"font-family: Verdana; font-size: 14px; fill: rgb(42, 63, 95); opacity: 1; font-weight: normal; white-space: pre;\">salary_to</text></g><g class=\"g-ytitle\"><text class=\"ytitle\" transform=\"rotate(-90,24.200000000000003,310)\" x=\"24.200000000000003\" y=\"310\" text-anchor=\"middle\" style=\"font-family: Verdana; font-size: 14px; fill: rgb(42, 63, 95); opacity: 1; font-weight: normal; white-space: pre;\">salary_from</text></g></g></svg>"
          },
          "metadata": {},
          "output_type": "display_data"
        }
      ],
      "source": [
        "\"\"\"Исследование Взаимосвязи медианного уровня ЗП от численности населения в городах-миллионниках.\n",
        "Способ визуализации данных - Диаграмма рассеяния. Библиотека Plotly.\n",
        "\"\"\"\n",
        "pd.options.mode.chained_assignment = None # убираем вывод предупреждения SettingWithCopyWarning\n",
        "\n",
        "# Получение df с наименованием города-миллионника и соответствующим ему кодом (при наличии информации о вакансии)\n",
        "query_5_7_1 = f'''select distinct areas.name area_name, areas.id area_id\n",
        "           from public.vacancies vac\n",
        "           left join public.areas on areas.id = vac.area_id\n",
        "           where vac.id is not null\n",
        "           and areas.name in ('Москва', 'Санкт-Петербург', 'Новосибирск', 'Екатеринбург',\n",
        "           'Казань', 'Нижний Новгород', 'Челябинск', 'Красноярск', 'Самара', 'Уфа',\n",
        "           'Ростов-на-Дону', 'Омск', 'Краснодар', 'Воронеж', 'Пермь', 'Волгоград')\n",
        "           order by area_id\n",
        "        '''\n",
        "        \n",
        "df_5_7_1 = pd.read_sql_query(query_5_7_1, connection)\n",
        "\n",
        "# Создание словаря: ключ - id, значение - название города-миллионника\n",
        "mil_city = dict(zip(df_5_7_1.area_id, df_5_7_1.area_name))\n",
        "\n",
        "# Создание временного списка с численностью (перевод object -> int; замена пропусков)\n",
        "temp_data = []\n",
        "\n",
        "for i in tables_of_big_city['Население, тыс. чел. (итоги переписи 2021 года)[5]']:\n",
        "        i = i.replace(' ', '')\n",
        "        temp_data.append(int(i)*1000)\n",
        "\n",
        "# Создание словаря: ключ - город, значение - численность\n",
        "city_population = dict(zip(tables_of_big_city['Город'], temp_data))\n",
        "\n",
        "# Создание временного дата-фрейма с записями соответствующими условию (код города = код из словаря mil_city)\n",
        "# Обращение к дата-фрейму через лямбда-функцию (по конкретному столбцу).\n",
        "# Изначально планировала построить график по данным компании \"Яндекс\".\n",
        "# Однако у \"Яндекс\" много пропущенных значений по вилке ЗП -> нерепрезентативная выборка\n",
        "# код для \"Яндекс\": temp_df = vacancies_df[lambda x: (x['area_id'].isin(list(mil_city.keys()))) & (x['employer_id'] == 1740)]\n",
        "temp_df = vacancies_df[lambda x: x['area_id'].isin(list(mil_city.keys()))]\n",
        "\n",
        "# Создание и добавление столбцов в соответствии со значениями столбца area_id:\n",
        "# 1) замена кода города на название в соответствии с ключом из словаря mil_city,\n",
        "# 2) добавление столбца с Численностью населения\n",
        "# 3) замена названия городов (кириллица -> латиница)\n",
        "temp_df.loc[:, ['area_id']] = temp_df.area_id.map(mil_city)\n",
        "temp_df.loc[:, ['population']] = temp_df.area_id.map(city_population)\n",
        "\n",
        "city_name_eng = {'Москва': 'Moscow', 'Санкт-Петербург': 'Saint Petersburg',\n",
        "                 'Новосибирск': 'Novosibirsk', 'Екатеринбург': 'Yekaterinburg',\n",
        "                 'Казань': 'Kazan', 'Нижний Новгород':'Nizhny Novgorod',\n",
        "                 'Челябинск': 'Chelyabinsk', 'Красноярск': 'Krasnoyarsk',\n",
        "                 'Самара': 'Samara', 'Уфа': 'Ufa','Ростов-на-Дону':'Rostov-on-Don', \n",
        "                 'Омск':'Omsk', 'Краснодар':'Krasnodar', 'Воронеж':'Voronezh',\n",
        "                 'Пермь':'Perm', 'Волгоград':'Volgograd'\n",
        "}\n",
        "temp_df.loc[:, ['area_id']] = temp_df.area_id.map(city_name_eng)\n",
        "\n",
        "# Группируем по столбцу area_id (index), аггрегируем по 3-м параметрам, используя функцию расчета медианного значения.\n",
        "# Добавляем столбец с численностью населения\n",
        "plot_data = temp_df.groupby(['area_id']).agg({'salary_from':'median', 'salary_to':'median', 'population': lambda x: x.values[0]})\n",
        "\n",
        "# визуализация систем координат\n",
        "fig = px.scatter(\n",
        "        plot_data.reset_index(), # сброс текущего индекса (название города) и создание индекса по умолчанию\n",
        "        x='salary_to',\n",
        "        y='salary_from',\n",
        "        color='area_id',\n",
        "        size='population',\n",
        "        title='Correlation between Median level of salary and Population in million-plus cities',\n",
        "        log_x=True\n",
        ")\n",
        "\n",
        "fig.update_layout(font_family='Verdana', width=1150, height=600)\n",
        "\n",
        "fig.show('svg');\n",
        "# fig.show();"
      ]
    },
    {
      "cell_type": "markdown",
      "id": "a06fafc1",
      "metadata": {},
      "source": [
        "## Комментарии\n",
        "По графику можно проследить тенденцию: чем больше нижняя граница уровня ЗП, тем выше значение верхней границы. При этом разница медианных значений двух границ варьируется от 15 до 40 тыс.руб.\n",
        "\n",
        "*Важно принять во внимание отсутствие данных по ЗП для кандидатов с различным опытом работы (более 3х лет)*\n",
        "\n",
        "По мере увеличения численности населения растет и уровень ЗП. Это можно объяснить фактором конкуренции между компаниями за лучших специалистов. Важный момент: экономическая ситуация в области, ключевые виды деятельности и пр."
      ]
    },
    {
      "cell_type": "markdown",
      "id": "04966e40-3bc3-4dc8-9ba2-e80580ce3abc",
      "metadata": {
        "id": "04966e40-3bc3-4dc8-9ba2-e80580ce3abc"
      },
      "source": [
        "***"
      ]
    },
    {
      "cell_type": "markdown",
      "id": "0dcf9e98",
      "metadata": {},
      "source": [
        "### Выводы по Анализу работодателей\n",
        "1) ТОП-5 компаний по количеству вакансий для IT-специалистов:\n",
        "\n",
        "* Яндекс (информационные технологии)\n",
        "* Ростелеком (провайдер цифровых услуг и сервисов)\n",
        "* Тинькофф (коммерческий онлайн-банк)\n",
        "* СБЕР (банк)\n",
        "* Газпром нефть (нефтяная компания)\n",
        "\n",
        "Все компании являются российскими, точнее соответствуют тому региону, где представлены вакансии [нет Google, к примеру] (следует уточнить, период выгрузки вакансий*). Первое место занимает \"Яндекс\", что соответствует и отрасли компании.\n",
        "\n",
        "2) В \"России\" наибольшее количество работодателей, у которых НЕ отмечены вакансии. Хотя корректнее сказать, что работодателей, которые отметили в качестве зоны поиска кандидатов \"Россию\", больше, чем остальных. Здесь следует предложить работодателям указывать конкретную область / населенный пункт. Так как соискатели часто отмечают географию поиска конкретно, а не по странам.\n",
        "\n",
        "3) Рассмотрим географию поиска кандидатов компаниями ТОП-5 из п.1.\n",
        "- \"Яндекс\" ищет сотрудников в 181 населенном пункте;\n",
        "- \"Ростелеком\" - в 152;\n",
        "- \"Тинькофф\" - в 43;\n",
        "- \"СБЕР\" - в 24;\n",
        "- \"Газпром нефть\" - в 24.\n",
        "\n",
        "Широта географии поиска объясняется тем, что данные компании предлагают соискателям удаленный формат работы при условии полной занятости (пример компании \"Яндекс\" в п.5_3_1). Чем более гибка политика компании по переходу к удаленному формату, тем шире возможности работодателя по поиску талантливых кандидатов. Однако подобный формат может быть приемлем для компаний, развивающихся в области IT-технологий, где они являются ключевыми.\n",
        "\n",
        "4) Около 36% работодателей НЕ указывают сферу деятельности. Для определения причины можно провести дополнительный анализ. Но лучше оставить в качестве рекомендации для работодателей: \"Указывайте сферу деятельности компании для упрощения поиска потенциального кандидата\".\n",
        "\n",
        "5) Есть компании, которые указывают несколько сфер деятельности. Максимальное количество указанных - 16, минимально - 1. Для работодателя действует правило \"чем больше указано сфер деятельности, тем большему числу кандидатов будет показана вакансия (при соответствии сферы деятельности)\". Если указана 1 сфера, то зона поиска сужается.\n",
        "\n",
        "6) Около 15% работодателей занимаются разработкой ПО (ключевой бизнес или вспомогательный).\n",
        "\n",
        "7) Большинство вакансий компании \"Яндекс\" приходится на 3 города-миллионера: Москва, Санкт-Петербург и Екатеринбург (28% всех вакансий). Всего в городах-миллионерах представлено 485 вакансий от \"Яндекс\"."
      ]
    },
    {
      "cell_type": "markdown",
      "id": "b1ef156a-efcb-49ce-bb23-90763e7f35b2",
      "metadata": {
        "id": "b1ef156a-efcb-49ce-bb23-90763e7f35b2",
        "tags": []
      },
      "source": [
        "# Юнит 6. Предметный анализ"
      ]
    },
    {
      "cell_type": "markdown",
      "id": "b9cd50a0-992d-4988-8463-2b2b1c4629b4",
      "metadata": {
        "id": "b9cd50a0-992d-4988-8463-2b2b1c4629b4"
      },
      "source": [
        "1. Сколько вакансий имеет отношение к данным?\n",
        "\n",
        "Считаем, что вакансия имеет отношение к данным, если в её названии содержатся слова 'data' или 'данн'.\n",
        "\n",
        "*Подсказка: Обратите внимание, что названия вакансий могут быть написаны в любом регистре.* "
      ]
    },
    {
      "cell_type": "code",
      "execution_count": 55,
      "id": "54ab0e50-c0f1-47cc-a54b-bc5c8bc363f9",
      "metadata": {
        "id": "54ab0e50-c0f1-47cc-a54b-bc5c8bc363f9"
      },
      "outputs": [],
      "source": [
        "query_6_1 = f'''select count(*) cnt\n",
        "           from public.vacancies\n",
        "           where lower(name) like '%data%'\n",
        "           or lower(name) like '%данн%'\n",
        "        '''"
      ]
    },
    {
      "cell_type": "code",
      "execution_count": 56,
      "id": "9F1meAqsuUjd",
      "metadata": {
        "id": "9F1meAqsuUjd"
      },
      "outputs": [
        {
          "data": {
            "text/html": [
              "<div>\n",
              "<style scoped>\n",
              "    .dataframe tbody tr th:only-of-type {\n",
              "        vertical-align: middle;\n",
              "    }\n",
              "\n",
              "    .dataframe tbody tr th {\n",
              "        vertical-align: top;\n",
              "    }\n",
              "\n",
              "    .dataframe thead th {\n",
              "        text-align: right;\n",
              "    }\n",
              "</style>\n",
              "<table border=\"1\" class=\"dataframe\">\n",
              "  <thead>\n",
              "    <tr style=\"text-align: right;\">\n",
              "      <th></th>\n",
              "      <th>cnt</th>\n",
              "    </tr>\n",
              "  </thead>\n",
              "  <tbody>\n",
              "    <tr>\n",
              "      <th>0</th>\n",
              "      <td>1771</td>\n",
              "    </tr>\n",
              "  </tbody>\n",
              "</table>\n",
              "</div>"
            ],
            "text/plain": [
              "    cnt\n",
              "0  1771"
            ]
          },
          "execution_count": 56,
          "metadata": {},
          "output_type": "execute_result"
        }
      ],
      "source": [
        "df = pd.read_sql_query(query_6_1, connection)\n",
        "df"
      ]
    },
    {
      "cell_type": "markdown",
      "id": "4dea20cb-a36b-474a-a0b9-e08e8e3857a5",
      "metadata": {
        "id": "4dea20cb-a36b-474a-a0b9-e08e8e3857a5"
      },
      "source": [
        "2. Сколько есть подходящих вакансий для начинающего дата-сайентиста? \n",
        "Будем считать вакансиями для дата-сайентистов такие, в названии которых есть хотя бы одно из следующих сочетаний:\n",
        "* 'data scientist'\n",
        "* 'data science'\n",
        "* 'исследователь данных'\n",
        "* 'ML' (здесь не нужно брать вакансии по HTML)\n",
        "* 'machine learning'\n",
        "* 'машинн%обучен%'\n",
        "\n",
        "** В следующих заданиях мы продолжим работать с вакансиями по этому условию.*\n",
        "\n",
        "Считаем вакансиями для специалистов уровня Junior следующие:\n",
        "* в названии есть слово 'junior' *или*\n",
        "* требуемый опыт — Нет опыта *или*\n",
        "* тип трудоустройства — Стажировка."
      ]
    },
    {
      "cell_type": "code",
      "execution_count": 57,
      "id": "9c61b3c0-bb66-46c9-ae1e-81d3f5752b4a",
      "metadata": {
        "id": "9c61b3c0-bb66-46c9-ae1e-81d3f5752b4a"
      },
      "outputs": [],
      "source": [
        "query_6_2 = f'''select count(id) cnt\n",
        "           from public.vacancies\n",
        "           where (lower(name) like '%data scientist%'\n",
        "           or lower(name) like '%data science%'\n",
        "           or lower(name) like '%исследователь данных%'\n",
        "           or (name like '%ML%' and lower(name) not like '%html%')\n",
        "           or lower(name) like '%machine learning%'\n",
        "           or lower(name) like '%машинн%обучен%')\n",
        "           and (lower(name) like '%junior%'\n",
        "           or experience = 'Нет опыта'\n",
        "           or employment = 'Стажировка')\n",
        "           '''\n",
        "# ВАЖНА строка с условием \" name like '%ML%' and lower(name) not like '%html%' \" - сохраняем верхний регистр в ML!"
      ]
    },
    {
      "cell_type": "code",
      "execution_count": 58,
      "id": "ZNM-LLYuu1dj",
      "metadata": {
        "id": "ZNM-LLYuu1dj"
      },
      "outputs": [
        {
          "data": {
            "text/html": [
              "<div>\n",
              "<style scoped>\n",
              "    .dataframe tbody tr th:only-of-type {\n",
              "        vertical-align: middle;\n",
              "    }\n",
              "\n",
              "    .dataframe tbody tr th {\n",
              "        vertical-align: top;\n",
              "    }\n",
              "\n",
              "    .dataframe thead th {\n",
              "        text-align: right;\n",
              "    }\n",
              "</style>\n",
              "<table border=\"1\" class=\"dataframe\">\n",
              "  <thead>\n",
              "    <tr style=\"text-align: right;\">\n",
              "      <th></th>\n",
              "      <th>cnt</th>\n",
              "    </tr>\n",
              "  </thead>\n",
              "  <tbody>\n",
              "    <tr>\n",
              "      <th>0</th>\n",
              "      <td>51</td>\n",
              "    </tr>\n",
              "  </tbody>\n",
              "</table>\n",
              "</div>"
            ],
            "text/plain": [
              "   cnt\n",
              "0   51"
            ]
          },
          "execution_count": 58,
          "metadata": {},
          "output_type": "execute_result"
        }
      ],
      "source": [
        "df = pd.read_sql_query(query_6_2, connection)\n",
        "df"
      ]
    },
    {
      "cell_type": "markdown",
      "id": "eedceb80-c5ca-480e-b27a-278dfb8b4438",
      "metadata": {
        "id": "eedceb80-c5ca-480e-b27a-278dfb8b4438"
      },
      "source": [
        "3. Сколько есть вакансий для DS, в которых в качестве ключевого навыка указан SQL или postgres?\n",
        "\n",
        "*Критерии для отнесения вакансии к DS указаны в предыдущем задании.*"
      ]
    },
    {
      "cell_type": "code",
      "execution_count": 59,
      "id": "69621713-0cc5-4f1b-a1d7-bb144fa6148c",
      "metadata": {
        "id": "69621713-0cc5-4f1b-a1d7-bb144fa6148c"
      },
      "outputs": [],
      "source": [
        "query_6_3 = f'''select count(id) cnt\n",
        "           from public.vacancies\n",
        "           where (lower(key_skills) like '%sql%'\n",
        "           or lower(key_skills) like '%postgres%')\n",
        "           and (lower(name) like '%data scientist%'\n",
        "           or lower(name) like '%data science%'\n",
        "           or lower(name) like '%исследователь данных%'\n",
        "           or (name like '%ML%' and lower(name) not like '%html%')\n",
        "           or lower(name) like '%machine learning%'\n",
        "           or lower(name) like '%машинн%обучен%')\n",
        "           '''"
      ]
    },
    {
      "cell_type": "code",
      "execution_count": 60,
      "id": "alA8WEAAvGdf",
      "metadata": {
        "id": "alA8WEAAvGdf"
      },
      "outputs": [
        {
          "data": {
            "text/html": [
              "<div>\n",
              "<style scoped>\n",
              "    .dataframe tbody tr th:only-of-type {\n",
              "        vertical-align: middle;\n",
              "    }\n",
              "\n",
              "    .dataframe tbody tr th {\n",
              "        vertical-align: top;\n",
              "    }\n",
              "\n",
              "    .dataframe thead th {\n",
              "        text-align: right;\n",
              "    }\n",
              "</style>\n",
              "<table border=\"1\" class=\"dataframe\">\n",
              "  <thead>\n",
              "    <tr style=\"text-align: right;\">\n",
              "      <th></th>\n",
              "      <th>cnt</th>\n",
              "    </tr>\n",
              "  </thead>\n",
              "  <tbody>\n",
              "    <tr>\n",
              "      <th>0</th>\n",
              "      <td>201</td>\n",
              "    </tr>\n",
              "  </tbody>\n",
              "</table>\n",
              "</div>"
            ],
            "text/plain": [
              "   cnt\n",
              "0  201"
            ]
          },
          "execution_count": 60,
          "metadata": {},
          "output_type": "execute_result"
        }
      ],
      "source": [
        "df = pd.read_sql_query(query_6_3, connection)\n",
        "df"
      ]
    },
    {
      "cell_type": "markdown",
      "id": "1be1e9c6-37cf-4a5f-bfeb-04cab799dc80",
      "metadata": {
        "id": "1be1e9c6-37cf-4a5f-bfeb-04cab799dc80"
      },
      "source": [
        "4. Проверьте, насколько популярен Python в требованиях работодателей к DS.Для этого вычислите количество вакансий, в которых в качестве ключевого навыка указан Python.\n",
        "\n",
        "** Это можно сделать помощью запроса, аналогичного предыдущему.*"
      ]
    },
    {
      "cell_type": "code",
      "execution_count": 61,
      "id": "0036a355-9ccf-4564-8b01-73d8194297e7",
      "metadata": {
        "id": "0036a355-9ccf-4564-8b01-73d8194297e7"
      },
      "outputs": [],
      "source": [
        "query_6_4 = f'''select count(id) cnt\n",
        "           from public.vacancies\n",
        "           where (lower(name) like '%data scientist%'\n",
        "           or lower(name) like '%data science%'\n",
        "           or lower(name) like '%исследователь данных%'\n",
        "           or (name like '%ML%' and lower(name) not like '%html%')\n",
        "           or lower(name) like '%machine learning%'\n",
        "           or lower(name) like '%машинн%обучен%')\n",
        "           and lower(key_skills) like '%python%'\n",
        "           '''"
      ]
    },
    {
      "cell_type": "code",
      "execution_count": 62,
      "id": "1i-5WyucvQ6v",
      "metadata": {
        "id": "1i-5WyucvQ6v"
      },
      "outputs": [
        {
          "data": {
            "text/html": [
              "<div>\n",
              "<style scoped>\n",
              "    .dataframe tbody tr th:only-of-type {\n",
              "        vertical-align: middle;\n",
              "    }\n",
              "\n",
              "    .dataframe tbody tr th {\n",
              "        vertical-align: top;\n",
              "    }\n",
              "\n",
              "    .dataframe thead th {\n",
              "        text-align: right;\n",
              "    }\n",
              "</style>\n",
              "<table border=\"1\" class=\"dataframe\">\n",
              "  <thead>\n",
              "    <tr style=\"text-align: right;\">\n",
              "      <th></th>\n",
              "      <th>cnt</th>\n",
              "    </tr>\n",
              "  </thead>\n",
              "  <tbody>\n",
              "    <tr>\n",
              "      <th>0</th>\n",
              "      <td>351</td>\n",
              "    </tr>\n",
              "  </tbody>\n",
              "</table>\n",
              "</div>"
            ],
            "text/plain": [
              "   cnt\n",
              "0  351"
            ]
          },
          "execution_count": 62,
          "metadata": {},
          "output_type": "execute_result"
        }
      ],
      "source": [
        "df = pd.read_sql_query(query_6_4, connection)\n",
        "df"
      ]
    },
    {
      "cell_type": "markdown",
      "id": "ec3c8db7-fa21-4a41-a994-1af63742a642",
      "metadata": {
        "id": "ec3c8db7-fa21-4a41-a994-1af63742a642"
      },
      "source": [
        "5. Сколько ключевых навыков в среднем указывают в вакансиях для DS?\n",
        "Ответ округлите до двух знаков после точки-разделителя."
      ]
    },
    {
      "cell_type": "code",
      "execution_count": 63,
      "id": "949132bc-d5b6-4611-8218-0b9a504d74f4",
      "metadata": {
        "id": "949132bc-d5b6-4611-8218-0b9a504d74f4"
      },
      "outputs": [],
      "source": [
        "\"\"\"В SELECT для расчета количества ключевых навыков делаем следующее:\n",
        "- получаем длину строки,\n",
        "- вычитаем длину строки с удаленными пробелами,\n",
        "- добавляем +1 для получения количества слов в строке.\n",
        "\"\"\"\n",
        "\n",
        "query_6_5 = f'''select\n",
        "           avg((length(key_skills) - length(replace(key_skills, CHR(9), '')) + 1)) avg_number_of_skills\n",
        "           from public.vacancies\n",
        "           where (lower(name) like '%data scientist%'\n",
        "           or lower(name) like '%data science%'\n",
        "           or lower(name) like '%исследователь данных%'\n",
        "           or (name like '%ML%' and lower(name) not like '%html%')\n",
        "           or lower(name) like '%machine learning%'\n",
        "           or lower(name) like '%машинн%обучен%')\n",
        "           and length(key_skills) != 0\n",
        "           '''"
      ]
    },
    {
      "cell_type": "code",
      "execution_count": 64,
      "id": "a3V24Tvmviqk",
      "metadata": {
        "id": "a3V24Tvmviqk"
      },
      "outputs": [
        {
          "data": {
            "text/html": [
              "<div>\n",
              "<style scoped>\n",
              "    .dataframe tbody tr th:only-of-type {\n",
              "        vertical-align: middle;\n",
              "    }\n",
              "\n",
              "    .dataframe tbody tr th {\n",
              "        vertical-align: top;\n",
              "    }\n",
              "\n",
              "    .dataframe thead th {\n",
              "        text-align: right;\n",
              "    }\n",
              "</style>\n",
              "<table border=\"1\" class=\"dataframe\">\n",
              "  <thead>\n",
              "    <tr style=\"text-align: right;\">\n",
              "      <th></th>\n",
              "      <th>avg_number_of_skills</th>\n",
              "    </tr>\n",
              "  </thead>\n",
              "  <tbody>\n",
              "    <tr>\n",
              "      <th>0</th>\n",
              "      <td>6.41</td>\n",
              "    </tr>\n",
              "  </tbody>\n",
              "</table>\n",
              "</div>"
            ],
            "text/plain": [
              "   avg_number_of_skills\n",
              "0                  6.41"
            ]
          },
          "execution_count": 64,
          "metadata": {},
          "output_type": "execute_result"
        }
      ],
      "source": [
        "df = pd.read_sql_query(query_6_5, connection)\n",
        "round(df, 2)"
      ]
    },
    {
      "cell_type": "markdown",
      "id": "1041c17a-ca8f-4543-a0ca-32778914fb00",
      "metadata": {
        "id": "1041c17a-ca8f-4543-a0ca-32778914fb00"
      },
      "source": [
        "6. Напишите запрос, позволяющий вычислить, какую зарплату для DS в **среднем** указывают для каждого типа требуемого опыта (уникальное значение из поля *experience*). \n",
        "\n",
        "При решении задачи примите во внимание следующее:\n",
        "1. Рассматриваем только вакансии, у которых заполнено хотя бы одно из двух полей с зарплатой.\n",
        "2. Если заполнены оба поля с зарплатой, то считаем зарплату по каждой вакансии как сумму двух полей, делённую на 2. Если заполнено только одно из полей, то его и считаем зарплатой по вакансии.\n",
        "3. Если в расчётах участвует null, в результате он тоже даст null (посмотрите, что возвращает запрос select 1 + null). Чтобы избежать этой ситуацию, мы воспользуемся функцией [coalesce](https://postgrespro.ru/docs/postgresql/9.5/functions-conditional#functions-coalesce-nvl-ifnull), которая заменит null на значение, которое мы передадим. Например, посмотрите, что возвращает запрос `select 1 + coalesce(null, 0)`\n",
        "\n",
        "Выясните, на какую зарплату в среднем может рассчитывать дата-сайентист с опытом работы от 3 до 6 лет. Результат округлите до целого числа. "
      ]
    },
    {
      "cell_type": "code",
      "execution_count": 65,
      "id": "6a743d39-5204-48d3-8271-b9f88e68d40e",
      "metadata": {
        "id": "6a743d39-5204-48d3-8271-b9f88e68d40e"
      },
      "outputs": [],
      "source": [
        "\"\"\"Для расчета СРЕДНЕГО значения по строке (пара salary_from & salary_to)\n",
        "сумму пары делим на количество записей с ненулевым значением\n",
        "(итог: 1 или 2; 0 исключаем в условии WHERE).\n",
        "Чтобы избежать ситуацию возврата значения null используем функцию coalesce.\n",
        "Напишем вложенный подзапрос для расчета СРЕДНЕГО значения в разбивке по ОПЫТУ (3 категории из 4х возможных).\n",
        "*Здесь важно также дать алиас для вложенного подзапроса\n",
        "\"\"\"\n",
        "\n",
        "query_6_6 = f'''select distinct experience, avg(average) avg_salary from\n",
        "           (select experience,\n",
        "           (coalesce(salary_from, 0) + coalesce(salary_to, 0)) /\n",
        "           (coalesce(salary_from/salary_from, 0) +\n",
        "           coalesce(salary_to/salary_to, 0)) average\n",
        "           from public.vacancies\n",
        "           where (lower(name) like '%data scientist%'\n",
        "           or lower(name) like '%data science%'\n",
        "           or lower(name) like '%исследователь данных%'\n",
        "           or (name like '%ML%' and lower(name) not like '%html%')\n",
        "           or lower(name) like '%machine learning%'\n",
        "           or lower(name) like '%машинн%обучен%')\n",
        "           and (salary_from is not null or salary_to is not null)) as x\n",
        "           group by experience\n",
        "           '''"
      ]
    },
    {
      "cell_type": "code",
      "execution_count": 66,
      "id": "aRIJ0mZEwU1_",
      "metadata": {
        "id": "aRIJ0mZEwU1_"
      },
      "outputs": [
        {
          "data": {
            "text/html": [
              "<div>\n",
              "<style scoped>\n",
              "    .dataframe tbody tr th:only-of-type {\n",
              "        vertical-align: middle;\n",
              "    }\n",
              "\n",
              "    .dataframe tbody tr th {\n",
              "        vertical-align: top;\n",
              "    }\n",
              "\n",
              "    .dataframe thead th {\n",
              "        text-align: right;\n",
              "    }\n",
              "</style>\n",
              "<table border=\"1\" class=\"dataframe\">\n",
              "  <thead>\n",
              "    <tr style=\"text-align: right;\">\n",
              "      <th></th>\n",
              "      <th>experience</th>\n",
              "      <th>avg_salary</th>\n",
              "    </tr>\n",
              "  </thead>\n",
              "  <tbody>\n",
              "    <tr>\n",
              "      <th>0</th>\n",
              "      <td>Нет опыта</td>\n",
              "      <td>74643.0</td>\n",
              "    </tr>\n",
              "    <tr>\n",
              "      <th>1</th>\n",
              "      <td>От 1 года до 3 лет</td>\n",
              "      <td>139675.0</td>\n",
              "    </tr>\n",
              "    <tr>\n",
              "      <th>2</th>\n",
              "      <td>От 3 до 6 лет</td>\n",
              "      <td>243115.0</td>\n",
              "    </tr>\n",
              "  </tbody>\n",
              "</table>\n",
              "</div>"
            ],
            "text/plain": [
              "           experience  avg_salary\n",
              "0           Нет опыта     74643.0\n",
              "1  От 1 года до 3 лет    139675.0\n",
              "2       От 3 до 6 лет    243115.0"
            ]
          },
          "execution_count": 66,
          "metadata": {},
          "output_type": "execute_result"
        }
      ],
      "source": [
        "df = pd.read_sql_query(query_6_6, connection)\n",
        "round(df)"
      ]
    },
    {
      "cell_type": "markdown",
      "id": "6a7892b4-4113-4746-adce-18aa2844f18e",
      "metadata": {
        "id": "6a7892b4-4113-4746-adce-18aa2844f18e"
      },
      "source": [
        "***"
      ]
    },
    {
      "cell_type": "markdown",
      "id": "2a1477e7",
      "metadata": {},
      "source": [
        "### Выводы по Предметному анализу\n",
        "1) Около 4% вакансий связаны с работой с данными (1771). Что указывает на то, что для большинства компаний-работодателей IT не является ключевой сферой деятельности, а скорее вспомогательной.\n",
        "\n",
        "2) Для начинающих дата-сайентистов указано менее 3% вакансий из числа вакансий, связанных с работой с данными (из 1771) (\"Нет опыта\"/ \"Стажировка\" / \"Junior\").\n",
        "* Во-первых, меньший спрос может возникнуть вследствие того, что компания не заинтересована во взращивании IT-специалиста. Это связано с затратами как времени, так и фин.ресурсов, а IT-специалист не является ключевой фигурой в данной сфере деятельности.\n",
        "* Во-вторых, у джунов часто нет конкретной специализации. И отсутствие релевантного опыта не дает компании возможности быстро оценить соответствие кандидата (навыков, знаний и пр.) целям компании. А возможные потери в случае ошибочного выбора сотрудника могут стоить компании больших средств. Поэтому выгоднее нанимать сотрудников с опытом работы (от 1 года).\n",
        "\n",
        "3) Для DS указывают около 6-7 требований по ключевым навыкам, чаще Python и SQL (~20% и ~11% соответственно).\n",
        "\n",
        "4) Средний уровень ЗП по опыту работы следующий:\n",
        "    * \"Нет опыта\" - ~75 тыс.руб.\n",
        "    * \"От 1 года до 3 лет\" - ~140 тыс.руб.\n",
        "    * \"От 3 до 6 лет\" - ~240 тыс.руб.\n",
        "\n",
        "Отсутствие данных по уровню ЗП для позиций Senior можно объяснить тем, что зарплатная вилка здесь может варьироваться, как от опыта соискателя, так и сферы деятельности компании."
      ]
    },
    {
      "cell_type": "markdown",
      "id": "c8bc9d56",
      "metadata": {},
      "source": [
        "# Вакансии от \"Яндекс\""
      ]
    },
    {
      "cell_type": "code",
      "execution_count": 67,
      "id": "c47b6475",
      "metadata": {},
      "outputs": [
        {
          "data": {
            "text/html": [
              "<div>\n",
              "<style scoped>\n",
              "    .dataframe tbody tr th:only-of-type {\n",
              "        vertical-align: middle;\n",
              "    }\n",
              "\n",
              "    .dataframe tbody tr th {\n",
              "        vertical-align: top;\n",
              "    }\n",
              "\n",
              "    .dataframe thead th {\n",
              "        text-align: right;\n",
              "    }\n",
              "</style>\n",
              "<table border=\"1\" class=\"dataframe\">\n",
              "  <thead>\n",
              "    <tr style=\"text-align: right;\">\n",
              "      <th></th>\n",
              "      <th>area_name</th>\n",
              "      <th>experience</th>\n",
              "      <th>cnt_of_vac</th>\n",
              "      <th>lower_bound</th>\n",
              "      <th>upper_bound</th>\n",
              "    </tr>\n",
              "  </thead>\n",
              "  <tbody>\n",
              "    <tr>\n",
              "      <th>0</th>\n",
              "      <td>Екатеринбург</td>\n",
              "      <td>Нет опыта</td>\n",
              "      <td>13</td>\n",
              "      <td>23083.0</td>\n",
              "      <td>60200.0</td>\n",
              "    </tr>\n",
              "    <tr>\n",
              "      <th>1</th>\n",
              "      <td>Екатеринбург</td>\n",
              "      <td>От 1 года до 3 лет</td>\n",
              "      <td>4</td>\n",
              "      <td>39000.0</td>\n",
              "      <td>50000.0</td>\n",
              "    </tr>\n",
              "    <tr>\n",
              "      <th>2</th>\n",
              "      <td>Москва</td>\n",
              "      <td>Нет опыта</td>\n",
              "      <td>4</td>\n",
              "      <td>17333.0</td>\n",
              "      <td>75000.0</td>\n",
              "    </tr>\n",
              "    <tr>\n",
              "      <th>3</th>\n",
              "      <td>Москва</td>\n",
              "      <td>От 1 года до 3 лет</td>\n",
              "      <td>4</td>\n",
              "      <td>62333.0</td>\n",
              "      <td>120000.0</td>\n",
              "    </tr>\n",
              "    <tr>\n",
              "      <th>4</th>\n",
              "      <td>Санкт-Петербург</td>\n",
              "      <td>Нет опыта</td>\n",
              "      <td>6</td>\n",
              "      <td>21500.0</td>\n",
              "      <td>57500.0</td>\n",
              "    </tr>\n",
              "    <tr>\n",
              "      <th>5</th>\n",
              "      <td>Санкт-Петербург</td>\n",
              "      <td>От 1 года до 3 лет</td>\n",
              "      <td>5</td>\n",
              "      <td>64750.0</td>\n",
              "      <td>65000.0</td>\n",
              "    </tr>\n",
              "  </tbody>\n",
              "</table>\n",
              "</div>"
            ],
            "text/plain": [
              "         area_name          experience  cnt_of_vac  lower_bound  upper_bound\n",
              "0     Екатеринбург           Нет опыта          13      23083.0      60200.0\n",
              "1     Екатеринбург  От 1 года до 3 лет           4      39000.0      50000.0\n",
              "2           Москва           Нет опыта           4      17333.0      75000.0\n",
              "3           Москва  От 1 года до 3 лет           4      62333.0     120000.0\n",
              "4  Санкт-Петербург           Нет опыта           6      21500.0      57500.0\n",
              "5  Санкт-Петербург  От 1 года до 3 лет           5      64750.0      65000.0"
            ]
          },
          "execution_count": 67,
          "metadata": {},
          "output_type": "execute_result"
        }
      ],
      "source": [
        "\"\"\"Рассмотрим распределение зарплаты в 3 городах-миллионерах в соответствии с опытом кандидата\n",
        "Исключим записи, в которых отсутствуют значения ЗП\n",
        "\"\"\"\n",
        "\n",
        "query_7_1 = f'''select areas.name area_name, vac.experience, count(*) cnt_of_vac,\n",
        "           round(avg(vac.salary_from)) lower_bound, avg(vac.salary_to) upper_bound\n",
        "           from public.vacancies vac\n",
        "           left join public.employers emp on emp.id = vac.employer_id\n",
        "           left join public.areas on areas.id = vac.area_id\n",
        "           where emp.name = 'Яндекс'\n",
        "           and vac.id is not null\n",
        "           and areas.name in ('Москва', 'Санкт-Петербург', 'Екатеринбург')\n",
        "           and (vac.salary_from != 0 or vac.salary_to != 0)\n",
        "           group by areas.name, vac.experience\n",
        "        '''\n",
        "\n",
        "df = pd.read_sql_query(query_7_1, connection)\n",
        "df"
      ]
    },
    {
      "cell_type": "code",
      "execution_count": 68,
      "id": "330bd3f5",
      "metadata": {},
      "outputs": [
        {
          "data": {
            "text/html": [
              "<div>\n",
              "<style scoped>\n",
              "    .dataframe tbody tr th:only-of-type {\n",
              "        vertical-align: middle;\n",
              "    }\n",
              "\n",
              "    .dataframe tbody tr th {\n",
              "        vertical-align: top;\n",
              "    }\n",
              "\n",
              "    .dataframe thead th {\n",
              "        text-align: right;\n",
              "    }\n",
              "</style>\n",
              "<table border=\"1\" class=\"dataframe\">\n",
              "  <thead>\n",
              "    <tr style=\"text-align: right;\">\n",
              "      <th></th>\n",
              "      <th>area_name</th>\n",
              "      <th>vac_name</th>\n",
              "      <th>lower_bound</th>\n",
              "      <th>upper_bound</th>\n",
              "    </tr>\n",
              "  </thead>\n",
              "  <tbody>\n",
              "    <tr>\n",
              "      <th>0</th>\n",
              "      <td>Екатеринбург</td>\n",
              "      <td>Консультант онлайн-поддержки с техническими зн...</td>\n",
              "      <td>15000.0</td>\n",
              "      <td>NaN</td>\n",
              "    </tr>\n",
              "    <tr>\n",
              "      <th>1</th>\n",
              "      <td>Екатеринбург</td>\n",
              "      <td>Консультант службы поддержки в Yandex Cloud</td>\n",
              "      <td>27000.0</td>\n",
              "      <td>54000.0</td>\n",
              "    </tr>\n",
              "    <tr>\n",
              "      <th>2</th>\n",
              "      <td>Екатеринбург</td>\n",
              "      <td>Разработчик (поисковая выдача)</td>\n",
              "      <td>NaN</td>\n",
              "      <td>75000.0</td>\n",
              "    </tr>\n",
              "    <tr>\n",
              "      <th>3</th>\n",
              "      <td>Екатеринбург</td>\n",
              "      <td>Сотрудник поддержки поиска Яндекса</td>\n",
              "      <td>13000.0</td>\n",
              "      <td>NaN</td>\n",
              "    </tr>\n",
              "    <tr>\n",
              "      <th>4</th>\n",
              "      <td>Екатеринбург</td>\n",
              "      <td>Сотрудник службы поддержки в Яндекс Бизнес</td>\n",
              "      <td>26000.0</td>\n",
              "      <td>NaN</td>\n",
              "    </tr>\n",
              "    <tr>\n",
              "      <th>5</th>\n",
              "      <td>Екатеринбург</td>\n",
              "      <td>Специалист группы почтовой поддержки Директа</td>\n",
              "      <td>30000.0</td>\n",
              "      <td>62000.0</td>\n",
              "    </tr>\n",
              "    <tr>\n",
              "      <th>6</th>\n",
              "      <td>Екатеринбург</td>\n",
              "      <td>Специалист поддержки в Яндекс Бизнес</td>\n",
              "      <td>26000.0</td>\n",
              "      <td>NaN</td>\n",
              "    </tr>\n",
              "    <tr>\n",
              "      <th>7</th>\n",
              "      <td>Екатеринбург</td>\n",
              "      <td>Специалист по общению с клиентами в Яндекс Бизнес</td>\n",
              "      <td>26000.0</td>\n",
              "      <td>NaN</td>\n",
              "    </tr>\n",
              "    <tr>\n",
              "      <th>8</th>\n",
              "      <td>Екатеринбург</td>\n",
              "      <td>Специалист службы поддержки в Директ</td>\n",
              "      <td>30000.0</td>\n",
              "      <td>60000.0</td>\n",
              "    </tr>\n",
              "    <tr>\n",
              "      <th>9</th>\n",
              "      <td>Екатеринбург</td>\n",
              "      <td>Специалист службы поддержки пользователей</td>\n",
              "      <td>13000.0</td>\n",
              "      <td>NaN</td>\n",
              "    </tr>\n",
              "    <tr>\n",
              "      <th>10</th>\n",
              "      <td>Екатеринбург</td>\n",
              "      <td>Специалист службы поддержки с техническими зна...</td>\n",
              "      <td>15000.0</td>\n",
              "      <td>NaN</td>\n",
              "    </tr>\n",
              "    <tr>\n",
              "      <th>11</th>\n",
              "      <td>Екатеринбург</td>\n",
              "      <td>Специалист технической поддержки в Метрику (по...</td>\n",
              "      <td>30000.0</td>\n",
              "      <td>50000.0</td>\n",
              "    </tr>\n",
              "    <tr>\n",
              "      <th>12</th>\n",
              "      <td>Екатеринбург</td>\n",
              "      <td>Эксперт по ответам на вопросы о Яндекс Бизнесе</td>\n",
              "      <td>26000.0</td>\n",
              "      <td>NaN</td>\n",
              "    </tr>\n",
              "    <tr>\n",
              "      <th>13</th>\n",
              "      <td>Москва</td>\n",
              "      <td>Разработчик (поисковая выдача)</td>\n",
              "      <td>NaN</td>\n",
              "      <td>75000.0</td>\n",
              "    </tr>\n",
              "    <tr>\n",
              "      <th>14</th>\n",
              "      <td>Москва</td>\n",
              "      <td>Сотрудник поддержки поиска Яндекса</td>\n",
              "      <td>13000.0</td>\n",
              "      <td>NaN</td>\n",
              "    </tr>\n",
              "    <tr>\n",
              "      <th>15</th>\n",
              "      <td>Москва</td>\n",
              "      <td>Специалист службы поддержки в Яндекс Бизнес</td>\n",
              "      <td>26000.0</td>\n",
              "      <td>NaN</td>\n",
              "    </tr>\n",
              "    <tr>\n",
              "      <th>16</th>\n",
              "      <td>Москва</td>\n",
              "      <td>Специалист службы поддержки пользователей</td>\n",
              "      <td>13000.0</td>\n",
              "      <td>NaN</td>\n",
              "    </tr>\n",
              "    <tr>\n",
              "      <th>17</th>\n",
              "      <td>Санкт-Петербург</td>\n",
              "      <td>Маркетолог in-app коммуникаций в Яндекс Доставку</td>\n",
              "      <td>NaN</td>\n",
              "      <td>43000.0</td>\n",
              "    </tr>\n",
              "    <tr>\n",
              "      <th>18</th>\n",
              "      <td>Санкт-Петербург</td>\n",
              "      <td>Разработчик (поисковая выдача)</td>\n",
              "      <td>NaN</td>\n",
              "      <td>75000.0</td>\n",
              "    </tr>\n",
              "    <tr>\n",
              "      <th>19</th>\n",
              "      <td>Санкт-Петербург</td>\n",
              "      <td>Сотрудник поддержки поиска Яндекса</td>\n",
              "      <td>13000.0</td>\n",
              "      <td>NaN</td>\n",
              "    </tr>\n",
              "    <tr>\n",
              "      <th>20</th>\n",
              "      <td>Санкт-Петербург</td>\n",
              "      <td>Специалист группы почтовой поддержки Директа</td>\n",
              "      <td>30000.0</td>\n",
              "      <td>62000.0</td>\n",
              "    </tr>\n",
              "    <tr>\n",
              "      <th>21</th>\n",
              "      <td>Санкт-Петербург</td>\n",
              "      <td>Специалист службы поддержки пользователей</td>\n",
              "      <td>13000.0</td>\n",
              "      <td>NaN</td>\n",
              "    </tr>\n",
              "    <tr>\n",
              "      <th>22</th>\n",
              "      <td>Санкт-Петербург</td>\n",
              "      <td>Специалист технической поддержки в Метрику (по...</td>\n",
              "      <td>30000.0</td>\n",
              "      <td>50000.0</td>\n",
              "    </tr>\n",
              "  </tbody>\n",
              "</table>\n",
              "</div>"
            ],
            "text/plain": [
              "          area_name                                           vac_name  \\\n",
              "0      Екатеринбург  Консультант онлайн-поддержки с техническими зн...   \n",
              "1      Екатеринбург        Консультант службы поддержки в Yandex Cloud   \n",
              "2      Екатеринбург                     Разработчик (поисковая выдача)   \n",
              "3      Екатеринбург                 Сотрудник поддержки поиска Яндекса   \n",
              "4      Екатеринбург         Сотрудник службы поддержки в Яндекс Бизнес   \n",
              "5      Екатеринбург       Специалист группы почтовой поддержки Директа   \n",
              "6      Екатеринбург               Специалист поддержки в Яндекс Бизнес   \n",
              "7      Екатеринбург  Специалист по общению с клиентами в Яндекс Бизнес   \n",
              "8      Екатеринбург               Специалист службы поддержки в Директ   \n",
              "9      Екатеринбург          Специалист службы поддержки пользователей   \n",
              "10     Екатеринбург  Специалист службы поддержки с техническими зна...   \n",
              "11     Екатеринбург  Специалист технической поддержки в Метрику (по...   \n",
              "12     Екатеринбург     Эксперт по ответам на вопросы о Яндекс Бизнесе   \n",
              "13           Москва                     Разработчик (поисковая выдача)   \n",
              "14           Москва                 Сотрудник поддержки поиска Яндекса   \n",
              "15           Москва        Специалист службы поддержки в Яндекс Бизнес   \n",
              "16           Москва          Специалист службы поддержки пользователей   \n",
              "17  Санкт-Петербург   Маркетолог in-app коммуникаций в Яндекс Доставку   \n",
              "18  Санкт-Петербург                     Разработчик (поисковая выдача)   \n",
              "19  Санкт-Петербург                 Сотрудник поддержки поиска Яндекса   \n",
              "20  Санкт-Петербург       Специалист группы почтовой поддержки Директа   \n",
              "21  Санкт-Петербург          Специалист службы поддержки пользователей   \n",
              "22  Санкт-Петербург  Специалист технической поддержки в Метрику (по...   \n",
              "\n",
              "    lower_bound  upper_bound  \n",
              "0       15000.0          NaN  \n",
              "1       27000.0      54000.0  \n",
              "2           NaN      75000.0  \n",
              "3       13000.0          NaN  \n",
              "4       26000.0          NaN  \n",
              "5       30000.0      62000.0  \n",
              "6       26000.0          NaN  \n",
              "7       26000.0          NaN  \n",
              "8       30000.0      60000.0  \n",
              "9       13000.0          NaN  \n",
              "10      15000.0          NaN  \n",
              "11      30000.0      50000.0  \n",
              "12      26000.0          NaN  \n",
              "13          NaN      75000.0  \n",
              "14      13000.0          NaN  \n",
              "15      26000.0          NaN  \n",
              "16      13000.0          NaN  \n",
              "17          NaN      43000.0  \n",
              "18          NaN      75000.0  \n",
              "19      13000.0          NaN  \n",
              "20      30000.0      62000.0  \n",
              "21      13000.0          NaN  \n",
              "22      30000.0      50000.0  "
            ]
          },
          "execution_count": 68,
          "metadata": {},
          "output_type": "execute_result"
        }
      ],
      "source": [
        "\"\"\"На какие позиции есть вакансии для кандидатов БЕЗ опыта работы?\n",
        "\"\"\"\n",
        "query_7_2 = f'''select areas.name area_name,\n",
        "           vac.name vac_name,\n",
        "           round(avg(vac.salary_from)) lower_bound,\n",
        "           avg(vac.salary_to) upper_bound\n",
        "           from public.vacancies vac\n",
        "           left join public.employers emp on emp.id = vac.employer_id\n",
        "           left join public.areas on areas.id = vac.area_id\n",
        "           where emp.name = 'Яндекс'\n",
        "           and vac.id is not null\n",
        "           and areas.name in ('Москва', 'Санкт-Петербург', 'Екатеринбург')\n",
        "           and (vac.salary_from != 0 or vac.salary_to != 0)\n",
        "           and vac.experience = 'Нет опыта'\n",
        "           group by areas.name, vac_name\n",
        "        '''\n",
        "        \n",
        "df = pd.read_sql_query(query_7_2, connection)\n",
        "df"
      ]
    },
    {
      "cell_type": "code",
      "execution_count": 69,
      "id": "4c7cdff1",
      "metadata": {},
      "outputs": [
        {
          "data": {
            "text/html": [
              "<div>\n",
              "<style scoped>\n",
              "    .dataframe tbody tr th:only-of-type {\n",
              "        vertical-align: middle;\n",
              "    }\n",
              "\n",
              "    .dataframe tbody tr th {\n",
              "        vertical-align: top;\n",
              "    }\n",
              "\n",
              "    .dataframe thead th {\n",
              "        text-align: right;\n",
              "    }\n",
              "</style>\n",
              "<table border=\"1\" class=\"dataframe\">\n",
              "  <thead>\n",
              "    <tr style=\"text-align: right;\">\n",
              "      <th></th>\n",
              "      <th>area_name</th>\n",
              "      <th>experience</th>\n",
              "      <th>cnt_of_vac</th>\n",
              "      <th>lower_bound</th>\n",
              "      <th>upper_bound</th>\n",
              "    </tr>\n",
              "  </thead>\n",
              "  <tbody>\n",
              "    <tr>\n",
              "      <th>0</th>\n",
              "      <td>Екатеринбург</td>\n",
              "      <td>От 3 до 6 лет</td>\n",
              "      <td>1</td>\n",
              "      <td>None</td>\n",
              "      <td>None</td>\n",
              "    </tr>\n",
              "    <tr>\n",
              "      <th>1</th>\n",
              "      <td>Москва</td>\n",
              "      <td>От 1 года до 3 лет</td>\n",
              "      <td>2</td>\n",
              "      <td>None</td>\n",
              "      <td>None</td>\n",
              "    </tr>\n",
              "    <tr>\n",
              "      <th>2</th>\n",
              "      <td>Москва</td>\n",
              "      <td>От 3 до 6 лет</td>\n",
              "      <td>2</td>\n",
              "      <td>None</td>\n",
              "      <td>None</td>\n",
              "    </tr>\n",
              "    <tr>\n",
              "      <th>3</th>\n",
              "      <td>Санкт-Петербург</td>\n",
              "      <td>От 1 года до 3 лет</td>\n",
              "      <td>1</td>\n",
              "      <td>None</td>\n",
              "      <td>None</td>\n",
              "    </tr>\n",
              "    <tr>\n",
              "      <th>4</th>\n",
              "      <td>Санкт-Петербург</td>\n",
              "      <td>От 3 до 6 лет</td>\n",
              "      <td>1</td>\n",
              "      <td>None</td>\n",
              "      <td>None</td>\n",
              "    </tr>\n",
              "  </tbody>\n",
              "</table>\n",
              "</div>"
            ],
            "text/plain": [
              "         area_name          experience  cnt_of_vac lower_bound upper_bound\n",
              "0     Екатеринбург       От 3 до 6 лет           1        None        None\n",
              "1           Москва  От 1 года до 3 лет           2        None        None\n",
              "2           Москва       От 3 до 6 лет           2        None        None\n",
              "3  Санкт-Петербург  От 1 года до 3 лет           1        None        None\n",
              "4  Санкт-Петербург       От 3 до 6 лет           1        None        None"
            ]
          },
          "execution_count": 69,
          "metadata": {},
          "output_type": "execute_result"
        }
      ],
      "source": [
        "\"\"\"Рассмотрим наличие вакансий для дата-сайентистов в 3 городах-миллионерах\n",
        "\"\"\"\n",
        "\n",
        "query_7_3 = f'''select areas.name area_name,\n",
        "           vac.experience, count(*) cnt_of_vac,\n",
        "           round(avg(vac.salary_from)) lower_bound,\n",
        "           avg(vac.salary_to) upper_bound\n",
        "           from public.vacancies vac\n",
        "           left join public.employers emp on emp.id = vac.employer_id\n",
        "           left join public.areas on areas.id = vac.area_id\n",
        "           where emp.name = 'Яндекс'\n",
        "           and vac.id is not null\n",
        "           and areas.name in ('Москва', 'Санкт-Петербург', 'Екатеринбург')\n",
        "           and (lower(vac.name) like '%data scientist%'\n",
        "           or lower(vac.name) like '%data science%'\n",
        "           or lower(vac.name) like '%исследователь данных%'\n",
        "           or (vac.name like '%ML%' and lower(vac.name) not like '%html%')\n",
        "           or lower(vac.name) like '%machine learning%'\n",
        "           or lower(vac.name) like '%машинн%обучен%')\n",
        "           group by areas.name, vac.experience\n",
        "        '''\n",
        "        \n",
        "df = pd.read_sql_query(query_7_3, connection)\n",
        "df"
      ]
    },
    {
      "cell_type": "code",
      "execution_count": 70,
      "id": "5016e21f",
      "metadata": {},
      "outputs": [
        {
          "data": {
            "text/html": [
              "<div>\n",
              "<style scoped>\n",
              "    .dataframe tbody tr th:only-of-type {\n",
              "        vertical-align: middle;\n",
              "    }\n",
              "\n",
              "    .dataframe tbody tr th {\n",
              "        vertical-align: top;\n",
              "    }\n",
              "\n",
              "    .dataframe thead th {\n",
              "        text-align: right;\n",
              "    }\n",
              "</style>\n",
              "<table border=\"1\" class=\"dataframe\">\n",
              "  <thead>\n",
              "    <tr style=\"text-align: right;\">\n",
              "      <th></th>\n",
              "      <th>area_name</th>\n",
              "      <th>vac_name</th>\n",
              "      <th>experience</th>\n",
              "      <th>lower_bound</th>\n",
              "      <th>upper_bound</th>\n",
              "    </tr>\n",
              "  </thead>\n",
              "  <tbody>\n",
              "    <tr>\n",
              "      <th>0</th>\n",
              "      <td>Екатеринбург</td>\n",
              "      <td>ML разработчик в Дзен</td>\n",
              "      <td>От 3 до 6 лет</td>\n",
              "      <td>None</td>\n",
              "      <td>None</td>\n",
              "    </tr>\n",
              "    <tr>\n",
              "      <th>1</th>\n",
              "      <td>Москва</td>\n",
              "      <td>ML-инженер в Вертикали</td>\n",
              "      <td>От 1 года до 3 лет</td>\n",
              "      <td>None</td>\n",
              "      <td>None</td>\n",
              "    </tr>\n",
              "    <tr>\n",
              "      <th>2</th>\n",
              "      <td>Москва</td>\n",
              "      <td>Tutor in Data Analysis and Data Science</td>\n",
              "      <td>От 1 года до 3 лет</td>\n",
              "      <td>None</td>\n",
              "      <td>None</td>\n",
              "    </tr>\n",
              "    <tr>\n",
              "      <th>3</th>\n",
              "      <td>Москва</td>\n",
              "      <td>Data Scientist</td>\n",
              "      <td>От 3 до 6 лет</td>\n",
              "      <td>None</td>\n",
              "      <td>None</td>\n",
              "    </tr>\n",
              "    <tr>\n",
              "      <th>4</th>\n",
              "      <td>Москва</td>\n",
              "      <td>ML-разработчик в группу спецпроектов поиска</td>\n",
              "      <td>От 3 до 6 лет</td>\n",
              "      <td>None</td>\n",
              "      <td>None</td>\n",
              "    </tr>\n",
              "    <tr>\n",
              "      <th>5</th>\n",
              "      <td>Санкт-Петербург</td>\n",
              "      <td>ML-инженер в Вертикали</td>\n",
              "      <td>От 1 года до 3 лет</td>\n",
              "      <td>None</td>\n",
              "      <td>None</td>\n",
              "    </tr>\n",
              "    <tr>\n",
              "      <th>6</th>\n",
              "      <td>Санкт-Петербург</td>\n",
              "      <td>ML разработчик в Дзен</td>\n",
              "      <td>От 3 до 6 лет</td>\n",
              "      <td>None</td>\n",
              "      <td>None</td>\n",
              "    </tr>\n",
              "  </tbody>\n",
              "</table>\n",
              "</div>"
            ],
            "text/plain": [
              "         area_name                                     vac_name  \\\n",
              "0     Екатеринбург                        ML разработчик в Дзен   \n",
              "1           Москва                       ML-инженер в Вертикали   \n",
              "2           Москва      Tutor in Data Analysis and Data Science   \n",
              "3           Москва                               Data Scientist   \n",
              "4           Москва  ML-разработчик в группу спецпроектов поиска   \n",
              "5  Санкт-Петербург                       ML-инженер в Вертикали   \n",
              "6  Санкт-Петербург                        ML разработчик в Дзен   \n",
              "\n",
              "           experience lower_bound upper_bound  \n",
              "0       От 3 до 6 лет        None        None  \n",
              "1  От 1 года до 3 лет        None        None  \n",
              "2  От 1 года до 3 лет        None        None  \n",
              "3       От 3 до 6 лет        None        None  \n",
              "4       От 3 до 6 лет        None        None  \n",
              "5  От 1 года до 3 лет        None        None  \n",
              "6       От 3 до 6 лет        None        None  "
            ]
          },
          "execution_count": 70,
          "metadata": {},
          "output_type": "execute_result"
        }
      ],
      "source": [
        "\"\"\"Какие именно позиции открыты для дата-сайентистов?\n",
        "\"\"\"\n",
        "\n",
        "query_7_4 = f'''select areas.name area_name,\n",
        "           vac.name vac_name, vac.experience,\n",
        "           round(avg(vac.salary_from)) lower_bound,\n",
        "           avg(vac.salary_to) upper_bound\n",
        "           from public.vacancies vac\n",
        "           left join public.employers emp on emp.id = vac.employer_id\n",
        "           left join public.areas on areas.id = vac.area_id\n",
        "           where emp.name = 'Яндекс'\n",
        "           and vac.id is not null\n",
        "           and areas.name in ('Москва', 'Санкт-Петербург', 'Екатеринбург')\n",
        "           and (lower(vac.name) like '%data scientist%'\n",
        "           or lower(vac.name) like '%data science%'\n",
        "           or lower(vac.name) like '%исследователь данных%'\n",
        "           or (vac.name like '%ML%' and lower(vac.name) not like '%html%')\n",
        "           or lower(vac.name) like '%machine learning%'\n",
        "           or lower(vac.name) like '%машинн%обучен%')\n",
        "           group by areas.name, vac.experience, vac_name\n",
        "        '''\n",
        "        \n",
        "df = pd.read_sql_query(query_7_4, connection)\n",
        "df"
      ]
    },
    {
      "cell_type": "code",
      "execution_count": 71,
      "id": "a9afb011",
      "metadata": {},
      "outputs": [],
      "source": [
        "connection.close()"
      ]
    },
    {
      "cell_type": "markdown",
      "id": "8178df98",
      "metadata": {},
      "source": [
        "***"
      ]
    },
    {
      "cell_type": "markdown",
      "id": "b625d73f",
      "metadata": {},
      "source": [
        "## Выводы по анализу вакансий от компании \"Яндекс\"\n",
        "* компания \"Яндекс\" указывает уровень ЗП для IT-специалистов БЕЗ опыта работы и С опытом работы от 1 года до 3 лет;\n",
        "* наибольшее количество вакансий для кандидатов с заданным опытом (/без опыта работы) представлены в г.Екатеринбург. При этом вакансий для кандидатов БЕЗ опыта работы больше, как в г.Екатеринбург, так и в Санкт-Петербурге.\n",
        "\n",
        "Среднее значение ЗП для кандидатов БЕЗ опыта работы:\n",
        "* самый высокий показатель min значения в г. Екатеринбург (23 тыс.руб). Самый низкий - в Москве (17 тыс.руб.);\n",
        "* самый высокий показатель max - г. Москва (75 тыс.руб). Самый низкий - в Санкт-Петербурге (~58 тыс.руб.).\n",
        "\n",
        "Среднее значение ЗП для кандидатов С опытом работы от 1 года и до 3 лет:\n",
        "* самый высокий показатель min в г. Санкт-Петербург (~65 тыс.руб). Самый низкий - в Екатеринбурге (39 тыс.руб.);\n",
        "* самый высокий показатель max в г. Москва (120 тыс.руб). Самый низкий - в Екатеринбурге (~50 тыс.руб.).\n",
        "\n",
        "Если вы планируете начать карьеру в \"Яндекс\", то из трех городов лучше выбрать Екатеринбург, так как здесь представлено больше вакансий для соискателей без опыта работы, а также выше нижняя граница заработной платы. По мере роста опыта работы можно переехать в г.Москва, так как здесь самая высокая верхняя граница ЗП.\n",
        "Конечно, лучше изучить динамику ЗП в зависимости от региона, а также более детально рассмотреть, какие именно вакансии предлагаются для соискателей с тем или иным опытом работы. Это может стать новой веткой для анализа.\n",
        "\n",
        "Для специалистов БЕЗ опыта работы в основном представлены вакансии по позициям кнсультанты/ сотрудники службы поддержки по различным вопросам (бизнес-направлениям компании).\n",
        "\n",
        "По результатам запроса п.7_3 видно, что для дата-сайентистов в целом не так много предложений от \"Яндекс\".\n",
        "- Наблюдаем спрос на кандидатов с опытом работы от 1 года и до 6 лет (ML-разработчики и ML-инженеры);\n",
        "- Больше вакансий для кандидатов с различным опытом работы открыты в г.Москва;\n",
        "- Уровень ЗП не указан.\n"
      ]
    },
    {
      "cell_type": "markdown",
      "id": "c0ED6fh7wiBT",
      "metadata": {
        "id": "c0ED6fh7wiBT"
      },
      "source": [
        "# Общий вывод по проекту"
      ]
    },
    {
      "cell_type": "markdown",
      "id": "820d98d0",
      "metadata": {},
      "source": [
        "* География вакансий включает в себя не только российский рынок, но и другие страны (Казахстан, Республика Беларусь, Грузия и др.)\n",
        "\n",
        "*Дополнительно можно изучить распределение спроса на IT-специалистов в зависимости от страны / региона отдельной страны*\n",
        "\n",
        "* ТОП-5 городов по количеству вакансий для IT-специалистов: 3 российских города (20% вакансий) - Москва, Санкт-Петербург, Новосибирск; Минск (Республика Беларусь) и Алматы (Казахстан). Около 30% от общего числа вакансий. Меньший спрос отмечается в малых городах (население 50-60 тыс.).\n",
        "\n",
        "*Данные 3 российских города отмечены не случайно и объясняются тем, что IT-сфера здесь является одной из ключевых (показатели: доля цифровой индустрии в региональном валовом продукте; число компаний, работающих в сфере ИТ; наличие особой экономической зоны и пр.). Что также можно выявить и при изучении отдельно взятых малых городов.*\n",
        "\n",
        "* Больше половины вакансий для соискателей с опытом работы от 1 года и до 3 лет. Низкий спрос (3%) на специалистов уровня Senior (опыт работы более 6 лет) можно объяснить тем, что для большинства команий ИТ не является ключевой сферой деятельности. К тому же, специалисты данного уровня являются высокооплачиваемыми. И в текущей ситуации для большинства компаний на российском рынке одной из целей является сокращение затрат (подготовка к кризису).\n",
        "\n",
        "* Уровень ЗП:\n",
        "    - в 50% вакансий отсутствует. Чаще для соискателей с опытом работы от 1 года и до 3 лет. Возможные причины того, почему работодатель не раскрывает зарплату:\n",
        "        * зарплата зависит от уровня кандидата,\n",
        "        * внутренние правила компании (неразглашение информации о ЗП),\n",
        "        * не определен объем работы (будет известно после встречи с кандидатом).\n",
        "    - ср.значение min уровня ЗП - 71 тыс. руб., max - около 111 тыс.руб.\n",
        "    \n",
        "    *Можно изучить для каких профессий соответствует тот или иной средний уровень ЗП. При необходимости можно заполнить пропуски при соответствии условий*\n",
        "\n",
        "* Количество вакансий от одного работодателя варьируется от 1 до 1933. 5 работодателей (Ростелеком, Тинькофф, СБЕР, Газпром нефть, ИК СИБИНТЕК) предлагают около 300 мест для IT-специалистов (сфера деятельности: IT, банки, нефтяная отрасль), \"Яндекс\" - 1933, что логично, так как это единственная крупная IT-компания на российском рынке в последние полгода. Вакансии данных 6 компаний составляют 8% от общего числа вакансий в БД. Около 17% работодателей предлагают 1 вакансию.\n",
        "\n",
        "*Можно провести анализ по двум направлениям: спрос на IT-специалистов в зависимости от 1) масштаба компании, и 2) ключевой сферы деятельности (отрасль)*\n",
        "\n",
        "* График работы: При найме IT-специалистов на Полную занятость чаще встречаются вакансии с графиком работы на полный день (72% записей) или удаленный формат (~16%). Чем более гибка политика компании по переходу к удаленному формату, тем шире возможности работодателя по поиску талантливых кандидатов. Здесь же следует отметить то, что лишь у 15% работодателей сфера деятельности связана с разработкой ПО, и IT для большинства компаний является вспомогательным видом деятельности. \n",
        "\n",
        "* Вакансии для дата-сайентистов:\n",
        "    - ~4% вакансий связаны с работой с данными, из них менее 3% для начинающих соискателей.\n",
        "        * Компания может быть просто не заинтересована во взращивании IT-специалиста, так как это связано с затратами как времени, так и фин.ресурсов;\n",
        "        * У джунов часто нет конкретной специализации. Компаниям выгоднее нанимать сотрудников с опытом работы (не менее 1 года).\n",
        "    - Уровень ЗП начинается от 75 тыс.руб. и более. Чем больше опыта, тем меньше данных об уровне ЗП.\n",
        "    - Для дата-сайентистов указывают около 6-7 ключевых навыков, наиболее часто Python и SQL.\n",
        "\n",
        "* Анализ вакансий для IT-специалистов от \"Яндекс\":\n",
        "    - большинство вакансий приходится на 3 города-миллионера: Москва, Санкт-Петербург и Екатеринбург (28% всех вакансий). Всего в городах-миллионерах представлено 485 вакансий от \"Яндекс\" (1/4 представленных от \"Яндекс\" вакансий);\n",
        "    - наибольшее количество вакансий для кандидатов **без** опыта работы и **с** опытом работы до 3 лет представлены в г.Екатеринбург. Здесь же самый высокий показатель начальной ЗП для кандидатов без опыта работы. Для кандидатов с опытом работы до 3 лет - в г.Санкт-Петербург;\n",
        "\n",
        "    *Важно изучить для каких именно вакансий соответствуют значения*\n",
        "    - для кандидатов без опыта работы представлены вакансии на позиции консультанта/ сотрудника службы поддержки (в разных сферах);\n",
        "    - для дата-сайентистов в данных городах не так много предложений. Есть спрос на кандидатов с опытом работы от 1 года и до 6 лет. В основном для ML-разработчиков и ML-инженеров. Больше вакансий открыто в г.Москва. Однако компания не указывает уровень ЗП.\n"
      ]
    }
  ],
  "metadata": {
    "colab": {
      "collapsed_sections": [
        "8d62a9f3-f64e-4fe7-bdac-c4dffa16155e"
      ],
      "provenance": []
    },
    "kernelspec": {
      "display_name": "Python 3.8.8 ('base')",
      "language": "python",
      "name": "python3"
    },
    "language_info": {
      "codemirror_mode": {
        "name": "ipython",
        "version": 3
      },
      "file_extension": ".py",
      "mimetype": "text/x-python",
      "name": "python",
      "nbconvert_exporter": "python",
      "pygments_lexer": "ipython3",
      "version": "3.8.8 (default, Apr 13 2021, 15:08:03) [MSC v.1916 64 bit (AMD64)]"
    },
    "vscode": {
      "interpreter": {
        "hash": "9e1594eb09e78a4418165deb4005d51d406f2da71d7f079d245664069568770c"
      }
    }
  },
  "nbformat": 4,
  "nbformat_minor": 5
}
