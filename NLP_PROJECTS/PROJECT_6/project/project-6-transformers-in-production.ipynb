{
 "cells": [
  {
   "cell_type": "markdown",
   "metadata": {},
   "source": [
    "# Project-6: Transformers in production"
   ]
  },
  {
   "cell_type": "markdown",
   "metadata": {},
   "source": [
    "**Case Description**\n",
    "\n",
    "In this notebook we will reduce model size by distillation and quantization methods\n",
    "\n",
    "**Task**\n",
    "Check metric results on test data for fine-tuning BERT model before and after applying Distillation & Quantification methods.\n",
    "\n",
    "**Dataset**:\n",
    "[AG news dataset](https://huggingface.co/datasets/fancyzhx/ag_news)\n",
    "\n",
    "**ML Task**: Model compression via distillation and quantization\n",
    "\n",
    "Training on GPU"
   ]
  },
  {
   "cell_type": "markdown",
   "metadata": {},
   "source": [
    "# 0. Install and Import"
   ]
  },
  {
   "cell_type": "code",
   "execution_count": 1,
   "metadata": {
    "execution": {
     "iopub.execute_input": "2025-01-29T15:54:54.312290Z",
     "iopub.status.busy": "2025-01-29T15:54:54.311986Z",
     "iopub.status.idle": "2025-01-29T15:55:05.520622Z",
     "shell.execute_reply": "2025-01-29T15:55:05.519684Z",
     "shell.execute_reply.started": "2025-01-29T15:54:54.312264Z"
    },
    "trusted": true
   },
   "outputs": [],
   "source": [
    "%%capture\n",
    "!pip install transformers # the huggingface library containing the general-purpose architectures for NLP\n",
    "!pip install datasets # the huggingface library containing datasets and evaluation metrics for NLP\n",
    "!pip install evaluate"
   ]
  },
  {
   "cell_type": "code",
   "execution_count": 2,
   "metadata": {
    "execution": {
     "iopub.execute_input": "2025-01-29T15:55:05.522038Z",
     "iopub.status.busy": "2025-01-29T15:55:05.521775Z",
     "iopub.status.idle": "2025-01-29T15:55:21.988678Z",
     "shell.execute_reply": "2025-01-29T15:55:21.987797Z",
     "shell.execute_reply.started": "2025-01-29T15:55:05.522019Z"
    },
    "trusted": true
   },
   "outputs": [],
   "source": [
    "import os\n",
    "import random\n",
    "import numpy as np\n",
    "import pandas as pd\n",
    "\n",
    "#Libs for visualization\n",
    "import matplotlib.pyplot as plt\n",
    "\n",
    "from sklearn.metrics import confusion_matrix, ConfusionMatrixDisplay, accuracy_score\n",
    "\n",
    "# pytorch libraries\n",
    "import torch\n",
    "import evaluate\n",
    "import transformers\n",
    "from transformers import DataCollatorWithPadding, AutoModelForSequenceClassification, AutoTokenizer, TrainingArguments, Trainer, pipeline\n",
    "from datasets import load_dataset, DatasetDict\n",
    "from evaluate import evaluator\n",
    "\n",
    "import warnings\n",
    "warnings.filterwarnings(\"ignore\")\n",
    "\n",
    "os.environ[\"TOKENIZERS_PARALLELISM\"] = \"false\"\n",
    "os.environ[\"WANDB_DISABLED\"] = \"true\""
   ]
  },
  {
   "cell_type": "code",
   "execution_count": 3,
   "metadata": {
    "execution": {
     "iopub.execute_input": "2025-01-29T15:55:21.991020Z",
     "iopub.status.busy": "2025-01-29T15:55:21.990406Z",
     "iopub.status.idle": "2025-01-29T15:55:22.003539Z",
     "shell.execute_reply": "2025-01-29T15:55:22.002722Z",
     "shell.execute_reply.started": "2025-01-29T15:55:21.990997Z"
    },
    "trusted": true
   },
   "outputs": [],
   "source": [
    "# Fixing RANDOM_SEED to make experiment repetable\n",
    "RANDOM_SEED = 42\n",
    "\n",
    "# Set random seeds\n",
    "def set_seed(seed):\n",
    "    \"\"\"\n",
    "    Helper function for reproducible behavior to set the seed in ``random``, ``numpy``, ``torch`` and/or ``tf`` (if\n",
    "    installed).\n",
    "\n",
    "    Args:\n",
    "        seed (:obj:`int`): The seed to set.\n",
    "    \"\"\"\n",
    "    np.random.seed(seed)\n",
    "    random.seed(seed)\n",
    "#     tf.random.set_seed(seed)\n",
    "    torch.backends.cudnn.benchmark = False\n",
    "    torch.backends.cudnn.deterministic = True\n",
    "    torch.manual_seed(seed)\n",
    "    torch.cuda.manual_seed_all(seed)\n",
    "    \n",
    "    \n",
    "set_seed(RANDOM_SEED)"
   ]
  },
  {
   "cell_type": "code",
   "execution_count": 4,
   "metadata": {
    "execution": {
     "iopub.execute_input": "2025-01-29T15:55:22.004854Z",
     "iopub.status.busy": "2025-01-29T15:55:22.004570Z",
     "iopub.status.idle": "2025-01-29T15:55:23.127226Z",
     "shell.execute_reply": "2025-01-29T15:55:23.126097Z",
     "shell.execute_reply.started": "2025-01-29T15:55:22.004823Z"
    },
    "trusted": true
   },
   "outputs": [],
   "source": [
    "# Fixing package versions to make experiment repetable\n",
    "!pip freeze > requirements.txt"
   ]
  },
  {
   "cell_type": "code",
   "execution_count": 5,
   "metadata": {
    "execution": {
     "iopub.execute_input": "2025-01-29T15:55:23.128471Z",
     "iopub.status.busy": "2025-01-29T15:55:23.128229Z",
     "iopub.status.idle": "2025-01-29T15:55:23.210352Z",
     "shell.execute_reply": "2025-01-29T15:55:23.209535Z",
     "shell.execute_reply.started": "2025-01-29T15:55:23.128451Z"
    },
    "trusted": true
   },
   "outputs": [
    {
     "name": "stdout",
     "output_type": "stream",
     "text": [
      "cuda\n"
     ]
    }
   ],
   "source": [
    "# If we have a GPU available, we'll set our device to GPU\n",
    "device = torch.device(\"cuda\" if torch.cuda.is_available() else \"cpu\")\n",
    "print(device)"
   ]
  },
  {
   "cell_type": "markdown",
   "metadata": {},
   "source": [
    "# 1. Data Loading: dataset exploration"
   ]
  },
  {
   "cell_type": "markdown",
   "metadata": {},
   "source": [
    "AG News (AG's News Corpus) is a subdataset of AG's corpus of news articles constructed by assembling titles (labels) and description fields of articles from the 4 largest classes (“World”, “Sports”, “Business”, “Sci/Tech”) of AG's Corpus.\n",
    "\n",
    "The AG News contains 120,000 training and 7,600 test samples per class."
   ]
  },
  {
   "cell_type": "code",
   "execution_count": 6,
   "metadata": {
    "execution": {
     "iopub.execute_input": "2025-01-29T15:55:23.211530Z",
     "iopub.status.busy": "2025-01-29T15:55:23.211261Z",
     "iopub.status.idle": "2025-01-29T15:55:26.066692Z",
     "shell.execute_reply": "2025-01-29T15:55:26.065885Z",
     "shell.execute_reply.started": "2025-01-29T15:55:23.211509Z"
    },
    "trusted": true
   },
   "outputs": [
    {
     "data": {
      "application/vnd.jupyter.widget-view+json": {
       "model_id": "6e439d8325ac49339fcabb460fdd5116",
       "version_major": 2,
       "version_minor": 0
      },
      "text/plain": [
       "README.md:   0%|          | 0.00/8.07k [00:00<?, ?B/s]"
      ]
     },
     "metadata": {},
     "output_type": "display_data"
    },
    {
     "data": {
      "application/vnd.jupyter.widget-view+json": {
       "model_id": "8d9da86fa8f54268a3f592346a103078",
       "version_major": 2,
       "version_minor": 0
      },
      "text/plain": [
       "train-00000-of-00001.parquet:   0%|          | 0.00/18.6M [00:00<?, ?B/s]"
      ]
     },
     "metadata": {},
     "output_type": "display_data"
    },
    {
     "data": {
      "application/vnd.jupyter.widget-view+json": {
       "model_id": "b78bdcdb699740b99dfe932bc1075716",
       "version_major": 2,
       "version_minor": 0
      },
      "text/plain": [
       "test-00000-of-00001.parquet:   0%|          | 0.00/1.23M [00:00<?, ?B/s]"
      ]
     },
     "metadata": {},
     "output_type": "display_data"
    },
    {
     "data": {
      "application/vnd.jupyter.widget-view+json": {
       "model_id": "476fb1f42e1247f9b1e42de97057701d",
       "version_major": 2,
       "version_minor": 0
      },
      "text/plain": [
       "Generating train split:   0%|          | 0/120000 [00:00<?, ? examples/s]"
      ]
     },
     "metadata": {},
     "output_type": "display_data"
    },
    {
     "data": {
      "application/vnd.jupyter.widget-view+json": {
       "model_id": "993275d784cb46f9b79575f2e8b839e1",
       "version_major": 2,
       "version_minor": 0
      },
      "text/plain": [
       "Generating test split:   0%|          | 0/7600 [00:00<?, ? examples/s]"
      ]
     },
     "metadata": {},
     "output_type": "display_data"
    },
    {
     "data": {
      "text/plain": [
       "DatasetDict({\n",
       "    train: Dataset({\n",
       "        features: ['text', 'label'],\n",
       "        num_rows: 120000\n",
       "    })\n",
       "    test: Dataset({\n",
       "        features: ['text', 'label'],\n",
       "        num_rows: 7600\n",
       "    })\n",
       "})"
      ]
     },
     "execution_count": 6,
     "metadata": {},
     "output_type": "execute_result"
    }
   ],
   "source": [
    "# Load the AG news dataset - https://huggingface.co/datasets/fancyzhx/ag_news\n",
    "dataset_ag = load_dataset(\"fancyzhx/ag_news\")\n",
    "dataset_ag"
   ]
  },
  {
   "cell_type": "markdown",
   "metadata": {},
   "source": [
    "There are several important fields here:\n",
    "\n",
    "* **text**: description fields of articles.\n",
    "* **label**: 4 clasess of articles."
   ]
  },
  {
   "cell_type": "code",
   "execution_count": 7,
   "metadata": {
    "execution": {
     "iopub.execute_input": "2025-01-29T15:55:26.067648Z",
     "iopub.status.busy": "2025-01-29T15:55:26.067448Z",
     "iopub.status.idle": "2025-01-29T15:55:26.072685Z",
     "shell.execute_reply": "2025-01-29T15:55:26.071879Z",
     "shell.execute_reply.started": "2025-01-29T15:55:26.067629Z"
    },
    "trusted": true
   },
   "outputs": [
    {
     "name": "stdout",
     "output_type": "stream",
     "text": [
      "Label:  2\n",
      "\n",
      "Text:  Carlyle Looks Toward Commercial Aerospace (Reuters) Reuters - Private investment firm Carlyle Group,\\which has a reputation for making well-timed and occasionally\\controversial plays in the defense industry, has quietly placed\\its bets on another part of the market.\n"
     ]
    }
   ],
   "source": [
    "# Look at the examples in train dataset\n",
    "print(\"Label: \", dataset_ag[\"train\"][1][\"label\"])\n",
    "print(\"\\nText: \", dataset_ag[\"train\"][1][\"text\"])"
   ]
  },
  {
   "cell_type": "markdown",
   "metadata": {},
   "source": [
    "The AG's news topic classification dataset is constructed by choosing 4 largest classes from the original corpus. Each class contains 30,000 training samples and 1,900 testing samples. The total number of training samples is 120,000 and testing 7,600.\n",
    "\n",
    "It means that as a key metric I can choose **accuracy_score** because our data is balanced."
   ]
  },
  {
   "cell_type": "markdown",
   "metadata": {},
   "source": [
    "## Preprocess dataset\n",
    "\n",
    "* Create train/validation/ test sets"
   ]
  },
  {
   "cell_type": "markdown",
   "metadata": {},
   "source": [
    "`train/ validation / test sets`"
   ]
  },
  {
   "cell_type": "code",
   "execution_count": 8,
   "metadata": {
    "execution": {
     "iopub.execute_input": "2025-01-29T15:55:26.075260Z",
     "iopub.status.busy": "2025-01-29T15:55:26.075025Z",
     "iopub.status.idle": "2025-01-29T15:55:26.124495Z",
     "shell.execute_reply": "2025-01-29T15:55:26.123648Z",
     "shell.execute_reply.started": "2025-01-29T15:55:26.075242Z"
    },
    "trusted": true
   },
   "outputs": [
    {
     "data": {
      "text/plain": [
       "DatasetDict({\n",
       "    train: Dataset({\n",
       "        features: ['text', 'label'],\n",
       "        num_rows: 108000\n",
       "    })\n",
       "    test: Dataset({\n",
       "        features: ['text', 'label'],\n",
       "        num_rows: 12000\n",
       "    })\n",
       "})"
      ]
     },
     "execution_count": 8,
     "metadata": {},
     "output_type": "execute_result"
    }
   ],
   "source": [
    "\"\"\"\n",
    "Create a validation set (10%) for finding the model with best generalizability\n",
    "\"\"\"\n",
    "train_val_dataset = dataset_ag[\"train\"].train_test_split(test_size=0.1, seed=RANDOM_SEED)\n",
    "train_val_dataset"
   ]
  },
  {
   "cell_type": "code",
   "execution_count": 9,
   "metadata": {
    "execution": {
     "iopub.execute_input": "2025-01-29T15:55:26.125883Z",
     "iopub.status.busy": "2025-01-29T15:55:26.125623Z",
     "iopub.status.idle": "2025-01-29T15:55:26.131062Z",
     "shell.execute_reply": "2025-01-29T15:55:26.130374Z",
     "shell.execute_reply.started": "2025-01-29T15:55:26.125862Z"
    },
    "trusted": true
   },
   "outputs": [
    {
     "data": {
      "text/plain": [
       "DatasetDict({\n",
       "    train: Dataset({\n",
       "        features: ['text', 'label'],\n",
       "        num_rows: 108000\n",
       "    })\n",
       "    validation: Dataset({\n",
       "        features: ['text', 'label'],\n",
       "        num_rows: 12000\n",
       "    })\n",
       "    test: Dataset({\n",
       "        features: ['text', 'label'],\n",
       "        num_rows: 7600\n",
       "    })\n",
       "})"
      ]
     },
     "execution_count": 9,
     "metadata": {},
     "output_type": "execute_result"
    }
   ],
   "source": [
    "\"\"\"\n",
    "Create datasets for fine-tuning\n",
    "\"\"\"\n",
    "datasets = DatasetDict({\n",
    "    'train': train_val_dataset['train'],\n",
    "    'validation': train_val_dataset['test'],\n",
    "    'test': dataset_ag['test']\n",
    "})\n",
    "datasets"
   ]
  },
  {
   "cell_type": "code",
   "execution_count": 10,
   "metadata": {
    "execution": {
     "iopub.execute_input": "2025-01-29T15:55:26.132005Z",
     "iopub.status.busy": "2025-01-29T15:55:26.131750Z",
     "iopub.status.idle": "2025-01-29T15:55:26.149638Z",
     "shell.execute_reply": "2025-01-29T15:55:26.148822Z",
     "shell.execute_reply.started": "2025-01-29T15:55:26.131975Z"
    },
    "trusted": true
   },
   "outputs": [
    {
     "name": "stdout",
     "output_type": "stream",
     "text": [
      "Number of labels: 4\n",
      "id2label: {0: 'World', 1: 'Sports', 2: 'Business', 3: 'Sci/Tech'}\n",
      "label2id: {'World': 0, 'Sports': 1, 'Business': 2, 'Sci/Tech': 3}\n"
     ]
    }
   ],
   "source": [
    "\"\"\"\n",
    "Get class label information from dataset\n",
    "\"\"\"\n",
    "num_labels = datasets[\"train\"].features[\"label\"].num_classes\n",
    "\n",
    "id2label = {}\n",
    "label2id = {}\n",
    "\n",
    "for label_id, label in enumerate(datasets[\"train\"].features[\"label\"].names):\n",
    "    id2label[label_id] = label\n",
    "    label2id[label] = label_id\n",
    "\n",
    "print(f\"Number of labels: {num_labels}\")\n",
    "print(f\"id2label: {id2label}\")\n",
    "print(f\"label2id: {label2id}\")"
   ]
  },
  {
   "cell_type": "code",
   "execution_count": 11,
   "metadata": {
    "execution": {
     "iopub.execute_input": "2025-01-29T15:55:26.150718Z",
     "iopub.status.busy": "2025-01-29T15:55:26.150435Z",
     "iopub.status.idle": "2025-01-29T15:55:26.165690Z",
     "shell.execute_reply": "2025-01-29T15:55:26.164862Z",
     "shell.execute_reply.started": "2025-01-29T15:55:26.150689Z"
    },
    "trusted": true
   },
   "outputs": [
    {
     "data": {
      "text/plain": [
       "[83810, 14592, 3278]"
      ]
     },
     "execution_count": 11,
     "metadata": {},
     "output_type": "execute_result"
    }
   ],
   "source": [
    "# get random integers in the range of 0 to train_dataset_length\n",
    "example_indices = [random.randrange(len(datasets[\"train\"])) for _ in range(3)]\n",
    "example_indices"
   ]
  },
  {
   "cell_type": "code",
   "execution_count": 12,
   "metadata": {
    "execution": {
     "iopub.execute_input": "2025-01-29T15:55:26.166673Z",
     "iopub.status.busy": "2025-01-29T15:55:26.166422Z",
     "iopub.status.idle": "2025-01-29T15:55:29.775396Z",
     "shell.execute_reply": "2025-01-29T15:55:29.774505Z",
     "shell.execute_reply.started": "2025-01-29T15:55:26.166653Z"
    },
    "trusted": true
   },
   "outputs": [
    {
     "name": "stdout",
     "output_type": "stream",
     "text": [
      "TEXT[83810]: Hopes fade for China mine victims Rescuers express mounting fears for 86 people still missing after a gas explosion in a China coal mine killed 62.\n",
      "LABEL[83810]: World (0)\n",
      "\n",
      "TEXT[14592]: Notebook: Breeders #39; Cup gives title hope to several The landscape has changed since Smarty Jones #39; meteoric rise from obscurity to stardom last spring, when the colt from Pennsylvania appeared to be \n",
      "LABEL[14592]: Sports (1)\n",
      "\n",
      "TEXT[3278]: Max Table size in MySQL \\\\It turns out that MySQL  has a terrible upper limit on the max MyISAM table\\size.  It appears that innodb doesn't have this problem.\\\\Jeremy talks about it over on his blog \\\\\"When this happens, the first reaction I hear is \"You never told me that MySQL\\has a 4GB limit! What am I going to do?\" Amusingly, I usually do describe the\\limit when I discuss the possibility of using MySQL with various groups--they\\often forget or underestimate the impact it will have. Putting that aside, the\\problem is easily fixed, as that page explains. You simply need to run an ALTER\\TABLE command.\"\\\\\"And you'll need to wait. That ALTER TABLE is going to take some time. Really.\"\\\\Of course Jeremey warns us that ...\\\\\n",
      "LABEL[3278]: Sci/Tech (3)\n",
      "\n"
     ]
    }
   ],
   "source": [
    "for i in example_indices:\n",
    "    text = datasets['train']['text'][i]\n",
    "    label_id = datasets['train']['label'][i]\n",
    "    label = id2label[label_id]\n",
    "    \n",
    "    print(f\"TEXT[{i}]: {text}\")\n",
    "    print(f\"LABEL[{i}]: {label} ({label_id})\")\n",
    "    print()"
   ]
  },
  {
   "cell_type": "markdown",
   "metadata": {},
   "source": [
    "***"
   ]
  },
  {
   "cell_type": "markdown",
   "metadata": {},
   "source": [
    "# 2. Model training\n",
    "\n",
    "This part consists of 3 examples of model training:\n",
    "- fine-tuned BERT base model\n",
    "- distilled BERT model (DistilBert, TinyBERT, MiniLM)\n",
    "- quantized BERT model"
   ]
  },
  {
   "cell_type": "code",
   "execution_count": 13,
   "metadata": {
    "execution": {
     "iopub.execute_input": "2025-01-29T15:55:29.776655Z",
     "iopub.status.busy": "2025-01-29T15:55:29.776355Z",
     "iopub.status.idle": "2025-01-29T15:55:29.780579Z",
     "shell.execute_reply": "2025-01-29T15:55:29.779897Z",
     "shell.execute_reply.started": "2025-01-29T15:55:29.776626Z"
    },
    "trusted": true
   },
   "outputs": [],
   "source": [
    "\"\"\"\n",
    "Function to get Model size\n",
    "\"\"\"\n",
    "def print_size_of_model(model):\n",
    "    torch.save(model.state_dict(), 'temp.p')\n",
    "    print('Size (MB): ',\n",
    "         np.round(os.path.getsize('temp.p')/1e6, 2))\n",
    "    os.remove('temp.p')\n",
    "\n",
    "# def get_layer_sizes(model):\n",
    "#     layer_sizes = {}\n",
    "#     total_size = 0\n",
    "\n",
    "#     for name, param in model.named_parameters():\n",
    "#         layer_size = param.numel() * param.element_size()  # numel() returns the number of elements, element_size() returns the size in bytes of each element\n",
    "#         total_size += layer_size\n",
    "#         layer_sizes[name] = (param.numel(), layer_size, param.dtype)\n",
    "\n",
    "#     return layer_sizes, total_size"
   ]
  },
  {
   "cell_type": "code",
   "execution_count": 14,
   "metadata": {
    "execution": {
     "iopub.execute_input": "2025-01-29T15:55:29.781859Z",
     "iopub.status.busy": "2025-01-29T15:55:29.781493Z",
     "iopub.status.idle": "2025-01-29T15:55:29.796674Z",
     "shell.execute_reply": "2025-01-29T15:55:29.796065Z",
     "shell.execute_reply.started": "2025-01-29T15:55:29.781827Z"
    },
    "trusted": true
   },
   "outputs": [],
   "source": [
    "def tokenize(dataset,tokenizer):\n",
    "    \"\"\"\n",
    "    Function to use map to tokenize entire dataset and batch building\n",
    "    \"\"\"\n",
    "    # tokenize and truncate dataset by batch, while removing unused column\n",
    "    tokenized_dataset = dataset.map(lambda x: tokenizer(x[\"text\"], truncation=True),\n",
    "                                     batched=True,\n",
    "                                     remove_columns=[\"text\"])\n",
    "\n",
    "    # rename for multiclass fine-tuning\n",
    "    tokenized_ds = tokenized_dataset.rename_column(\"label\", \"labels\")\n",
    "\n",
    "    # set format to pytorch\n",
    "    tokenized_ds.set_format(type=\"torch\")\n",
    "\n",
    "    return tokenized_ds"
   ]
  },
  {
   "cell_type": "markdown",
   "metadata": {},
   "source": [
    "## 2.1 Fine-tuning BERT base model"
   ]
  },
  {
   "cell_type": "code",
   "execution_count": 15,
   "metadata": {
    "execution": {
     "iopub.execute_input": "2025-01-29T15:55:29.797831Z",
     "iopub.status.busy": "2025-01-29T15:55:29.797532Z",
     "iopub.status.idle": "2025-01-29T15:55:30.961835Z",
     "shell.execute_reply": "2025-01-29T15:55:30.961155Z",
     "shell.execute_reply.started": "2025-01-29T15:55:29.797785Z"
    },
    "trusted": true
   },
   "outputs": [
    {
     "data": {
      "application/vnd.jupyter.widget-view+json": {
       "model_id": "1542a197b3b34dc38253348225ac0448",
       "version_major": 2,
       "version_minor": 0
      },
      "text/plain": [
       "tokenizer_config.json:   0%|          | 0.00/48.0 [00:00<?, ?B/s]"
      ]
     },
     "metadata": {},
     "output_type": "display_data"
    },
    {
     "data": {
      "application/vnd.jupyter.widget-view+json": {
       "model_id": "439805be5dfa4eb6afeccc67b08836cd",
       "version_major": 2,
       "version_minor": 0
      },
      "text/plain": [
       "config.json:   0%|          | 0.00/570 [00:00<?, ?B/s]"
      ]
     },
     "metadata": {},
     "output_type": "display_data"
    },
    {
     "data": {
      "application/vnd.jupyter.widget-view+json": {
       "model_id": "3cc4ba16f5a5435d8339fb88f4463961",
       "version_major": 2,
       "version_minor": 0
      },
      "text/plain": [
       "vocab.txt:   0%|          | 0.00/232k [00:00<?, ?B/s]"
      ]
     },
     "metadata": {},
     "output_type": "display_data"
    },
    {
     "data": {
      "application/vnd.jupyter.widget-view+json": {
       "model_id": "f564cffb71154218a2a5b10477284ccf",
       "version_major": 2,
       "version_minor": 0
      },
      "text/plain": [
       "tokenizer.json:   0%|          | 0.00/466k [00:00<?, ?B/s]"
      ]
     },
     "metadata": {},
     "output_type": "display_data"
    }
   ],
   "source": [
    "\"\"\"\n",
    "Loading the tokenizer corresponding to a pretrained BERT model.\n",
    "Using the same tokenizer as the pretrained model is important because I want to make sure the text is split in the same way.\n",
    "\"\"\"\n",
    "# Load the pre-trained BERT model and tokenizer - get fast BERT tokenizer\n",
    "model_checkpoint = 'bert-base-uncased'\n",
    "tokenizer = AutoTokenizer.from_pretrained(model_checkpoint, use_fast=True)"
   ]
  },
  {
   "cell_type": "code",
   "execution_count": 16,
   "metadata": {
    "execution": {
     "iopub.execute_input": "2025-01-29T15:55:30.962766Z",
     "iopub.status.busy": "2025-01-29T15:55:30.962551Z",
     "iopub.status.idle": "2025-01-29T15:55:30.970691Z",
     "shell.execute_reply": "2025-01-29T15:55:30.970044Z",
     "shell.execute_reply.started": "2025-01-29T15:55:30.962749Z"
    },
    "trusted": true
   },
   "outputs": [
    {
     "data": {
      "text/plain": [
       "{'input_ids': [101, 13905, 1998, 4963, 1999, 2235, 2845, 2237, 2044, 6859, 2022, 14540, 2319, 1010, 3607, 1006, 26665, 1007, 1011, 1996, 4288, 1997, 2062, 2084, 13710, 2336, 1010, 3008, 1998, 5089, 2076, 1996, 6703, 2203, 2000, 1037, 5187, 1011, 3178, 2082, 6859, 2187, 4510, 1037, 2155, 22154, 1999, 1996, 2235, 2845, 2237, 1997, 2022, 14540, 2319, 1012, 102], 'token_type_ids': [0, 0, 0, 0, 0, 0, 0, 0, 0, 0, 0, 0, 0, 0, 0, 0, 0, 0, 0, 0, 0, 0, 0, 0, 0, 0, 0, 0, 0, 0, 0, 0, 0, 0, 0, 0, 0, 0, 0, 0, 0, 0, 0, 0, 0, 0, 0, 0, 0, 0, 0, 0, 0, 0, 0, 0, 0], 'attention_mask': [1, 1, 1, 1, 1, 1, 1, 1, 1, 1, 1, 1, 1, 1, 1, 1, 1, 1, 1, 1, 1, 1, 1, 1, 1, 1, 1, 1, 1, 1, 1, 1, 1, 1, 1, 1, 1, 1, 1, 1, 1, 1, 1, 1, 1, 1, 1, 1, 1, 1, 1, 1, 1, 1, 1, 1, 1]}"
      ]
     },
     "execution_count": 16,
     "metadata": {},
     "output_type": "execute_result"
    }
   ],
   "source": [
    "\"\"\"\n",
    "Call tokenizer on the first row of text in the dataset\n",
    "\"\"\"\n",
    "tokenizer(datasets[\"train\"][0][\"text\"])"
   ]
  },
  {
   "cell_type": "markdown",
   "metadata": {},
   "source": [
    "The tokenizer returns a dictionary with three items:\n",
    "\n",
    "* **input_ids**: the numbers representing the tokens in the text.\n",
    "* **token_type_ids**: indicates which sequence a token belongs to if there is more than one sequence.\n",
    "* **attention_mask**: indicates whether a token should be masked or not.\n",
    "\n",
    "These values are actually the model inputs."
   ]
  },
  {
   "cell_type": "code",
   "execution_count": 17,
   "metadata": {
    "execution": {
     "iopub.execute_input": "2025-01-29T15:55:30.971857Z",
     "iopub.status.busy": "2025-01-29T15:55:30.971571Z",
     "iopub.status.idle": "2025-01-29T15:55:57.486887Z",
     "shell.execute_reply": "2025-01-29T15:55:57.486051Z",
     "shell.execute_reply.started": "2025-01-29T15:55:30.971829Z"
    },
    "trusted": true
   },
   "outputs": [
    {
     "data": {
      "application/vnd.jupyter.widget-view+json": {
       "model_id": "73b028720e9c487cb5a28e8c4cd5f169",
       "version_major": 2,
       "version_minor": 0
      },
      "text/plain": [
       "Map:   0%|          | 0/108000 [00:00<?, ? examples/s]"
      ]
     },
     "metadata": {},
     "output_type": "display_data"
    },
    {
     "data": {
      "application/vnd.jupyter.widget-view+json": {
       "model_id": "3a3d5a3baa63431088f87005b2fe8187",
       "version_major": 2,
       "version_minor": 0
      },
      "text/plain": [
       "Map:   0%|          | 0/12000 [00:00<?, ? examples/s]"
      ]
     },
     "metadata": {},
     "output_type": "display_data"
    },
    {
     "data": {
      "application/vnd.jupyter.widget-view+json": {
       "model_id": "9bcf9ade5286440caaa16a4834ac83c5",
       "version_major": 2,
       "version_minor": 0
      },
      "text/plain": [
       "Map:   0%|          | 0/7600 [00:00<?, ? examples/s]"
      ]
     },
     "metadata": {},
     "output_type": "display_data"
    }
   ],
   "source": [
    "tokenized_datasets = tokenize(datasets,tokenizer)"
   ]
  },
  {
   "cell_type": "code",
   "execution_count": 18,
   "metadata": {
    "execution": {
     "iopub.execute_input": "2025-01-29T15:55:57.488114Z",
     "iopub.status.busy": "2025-01-29T15:55:57.487795Z",
     "iopub.status.idle": "2025-01-29T15:55:57.492944Z",
     "shell.execute_reply": "2025-01-29T15:55:57.492291Z",
     "shell.execute_reply.started": "2025-01-29T15:55:57.488084Z"
    },
    "trusted": true
   },
   "outputs": [
    {
     "data": {
      "text/plain": [
       "DatasetDict({\n",
       "    train: Dataset({\n",
       "        features: ['labels', 'input_ids', 'token_type_ids', 'attention_mask'],\n",
       "        num_rows: 108000\n",
       "    })\n",
       "    validation: Dataset({\n",
       "        features: ['labels', 'input_ids', 'token_type_ids', 'attention_mask'],\n",
       "        num_rows: 12000\n",
       "    })\n",
       "    test: Dataset({\n",
       "        features: ['labels', 'input_ids', 'token_type_ids', 'attention_mask'],\n",
       "        num_rows: 7600\n",
       "    })\n",
       "})"
      ]
     },
     "execution_count": 18,
     "metadata": {},
     "output_type": "execute_result"
    }
   ],
   "source": [
    "tokenized_datasets"
   ]
  },
  {
   "cell_type": "markdown",
   "metadata": {},
   "source": [
    "There are 4 columns:\n",
    "\n",
    "* **labels**: the true class label that corresponds to this news\n",
    "* **input_ids**: the token ids based on the tokenizer\n",
    "* **token_type_ids**: the binary mask identifying the two types of sequence in the model\n",
    "* **attention_mask**: the attention boolean map of token ids"
   ]
  },
  {
   "cell_type": "code",
   "execution_count": 19,
   "metadata": {
    "execution": {
     "iopub.execute_input": "2025-01-29T15:55:57.493956Z",
     "iopub.status.busy": "2025-01-29T15:55:57.493691Z",
     "iopub.status.idle": "2025-01-29T15:55:57.513319Z",
     "shell.execute_reply": "2025-01-29T15:55:57.512678Z",
     "shell.execute_reply.started": "2025-01-29T15:55:57.493936Z"
    },
    "trusted": true
   },
   "outputs": [],
   "source": [
    "\"\"\"\n",
    "Apply dynamic padding strategy to pad our texts\n",
    "Instead of padding the whole dataset to the longest sequence, we will pad to the longest sequence in the current batch\n",
    "\n",
    "In order to use dynamic padding in combination with the Trainer:\n",
    "- firstly, specifying truncation=True when preprocessing the dataset,\n",
    "- after using the DataCollatorWithPadding when defining the data loaders, which will dynamically pad the batches\n",
    "\"\"\"\n",
    "data_collator = DataCollatorWithPadding(tokenizer=tokenizer)"
   ]
  },
  {
   "cell_type": "code",
   "execution_count": 20,
   "metadata": {
    "execution": {
     "iopub.execute_input": "2025-01-29T15:55:57.514379Z",
     "iopub.status.busy": "2025-01-29T15:55:57.514151Z",
     "iopub.status.idle": "2025-01-29T15:56:00.589073Z",
     "shell.execute_reply": "2025-01-29T15:56:00.588062Z",
     "shell.execute_reply.started": "2025-01-29T15:55:57.514361Z"
    },
    "trusted": true
   },
   "outputs": [
    {
     "data": {
      "application/vnd.jupyter.widget-view+json": {
       "model_id": "ad7190e5859d490c8bd8008281ab66f1",
       "version_major": 2,
       "version_minor": 0
      },
      "text/plain": [
       "model.safetensors:   0%|          | 0.00/440M [00:00<?, ?B/s]"
      ]
     },
     "metadata": {},
     "output_type": "display_data"
    },
    {
     "name": "stderr",
     "output_type": "stream",
     "text": [
      "Some weights of BertForSequenceClassification were not initialized from the model checkpoint at bert-base-uncased and are newly initialized: ['classifier.bias', 'classifier.weight']\n",
      "You should probably TRAIN this model on a down-stream task to be able to use it for predictions and inference.\n"
     ]
    }
   ],
   "source": [
    "model = AutoModelForSequenceClassification.from_pretrained(model_checkpoint, num_labels=4).to(device)"
   ]
  },
  {
   "cell_type": "code",
   "execution_count": 21,
   "metadata": {
    "execution": {
     "iopub.execute_input": "2025-01-29T15:56:00.590263Z",
     "iopub.status.busy": "2025-01-29T15:56:00.589964Z",
     "iopub.status.idle": "2025-01-29T15:56:01.311265Z",
     "shell.execute_reply": "2025-01-29T15:56:01.310442Z",
     "shell.execute_reply.started": "2025-01-29T15:56:00.590232Z"
    },
    "trusted": true
   },
   "outputs": [
    {
     "name": "stdout",
     "output_type": "stream",
     "text": [
      "Size (MB):  438.01\n"
     ]
    }
   ],
   "source": [
    "print_size_of_model(model)"
   ]
  },
  {
   "cell_type": "code",
   "execution_count": 22,
   "metadata": {
    "execution": {
     "iopub.execute_input": "2025-01-29T15:56:08.813720Z",
     "iopub.status.busy": "2025-01-29T15:56:08.813422Z",
     "iopub.status.idle": "2025-01-29T15:56:08.986494Z",
     "shell.execute_reply": "2025-01-29T15:56:08.985884Z",
     "shell.execute_reply.started": "2025-01-29T15:56:08.813696Z"
    },
    "trusted": true
   },
   "outputs": [
    {
     "name": "stderr",
     "output_type": "stream",
     "text": [
      "Using the `WANDB_DISABLED` environment variable is deprecated and will be removed in v5. Use the --report_to flag to control the integrations used for logging result (for instance --report_to none).\n"
     ]
    }
   ],
   "source": [
    "# Set values for model and train\n",
    "training_args = TrainingArguments(\n",
    "    output_dir=\"./results_bert\",\n",
    "    # important as the standard setting of 500 creates too much data\n",
    "    save_strategy = 'epoch',\n",
    "    optim=\"adamw_torch\",\n",
    "    learning_rate=2e-5,\n",
    "    per_device_train_batch_size=16,\n",
    "    per_device_eval_batch_size=16,\n",
    "    num_train_epochs=1,\n",
    "    weight_decay=0.01,\n",
    "    group_by_length=True # grouping together samples of the same length - smart batching\n",
    ")\n",
    "\n",
    "trainer_ft_bert = Trainer(\n",
    "    model=model,\n",
    "    args=training_args,\n",
    "    train_dataset=tokenized_datasets['train'],\n",
    "    eval_dataset=tokenized_datasets['validation'],\n",
    "    tokenizer=tokenizer,\n",
    "    data_collator=data_collator\n",
    ")"
   ]
  },
  {
   "cell_type": "code",
   "execution_count": 23,
   "metadata": {
    "execution": {
     "iopub.execute_input": "2025-01-29T15:56:09.682619Z",
     "iopub.status.busy": "2025-01-29T15:56:09.682328Z",
     "iopub.status.idle": "2025-01-29T16:13:06.771345Z",
     "shell.execute_reply": "2025-01-29T16:13:06.770375Z",
     "shell.execute_reply.started": "2025-01-29T15:56:09.682597Z"
    },
    "trusted": true
   },
   "outputs": [
    {
     "data": {
      "text/html": [
       "\n",
       "    <div>\n",
       "      \n",
       "      <progress value='3375' max='3375' style='width:300px; height:20px; vertical-align: middle;'></progress>\n",
       "      [3375/3375 16:14, Epoch 1/1]\n",
       "    </div>\n",
       "    <table border=\"1\" class=\"dataframe\">\n",
       "  <thead>\n",
       " <tr style=\"text-align: left;\">\n",
       "      <th>Step</th>\n",
       "      <th>Training Loss</th>\n",
       "    </tr>\n",
       "  </thead>\n",
       "  <tbody>\n",
       "    <tr>\n",
       "      <td>500</td>\n",
       "      <td>0.348700</td>\n",
       "    </tr>\n",
       "    <tr>\n",
       "      <td>1000</td>\n",
       "      <td>0.232300</td>\n",
       "    </tr>\n",
       "    <tr>\n",
       "      <td>1500</td>\n",
       "      <td>0.206800</td>\n",
       "    </tr>\n",
       "    <tr>\n",
       "      <td>2000</td>\n",
       "      <td>0.198900</td>\n",
       "    </tr>\n",
       "    <tr>\n",
       "      <td>2500</td>\n",
       "      <td>0.187600</td>\n",
       "    </tr>\n",
       "    <tr>\n",
       "      <td>3000</td>\n",
       "      <td>0.177500</td>\n",
       "    </tr>\n",
       "  </tbody>\n",
       "</table><p>"
      ],
      "text/plain": [
       "<IPython.core.display.HTML object>"
      ]
     },
     "metadata": {},
     "output_type": "display_data"
    },
    {
     "name": "stdout",
     "output_type": "stream",
     "text": [
      "CPU times: user 19min 42s, sys: 18.1 s, total: 20min\n",
      "Wall time: 16min 57s\n"
     ]
    },
    {
     "data": {
      "text/plain": [
       "TrainOutput(global_step=3375, training_loss=0.21926742666739005, metrics={'train_runtime': 977.4549, 'train_samples_per_second': 110.491, 'train_steps_per_second': 3.453, 'total_flos': 3146733172058112.0, 'train_loss': 0.21926742666739005, 'epoch': 1.0})"
      ]
     },
     "execution_count": 23,
     "metadata": {},
     "output_type": "execute_result"
    }
   ],
   "source": [
    "os.environ[\"WANDB_DISABLED\"] = \"true\"\n",
    "torch.cuda.empty_cache()\n",
    "\n",
    "# 29/01/2025\n",
    "%time trainer_ft_bert.train()"
   ]
  },
  {
   "cell_type": "markdown",
   "metadata": {},
   "source": [
    "## Evaluate"
   ]
  },
  {
   "cell_type": "code",
   "execution_count": 24,
   "metadata": {
    "execution": {
     "iopub.execute_input": "2025-01-29T16:13:07.913203Z",
     "iopub.status.busy": "2025-01-29T16:13:07.912888Z",
     "iopub.status.idle": "2025-01-29T16:13:42.418643Z",
     "shell.execute_reply": "2025-01-29T16:13:42.417870Z",
     "shell.execute_reply.started": "2025-01-29T16:13:07.913177Z"
    },
    "trusted": true
   },
   "outputs": [
    {
     "data": {
      "text/html": [],
      "text/plain": [
       "<IPython.core.display.HTML object>"
      ]
     },
     "metadata": {},
     "output_type": "display_data"
    },
    {
     "name": "stdout",
     "output_type": "stream",
     "text": [
      "(7600, 4)\n"
     ]
    }
   ],
   "source": [
    "preds_bert = trainer_ft_bert.predict(tokenized_datasets['test'])\n",
    "print(preds_bert.predictions.shape)"
   ]
  },
  {
   "cell_type": "code",
   "execution_count": 25,
   "metadata": {
    "execution": {
     "iopub.execute_input": "2025-01-29T16:13:42.419893Z",
     "iopub.status.busy": "2025-01-29T16:13:42.419552Z",
     "iopub.status.idle": "2025-01-29T16:13:42.440659Z",
     "shell.execute_reply": "2025-01-29T16:13:42.440012Z",
     "shell.execute_reply.started": "2025-01-29T16:13:42.419867Z"
    },
    "trusted": true
   },
   "outputs": [
    {
     "data": {
      "text/plain": [
       "7600"
      ]
     },
     "execution_count": 25,
     "metadata": {},
     "output_type": "execute_result"
    }
   ],
   "source": [
    "# Clean the predictions into an interpretable form.\n",
    "preds_flat = [np.argmax(x) for x in preds_bert[0]]\n",
    "\n",
    "len(preds_flat)"
   ]
  },
  {
   "cell_type": "markdown",
   "metadata": {},
   "source": [
    "`Metrics`"
   ]
  },
  {
   "cell_type": "code",
   "execution_count": 26,
   "metadata": {
    "execution": {
     "iopub.execute_input": "2025-01-29T16:13:42.442342Z",
     "iopub.status.busy": "2025-01-29T16:13:42.442133Z",
     "iopub.status.idle": "2025-01-29T16:13:42.773628Z",
     "shell.execute_reply": "2025-01-29T16:13:42.772779Z",
     "shell.execute_reply.started": "2025-01-29T16:13:42.442324Z"
    },
    "trusted": true
   },
   "outputs": [
    {
     "data": {
      "image/png": "[encoded data removed]",
      "text/plain": [
       "<Figure size 640x480 with 2 Axes>"
      ]
     },
     "metadata": {},
     "output_type": "display_data"
    }
   ],
   "source": [
    "cm = confusion_matrix(tokenized_datasets['test']['labels'], preds_flat)\n",
    "disp = ConfusionMatrixDisplay(confusion_matrix=cm)\n",
    "\n",
    "disp.plot()\n",
    "plt.show()"
   ]
  },
  {
   "cell_type": "code",
   "execution_count": 27,
   "metadata": {
    "execution": {
     "iopub.execute_input": "2025-01-29T16:13:42.774660Z",
     "iopub.status.busy": "2025-01-29T16:13:42.774454Z",
     "iopub.status.idle": "2025-01-29T16:13:42.784648Z",
     "shell.execute_reply": "2025-01-29T16:13:42.783989Z",
     "shell.execute_reply.started": "2025-01-29T16:13:42.774642Z"
    },
    "trusted": true
   },
   "outputs": [
    {
     "name": "stdout",
     "output_type": "stream",
     "text": [
      "Accuracy BERT_base: 0.941\n"
     ]
    }
   ],
   "source": [
    "acc = accuracy_score(tokenized_datasets['test']['labels'], preds_flat)\n",
    "\n",
    "print(f'Accuracy BERT_base: {np.round(acc, 3)}')"
   ]
  },
  {
   "cell_type": "markdown",
   "metadata": {},
   "source": [
    "#### We get average accuracy_score **0.94** - after 1 epoch (16 minutes)!"
   ]
  },
  {
   "cell_type": "code",
   "execution_count": 28,
   "metadata": {
    "execution": {
     "iopub.execute_input": "2025-01-29T16:13:42.785688Z",
     "iopub.status.busy": "2025-01-29T16:13:42.785491Z",
     "iopub.status.idle": "2025-01-29T16:13:43.851392Z",
     "shell.execute_reply": "2025-01-29T16:13:43.850681Z",
     "shell.execute_reply.started": "2025-01-29T16:13:42.785671Z"
    },
    "trusted": true
   },
   "outputs": [],
   "source": [
    "\"\"\"\n",
    "Saving the model for future use\n",
    "\"\"\"\n",
    "trainer_ft_bert.save_model(\"./BERT_base-AG-NEWS\")"
   ]
  },
  {
   "cell_type": "markdown",
   "metadata": {},
   "source": [
    "## 2.2 Distillation\n",
    "- DistilBert\n",
    "- TinyBERT\n",
    "- MobileBert"
   ]
  },
  {
   "cell_type": "markdown",
   "metadata": {},
   "source": [
    "### DistilBert"
   ]
  },
  {
   "cell_type": "code",
   "execution_count": 29,
   "metadata": {
    "execution": {
     "iopub.execute_input": "2025-01-29T16:14:52.194152Z",
     "iopub.status.busy": "2025-01-29T16:14:52.193837Z",
     "iopub.status.idle": "2025-01-29T16:14:52.198349Z",
     "shell.execute_reply": "2025-01-29T16:14:52.197457Z",
     "shell.execute_reply.started": "2025-01-29T16:14:52.194128Z"
    },
    "trusted": true
   },
   "outputs": [],
   "source": [
    "model_checkpoint_distil = \"distilbert-base-uncased\""
   ]
  },
  {
   "cell_type": "code",
   "execution_count": 30,
   "metadata": {
    "execution": {
     "iopub.execute_input": "2025-01-29T16:14:53.098806Z",
     "iopub.status.busy": "2025-01-29T16:14:53.098480Z",
     "iopub.status.idle": "2025-01-29T16:14:54.753057Z",
     "shell.execute_reply": "2025-01-29T16:14:54.752317Z",
     "shell.execute_reply.started": "2025-01-29T16:14:53.098779Z"
    },
    "trusted": true
   },
   "outputs": [
    {
     "data": {
      "application/vnd.jupyter.widget-view+json": {
       "model_id": "2b610df77395462ab5e1f71ccb16d033",
       "version_major": 2,
       "version_minor": 0
      },
      "text/plain": [
       "tokenizer_config.json:   0%|          | 0.00/48.0 [00:00<?, ?B/s]"
      ]
     },
     "metadata": {},
     "output_type": "display_data"
    },
    {
     "data": {
      "application/vnd.jupyter.widget-view+json": {
       "model_id": "024999a412654707aa6ac50c6e66f0e3",
       "version_major": 2,
       "version_minor": 0
      },
      "text/plain": [
       "config.json:   0%|          | 0.00/483 [00:00<?, ?B/s]"
      ]
     },
     "metadata": {},
     "output_type": "display_data"
    },
    {
     "data": {
      "application/vnd.jupyter.widget-view+json": {
       "model_id": "088a1e3b00a2471fac0f0a7be378b5b3",
       "version_major": 2,
       "version_minor": 0
      },
      "text/plain": [
       "vocab.txt:   0%|          | 0.00/232k [00:00<?, ?B/s]"
      ]
     },
     "metadata": {},
     "output_type": "display_data"
    },
    {
     "data": {
      "application/vnd.jupyter.widget-view+json": {
       "model_id": "90df6709954a4d728d3085c3cad694a0",
       "version_major": 2,
       "version_minor": 0
      },
      "text/plain": [
       "tokenizer.json:   0%|          | 0.00/466k [00:00<?, ?B/s]"
      ]
     },
     "metadata": {},
     "output_type": "display_data"
    }
   ],
   "source": [
    "tokenizer_distil = AutoTokenizer.from_pretrained(model_checkpoint_distil)"
   ]
  },
  {
   "cell_type": "code",
   "execution_count": 31,
   "metadata": {
    "execution": {
     "iopub.execute_input": "2025-01-29T16:14:54.754279Z",
     "iopub.status.busy": "2025-01-29T16:14:54.753976Z",
     "iopub.status.idle": "2025-01-29T16:15:20.125567Z",
     "shell.execute_reply": "2025-01-29T16:15:20.124958Z",
     "shell.execute_reply.started": "2025-01-29T16:14:54.754253Z"
    },
    "trusted": true
   },
   "outputs": [
    {
     "data": {
      "application/vnd.jupyter.widget-view+json": {
       "model_id": "6f80e13d311a4f95a3710691635dfabe",
       "version_major": 2,
       "version_minor": 0
      },
      "text/plain": [
       "Map:   0%|          | 0/108000 [00:00<?, ? examples/s]"
      ]
     },
     "metadata": {},
     "output_type": "display_data"
    },
    {
     "data": {
      "application/vnd.jupyter.widget-view+json": {
       "model_id": "f83aa0a7d71c464c949fa0467b59e54c",
       "version_major": 2,
       "version_minor": 0
      },
      "text/plain": [
       "Map:   0%|          | 0/12000 [00:00<?, ? examples/s]"
      ]
     },
     "metadata": {},
     "output_type": "display_data"
    },
    {
     "data": {
      "application/vnd.jupyter.widget-view+json": {
       "model_id": "6a3e410ad17a4519b540f833f6a01160",
       "version_major": 2,
       "version_minor": 0
      },
      "text/plain": [
       "Map:   0%|          | 0/7600 [00:00<?, ? examples/s]"
      ]
     },
     "metadata": {},
     "output_type": "display_data"
    }
   ],
   "source": [
    "tokenized_ds_distil = tokenize(datasets,tokenizer_distil)"
   ]
  },
  {
   "cell_type": "code",
   "execution_count": 32,
   "metadata": {
    "execution": {
     "iopub.execute_input": "2025-01-29T16:15:20.126968Z",
     "iopub.status.busy": "2025-01-29T16:15:20.126707Z",
     "iopub.status.idle": "2025-01-29T16:15:20.130268Z",
     "shell.execute_reply": "2025-01-29T16:15:20.129620Z",
     "shell.execute_reply.started": "2025-01-29T16:15:20.126947Z"
    },
    "trusted": true
   },
   "outputs": [],
   "source": [
    "\"\"\"\n",
    "Setting up the Data Collator object\n",
    "- The data collator is what will be responsible for the batches that we will be using to train the model (batch training)\n",
    "- It will be of the same type of the data that's being given to it (In this case, Input IDs, Attention Mask, and such...)\n",
    "\"\"\"\n",
    "data_collator = DataCollatorWithPadding(tokenizer=tokenizer_distil)"
   ]
  },
  {
   "cell_type": "code",
   "execution_count": 33,
   "metadata": {
    "execution": {
     "iopub.execute_input": "2025-01-29T16:15:20.131402Z",
     "iopub.status.busy": "2025-01-29T16:15:20.131123Z",
     "iopub.status.idle": "2025-01-29T16:15:21.731574Z",
     "shell.execute_reply": "2025-01-29T16:15:21.730883Z",
     "shell.execute_reply.started": "2025-01-29T16:15:20.131375Z"
    },
    "trusted": true
   },
   "outputs": [
    {
     "data": {
      "application/vnd.jupyter.widget-view+json": {
       "model_id": "42ddd3ae451a4989a5faa6867986ac7e",
       "version_major": 2,
       "version_minor": 0
      },
      "text/plain": [
       "model.safetensors:   0%|          | 0.00/268M [00:00<?, ?B/s]"
      ]
     },
     "metadata": {},
     "output_type": "display_data"
    },
    {
     "name": "stderr",
     "output_type": "stream",
     "text": [
      "Some weights of DistilBertForSequenceClassification were not initialized from the model checkpoint at distilbert-base-uncased and are newly initialized: ['classifier.bias', 'classifier.weight', 'pre_classifier.bias', 'pre_classifier.weight']\n",
      "You should probably TRAIN this model on a down-stream task to be able to use it for predictions and inference.\n"
     ]
    }
   ],
   "source": [
    "# Loading in the HuggingFace Transformer Model\n",
    "model_distil = AutoModelForSequenceClassification.from_pretrained(model_checkpoint_distil, num_labels=4).to(device)"
   ]
  },
  {
   "cell_type": "code",
   "execution_count": 34,
   "metadata": {
    "execution": {
     "iopub.execute_input": "2025-01-29T16:15:21.732596Z",
     "iopub.status.busy": "2025-01-29T16:15:21.732387Z",
     "iopub.status.idle": "2025-01-29T16:15:22.219527Z",
     "shell.execute_reply": "2025-01-29T16:15:22.218694Z",
     "shell.execute_reply.started": "2025-01-29T16:15:21.732578Z"
    },
    "trusted": true
   },
   "outputs": [
    {
     "name": "stdout",
     "output_type": "stream",
     "text": [
      "Size (MB):  267.86\n"
     ]
    }
   ],
   "source": [
    "print_size_of_model(model_distil)"
   ]
  },
  {
   "cell_type": "code",
   "execution_count": 35,
   "metadata": {
    "execution": {
     "iopub.execute_input": "2025-01-29T16:15:27.796184Z",
     "iopub.status.busy": "2025-01-29T16:15:27.795871Z",
     "iopub.status.idle": "2025-01-29T16:15:27.838079Z",
     "shell.execute_reply": "2025-01-29T16:15:27.837427Z",
     "shell.execute_reply.started": "2025-01-29T16:15:27.796159Z"
    },
    "trusted": true
   },
   "outputs": [
    {
     "name": "stderr",
     "output_type": "stream",
     "text": [
      "Using the `WANDB_DISABLED` environment variable is deprecated and will be removed in v5. Use the --report_to flag to control the integrations used for logging result (for instance --report_to none).\n"
     ]
    }
   ],
   "source": [
    "\"\"\"\n",
    "Fine-tuning the transformer model with our data\n",
    "\"\"\"\n",
    "# Define Training Arguments and Trainer\n",
    "training_args = TrainingArguments(\n",
    "    output_dir=\"./results_distil\",\n",
    "    save_strategy = 'epoch',\n",
    "    optim=\"adamw_torch\",\n",
    "    learning_rate=2e-5,\n",
    "    per_device_train_batch_size=16,\n",
    "    per_device_eval_batch_size=16,\n",
    "    fp16=True,\n",
    "    num_train_epochs=1,\n",
    "    weight_decay=0.01,\n",
    "    group_by_length=True\n",
    ")\n",
    "\n",
    "\n",
    "trainer_distil = Trainer (\n",
    "    model=model_distil,\n",
    "    args=training_args,\n",
    "    train_dataset=tokenized_ds_distil['train'],\n",
    "    eval_dataset=tokenized_ds_distil['validation'],\n",
    "    tokenizer=tokenizer_distil,\n",
    "    data_collator=data_collator,\n",
    ")"
   ]
  },
  {
   "cell_type": "code",
   "execution_count": 36,
   "metadata": {
    "execution": {
     "iopub.execute_input": "2025-01-29T16:15:30.434610Z",
     "iopub.status.busy": "2025-01-29T16:15:30.434317Z",
     "iopub.status.idle": "2025-01-29T16:24:28.282054Z",
     "shell.execute_reply": "2025-01-29T16:24:28.281308Z",
     "shell.execute_reply.started": "2025-01-29T16:15:30.434588Z"
    },
    "trusted": true
   },
   "outputs": [
    {
     "data": {
      "text/html": [
       "\n",
       "    <div>\n",
       "      \n",
       "      <progress value='3375' max='3375' style='width:300px; height:20px; vertical-align: middle;'></progress>\n",
       "      [3375/3375 08:21, Epoch 1/1]\n",
       "    </div>\n",
       "    <table border=\"1\" class=\"dataframe\">\n",
       "  <thead>\n",
       " <tr style=\"text-align: left;\">\n",
       "      <th>Step</th>\n",
       "      <th>Training Loss</th>\n",
       "    </tr>\n",
       "  </thead>\n",
       "  <tbody>\n",
       "    <tr>\n",
       "      <td>500</td>\n",
       "      <td>0.376400</td>\n",
       "    </tr>\n",
       "    <tr>\n",
       "      <td>1000</td>\n",
       "      <td>0.242300</td>\n",
       "    </tr>\n",
       "    <tr>\n",
       "      <td>1500</td>\n",
       "      <td>0.221600</td>\n",
       "    </tr>\n",
       "    <tr>\n",
       "      <td>2000</td>\n",
       "      <td>0.210400</td>\n",
       "    </tr>\n",
       "    <tr>\n",
       "      <td>2500</td>\n",
       "      <td>0.202100</td>\n",
       "    </tr>\n",
       "    <tr>\n",
       "      <td>3000</td>\n",
       "      <td>0.189800</td>\n",
       "    </tr>\n",
       "  </tbody>\n",
       "</table><p>"
      ],
      "text/plain": [
       "<IPython.core.display.HTML object>"
      ]
     },
     "metadata": {},
     "output_type": "display_data"
    },
    {
     "name": "stdout",
     "output_type": "stream",
     "text": [
      "CPU times: user 9min 40s, sys: 11.7 s, total: 9min 52s\n",
      "Wall time: 8min 57s\n"
     ]
    },
    {
     "data": {
      "text/plain": [
       "TrainOutput(global_step=3375, training_loss=0.23362364818431713, metrics={'train_runtime': 502.0003, 'train_samples_per_second': 215.139, 'train_steps_per_second': 6.723, 'total_flos': 1584300359706624.0, 'train_loss': 0.23362364818431713, 'epoch': 1.0})"
      ]
     },
     "execution_count": 36,
     "metadata": {},
     "output_type": "execute_result"
    }
   ],
   "source": [
    "os.environ[\"WANDB_DISABLED\"] = \"true\"\n",
    "torch.cuda.empty_cache()\n",
    "\n",
    "#29/01/25\n",
    "%time trainer_distil.train()"
   ]
  },
  {
   "cell_type": "markdown",
   "metadata": {},
   "source": [
    "## Evaluate"
   ]
  },
  {
   "cell_type": "code",
   "execution_count": 37,
   "metadata": {
    "execution": {
     "iopub.execute_input": "2025-01-29T16:24:29.336199Z",
     "iopub.status.busy": "2025-01-29T16:24:29.335906Z",
     "iopub.status.idle": "2025-01-29T16:24:47.129801Z",
     "shell.execute_reply": "2025-01-29T16:24:47.129126Z",
     "shell.execute_reply.started": "2025-01-29T16:24:29.336178Z"
    },
    "trusted": true
   },
   "outputs": [
    {
     "data": {
      "text/html": [],
      "text/plain": [
       "<IPython.core.display.HTML object>"
      ]
     },
     "metadata": {},
     "output_type": "display_data"
    }
   ],
   "source": [
    "preds = trainer_distil.predict(tokenized_ds_distil['test'])"
   ]
  },
  {
   "cell_type": "code",
   "execution_count": 38,
   "metadata": {
    "execution": {
     "iopub.execute_input": "2025-01-29T16:24:47.830940Z",
     "iopub.status.busy": "2025-01-29T16:24:47.830602Z",
     "iopub.status.idle": "2025-01-29T16:24:47.849768Z",
     "shell.execute_reply": "2025-01-29T16:24:47.849128Z",
     "shell.execute_reply.started": "2025-01-29T16:24:47.830914Z"
    },
    "trusted": true
   },
   "outputs": [
    {
     "data": {
      "text/plain": [
       "7600"
      ]
     },
     "execution_count": 38,
     "metadata": {},
     "output_type": "execute_result"
    }
   ],
   "source": [
    "preds_flat = [np.argmax(x) for x in preds[0]]\n",
    "\n",
    "len(preds_flat)"
   ]
  },
  {
   "cell_type": "code",
   "execution_count": 39,
   "metadata": {
    "execution": {
     "iopub.execute_input": "2025-01-29T16:24:48.619611Z",
     "iopub.status.busy": "2025-01-29T16:24:48.619295Z",
     "iopub.status.idle": "2025-01-29T16:24:48.630481Z",
     "shell.execute_reply": "2025-01-29T16:24:48.629547Z",
     "shell.execute_reply.started": "2025-01-29T16:24:48.619588Z"
    },
    "trusted": true
   },
   "outputs": [
    {
     "name": "stdout",
     "output_type": "stream",
     "text": [
      "Accuracy DistilBERT: 0.939\n"
     ]
    }
   ],
   "source": [
    "acc = accuracy_score(tokenized_datasets['test']['labels'], preds_flat)\n",
    "\n",
    "print(f'Accuracy DistilBERT: {np.round(acc, 3)}')"
   ]
  },
  {
   "cell_type": "markdown",
   "metadata": {},
   "source": [
    "#### We get average fscore **0.939** - after 1 epoch (8 minutes)!"
   ]
  },
  {
   "cell_type": "code",
   "execution_count": 40,
   "metadata": {
    "execution": {
     "iopub.execute_input": "2025-01-29T16:24:55.426578Z",
     "iopub.status.busy": "2025-01-29T16:24:55.426280Z",
     "iopub.status.idle": "2025-01-29T16:24:56.074225Z",
     "shell.execute_reply": "2025-01-29T16:24:56.073551Z",
     "shell.execute_reply.started": "2025-01-29T16:24:55.426556Z"
    },
    "trusted": true
   },
   "outputs": [],
   "source": [
    "\"\"\"\n",
    "Saving the model for future use\n",
    "\"\"\"\n",
    "trainer_distil.save_model(\"./DistilBERT-AG-NEWS\")"
   ]
  },
  {
   "cell_type": "markdown",
   "metadata": {},
   "source": [
    "***"
   ]
  },
  {
   "cell_type": "markdown",
   "metadata": {},
   "source": [
    "### TinyBERT"
   ]
  },
  {
   "cell_type": "code",
   "execution_count": 41,
   "metadata": {
    "execution": {
     "iopub.execute_input": "2025-01-29T16:24:58.382544Z",
     "iopub.status.busy": "2025-01-29T16:24:58.382221Z",
     "iopub.status.idle": "2025-01-29T16:24:58.386448Z",
     "shell.execute_reply": "2025-01-29T16:24:58.385671Z",
     "shell.execute_reply.started": "2025-01-29T16:24:58.382507Z"
    },
    "trusted": true
   },
   "outputs": [],
   "source": [
    "model_checkpoint_tiny = \"huawei-noah/TinyBERT_General_4L_312D\""
   ]
  },
  {
   "cell_type": "code",
   "execution_count": 42,
   "metadata": {
    "execution": {
     "iopub.execute_input": "2025-01-29T16:24:59.172287Z",
     "iopub.status.busy": "2025-01-29T16:24:59.172016Z",
     "iopub.status.idle": "2025-01-29T16:25:00.246912Z",
     "shell.execute_reply": "2025-01-29T16:25:00.246248Z",
     "shell.execute_reply.started": "2025-01-29T16:24:59.172265Z"
    },
    "trusted": true
   },
   "outputs": [
    {
     "data": {
      "application/vnd.jupyter.widget-view+json": {
       "model_id": "1cac12d319754b50b419bc64b280a840",
       "version_major": 2,
       "version_minor": 0
      },
      "text/plain": [
       "config.json:   0%|          | 0.00/409 [00:00<?, ?B/s]"
      ]
     },
     "metadata": {},
     "output_type": "display_data"
    },
    {
     "data": {
      "application/vnd.jupyter.widget-view+json": {
       "model_id": "5678482e87a44b54bf58c0212dae8b4b",
       "version_major": 2,
       "version_minor": 0
      },
      "text/plain": [
       "vocab.txt:   0%|          | 0.00/232k [00:00<?, ?B/s]"
      ]
     },
     "metadata": {},
     "output_type": "display_data"
    }
   ],
   "source": [
    "tokenizer_tiny = AutoTokenizer.from_pretrained(model_checkpoint_tiny)"
   ]
  },
  {
   "cell_type": "code",
   "execution_count": 43,
   "metadata": {
    "execution": {
     "iopub.execute_input": "2025-01-29T16:25:00.620009Z",
     "iopub.status.busy": "2025-01-29T16:25:00.619711Z",
     "iopub.status.idle": "2025-01-29T16:25:26.996831Z",
     "shell.execute_reply": "2025-01-29T16:25:26.996163Z",
     "shell.execute_reply.started": "2025-01-29T16:25:00.619985Z"
    },
    "trusted": true
   },
   "outputs": [
    {
     "data": {
      "application/vnd.jupyter.widget-view+json": {
       "model_id": "40ccdae13cca4fa1b204d654b5feeb39",
       "version_major": 2,
       "version_minor": 0
      },
      "text/plain": [
       "Map:   0%|          | 0/108000 [00:00<?, ? examples/s]"
      ]
     },
     "metadata": {},
     "output_type": "display_data"
    },
    {
     "name": "stderr",
     "output_type": "stream",
     "text": [
      "Asking to truncate to max_length but no maximum length is provided and the model has no predefined maximum length. Default to no truncation.\n"
     ]
    },
    {
     "data": {
      "application/vnd.jupyter.widget-view+json": {
       "model_id": "53831043e00e4b9484a33f67a92a8c98",
       "version_major": 2,
       "version_minor": 0
      },
      "text/plain": [
       "Map:   0%|          | 0/12000 [00:00<?, ? examples/s]"
      ]
     },
     "metadata": {},
     "output_type": "display_data"
    },
    {
     "data": {
      "application/vnd.jupyter.widget-view+json": {
       "model_id": "73b41fd04830424ab3dcaed07f4a8b6a",
       "version_major": 2,
       "version_minor": 0
      },
      "text/plain": [
       "Map:   0%|          | 0/7600 [00:00<?, ? examples/s]"
      ]
     },
     "metadata": {},
     "output_type": "display_data"
    }
   ],
   "source": [
    "tokenized_ds_tiny = tokenize(datasets,tokenizer_tiny)"
   ]
  },
  {
   "cell_type": "code",
   "execution_count": 44,
   "metadata": {
    "execution": {
     "iopub.execute_input": "2025-01-29T16:25:26.998096Z",
     "iopub.status.busy": "2025-01-29T16:25:26.997891Z",
     "iopub.status.idle": "2025-01-29T16:25:28.360964Z",
     "shell.execute_reply": "2025-01-29T16:25:28.360025Z",
     "shell.execute_reply.started": "2025-01-29T16:25:26.998078Z"
    },
    "trusted": true
   },
   "outputs": [
    {
     "data": {
      "application/vnd.jupyter.widget-view+json": {
       "model_id": "f0e1ca86ec5c4ac090734a5dd42332ea",
       "version_major": 2,
       "version_minor": 0
      },
      "text/plain": [
       "pytorch_model.bin:   0%|          | 0.00/62.7M [00:00<?, ?B/s]"
      ]
     },
     "metadata": {},
     "output_type": "display_data"
    },
    {
     "name": "stderr",
     "output_type": "stream",
     "text": [
      "Some weights of BertForSequenceClassification were not initialized from the model checkpoint at huawei-noah/TinyBERT_General_4L_312D and are newly initialized: ['classifier.bias', 'classifier.weight']\n",
      "You should probably TRAIN this model on a down-stream task to be able to use it for predictions and inference.\n"
     ]
    }
   ],
   "source": [
    "data_collator = DataCollatorWithPadding(tokenizer=tokenizer_tiny)\n",
    "\n",
    "model_tiny = AutoModelForSequenceClassification.from_pretrained(model_checkpoint_tiny, num_labels=4).to(device)"
   ]
  },
  {
   "cell_type": "code",
   "execution_count": 45,
   "metadata": {
    "execution": {
     "iopub.execute_input": "2025-01-29T16:25:28.362566Z",
     "iopub.status.busy": "2025-01-29T16:25:28.362316Z",
     "iopub.status.idle": "2025-01-29T16:25:28.490145Z",
     "shell.execute_reply": "2025-01-29T16:25:28.489371Z",
     "shell.execute_reply.started": "2025-01-29T16:25:28.362545Z"
    },
    "trusted": true
   },
   "outputs": [
    {
     "name": "stdout",
     "output_type": "stream",
     "text": [
      "Size (MB):  57.43\n"
     ]
    }
   ],
   "source": [
    "print_size_of_model(model_tiny)"
   ]
  },
  {
   "cell_type": "code",
   "execution_count": 46,
   "metadata": {
    "execution": {
     "iopub.execute_input": "2025-01-29T16:25:34.103358Z",
     "iopub.status.busy": "2025-01-29T16:25:34.103062Z",
     "iopub.status.idle": "2025-01-29T16:25:34.143716Z",
     "shell.execute_reply": "2025-01-29T16:25:34.143096Z",
     "shell.execute_reply.started": "2025-01-29T16:25:34.103330Z"
    },
    "trusted": true
   },
   "outputs": [
    {
     "name": "stderr",
     "output_type": "stream",
     "text": [
      "Using the `WANDB_DISABLED` environment variable is deprecated and will be removed in v5. Use the --report_to flag to control the integrations used for logging result (for instance --report_to none).\n"
     ]
    }
   ],
   "source": [
    "# Slightly modified training Arguments\n",
    "training_args = TrainingArguments(\n",
    "    output_dir=\"./results_tiny\",\n",
    "    save_strategy = 'epoch',\n",
    "    optim=\"adamw_torch\",\n",
    "    learning_rate=2e-5,\n",
    "    per_device_train_batch_size=16,\n",
    "    per_device_eval_batch_size=16,\n",
    "    fp16=True,\n",
    "    num_train_epochs=1,\n",
    "    weight_decay=0.01,\n",
    "    group_by_length=True\n",
    ")\n",
    "\n",
    "\n",
    "trainer_tiny = Trainer (\n",
    "    model=model_tiny,\n",
    "    args=training_args,\n",
    "    train_dataset=tokenized_ds_tiny['train'],\n",
    "    eval_dataset=tokenized_ds_tiny['validation'],\n",
    "    tokenizer=tokenizer_tiny,\n",
    "    data_collator=data_collator,\n",
    ")"
   ]
  },
  {
   "cell_type": "code",
   "execution_count": 47,
   "metadata": {
    "execution": {
     "iopub.execute_input": "2025-01-29T16:25:39.458913Z",
     "iopub.status.busy": "2025-01-29T16:25:39.458565Z",
     "iopub.status.idle": "2025-01-29T16:28:34.865553Z",
     "shell.execute_reply": "2025-01-29T16:28:34.864674Z",
     "shell.execute_reply.started": "2025-01-29T16:25:39.458885Z"
    },
    "trusted": true
   },
   "outputs": [
    {
     "data": {
      "text/html": [
       "\n",
       "    <div>\n",
       "      \n",
       "      <progress value='3375' max='3375' style='width:300px; height:20px; vertical-align: middle;'></progress>\n",
       "      [3375/3375 02:14, Epoch 1/1]\n",
       "    </div>\n",
       "    <table border=\"1\" class=\"dataframe\">\n",
       "  <thead>\n",
       " <tr style=\"text-align: left;\">\n",
       "      <th>Step</th>\n",
       "      <th>Training Loss</th>\n",
       "    </tr>\n",
       "  </thead>\n",
       "  <tbody>\n",
       "    <tr>\n",
       "      <td>500</td>\n",
       "      <td>0.729300</td>\n",
       "    </tr>\n",
       "    <tr>\n",
       "      <td>1000</td>\n",
       "      <td>0.372100</td>\n",
       "    </tr>\n",
       "    <tr>\n",
       "      <td>1500</td>\n",
       "      <td>0.327800</td>\n",
       "    </tr>\n",
       "    <tr>\n",
       "      <td>2000</td>\n",
       "      <td>0.315500</td>\n",
       "    </tr>\n",
       "    <tr>\n",
       "      <td>2500</td>\n",
       "      <td>0.293300</td>\n",
       "    </tr>\n",
       "    <tr>\n",
       "      <td>3000</td>\n",
       "      <td>0.287100</td>\n",
       "    </tr>\n",
       "  </tbody>\n",
       "</table><p>"
      ],
      "text/plain": [
       "<IPython.core.display.HTML object>"
      ]
     },
     "metadata": {},
     "output_type": "display_data"
    },
    {
     "name": "stdout",
     "output_type": "stream",
     "text": [
      "CPU times: user 3min 21s, sys: 5.98 s, total: 3min 26s\n",
      "Wall time: 2min 55s\n"
     ]
    },
    {
     "data": {
      "text/plain": [
       "TrainOutput(global_step=3375, training_loss=0.3750506049262153, metrics={'train_runtime': 134.264, 'train_samples_per_second': 804.385, 'train_steps_per_second': 25.137, 'total_flos': 171510224320512.0, 'train_loss': 0.3750506049262153, 'epoch': 1.0})"
      ]
     },
     "execution_count": 47,
     "metadata": {},
     "output_type": "execute_result"
    }
   ],
   "source": [
    "os.environ[\"WANDB_DISABLED\"] = \"true\"\n",
    "torch.cuda.empty_cache()\n",
    "\n",
    "#29/01/25\n",
    "%time trainer_tiny.train()"
   ]
  },
  {
   "cell_type": "markdown",
   "metadata": {},
   "source": [
    "## Evaluate"
   ]
  },
  {
   "cell_type": "code",
   "execution_count": 48,
   "metadata": {
    "execution": {
     "iopub.execute_input": "2025-01-29T16:28:38.481146Z",
     "iopub.status.busy": "2025-01-29T16:28:38.480860Z",
     "iopub.status.idle": "2025-01-29T16:28:43.280230Z",
     "shell.execute_reply": "2025-01-29T16:28:43.279485Z",
     "shell.execute_reply.started": "2025-01-29T16:28:38.481125Z"
    },
    "trusted": true
   },
   "outputs": [
    {
     "data": {
      "text/html": [],
      "text/plain": [
       "<IPython.core.display.HTML object>"
      ]
     },
     "metadata": {},
     "output_type": "display_data"
    }
   ],
   "source": [
    "preds = trainer_tiny.predict(tokenized_ds_tiny['test'])"
   ]
  },
  {
   "cell_type": "code",
   "execution_count": 49,
   "metadata": {
    "execution": {
     "iopub.execute_input": "2025-01-29T16:28:43.281515Z",
     "iopub.status.busy": "2025-01-29T16:28:43.281225Z",
     "iopub.status.idle": "2025-01-29T16:28:43.301258Z",
     "shell.execute_reply": "2025-01-29T16:28:43.300297Z",
     "shell.execute_reply.started": "2025-01-29T16:28:43.281493Z"
    },
    "trusted": true
   },
   "outputs": [
    {
     "data": {
      "text/plain": [
       "7600"
      ]
     },
     "execution_count": 49,
     "metadata": {},
     "output_type": "execute_result"
    }
   ],
   "source": [
    "preds_flat = [np.argmax(x) for x in preds[0]]\n",
    "len(preds_flat)"
   ]
  },
  {
   "cell_type": "code",
   "execution_count": 50,
   "metadata": {
    "execution": {
     "iopub.execute_input": "2025-01-29T16:28:43.303240Z",
     "iopub.status.busy": "2025-01-29T16:28:43.303019Z",
     "iopub.status.idle": "2025-01-29T16:28:43.312963Z",
     "shell.execute_reply": "2025-01-29T16:28:43.312212Z",
     "shell.execute_reply.started": "2025-01-29T16:28:43.303221Z"
    },
    "trusted": true
   },
   "outputs": [
    {
     "name": "stdout",
     "output_type": "stream",
     "text": [
      "Accuracy TinyBERT: 0.907\n"
     ]
    }
   ],
   "source": [
    "acc = accuracy_score(tokenized_datasets['test']['labels'], preds_flat)\n",
    "\n",
    "print(f'Accuracy TinyBERT: {np.round(acc, 3)}')"
   ]
  },
  {
   "cell_type": "markdown",
   "metadata": {},
   "source": [
    "#### We get average fscore **0.91** - after 1 epoch (2 minutes)!"
   ]
  },
  {
   "cell_type": "code",
   "execution_count": 51,
   "metadata": {
    "execution": {
     "iopub.execute_input": "2025-01-29T16:28:47.969493Z",
     "iopub.status.busy": "2025-01-29T16:28:47.969209Z",
     "iopub.status.idle": "2025-01-29T16:28:48.120616Z",
     "shell.execute_reply": "2025-01-29T16:28:48.119729Z",
     "shell.execute_reply.started": "2025-01-29T16:28:47.969471Z"
    },
    "trusted": true
   },
   "outputs": [],
   "source": [
    "\"\"\"\n",
    "Saving the model for future use\n",
    "\"\"\"\n",
    "trainer_tiny.save_model(\"./TinyBERT-AG-NEWS\")"
   ]
  },
  {
   "cell_type": "markdown",
   "metadata": {},
   "source": [
    "***"
   ]
  },
  {
   "cell_type": "markdown",
   "metadata": {},
   "source": [
    "### MiniLM"
   ]
  },
  {
   "cell_type": "code",
   "execution_count": 52,
   "metadata": {
    "execution": {
     "iopub.execute_input": "2025-01-29T16:28:50.882559Z",
     "iopub.status.busy": "2025-01-29T16:28:50.882269Z",
     "iopub.status.idle": "2025-01-29T16:28:50.886393Z",
     "shell.execute_reply": "2025-01-29T16:28:50.885290Z",
     "shell.execute_reply.started": "2025-01-29T16:28:50.882535Z"
    },
    "trusted": true
   },
   "outputs": [],
   "source": [
    "model_checkpoint_MiniLM = \"microsoft/MiniLM-L12-H384-uncased\""
   ]
  },
  {
   "cell_type": "code",
   "execution_count": 53,
   "metadata": {
    "execution": {
     "iopub.execute_input": "2025-01-29T16:28:51.389160Z",
     "iopub.status.busy": "2025-01-29T16:28:51.388883Z",
     "iopub.status.idle": "2025-01-29T16:28:54.034551Z",
     "shell.execute_reply": "2025-01-29T16:28:54.033876Z",
     "shell.execute_reply.started": "2025-01-29T16:28:51.389137Z"
    },
    "trusted": true
   },
   "outputs": [
    {
     "data": {
      "application/vnd.jupyter.widget-view+json": {
       "model_id": "003ee15ac7574c74834de47b1cd7d901",
       "version_major": 2,
       "version_minor": 0
      },
      "text/plain": [
       "tokenizer_config.json:   0%|          | 0.00/2.00 [00:00<?, ?B/s]"
      ]
     },
     "metadata": {},
     "output_type": "display_data"
    },
    {
     "data": {
      "application/vnd.jupyter.widget-view+json": {
       "model_id": "e2e6bc6d6809439c94b5af79045dc7b1",
       "version_major": 2,
       "version_minor": 0
      },
      "text/plain": [
       "config.json:   0%|          | 0.00/385 [00:00<?, ?B/s]"
      ]
     },
     "metadata": {},
     "output_type": "display_data"
    },
    {
     "data": {
      "application/vnd.jupyter.widget-view+json": {
       "model_id": "be30d057fce048a8b56c51329a15165f",
       "version_major": 2,
       "version_minor": 0
      },
      "text/plain": [
       "vocab.txt:   0%|          | 0.00/232k [00:00<?, ?B/s]"
      ]
     },
     "metadata": {},
     "output_type": "display_data"
    },
    {
     "data": {
      "application/vnd.jupyter.widget-view+json": {
       "model_id": "292042cfbb0949fbacef9b164a5236ec",
       "version_major": 2,
       "version_minor": 0
      },
      "text/plain": [
       "special_tokens_map.json:   0%|          | 0.00/112 [00:00<?, ?B/s]"
      ]
     },
     "metadata": {},
     "output_type": "display_data"
    }
   ],
   "source": [
    "tokenizer_MiniLM = AutoTokenizer.from_pretrained(model_checkpoint_MiniLM)"
   ]
  },
  {
   "cell_type": "code",
   "execution_count": 54,
   "metadata": {
    "execution": {
     "iopub.execute_input": "2025-01-29T16:28:54.035855Z",
     "iopub.status.busy": "2025-01-29T16:28:54.035564Z",
     "iopub.status.idle": "2025-01-29T16:29:20.394570Z",
     "shell.execute_reply": "2025-01-29T16:29:20.393954Z",
     "shell.execute_reply.started": "2025-01-29T16:28:54.035820Z"
    },
    "trusted": true
   },
   "outputs": [
    {
     "data": {
      "application/vnd.jupyter.widget-view+json": {
       "model_id": "37c651c3b6994ab78f381809b11f7d46",
       "version_major": 2,
       "version_minor": 0
      },
      "text/plain": [
       "Map:   0%|          | 0/108000 [00:00<?, ? examples/s]"
      ]
     },
     "metadata": {},
     "output_type": "display_data"
    },
    {
     "name": "stderr",
     "output_type": "stream",
     "text": [
      "Asking to truncate to max_length but no maximum length is provided and the model has no predefined maximum length. Default to no truncation.\n"
     ]
    },
    {
     "data": {
      "application/vnd.jupyter.widget-view+json": {
       "model_id": "a3000204ed5342628dbdf71806f78ecd",
       "version_major": 2,
       "version_minor": 0
      },
      "text/plain": [
       "Map:   0%|          | 0/12000 [00:00<?, ? examples/s]"
      ]
     },
     "metadata": {},
     "output_type": "display_data"
    },
    {
     "data": {
      "application/vnd.jupyter.widget-view+json": {
       "model_id": "095fb8d138cb4f109b15bdd3eafc0ba7",
       "version_major": 2,
       "version_minor": 0
      },
      "text/plain": [
       "Map:   0%|          | 0/7600 [00:00<?, ? examples/s]"
      ]
     },
     "metadata": {},
     "output_type": "display_data"
    }
   ],
   "source": [
    "tokenized_ds_MiniLM = tokenize(datasets, tokenizer_MiniLM)"
   ]
  },
  {
   "cell_type": "code",
   "execution_count": 55,
   "metadata": {
    "execution": {
     "iopub.execute_input": "2025-01-29T16:29:20.396470Z",
     "iopub.status.busy": "2025-01-29T16:29:20.396241Z",
     "iopub.status.idle": "2025-01-29T16:29:20.399762Z",
     "shell.execute_reply": "2025-01-29T16:29:20.399137Z",
     "shell.execute_reply.started": "2025-01-29T16:29:20.396449Z"
    },
    "trusted": true
   },
   "outputs": [],
   "source": [
    "data_collator = DataCollatorWithPadding(tokenizer=tokenizer_MiniLM)"
   ]
  },
  {
   "cell_type": "code",
   "execution_count": 56,
   "metadata": {
    "execution": {
     "iopub.execute_input": "2025-01-29T16:29:20.401079Z",
     "iopub.status.busy": "2025-01-29T16:29:20.400799Z",
     "iopub.status.idle": "2025-01-29T16:29:22.928399Z",
     "shell.execute_reply": "2025-01-29T16:29:22.927759Z",
     "shell.execute_reply.started": "2025-01-29T16:29:20.401058Z"
    },
    "trusted": true
   },
   "outputs": [
    {
     "data": {
      "application/vnd.jupyter.widget-view+json": {
       "model_id": "4f6bfbf4189c4dc8b616ae70641df1b4",
       "version_major": 2,
       "version_minor": 0
      },
      "text/plain": [
       "pytorch_model.bin:   0%|          | 0.00/133M [00:00<?, ?B/s]"
      ]
     },
     "metadata": {},
     "output_type": "display_data"
    },
    {
     "name": "stderr",
     "output_type": "stream",
     "text": [
      "Some weights of BertForSequenceClassification were not initialized from the model checkpoint at microsoft/MiniLM-L12-H384-uncased and are newly initialized: ['classifier.bias', 'classifier.weight']\n",
      "You should probably TRAIN this model on a down-stream task to be able to use it for predictions and inference.\n"
     ]
    }
   ],
   "source": [
    "model_MiniLM = AutoModelForSequenceClassification.from_pretrained(model_checkpoint_MiniLM, num_labels=4).to(device)"
   ]
  },
  {
   "cell_type": "code",
   "execution_count": 57,
   "metadata": {
    "execution": {
     "iopub.execute_input": "2025-01-29T16:29:22.929457Z",
     "iopub.status.busy": "2025-01-29T16:29:22.929174Z",
     "iopub.status.idle": "2025-01-29T16:29:23.180690Z",
     "shell.execute_reply": "2025-01-29T16:29:23.179910Z",
     "shell.execute_reply.started": "2025-01-29T16:29:22.929430Z"
    },
    "trusted": true
   },
   "outputs": [
    {
     "name": "stdout",
     "output_type": "stream",
     "text": [
      "Size (MB):  133.51\n"
     ]
    }
   ],
   "source": [
    "print_size_of_model(model_MiniLM)"
   ]
  },
  {
   "cell_type": "code",
   "execution_count": 58,
   "metadata": {
    "execution": {
     "iopub.execute_input": "2025-01-29T16:29:29.534586Z",
     "iopub.status.busy": "2025-01-29T16:29:29.534283Z",
     "iopub.status.idle": "2025-01-29T16:29:29.576603Z",
     "shell.execute_reply": "2025-01-29T16:29:29.575761Z",
     "shell.execute_reply.started": "2025-01-29T16:29:29.534563Z"
    },
    "trusted": true
   },
   "outputs": [
    {
     "name": "stderr",
     "output_type": "stream",
     "text": [
      "Using the `WANDB_DISABLED` environment variable is deprecated and will be removed in v5. Use the --report_to flag to control the integrations used for logging result (for instance --report_to none).\n"
     ]
    }
   ],
   "source": [
    "# Define Training Arguments and Trainer\n",
    "training_args = TrainingArguments(\n",
    "    output_dir=\"./results_MiniLM\",\n",
    "    save_strategy = 'epoch',\n",
    "    optim=\"adamw_torch\",\n",
    "    learning_rate=2e-5,\n",
    "    per_device_train_batch_size=16,\n",
    "    per_device_eval_batch_size=16,\n",
    "    fp16=True,\n",
    "    num_train_epochs=1,\n",
    "    weight_decay=0.01,\n",
    "    group_by_length=True\n",
    ")\n",
    "\n",
    "\n",
    "trainer_MiniLM = Trainer (\n",
    "    model=model_MiniLM,\n",
    "    args=training_args,\n",
    "    train_dataset=tokenized_ds_MiniLM['train'],\n",
    "    eval_dataset=tokenized_ds_MiniLM['validation'],\n",
    "    tokenizer=tokenizer_MiniLM,\n",
    "    data_collator=data_collator,\n",
    ")"
   ]
  },
  {
   "cell_type": "code",
   "execution_count": 59,
   "metadata": {
    "execution": {
     "iopub.execute_input": "2025-01-29T16:29:34.467986Z",
     "iopub.status.busy": "2025-01-29T16:29:34.467654Z",
     "iopub.status.idle": "2025-01-29T16:35:40.574516Z",
     "shell.execute_reply": "2025-01-29T16:35:40.573842Z",
     "shell.execute_reply.started": "2025-01-29T16:29:34.467958Z"
    },
    "trusted": true
   },
   "outputs": [
    {
     "data": {
      "text/html": [
       "\n",
       "    <div>\n",
       "      \n",
       "      <progress value='3375' max='3375' style='width:300px; height:20px; vertical-align: middle;'></progress>\n",
       "      [3375/3375 05:25, Epoch 1/1]\n",
       "    </div>\n",
       "    <table border=\"1\" class=\"dataframe\">\n",
       "  <thead>\n",
       " <tr style=\"text-align: left;\">\n",
       "      <th>Step</th>\n",
       "      <th>Training Loss</th>\n",
       "    </tr>\n",
       "  </thead>\n",
       "  <tbody>\n",
       "    <tr>\n",
       "      <td>500</td>\n",
       "      <td>0.550900</td>\n",
       "    </tr>\n",
       "    <tr>\n",
       "      <td>1000</td>\n",
       "      <td>0.302500</td>\n",
       "    </tr>\n",
       "    <tr>\n",
       "      <td>1500</td>\n",
       "      <td>0.265700</td>\n",
       "    </tr>\n",
       "    <tr>\n",
       "      <td>2000</td>\n",
       "      <td>0.247000</td>\n",
       "    </tr>\n",
       "    <tr>\n",
       "      <td>2500</td>\n",
       "      <td>0.231800</td>\n",
       "    </tr>\n",
       "    <tr>\n",
       "      <td>3000</td>\n",
       "      <td>0.212900</td>\n",
       "    </tr>\n",
       "  </tbody>\n",
       "</table><p>"
      ],
      "text/plain": [
       "<IPython.core.display.HTML object>"
      ]
     },
     "metadata": {},
     "output_type": "display_data"
    },
    {
     "name": "stdout",
     "output_type": "stream",
     "text": [
      "CPU times: user 7min 19s, sys: 13 s, total: 7min 32s\n",
      "Wall time: 6min 6s\n"
     ]
    },
    {
     "data": {
      "text/plain": [
       "TrainOutput(global_step=3375, training_loss=0.2916997296368634, metrics={'train_runtime': 325.6069, 'train_samples_per_second': 331.688, 'train_steps_per_second': 10.365, 'total_flos': 787833205254144.0, 'train_loss': 0.2916997296368634, 'epoch': 1.0})"
      ]
     },
     "execution_count": 59,
     "metadata": {},
     "output_type": "execute_result"
    }
   ],
   "source": [
    "os.environ[\"WANDB_DISABLED\"] = \"true\"\n",
    "torch.cuda.empty_cache()\n",
    "\n",
    "#29/01/25\n",
    "%time trainer_MiniLM.train()"
   ]
  },
  {
   "cell_type": "markdown",
   "metadata": {},
   "source": [
    "## Evaluate"
   ]
  },
  {
   "cell_type": "code",
   "execution_count": 60,
   "metadata": {
    "execution": {
     "iopub.execute_input": "2025-01-29T16:35:44.413175Z",
     "iopub.status.busy": "2025-01-29T16:35:44.412894Z",
     "iopub.status.idle": "2025-01-29T16:35:55.744039Z",
     "shell.execute_reply": "2025-01-29T16:35:55.743270Z",
     "shell.execute_reply.started": "2025-01-29T16:35:44.413153Z"
    },
    "trusted": true
   },
   "outputs": [
    {
     "data": {
      "text/html": [],
      "text/plain": [
       "<IPython.core.display.HTML object>"
      ]
     },
     "metadata": {},
     "output_type": "display_data"
    },
    {
     "data": {
      "text/plain": [
       "7600"
      ]
     },
     "execution_count": 60,
     "metadata": {},
     "output_type": "execute_result"
    }
   ],
   "source": [
    "preds = trainer_MiniLM.predict(tokenized_ds_MiniLM['test'])\n",
    "\n",
    "preds_flat = [np.argmax(x) for x in preds[0]]\n",
    "len(preds_flat)"
   ]
  },
  {
   "cell_type": "code",
   "execution_count": 61,
   "metadata": {
    "execution": {
     "iopub.execute_input": "2025-01-29T16:35:55.745363Z",
     "iopub.status.busy": "2025-01-29T16:35:55.745072Z",
     "iopub.status.idle": "2025-01-29T16:35:55.755429Z",
     "shell.execute_reply": "2025-01-29T16:35:55.754704Z",
     "shell.execute_reply.started": "2025-01-29T16:35:55.745341Z"
    },
    "trusted": true
   },
   "outputs": [
    {
     "name": "stdout",
     "output_type": "stream",
     "text": [
      "Accuracy MiniLM: 0.932\n"
     ]
    }
   ],
   "source": [
    "acc = accuracy_score(tokenized_datasets['test']['labels'], preds_flat)\n",
    "\n",
    "print(f'Accuracy MiniLM: {np.round(acc, 3)}')"
   ]
  },
  {
   "cell_type": "markdown",
   "metadata": {},
   "source": [
    "#### We get average fscore **0.93** - after 1 epoch (5 minutes)!"
   ]
  },
  {
   "cell_type": "code",
   "execution_count": 62,
   "metadata": {
    "execution": {
     "iopub.execute_input": "2025-01-29T16:35:57.961394Z",
     "iopub.status.busy": "2025-01-29T16:35:57.961095Z",
     "iopub.status.idle": "2025-01-29T16:35:58.276715Z",
     "shell.execute_reply": "2025-01-29T16:35:58.275825Z",
     "shell.execute_reply.started": "2025-01-29T16:35:57.961371Z"
    },
    "trusted": true
   },
   "outputs": [],
   "source": [
    "\"\"\"\n",
    "Saving the model for future use\n",
    "\"\"\"\n",
    "trainer_MiniLM.save_model(\"./MiniLMBERT-AG-NEWS\")"
   ]
  },
  {
   "cell_type": "markdown",
   "metadata": {},
   "source": [
    "## 2.3 Quantization\n",
    "`It might cause a dip in performance metrics`\n",
    "- Dynamic Quantization\n",
    "- Static Quantization\n",
    "- Quantization aware training\n",
    "Firstly, load libs for Quantization"
   ]
  },
  {
   "cell_type": "code",
   "execution_count": 63,
   "metadata": {
    "execution": {
     "iopub.execute_input": "2025-01-29T16:36:02.316355Z",
     "iopub.status.busy": "2025-01-29T16:36:02.316075Z",
     "iopub.status.idle": "2025-01-29T16:36:39.465772Z",
     "shell.execute_reply": "2025-01-29T16:36:39.464494Z",
     "shell.execute_reply.started": "2025-01-29T16:36:02.316334Z"
    },
    "trusted": true
   },
   "outputs": [],
   "source": [
    "%%capture\n",
    "# !pip install optimum\n",
    "# !pip install onnx\n",
    "!pip install optimum[onnxruntime-gpu]\n",
    "!pip install onnxruntime-training\n",
    "!pip install torch-ort"
   ]
  },
  {
   "cell_type": "code",
   "execution_count": 64,
   "metadata": {
    "execution": {
     "iopub.execute_input": "2025-01-29T16:36:39.467706Z",
     "iopub.status.busy": "2025-01-29T16:36:39.467402Z",
     "iopub.status.idle": "2025-01-29T16:40:04.461370Z",
     "shell.execute_reply": "2025-01-29T16:40:04.460244Z",
     "shell.execute_reply.started": "2025-01-29T16:36:39.467681Z"
    },
    "trusted": true
   },
   "outputs": [],
   "source": [
    "%%capture\n",
    "!python -m torch_ort.configure"
   ]
  },
  {
   "cell_type": "code",
   "execution_count": 65,
   "metadata": {
    "execution": {
     "iopub.execute_input": "2025-01-29T16:40:09.713647Z",
     "iopub.status.busy": "2025-01-29T16:40:09.713327Z",
     "iopub.status.idle": "2025-01-29T16:40:11.901059Z",
     "shell.execute_reply": "2025-01-29T16:40:11.900343Z",
     "shell.execute_reply.started": "2025-01-29T16:40:09.713622Z"
    },
    "trusted": true
   },
   "outputs": [
    {
     "data": {
      "text/plain": [
       "'GPU'"
      ]
     },
     "execution_count": 65,
     "metadata": {},
     "output_type": "execute_result"
    }
   ],
   "source": [
    "import onnxruntime as ort\n",
    "from functools import partial\n",
    "from optimum.onnxruntime import ORTModelForSequenceClassification, ORTQuantizer, ORTTrainer, ORTTrainingArguments\n",
    "from optimum.onnxruntime.configuration import AutoQuantizationConfig, AutoCalibrationConfig\n",
    "\n",
    "ort.get_device()"
   ]
  },
  {
   "cell_type": "code",
   "execution_count": 66,
   "metadata": {
    "execution": {
     "iopub.execute_input": "2025-01-29T16:40:12.173598Z",
     "iopub.status.busy": "2025-01-29T16:40:12.173325Z",
     "iopub.status.idle": "2025-01-29T16:40:12.177283Z",
     "shell.execute_reply": "2025-01-29T16:40:12.176405Z",
     "shell.execute_reply.started": "2025-01-29T16:40:12.173576Z"
    },
    "trusted": true
   },
   "outputs": [],
   "source": [
    "\"\"\"\n",
    "Defining trained BERT_base model as model_checkpoint because I compare base model result with the other versions\n",
    "\"\"\"\n",
    "model_checkpoint = './BERT_base-AG-NEWS'\n",
    "save_directory = 'tmp/onnx/'"
   ]
  },
  {
   "cell_type": "code",
   "execution_count": 67,
   "metadata": {
    "execution": {
     "iopub.execute_input": "2025-01-29T16:40:14.649614Z",
     "iopub.status.busy": "2025-01-29T16:40:14.649312Z",
     "iopub.status.idle": "2025-01-29T16:40:16.047993Z",
     "shell.execute_reply": "2025-01-29T16:40:16.047146Z",
     "shell.execute_reply.started": "2025-01-29T16:40:14.649582Z"
    },
    "trusted": true
   },
   "outputs": [
    {
     "data": {
      "application/vnd.jupyter.widget-view+json": {
       "model_id": "2d0877d785b94fc093765544029c3b1c",
       "version_major": 2,
       "version_minor": 0
      },
      "text/plain": [
       "Map:   0%|          | 0/7600 [00:00<?, ? examples/s]"
      ]
     },
     "metadata": {},
     "output_type": "display_data"
    }
   ],
   "source": [
    "\"\"\"\n",
    "Tokenize test ds with text and labels columns for further testing\n",
    "\"\"\"\n",
    "tokenizer = AutoTokenizer.from_pretrained(model_checkpoint)\n",
    "\n",
    "# tokenize and truncate dataset by batch, while removing unused column\n",
    "tokenized_test = datasets['test'].map(lambda x: tokenizer(x[\"text\"], truncation=True),\n",
    "                                 batched=True)\n",
    "\n",
    "# rename for multiclass fine-tuning\n",
    "tokenized_test_ds = tokenized_test.rename_column(\"label\", \"labels\")\n",
    "\n",
    "# set format to pytorch\n",
    "tokenized_test_ds.set_format(type=\"torch\")"
   ]
  },
  {
   "cell_type": "code",
   "execution_count": 68,
   "metadata": {
    "execution": {
     "iopub.execute_input": "2025-01-29T16:40:20.206755Z",
     "iopub.status.busy": "2025-01-29T16:40:20.206432Z",
     "iopub.status.idle": "2025-01-29T16:40:35.217739Z",
     "shell.execute_reply": "2025-01-29T16:40:35.217050Z",
     "shell.execute_reply.started": "2025-01-29T16:40:20.206720Z"
    },
    "trusted": true
   },
   "outputs": [
    {
     "name": "stderr",
     "output_type": "stream",
     "text": [
      "Hardware accelerator e.g. GPU is available in the environment, but no `device` argument is passed to the `Pipeline` object. Model will be on CPU.\n"
     ]
    }
   ],
   "source": [
    "\"\"\"\n",
    "Dynamic Quantization\n",
    "\"\"\"\n",
    "# Load a model from transformers and export it to ONNX\n",
    "ort_model = ORTModelForSequenceClassification.from_pretrained(model_checkpoint, export=True)\n",
    "\n",
    "# Save the ONNX model and tokenizer\n",
    "ort_model.save_pretrained(save_directory)\n",
    "\n",
    "# Define the quantization methodology\n",
    "qconfig = AutoQuantizationConfig.arm64(is_static=False, per_channel=False) # is_static is the param to choose dynamic/static quantization method\n",
    "quantizer = ORTQuantizer.from_pretrained(ort_model)\n",
    "\n",
    "# Apply dynamic quantization on the model\n",
    "quantizer.quantize(save_dir=save_directory, quantization_config=qconfig)\n",
    "\n",
    "# load quantized model\n",
    "quant_model = ORTModelForSequenceClassification.from_pretrained(save_directory, file_name=\"model_quantized.onnx\")\n",
    "# pass sentence through pipeline\n",
    "dynamic_pipe = pipeline(\"text-classification\", model=quant_model, tokenizer=tokenizer)"
   ]
  },
  {
   "cell_type": "markdown",
   "metadata": {},
   "source": [
    "There is some mismatching at the next steps of code snippet that's why I skipped 'device' argument (GPU/CPU)."
   ]
  },
  {
   "cell_type": "code",
   "execution_count": 69,
   "metadata": {
    "execution": {
     "iopub.execute_input": "2025-01-29T16:40:35.219363Z",
     "iopub.status.busy": "2025-01-29T16:40:35.219036Z",
     "iopub.status.idle": "2025-01-29T16:40:35.224164Z",
     "shell.execute_reply": "2025-01-29T16:40:35.223324Z",
     "shell.execute_reply.started": "2025-01-29T16:40:35.219327Z"
    },
    "trusted": true
   },
   "outputs": [
    {
     "name": "stdout",
     "output_type": "stream",
     "text": [
      "Size (MB):  110.0\n"
     ]
    }
   ],
   "source": [
    "print('Size (MB): ', np.round(os.path.getsize('tmp/onnx/model_quantized.onnx')/1e6))"
   ]
  },
  {
   "cell_type": "code",
   "execution_count": 70,
   "metadata": {
    "execution": {
     "iopub.execute_input": "2025-01-29T16:42:31.636458Z",
     "iopub.status.busy": "2025-01-29T16:42:31.636122Z",
     "iopub.status.idle": "2025-01-29T16:47:49.624049Z",
     "shell.execute_reply": "2025-01-29T16:47:49.623175Z",
     "shell.execute_reply.started": "2025-01-29T16:42:31.636435Z"
    },
    "trusted": true
   },
   "outputs": [
    {
     "data": {
      "application/vnd.jupyter.widget-view+json": {
       "model_id": "e80e08395984466e9591bc6af1f625be",
       "version_major": 2,
       "version_minor": 0
      },
      "text/plain": [
       "Downloading builder script:   0%|          | 0.00/4.20k [00:00<?, ?B/s]"
      ]
     },
     "metadata": {},
     "output_type": "display_data"
    },
    {
     "name": "stdout",
     "output_type": "stream",
     "text": [
      "{'accuracy': 0.935921052631579, 'total_time_in_seconds': 317.098838808, 'samples_per_second': 23.967290541236324, 'latency_in_seconds': 0.04172353142210526}\n"
     ]
    }
   ],
   "source": [
    "task_evaluator = evaluator(\"text-classification\")\n",
    "\n",
    "eval_results_dynamic = task_evaluator.compute(\n",
    "    model_or_pipeline=dynamic_pipe,\n",
    "    tokenizer=tokenizer,\n",
    "    metric='accuracy',\n",
    "    input_column=\"text\",\n",
    "    label_column=\"labels\",\n",
    "    data=tokenized_test_ds,\n",
    "    label_mapping=quant_model.config.label2id,\n",
    ")\n",
    "\n",
    "print(eval_results_dynamic)"
   ]
  },
  {
   "cell_type": "code",
   "execution_count": 71,
   "metadata": {
    "execution": {
     "iopub.execute_input": "2025-01-29T16:47:58.965633Z",
     "iopub.status.busy": "2025-01-29T16:47:58.965328Z",
     "iopub.status.idle": "2025-01-29T16:48:26.584845Z",
     "shell.execute_reply": "2025-01-29T16:48:26.584000Z",
     "shell.execute_reply.started": "2025-01-29T16:47:58.965608Z"
    },
    "trusted": true
   },
   "outputs": [
    {
     "data": {
      "application/vnd.jupyter.widget-view+json": {
       "model_id": "06fee8283e204299a15a11cf23b0c2e5",
       "version_major": 2,
       "version_minor": 0
      },
      "text/plain": [
       "README.md:   0%|          | 0.00/8.07k [00:00<?, ?B/s]"
      ]
     },
     "metadata": {},
     "output_type": "display_data"
    },
    {
     "data": {
      "application/vnd.jupyter.widget-view+json": {
       "model_id": "68fb2e8f9a5941afa231a97744b95d60",
       "version_major": 2,
       "version_minor": 0
      },
      "text/plain": [
       "train-00000-of-00001.parquet:   0%|          | 0.00/18.6M [00:00<?, ?B/s]"
      ]
     },
     "metadata": {},
     "output_type": "display_data"
    },
    {
     "data": {
      "application/vnd.jupyter.widget-view+json": {
       "model_id": "f476a16811504fd1975a75efc56d0771",
       "version_major": 2,
       "version_minor": 0
      },
      "text/plain": [
       "test-00000-of-00001.parquet:   0%|          | 0.00/1.23M [00:00<?, ?B/s]"
      ]
     },
     "metadata": {},
     "output_type": "display_data"
    },
    {
     "data": {
      "application/vnd.jupyter.widget-view+json": {
       "model_id": "f18eaa7c8fed43fdb1879399d7648e1c",
       "version_major": 2,
       "version_minor": 0
      },
      "text/plain": [
       "Generating train split:   0%|          | 0/120000 [00:00<?, ? examples/s]"
      ]
     },
     "metadata": {},
     "output_type": "display_data"
    },
    {
     "data": {
      "application/vnd.jupyter.widget-view+json": {
       "model_id": "c8b3c0df895347328f507237fe9436fe",
       "version_major": 2,
       "version_minor": 0
      },
      "text/plain": [
       "Generating test split:   0%|          | 0/7600 [00:00<?, ? examples/s]"
      ]
     },
     "metadata": {},
     "output_type": "display_data"
    },
    {
     "data": {
      "application/vnd.jupyter.widget-view+json": {
       "model_id": "ffdb072d3de14467a57926f89e029d61",
       "version_major": 2,
       "version_minor": 0
      },
      "text/plain": [
       "Map:   0%|          | 0/50 [00:00<?, ? examples/s]"
      ]
     },
     "metadata": {},
     "output_type": "display_data"
    },
    {
     "name": "stderr",
     "output_type": "stream",
     "text": [
      "Hardware accelerator e.g. GPU is available in the environment, but no `device` argument is passed to the `Pipeline` object. Model will be on CPU.\n"
     ]
    }
   ],
   "source": [
    "\"\"\"\n",
    "Static Quantization\n",
    "\"\"\"\n",
    "# set_static_qantization options\n",
    "onnx_model = ORTModelForSequenceClassification.from_pretrained(model_checkpoint, export=True)\n",
    "tokenizer = AutoTokenizer.from_pretrained(model_checkpoint)\n",
    "quantizer = ORTQuantizer.from_pretrained(onnx_model)\n",
    "qconfig = AutoQuantizationConfig.arm64(is_static=True, per_channel=False)\n",
    "\n",
    "# tokenizing cycle\n",
    "def preprocess_fn(ex, tokenizer):\n",
    "    return tokenizer(ex[\"text\"])\n",
    "    \n",
    "# load calibration dataset\n",
    "calibration_dataset = quantizer.get_calibration_dataset(\n",
    "    \"ag_news\",\n",
    "    # dataset_config_name=\"sst\",\n",
    "    preprocess_function=partial(preprocess_fn, tokenizer=tokenizer),\n",
    "    num_samples=50,\n",
    "    dataset_split=\"train\"\n",
    "    )\n",
    "\n",
    "# create calibration config(basic)\n",
    "calibration_config = AutoCalibrationConfig.minmax(calibration_dataset)\n",
    "\n",
    "# calibrating quantizer\n",
    "ranges = quantizer.fit(\n",
    "    dataset=calibration_dataset,\n",
    "    calibration_config=calibration_config,\n",
    "    operators_to_quantize=qconfig.operators_to_quantize\n",
    ")\n",
    "\n",
    "# quantizing\n",
    "model_quantized_path = quantizer.quantize(\n",
    "    save_dir=save_directory+'static_quantized.onnx',\n",
    "    calibration_tensors_range=ranges,\n",
    "    quantization_config=qconfig\n",
    "    )\n",
    "\n",
    "# pass sentence through pipeline\n",
    "static_quant_model = ORTModelForSequenceClassification.from_pretrained(model_quantized_path)\n",
    "static_pipe = pipeline(\"text-classification\", model=static_quant_model, tokenizer=tokenizer)"
   ]
  },
  {
   "cell_type": "code",
   "execution_count": 72,
   "metadata": {
    "execution": {
     "iopub.execute_input": "2025-01-29T16:48:26.586384Z",
     "iopub.status.busy": "2025-01-29T16:48:26.586037Z",
     "iopub.status.idle": "2025-01-29T16:48:26.591432Z",
     "shell.execute_reply": "2025-01-29T16:48:26.590442Z",
     "shell.execute_reply.started": "2025-01-29T16:48:26.586349Z"
    },
    "trusted": true
   },
   "outputs": [
    {
     "name": "stdout",
     "output_type": "stream",
     "text": [
      "Size (MB):  0.004\n"
     ]
    }
   ],
   "source": [
    "print('Size (MB): ', np.round(os.path.getsize('tmp/onnx/static_quantized.onnx')/1e6, 3))"
   ]
  },
  {
   "cell_type": "code",
   "execution_count": 73,
   "metadata": {
    "execution": {
     "iopub.execute_input": "2025-01-29T16:48:49.573267Z",
     "iopub.status.busy": "2025-01-29T16:48:49.572974Z",
     "iopub.status.idle": "2025-01-29T16:55:47.555584Z",
     "shell.execute_reply": "2025-01-29T16:55:47.554721Z",
     "shell.execute_reply.started": "2025-01-29T16:48:49.573246Z"
    },
    "trusted": true
   },
   "outputs": [
    {
     "name": "stdout",
     "output_type": "stream",
     "text": [
      "{'accuracy': 0.9303947368421053, 'total_time_in_seconds': 417.4914435290002, 'samples_per_second': 18.20396589630245, 'latency_in_seconds': 0.05493308467486845}\n"
     ]
    }
   ],
   "source": [
    "eval_results_static = task_evaluator.compute(\n",
    "    model_or_pipeline=static_pipe,\n",
    "    tokenizer=tokenizer,\n",
    "    metric='accuracy',\n",
    "    input_column=\"text\",\n",
    "    label_column=\"labels\",\n",
    "    data=tokenized_test_ds,\n",
    "    label_mapping=static_quant_model.config.label2id,\n",
    ")\n",
    "\n",
    "print(eval_results_static)"
   ]
  },
  {
   "cell_type": "code",
   "execution_count": 74,
   "metadata": {
    "execution": {
     "iopub.execute_input": "2025-01-29T16:57:10.040349Z",
     "iopub.status.busy": "2025-01-29T16:57:10.040053Z",
     "iopub.status.idle": "2025-01-29T16:57:13.456549Z",
     "shell.execute_reply": "2025-01-29T16:57:13.455893Z",
     "shell.execute_reply.started": "2025-01-29T16:57:10.040328Z"
    },
    "trusted": true
   },
   "outputs": [
    {
     "name": "stderr",
     "output_type": "stream",
     "text": [
      "Some weights of BertForSequenceClassification were not initialized from the model checkpoint at bert-base-uncased and are newly initialized: ['classifier.bias', 'classifier.weight']\n",
      "You should probably TRAIN this model on a down-stream task to be able to use it for predictions and inference.\n"
     ]
    },
    {
     "data": {
      "application/vnd.jupyter.widget-view+json": {
       "model_id": "404d74cb6b3548b0b8dd5a5f79eac941",
       "version_major": 2,
       "version_minor": 0
      },
      "text/plain": [
       "Map:   0%|          | 0/12000 [00:00<?, ? examples/s]"
      ]
     },
     "metadata": {},
     "output_type": "display_data"
    },
    {
     "name": "stderr",
     "output_type": "stream",
     "text": [
      "Using the `WANDB_DISABLED` environment variable is deprecated and will be removed in v5. Use the --report_to flag to control the integrations used for logging result (for instance --report_to none).\n"
     ]
    }
   ],
   "source": [
    "\"\"\"\n",
    "Quantization aware training\n",
    "\"\"\"\n",
    "# Load unpretrained model and quantize while training is going.\n",
    "# I will take dataset which I already used with distiled models, and the same model params\n",
    "model_qat = AutoModelForSequenceClassification.from_pretrained('bert-base-uncased', num_labels=4).to(device)\n",
    "tokenizer = AutoTokenizer.from_pretrained('bert-base-uncased')\n",
    "\n",
    "# Dataset preprocessing\n",
    "tokenized_ds = tokenize(datasets, tokenizer=tokenizer)\n",
    "data_collator = DataCollatorWithPadding(tokenizer=tokenizer)\n",
    "\n",
    "# Define training arguments\n",
    "training_args = ORTTrainingArguments(\n",
    "    output_dir=\"./results_quantized\",\n",
    "    save_strategy = 'epoch',\n",
    "    optim=\"adamw_ort_fused\",\n",
    "    learning_rate=2e-5,\n",
    "    per_device_train_batch_size=16,\n",
    "    per_device_eval_batch_size=16,\n",
    "    fp16=True,\n",
    "    num_train_epochs=1,\n",
    "    weight_decay=0.01,\n",
    "    group_by_length=True\n",
    ")\n",
    "\n",
    "# Create ONNX Runtime Trainer\n",
    "trainer_quantized_model = ORTTrainer(\n",
    "    model=model_qat,\n",
    "    args=training_args,\n",
    "    train_dataset=tokenized_ds['train'],\n",
    "    eval_dataset=tokenized_ds['validation'],\n",
    "    tokenizer=tokenizer,\n",
    "    data_collator=data_collator   \n",
    ")"
   ]
  },
  {
   "cell_type": "code",
   "execution_count": 75,
   "metadata": {
    "execution": {
     "iopub.execute_input": "2025-01-29T16:57:26.507793Z",
     "iopub.status.busy": "2025-01-29T16:57:26.507493Z",
     "iopub.status.idle": "2025-01-29T17:13:15.406913Z",
     "shell.execute_reply": "2025-01-29T17:13:15.405995Z",
     "shell.execute_reply.started": "2025-01-29T16:57:26.507770Z"
    },
    "trusted": true
   },
   "outputs": [
    {
     "data": {
      "text/html": [
       "\n",
       "    <div>\n",
       "      \n",
       "      <progress value='3375' max='3375' style='width:300px; height:20px; vertical-align: middle;'></progress>\n",
       "      [3375/3375 15:06, Epoch 1/1]\n",
       "    </div>\n",
       "    <table border=\"1\" class=\"dataframe\">\n",
       "  <thead>\n",
       " <tr style=\"text-align: left;\">\n",
       "      <th>Step</th>\n",
       "      <th>Training Loss</th>\n",
       "    </tr>\n",
       "  </thead>\n",
       "  <tbody>\n",
       "    <tr>\n",
       "      <td>500</td>\n",
       "      <td>0.357700</td>\n",
       "    </tr>\n",
       "    <tr>\n",
       "      <td>1000</td>\n",
       "      <td>0.232600</td>\n",
       "    </tr>\n",
       "    <tr>\n",
       "      <td>1500</td>\n",
       "      <td>0.206800</td>\n",
       "    </tr>\n",
       "    <tr>\n",
       "      <td>2000</td>\n",
       "      <td>0.196200</td>\n",
       "    </tr>\n",
       "    <tr>\n",
       "      <td>2500</td>\n",
       "      <td>0.187600</td>\n",
       "    </tr>\n",
       "    <tr>\n",
       "      <td>3000</td>\n",
       "      <td>0.178700</td>\n",
       "    </tr>\n",
       "  </tbody>\n",
       "</table><p>"
      ],
      "text/plain": [
       "<IPython.core.display.HTML object>"
      ]
     },
     "metadata": {},
     "output_type": "display_data"
    },
    {
     "name": "stdout",
     "output_type": "stream",
     "text": [
      "CPU times: user 18min 38s, sys: 16.5 s, total: 18min 54s\n",
      "Wall time: 15min 48s\n"
     ]
    },
    {
     "data": {
      "text/plain": [
       "TrainOutput(global_step=3375, training_loss=0.22043081552010996, metrics={'train_runtime': 907.712, 'train_samples_per_second': 118.98, 'train_steps_per_second': 3.718, 'total_flos': 3146733172058112.0, 'train_loss': 0.22043081552010996, 'epoch': 1.0})"
      ]
     },
     "execution_count": 75,
     "metadata": {},
     "output_type": "execute_result"
    }
   ],
   "source": [
    "# Train the model while applying quantization\n",
    "os.environ[\"WANDB_DISABLED\"] = \"true\"\n",
    "torch.cuda.empty_cache()\n",
    "\n",
    "#29/01/25\n",
    "%time trainer_quantized_model.train()"
   ]
  },
  {
   "cell_type": "code",
   "execution_count": 76,
   "metadata": {
    "execution": {
     "iopub.execute_input": "2025-01-29T17:13:24.977672Z",
     "iopub.status.busy": "2025-01-29T17:13:24.977380Z",
     "iopub.status.idle": "2025-01-29T17:13:26.012187Z",
     "shell.execute_reply": "2025-01-29T17:13:26.011482Z",
     "shell.execute_reply.started": "2025-01-29T17:13:24.977652Z"
    },
    "trusted": true
   },
   "outputs": [],
   "source": [
    "# Export the quantized model and save it\n",
    "trainer_quantized_model.save_model(\"./model_qat_aware_training\")"
   ]
  },
  {
   "cell_type": "code",
   "execution_count": 78,
   "metadata": {
    "execution": {
     "iopub.execute_input": "2025-01-29T17:13:42.711730Z",
     "iopub.status.busy": "2025-01-29T17:13:42.711449Z",
     "iopub.status.idle": "2025-01-29T17:13:42.716554Z",
     "shell.execute_reply": "2025-01-29T17:13:42.715683Z",
     "shell.execute_reply.started": "2025-01-29T17:13:42.711709Z"
    },
    "trusted": true
   },
   "outputs": [
    {
     "name": "stdout",
     "output_type": "stream",
     "text": [
      "Size (MB):  0.004096\n"
     ]
    }
   ],
   "source": [
    "print('Size (MB): ', os.path.getsize('model_qat_aware_training')/1e6)"
   ]
  },
  {
   "cell_type": "code",
   "execution_count": 79,
   "metadata": {
    "execution": {
     "iopub.execute_input": "2025-01-29T17:13:52.564006Z",
     "iopub.status.busy": "2025-01-29T17:13:52.563700Z",
     "iopub.status.idle": "2025-01-29T17:14:27.381520Z",
     "shell.execute_reply": "2025-01-29T17:14:27.380773Z",
     "shell.execute_reply.started": "2025-01-29T17:13:52.563983Z"
    },
    "trusted": true
   },
   "outputs": [
    {
     "data": {
      "text/html": [],
      "text/plain": [
       "<IPython.core.display.HTML object>"
      ]
     },
     "metadata": {},
     "output_type": "display_data"
    },
    {
     "data": {
      "text/plain": [
       "7600"
      ]
     },
     "execution_count": 79,
     "metadata": {},
     "output_type": "execute_result"
    }
   ],
   "source": [
    "\"\"\"\n",
    "Evaluation\n",
    "\"\"\"\n",
    "preds = trainer_quantized_model.predict(tokenized_ds['test'])\n",
    "\n",
    "preds_flat = [np.argmax(x) for x in preds[0]]\n",
    "len(preds_flat)"
   ]
  },
  {
   "cell_type": "code",
   "execution_count": 80,
   "metadata": {
    "execution": {
     "iopub.execute_input": "2025-01-29T17:14:29.692835Z",
     "iopub.status.busy": "2025-01-29T17:14:29.692508Z",
     "iopub.status.idle": "2025-01-29T17:14:29.703279Z",
     "shell.execute_reply": "2025-01-29T17:14:29.702455Z",
     "shell.execute_reply.started": "2025-01-29T17:14:29.692785Z"
    },
    "trusted": true
   },
   "outputs": [
    {
     "name": "stdout",
     "output_type": "stream",
     "text": [
      "Accuracy Quantization aware training: 0.941\n"
     ]
    }
   ],
   "source": [
    "acc = accuracy_score(tokenized_datasets['test']['labels'], preds_flat)\n",
    "print(f'Accuracy Quantization aware training: {np.round(acc, 3)}')"
   ]
  },
  {
   "cell_type": "markdown",
   "metadata": {},
   "source": [
    "# 3. Results"
   ]
  },
  {
   "cell_type": "code",
   "execution_count": 81,
   "metadata": {
    "execution": {
     "iopub.execute_input": "2025-01-29T17:14:42.737601Z",
     "iopub.status.busy": "2025-01-29T17:14:42.737294Z",
     "iopub.status.idle": "2025-01-29T17:14:42.769525Z",
     "shell.execute_reply": "2025-01-29T17:14:42.768808Z",
     "shell.execute_reply.started": "2025-01-29T17:14:42.737578Z"
    },
    "trusted": true
   },
   "outputs": [
    {
     "data": {
      "text/html": [
       "<div>\n",
       "<style scoped>\n",
       "    .dataframe tbody tr th:only-of-type {\n",
       "        vertical-align: middle;\n",
       "    }\n",
       "\n",
       "    .dataframe tbody tr th {\n",
       "        vertical-align: top;\n",
       "    }\n",
       "\n",
       "    .dataframe thead th {\n",
       "        text-align: right;\n",
       "    }\n",
       "</style>\n",
       "<table border=\"1\" class=\"dataframe\">\n",
       "  <thead>\n",
       "    <tr style=\"text-align: right;\">\n",
       "      <th></th>\n",
       "      <th>Model name</th>\n",
       "      <th>Accuracy score on test data</th>\n",
       "      <th>Model size (MiB)</th>\n",
       "    </tr>\n",
       "  </thead>\n",
       "  <tbody>\n",
       "    <tr>\n",
       "      <th>0</th>\n",
       "      <td>Bert</td>\n",
       "      <td>0.94</td>\n",
       "      <td>438</td>\n",
       "    </tr>\n",
       "    <tr>\n",
       "      <th>1</th>\n",
       "      <td>Distil_Bert</td>\n",
       "      <td>0.938</td>\n",
       "      <td>267.86</td>\n",
       "    </tr>\n",
       "    <tr>\n",
       "      <th>2</th>\n",
       "      <td>Tiny_Bert</td>\n",
       "      <td>0.91</td>\n",
       "      <td>57.43</td>\n",
       "    </tr>\n",
       "    <tr>\n",
       "      <th>3</th>\n",
       "      <td>MiniLM</td>\n",
       "      <td>0.93</td>\n",
       "      <td>133.51</td>\n",
       "    </tr>\n",
       "    <tr>\n",
       "      <th>4</th>\n",
       "      <td>Dynamic_Quantization</td>\n",
       "      <td>0.935</td>\n",
       "      <td>110</td>\n",
       "    </tr>\n",
       "    <tr>\n",
       "      <th>5</th>\n",
       "      <td>Static_Quantization</td>\n",
       "      <td>0.93</td>\n",
       "      <td>0.004</td>\n",
       "    </tr>\n",
       "    <tr>\n",
       "      <th>6</th>\n",
       "      <td>Quantization_aware_training</td>\n",
       "      <td>0.94</td>\n",
       "      <td>0.004</td>\n",
       "    </tr>\n",
       "  </tbody>\n",
       "</table>\n",
       "</div>"
      ],
      "text/plain": [
       "                    Model name Accuracy score on test data Model size (MiB)\n",
       "0                         Bert                        0.94              438\n",
       "1                  Distil_Bert                       0.938           267.86\n",
       "2                    Tiny_Bert                        0.91            57.43\n",
       "3                       MiniLM                        0.93           133.51\n",
       "4         Dynamic_Quantization                       0.935              110\n",
       "5          Static_Quantization                        0.93            0.004\n",
       "6  Quantization_aware_training                        0.94            0.004"
      ]
     },
     "metadata": {},
     "output_type": "display_data"
    }
   ],
   "source": [
    "result_df = pd.DataFrame(\n",
    "    {'Model name': ['Bert', 'Distil_Bert', 'Tiny_Bert', 'MiniLM', 'Dynamic_Quantization', 'Static_Quantization', 'Quantization_aware_training'],\n",
    "     'Accuracy score on test data': ['0.94', '0.938', '0.91', '0.93', '0.935', '0.93', '0.94'],\n",
    "     'Model size (MiB)': ['438', '267.86', '57.43', '133.51', '110', '0.004', '0.004']\n",
    "    }\n",
    ")\n",
    "\n",
    "display(result_df)"
   ]
  },
  {
   "cell_type": "markdown",
   "metadata": {},
   "source": [
    "## Conclusion\n",
    "\n",
    "As can be seen from the results tables, the success of the models does not vary by a great margin.\n",
    "But distilled and quantized models' size is much smaller than bert_base model. It's great!"
   ]
  }
 ],
 "metadata": {
  "kaggle": {
   "accelerator": "nvidiaTeslaT4",
   "dataSources": [],
   "dockerImageVersionId": 30822,
   "isGpuEnabled": true,
   "isInternetEnabled": true,
   "language": "python",
   "sourceType": "notebook"
  },
  "kernelspec": {
   "display_name": "Python 3",
   "language": "python",
   "name": "python3"
  },
  "language_info": {
   "codemirror_mode": {
    "name": "ipython",
    "version": 3
   },
   "file_extension": ".py",
   "mimetype": "text/x-python",
   "name": "python",
   "nbconvert_exporter": "python",
   "pygments_lexer": "ipython3",
   "version": "3.10.12"
  }
 },
 "nbformat": 4,
 "nbformat_minor": 4
}
