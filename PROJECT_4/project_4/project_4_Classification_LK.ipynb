{
 "cells": [
  {
   "attachments": {},
   "cell_type": "markdown",
   "id": "c353de9a",
   "metadata": {},
   "source": [
    "# <center> Study Project-4: Classification"
   ]
  },
  {
   "attachments": {},
   "cell_type": "markdown",
   "id": "cd96d078",
   "metadata": {},
   "source": [
    "**Business Task**\n",
    "\n",
    "Banks often need to run a marketing campaign in order to sell a product to potential customers.\n",
    "Our task to define customer characteristics which one is ready to open deposit.\n",
    "\n",
    "**Technical Task**\n",
    "* Using the data to build a model that predicts whether the client will open a deposit - 1/0\n",
    "\n",
    "**Task**\n",
    "* Binary classification\n",
    "\n",
    "**Metrics:** F1_score\n",
    "\n",
    "**Data:** The csv file contains 17 fields (16 + 1 target)"
   ]
  },
  {
   "attachments": {},
   "cell_type": "markdown",
   "id": "077014e7",
   "metadata": {},
   "source": [
    "# <p style=\"text-align:center;font-size:100%;\">0. Install and Import</p>"
   ]
  },
  {
   "cell_type": "code",
   "execution_count": 1,
   "id": "4a6e54dc",
   "metadata": {},
   "outputs": [],
   "source": [
    "# Installing libs: Optimisation of Hypermarameters\n",
    "# !pip install optuna\n",
    "import optuna\n",
    "\n",
    "# Import libs\n",
    "import numpy as np\n",
    "import pandas as pd\n",
    "import matplotlib.pyplot as plt\n",
    "import plotly.express as px\n",
    "import seaborn as sns\n",
    "\n",
    "# Libs for feature engineering\n",
    "import category_encoders as ce\n",
    "from sklearn.feature_selection import SelectKBest, f_classif\n",
    "from sklearn.preprocessing import MinMaxScaler\n",
    "\n",
    "# metrics\n",
    "from sklearn import metrics\n",
    "\n",
    "# Model\n",
    "from sklearn.model_selection import train_test_split\n",
    "from sklearn import linear_model \n",
    "from sklearn import tree \n",
    "from sklearn.ensemble import RandomForestClassifier, GradientBoostingClassifier, StackingClassifier\n",
    "\n",
    "# Optimisation of Hypermarameters\n",
    "from sklearn.model_selection import GridSearchCV\n",
    "\n",
    "import warnings\n",
    "warnings.filterwarnings('ignore')"
   ]
  },
  {
   "cell_type": "code",
   "execution_count": 2,
   "id": "514c23c3",
   "metadata": {},
   "outputs": [],
   "source": [
    "# Fixing RANDOM_SEED to make experiment repetable\n",
    "RANDOM_SEED = 42\n",
    "\n",
    "# Fixing package versions to make experiment repetable\n",
    "!pip freeze > requirements.txt"
   ]
  },
  {
   "attachments": {},
   "cell_type": "markdown",
   "id": "71559b60",
   "metadata": {},
   "source": [
    "## <center> 1. Checking dataset: outliers, duplicates"
   ]
  },
  {
   "cell_type": "code",
   "execution_count": 3,
   "id": "20730cd7",
   "metadata": {},
   "outputs": [
    {
     "data": {
      "text/html": [
       "<div>\n",
       "<style scoped>\n",
       "    .dataframe tbody tr th:only-of-type {\n",
       "        vertical-align: middle;\n",
       "    }\n",
       "\n",
       "    .dataframe tbody tr th {\n",
       "        vertical-align: top;\n",
       "    }\n",
       "\n",
       "    .dataframe thead th {\n",
       "        text-align: right;\n",
       "    }\n",
       "</style>\n",
       "<table border=\"1\" class=\"dataframe\">\n",
       "  <thead>\n",
       "    <tr style=\"text-align: right;\">\n",
       "      <th></th>\n",
       "      <th>age</th>\n",
       "      <th>job</th>\n",
       "      <th>marital</th>\n",
       "      <th>education</th>\n",
       "      <th>default</th>\n",
       "      <th>balance</th>\n",
       "      <th>housing</th>\n",
       "      <th>loan</th>\n",
       "      <th>contact</th>\n",
       "      <th>day</th>\n",
       "      <th>month</th>\n",
       "      <th>duration</th>\n",
       "      <th>campaign</th>\n",
       "      <th>pdays</th>\n",
       "      <th>previous</th>\n",
       "      <th>poutcome</th>\n",
       "      <th>deposit</th>\n",
       "    </tr>\n",
       "  </thead>\n",
       "  <tbody>\n",
       "    <tr>\n",
       "      <th>0</th>\n",
       "      <td>59</td>\n",
       "      <td>admin.</td>\n",
       "      <td>married</td>\n",
       "      <td>secondary</td>\n",
       "      <td>no</td>\n",
       "      <td>2 343,00 $</td>\n",
       "      <td>yes</td>\n",
       "      <td>no</td>\n",
       "      <td>unknown</td>\n",
       "      <td>5</td>\n",
       "      <td>may</td>\n",
       "      <td>1042</td>\n",
       "      <td>1</td>\n",
       "      <td>-1</td>\n",
       "      <td>0</td>\n",
       "      <td>unknown</td>\n",
       "      <td>yes</td>\n",
       "    </tr>\n",
       "    <tr>\n",
       "      <th>1</th>\n",
       "      <td>56</td>\n",
       "      <td>admin.</td>\n",
       "      <td>married</td>\n",
       "      <td>secondary</td>\n",
       "      <td>no</td>\n",
       "      <td>45,00 $</td>\n",
       "      <td>no</td>\n",
       "      <td>no</td>\n",
       "      <td>unknown</td>\n",
       "      <td>5</td>\n",
       "      <td>may</td>\n",
       "      <td>1467</td>\n",
       "      <td>1</td>\n",
       "      <td>-1</td>\n",
       "      <td>0</td>\n",
       "      <td>unknown</td>\n",
       "      <td>yes</td>\n",
       "    </tr>\n",
       "    <tr>\n",
       "      <th>2</th>\n",
       "      <td>41</td>\n",
       "      <td>technician</td>\n",
       "      <td>married</td>\n",
       "      <td>secondary</td>\n",
       "      <td>no</td>\n",
       "      <td>1 270,00 $</td>\n",
       "      <td>yes</td>\n",
       "      <td>no</td>\n",
       "      <td>unknown</td>\n",
       "      <td>5</td>\n",
       "      <td>may</td>\n",
       "      <td>1389</td>\n",
       "      <td>1</td>\n",
       "      <td>-1</td>\n",
       "      <td>0</td>\n",
       "      <td>unknown</td>\n",
       "      <td>yes</td>\n",
       "    </tr>\n",
       "    <tr>\n",
       "      <th>3</th>\n",
       "      <td>55</td>\n",
       "      <td>services</td>\n",
       "      <td>married</td>\n",
       "      <td>secondary</td>\n",
       "      <td>no</td>\n",
       "      <td>2 476,00 $</td>\n",
       "      <td>yes</td>\n",
       "      <td>no</td>\n",
       "      <td>unknown</td>\n",
       "      <td>5</td>\n",
       "      <td>may</td>\n",
       "      <td>579</td>\n",
       "      <td>1</td>\n",
       "      <td>-1</td>\n",
       "      <td>0</td>\n",
       "      <td>unknown</td>\n",
       "      <td>yes</td>\n",
       "    </tr>\n",
       "    <tr>\n",
       "      <th>4</th>\n",
       "      <td>54</td>\n",
       "      <td>admin.</td>\n",
       "      <td>married</td>\n",
       "      <td>tertiary</td>\n",
       "      <td>no</td>\n",
       "      <td>184,00 $</td>\n",
       "      <td>no</td>\n",
       "      <td>no</td>\n",
       "      <td>unknown</td>\n",
       "      <td>5</td>\n",
       "      <td>may</td>\n",
       "      <td>673</td>\n",
       "      <td>2</td>\n",
       "      <td>-1</td>\n",
       "      <td>0</td>\n",
       "      <td>unknown</td>\n",
       "      <td>yes</td>\n",
       "    </tr>\n",
       "  </tbody>\n",
       "</table>\n",
       "</div>"
      ],
      "text/plain": [
       "   age         job  marital  education default       balance housing loan  \\\n",
       "0   59      admin.  married  secondary      no   2 343,00 $      yes   no   \n",
       "1   56      admin.  married  secondary      no      45,00 $       no   no   \n",
       "2   41  technician  married  secondary      no   1 270,00 $      yes   no   \n",
       "3   55    services  married  secondary      no   2 476,00 $      yes   no   \n",
       "4   54      admin.  married   tertiary      no     184,00 $       no   no   \n",
       "\n",
       "   contact  day month  duration  campaign  pdays  previous poutcome deposit  \n",
       "0  unknown    5   may      1042         1     -1         0  unknown     yes  \n",
       "1  unknown    5   may      1467         1     -1         0  unknown     yes  \n",
       "2  unknown    5   may      1389         1     -1         0  unknown     yes  \n",
       "3  unknown    5   may       579         1     -1         0  unknown     yes  \n",
       "4  unknown    5   may       673         2     -1         0  unknown     yes  "
      ]
     },
     "execution_count": 3,
     "metadata": {},
     "output_type": "execute_result"
    }
   ],
   "source": [
    "# Reading csv-file\n",
    "bank_df = pd.read_csv('data/bank_fin.csv', sep = ';')\n",
    "bank_df.head()"
   ]
  },
  {
   "attachments": {},
   "cell_type": "markdown",
   "id": "9e387a27",
   "metadata": {},
   "source": [
    "*Bank`s customer details:*\n",
    "\n",
    "* age;\n",
    "* job - job title;\n",
    "* marital - marital status;\n",
    "* education - degree of education;\n",
    "* default - is there an outstanding loan?;\n",
    "* housing - do you have a home loan?;\n",
    "* loan - do you have a personal loan?;\n",
    "* balance.\n",
    "\n",
    "*Data related to the last contact in the context of the current marketing campaign:*\n",
    "* contact - mobile or landline?;\n",
    "* month - month of last call;\n",
    "* day - day of last contact;\n",
    "* duration - duration of the conversation in seconds.\n",
    "\n",
    "DURATION\n",
    "\n",
    "*Important note*: this attribute greatly affects the final result (for example, if duration=0, then 'deposit'=’no’); The duration is not known before the call is made, and after the end of the call, 'deposit' is obviously known. Thus, these inputs should only be included for comparison purposes and discarded when a realistic predictive model is needed;\n",
    "\n",
    "*Other features:*\n",
    "* campaign - number of contacts during this campaign and for this client;\n",
    "* pdays - number of days since the last contact with the client, since the previous campaign;\n",
    "* previous - number of contacts before this campaign for this client;\n",
    "* poutcome - the outcome of the previous campaign.\n",
    "\n",
    "**deposit** - target value - Y - whether the client will open a deposit? (0 – no, 1 – yes)."
   ]
  },
  {
   "cell_type": "code",
   "execution_count": 4,
   "id": "85288d74",
   "metadata": {},
   "outputs": [
    {
     "name": "stdout",
     "output_type": "stream",
     "text": [
      "<class 'pandas.core.frame.DataFrame'>\n",
      "RangeIndex: 11162 entries, 0 to 11161\n",
      "Data columns (total 17 columns):\n",
      " #   Column     Non-Null Count  Dtype \n",
      "---  ------     --------------  ----- \n",
      " 0   age        11162 non-null  int64 \n",
      " 1   job        11162 non-null  object\n",
      " 2   marital    11162 non-null  object\n",
      " 3   education  11162 non-null  object\n",
      " 4   default    11162 non-null  object\n",
      " 5   balance    11137 non-null  object\n",
      " 6   housing    11162 non-null  object\n",
      " 7   loan       11162 non-null  object\n",
      " 8   contact    11162 non-null  object\n",
      " 9   day        11162 non-null  int64 \n",
      " 10  month      11162 non-null  object\n",
      " 11  duration   11162 non-null  int64 \n",
      " 12  campaign   11162 non-null  int64 \n",
      " 13  pdays      11162 non-null  int64 \n",
      " 14  previous   11162 non-null  int64 \n",
      " 15  poutcome   11162 non-null  object\n",
      " 16  deposit    11162 non-null  object\n",
      "dtypes: int64(6), object(11)\n",
      "memory usage: 1.4+ MB\n"
     ]
    }
   ],
   "source": [
    "bank_df.info()"
   ]
  },
  {
   "cell_type": "code",
   "execution_count": 5,
   "id": "d20ac779",
   "metadata": {},
   "outputs": [
    {
     "name": "stdout",
     "output_type": "stream",
     "text": [
      "Total number of rows, columns: (11162, 17)\n",
      "\n",
      "Number of found duplicates: 0\n",
      "\n",
      "Features with nulls: 1\n",
      "balance    25\n",
      "dtype: int64\n"
     ]
    }
   ],
   "source": [
    "\"\"\"\n",
    "Let`s check our data for Missing values (MV)\n",
    "\"\"\"\n",
    "print(f'Total number of rows, columns: {bank_df.shape}')\n",
    "\n",
    "# duplicates\n",
    "all_columns = list(bank_df.columns)\n",
    "mask_dupl = bank_df.duplicated(subset=all_columns) \n",
    "data_duplicates = bank_df[mask_dupl]\n",
    "print(f'\\nNumber of found duplicates: {data_duplicates.shape[0]}')\n",
    "\n",
    "# features with missing values\n",
    "nulls_data = bank_df.isnull().sum()\n",
    "nulls = nulls_data[nulls_data > 0]\n",
    "print(f'\\nFeatures with nulls: {nulls_data[nulls_data>0].count()}\\n{nulls}')"
   ]
  },
  {
   "attachments": {},
   "cell_type": "markdown",
   "id": "705b60da",
   "metadata": {},
   "source": [
    "The set is dedicated to the bank’s clients and contains 11162 records with 17 fields (16 + 1 target)"
   ]
  },
  {
   "attachments": {},
   "cell_type": "markdown",
   "id": "a113822b",
   "metadata": {},
   "source": [
    "We define only 1 column with explicit missing values (MV): ***balance***.\n",
    "\n",
    "But, as we know, that there is implicit MV too - special words/ symbols. Let's look at the example."
   ]
  },
  {
   "cell_type": "code",
   "execution_count": 6,
   "id": "98ea29d4",
   "metadata": {},
   "outputs": [
    {
     "data": {
      "text/html": [
       "<div>\n",
       "<style scoped>\n",
       "    .dataframe tbody tr th:only-of-type {\n",
       "        vertical-align: middle;\n",
       "    }\n",
       "\n",
       "    .dataframe tbody tr th {\n",
       "        vertical-align: top;\n",
       "    }\n",
       "\n",
       "    .dataframe thead th {\n",
       "        text-align: right;\n",
       "    }\n",
       "</style>\n",
       "<table border=\"1\" class=\"dataframe\">\n",
       "  <thead>\n",
       "    <tr style=\"text-align: right;\">\n",
       "      <th></th>\n",
       "      <th>Column_Name</th>\n",
       "      <th>Num_Unique</th>\n",
       "      <th>Type</th>\n",
       "      <th>Unique_category</th>\n",
       "    </tr>\n",
       "  </thead>\n",
       "  <tbody>\n",
       "    <tr>\n",
       "      <th>0</th>\n",
       "      <td>deposit</td>\n",
       "      <td>2</td>\n",
       "      <td>object</td>\n",
       "      <td>[yes, no]</td>\n",
       "    </tr>\n",
       "    <tr>\n",
       "      <th>1</th>\n",
       "      <td>loan</td>\n",
       "      <td>2</td>\n",
       "      <td>object</td>\n",
       "      <td>[no, yes]</td>\n",
       "    </tr>\n",
       "    <tr>\n",
       "      <th>2</th>\n",
       "      <td>housing</td>\n",
       "      <td>2</td>\n",
       "      <td>object</td>\n",
       "      <td>[yes, no]</td>\n",
       "    </tr>\n",
       "    <tr>\n",
       "      <th>3</th>\n",
       "      <td>default</td>\n",
       "      <td>2</td>\n",
       "      <td>object</td>\n",
       "      <td>[no, yes]</td>\n",
       "    </tr>\n",
       "    <tr>\n",
       "      <th>4</th>\n",
       "      <td>contact</td>\n",
       "      <td>3</td>\n",
       "      <td>object</td>\n",
       "      <td>[unknown, cellular, telephone]</td>\n",
       "    </tr>\n",
       "    <tr>\n",
       "      <th>5</th>\n",
       "      <td>marital</td>\n",
       "      <td>3</td>\n",
       "      <td>object</td>\n",
       "      <td>[married, single, divorced]</td>\n",
       "    </tr>\n",
       "    <tr>\n",
       "      <th>6</th>\n",
       "      <td>poutcome</td>\n",
       "      <td>4</td>\n",
       "      <td>object</td>\n",
       "      <td>[unknown, other, failure, success]</td>\n",
       "    </tr>\n",
       "    <tr>\n",
       "      <th>7</th>\n",
       "      <td>education</td>\n",
       "      <td>4</td>\n",
       "      <td>object</td>\n",
       "      <td>[secondary, tertiary, primary, unknown]</td>\n",
       "    </tr>\n",
       "    <tr>\n",
       "      <th>8</th>\n",
       "      <td>job</td>\n",
       "      <td>12</td>\n",
       "      <td>object</td>\n",
       "      <td>[admin., technician, services, management, ret...</td>\n",
       "    </tr>\n",
       "    <tr>\n",
       "      <th>9</th>\n",
       "      <td>month</td>\n",
       "      <td>12</td>\n",
       "      <td>object</td>\n",
       "      <td>[may, jun, jul, aug, oct, nov, dec, jan, feb, ...</td>\n",
       "    </tr>\n",
       "    <tr>\n",
       "      <th>10</th>\n",
       "      <td>day</td>\n",
       "      <td>31</td>\n",
       "      <td>int64</td>\n",
       "      <td>[5, 6, 7, 8, 9, 12, 13, 14, 15, 16, 19, 20, 21...</td>\n",
       "    </tr>\n",
       "    <tr>\n",
       "      <th>11</th>\n",
       "      <td>previous</td>\n",
       "      <td>34</td>\n",
       "      <td>int64</td>\n",
       "      <td>[0, 1, 4, 2, 3, 10, 7, 9, 5, 29, 6, 13, 17, 8,...</td>\n",
       "    </tr>\n",
       "    <tr>\n",
       "      <th>12</th>\n",
       "      <td>campaign</td>\n",
       "      <td>36</td>\n",
       "      <td>int64</td>\n",
       "      <td>[1, 2, 3, 4, 6, 5, 8, 11, 9, 10, 15, 12, 14, 7...</td>\n",
       "    </tr>\n",
       "    <tr>\n",
       "      <th>13</th>\n",
       "      <td>age</td>\n",
       "      <td>76</td>\n",
       "      <td>int64</td>\n",
       "      <td>[59, 56, 41, 55, 54, 42, 60, 37, 28, 38, 30, 2...</td>\n",
       "    </tr>\n",
       "    <tr>\n",
       "      <th>14</th>\n",
       "      <td>pdays</td>\n",
       "      <td>472</td>\n",
       "      <td>int64</td>\n",
       "      <td>[-1, 166, 91, 147, 170, 150, 171, 126, 182, 11...</td>\n",
       "    </tr>\n",
       "    <tr>\n",
       "      <th>15</th>\n",
       "      <td>duration</td>\n",
       "      <td>1428</td>\n",
       "      <td>int64</td>\n",
       "      <td>[1042, 1467, 1389, 579, 673, 562, 1201, 1030, ...</td>\n",
       "    </tr>\n",
       "    <tr>\n",
       "      <th>16</th>\n",
       "      <td>balance</td>\n",
       "      <td>3802</td>\n",
       "      <td>object</td>\n",
       "      <td>[ 2 343,00 $ ,  45,00 $ ,  1 270,00 $ ,  2 476...</td>\n",
       "    </tr>\n",
       "  </tbody>\n",
       "</table>\n",
       "</div>"
      ],
      "text/plain": [
       "   Column_Name  Num_Unique    Type  \\\n",
       "0      deposit           2  object   \n",
       "1         loan           2  object   \n",
       "2      housing           2  object   \n",
       "3      default           2  object   \n",
       "4      contact           3  object   \n",
       "5      marital           3  object   \n",
       "6     poutcome           4  object   \n",
       "7    education           4  object   \n",
       "8          job          12  object   \n",
       "9        month          12  object   \n",
       "10         day          31   int64   \n",
       "11    previous          34   int64   \n",
       "12    campaign          36   int64   \n",
       "13         age          76   int64   \n",
       "14       pdays         472   int64   \n",
       "15    duration        1428   int64   \n",
       "16     balance        3802  object   \n",
       "\n",
       "                                      Unique_category  \n",
       "0                                           [yes, no]  \n",
       "1                                           [no, yes]  \n",
       "2                                           [yes, no]  \n",
       "3                                           [no, yes]  \n",
       "4                      [unknown, cellular, telephone]  \n",
       "5                         [married, single, divorced]  \n",
       "6                  [unknown, other, failure, success]  \n",
       "7             [secondary, tertiary, primary, unknown]  \n",
       "8   [admin., technician, services, management, ret...  \n",
       "9   [may, jun, jul, aug, oct, nov, dec, jan, feb, ...  \n",
       "10  [5, 6, 7, 8, 9, 12, 13, 14, 15, 16, 19, 20, 21...  \n",
       "11  [0, 1, 4, 2, 3, 10, 7, 9, 5, 29, 6, 13, 17, 8,...  \n",
       "12  [1, 2, 3, 4, 6, 5, 8, 11, 9, 10, 15, 12, 14, 7...  \n",
       "13  [59, 56, 41, 55, 54, 42, 60, 37, 28, 38, 30, 2...  \n",
       "14  [-1, 166, 91, 147, 170, 150, 171, 126, 182, 11...  \n",
       "15  [1042, 1467, 1389, 579, 673, 562, 1201, 1030, ...  \n",
       "16  [ 2 343,00 $ ,  45,00 $ ,  1 270,00 $ ,  2 476...  "
      ]
     },
     "metadata": {},
     "output_type": "display_data"
    }
   ],
   "source": [
    "\"\"\"\n",
    "Define Unique category in each column\n",
    "\"\"\"\n",
    "unique_list = []\n",
    "\n",
    "for col in bank_df.columns:\n",
    "    # creating tuple: column name, number of unique values, type\n",
    "    item = (col, bank_df[col].nunique(), bank_df[col].dtypes, bank_df[col].unique())\n",
    "    unique_list.append(item)\n",
    "    \n",
    "unique_counts = pd.DataFrame(\n",
    "    unique_list,\n",
    "    columns=['Column_Name', 'Num_Unique', 'Type', 'Unique_category']\n",
    ").sort_values(by='Num_Unique', ignore_index=True)\n",
    "\n",
    "\n",
    "display(unique_counts)"
   ]
  },
  {
   "attachments": {},
   "cell_type": "markdown",
   "id": "641d29e3",
   "metadata": {},
   "source": [
    "Some of columns/features consist of *unknown* values as NaN:\n",
    "* contact\n",
    "* poutcome\n",
    "* education\n",
    "* job"
   ]
  },
  {
   "cell_type": "code",
   "execution_count": 7,
   "id": "448ab14d",
   "metadata": {},
   "outputs": [
    {
     "data": {
      "text/plain": [
       "management       0.229887\n",
       "blue-collar      0.174162\n",
       "technician       0.163322\n",
       "admin.           0.119513\n",
       "services         0.082691\n",
       "retired          0.069701\n",
       "self-employed    0.036284\n",
       "student          0.032252\n",
       "unemployed       0.031984\n",
       "entrepreneur     0.029385\n",
       "housemaid        0.024548\n",
       "unknown          0.006271\n",
       "Name: job, dtype: float64"
      ]
     },
     "execution_count": 7,
     "metadata": {},
     "output_type": "execute_result"
    }
   ],
   "source": [
    "\"\"\"\n",
    "Look at the distibution of categories in Job column\n",
    "\"\"\"\n",
    "bank_df.job.value_counts(True)"
   ]
  },
  {
   "attachments": {},
   "cell_type": "markdown",
   "id": "bf4fc69b",
   "metadata": {},
   "source": [
    "So, we found different type of MV (explicit/ implicit). Next step is processing of this data.\n",
    "\n",
    "But some of the data has uncorrect type. We should to solve it."
   ]
  },
  {
   "cell_type": "code",
   "execution_count": 8,
   "id": "ac7c6df0",
   "metadata": {},
   "outputs": [
    {
     "data": {
      "text/plain": [
       "0     2 343,00 $ \n",
       "1        45,00 $ \n",
       "2     1 270,00 $ \n",
       "3     2 476,00 $ \n",
       "4       184,00 $ \n",
       "Name: balance, dtype: object"
      ]
     },
     "execution_count": 8,
     "metadata": {},
     "output_type": "execute_result"
    }
   ],
   "source": [
    "bank_df.balance.iloc[:5]"
   ]
  },
  {
   "attachments": {},
   "cell_type": "markdown",
   "id": "66da3f0c",
   "metadata": {},
   "source": [
    "Column ***balance***: there are two extra symbols - comma(,) and $.\n",
    "\n",
    "It`s necessary to change it in order to get numeric type."
   ]
  },
  {
   "attachments": {},
   "cell_type": "markdown",
   "id": "889fc927",
   "metadata": {},
   "source": [
    "***"
   ]
  },
  {
   "cell_type": "code",
   "execution_count": 9,
   "id": "c0b7b15f",
   "metadata": {},
   "outputs": [],
   "source": [
    "# Let's make a copy of the given DataFrame in order to protect original DF\n",
    "bank_copy = bank_df.copy()"
   ]
  },
  {
   "attachments": {},
   "cell_type": "markdown",
   "id": "f60145c4",
   "metadata": {},
   "source": [
    "***"
   ]
  },
  {
   "attachments": {},
   "cell_type": "markdown",
   "id": "673aea62",
   "metadata": {},
   "source": [
    "### `BALANCE`"
   ]
  },
  {
   "cell_type": "code",
   "execution_count": 10,
   "id": "eff1c76d",
   "metadata": {},
   "outputs": [
    {
     "data": {
      "text/plain": [
       "0        2343.0\n",
       "1          45.0\n",
       "2        1270.0\n",
       "3        2476.0\n",
       "4         184.0\n",
       "          ...  \n",
       "11157       1.0\n",
       "11158     733.0\n",
       "11159      29.0\n",
       "11160       0.0\n",
       "11161       0.0\n",
       "Name: balance, Length: 11162, dtype: float64"
      ]
     },
     "metadata": {},
     "output_type": "display_data"
    }
   ],
   "source": [
    "\"\"\"\n",
    "Function to get float type from string by next steps:\n",
    "- delete comma and extra symbols (,00)\n",
    "- delete $ sign\n",
    "- delete space\n",
    "\"\"\"\n",
    "def get_float(row):\n",
    "    row = row.replace(',00', '') # delete 00 values\n",
    "    row = row.replace('$', '') # delete $ sign\n",
    "    row = row.replace(' ', '') # delete space\n",
    "    \n",
    "    return float(row)\n",
    "\n",
    "\n",
    "bank_copy['balance'] = bank_copy['balance'].astype(str).apply(get_float)\n",
    "\n",
    "# Check what we get\n",
    "display(bank_copy['balance'])"
   ]
  },
  {
   "attachments": {},
   "cell_type": "markdown",
   "id": "4967eaec",
   "metadata": {},
   "source": [
    "The values in column of ***balance*** have correct views."
   ]
  },
  {
   "attachments": {},
   "cell_type": "markdown",
   "id": "6de63fd7",
   "metadata": {},
   "source": [
    "There is less than 1% of MV in ***balance*** column (total number of rows in dataset - 11_162, number of MV - 25).\n",
    "\n",
    "We have 2 strategies to process it:\n",
    "* deleting rows with MV (but we may lose part of information),\n",
    "* replacing MV to median values\n",
    "\n",
    "Let`s use strategy #2"
   ]
  },
  {
   "cell_type": "code",
   "execution_count": 11,
   "id": "6a684a63",
   "metadata": {},
   "outputs": [
    {
     "name": "stdout",
     "output_type": "stream",
     "text": [
      "Mean value of balance before processing MV: 1529.129\n",
      "\n",
      "Mean value of balance after processing MV: 1526.936\n"
     ]
    }
   ],
   "source": [
    "\"\"\"\n",
    "Filling MV in Balance column by median value\n",
    "\"\"\"\n",
    "print(f'Mean value of balance before processing MV: {round(bank_copy.balance.mean(), 3)}')\n",
    "\n",
    "bank_copy.balance = bank_copy.balance.fillna(bank_copy.balance.median())\n",
    "print(f'\\nMean value of balance after processing MV: {round(bank_copy.balance.mean(), 3)}')"
   ]
  },
  {
   "attachments": {},
   "cell_type": "markdown",
   "id": "4c70b00e",
   "metadata": {},
   "source": [
    "***"
   ]
  },
  {
   "attachments": {},
   "cell_type": "markdown",
   "id": "1097ec42",
   "metadata": {},
   "source": [
    "Some steps earlier we found columns with *implicit type* of MV:\n",
    "* contact\n",
    "* poutcome\n",
    "* education\n",
    "* job\n",
    "\n",
    "We need to fill MV in this type of data - categorical - by mode value."
   ]
  },
  {
   "cell_type": "code",
   "execution_count": 12,
   "id": "8146e107",
   "metadata": {},
   "outputs": [
    {
     "name": "stdout",
     "output_type": "stream",
     "text": [
      "Distribution (%) of values in CONTACT column:\n"
     ]
    },
    {
     "data": {
      "text/plain": [
       "cellular     0.720480\n",
       "unknown      0.210177\n",
       "telephone    0.069342\n",
       "Name: contact, dtype: float64"
      ]
     },
     "metadata": {},
     "output_type": "display_data"
    },
    {
     "name": "stdout",
     "output_type": "stream",
     "text": [
      "Distribution (%) of values in POUTCOME column:\n"
     ]
    },
    {
     "data": {
      "text/plain": [
       "unknown    0.745924\n",
       "failure    0.110016\n",
       "success    0.095951\n",
       "other      0.048110\n",
       "Name: poutcome, dtype: float64"
      ]
     },
     "metadata": {},
     "output_type": "display_data"
    },
    {
     "name": "stdout",
     "output_type": "stream",
     "text": [
      "Distribution (%) of values in EDUCATION column:\n"
     ]
    },
    {
     "data": {
      "text/plain": [
       "secondary    0.490593\n",
       "tertiary     0.330496\n",
       "primary      0.134385\n",
       "unknown      0.044526\n",
       "Name: education, dtype: float64"
      ]
     },
     "metadata": {},
     "output_type": "display_data"
    },
    {
     "name": "stdout",
     "output_type": "stream",
     "text": [
      "Distribution (%) of values in JOB column:\n"
     ]
    },
    {
     "data": {
      "text/plain": [
       "management       0.229887\n",
       "blue-collar      0.174162\n",
       "technician       0.163322\n",
       "admin.           0.119513\n",
       "services         0.082691\n",
       "retired          0.069701\n",
       "self-employed    0.036284\n",
       "student          0.032252\n",
       "unemployed       0.031984\n",
       "entrepreneur     0.029385\n",
       "housemaid        0.024548\n",
       "unknown          0.006271\n",
       "Name: job, dtype: float64"
      ]
     },
     "metadata": {},
     "output_type": "display_data"
    }
   ],
   "source": [
    "print('Distribution (%) of values in CONTACT column:')\n",
    "display(bank_copy.contact.value_counts(True))\n",
    "\n",
    "print('Distribution (%) of values in POUTCOME column:')\n",
    "display(bank_copy.poutcome.value_counts(True))\n",
    "\n",
    "print('Distribution (%) of values in EDUCATION column:')\n",
    "display(bank_copy.education.value_counts(True))\n",
    "\n",
    "print('Distribution (%) of values in JOB column:')\n",
    "display(bank_copy.job.value_counts(True))"
   ]
  },
  {
   "attachments": {},
   "cell_type": "markdown",
   "id": "2a10eda9",
   "metadata": {},
   "source": [
    "*Unknown* value describes a significant part of the data (21/ 75%) in ***contact*** and ***poutcome*** columns\n",
    "\n",
    "It means that we can replace *'unknown'* values only in ***education*** and ***job*** columns"
   ]
  },
  {
   "attachments": {},
   "cell_type": "markdown",
   "id": "db55acec",
   "metadata": {},
   "source": [
    "***"
   ]
  },
  {
   "attachments": {},
   "cell_type": "markdown",
   "id": "dda53495",
   "metadata": {},
   "source": [
    "### `JOB, EDUCATION`"
   ]
  },
  {
   "cell_type": "code",
   "execution_count": 13,
   "id": "0fa070a6",
   "metadata": {},
   "outputs": [],
   "source": [
    "\"\"\"\n",
    "Replacing unknown value in Job and Education columns by mode\n",
    "\"\"\"\n",
    "m_job = bank_copy.job.mode()[0]\n",
    "m_edu = bank_copy.education.mode()[0]\n",
    "\n",
    "bank_copy.job = bank_copy.job.apply(lambda x: m_job if x == 'unknown' else x)\n",
    "bank_copy.education = bank_copy.education.apply(lambda x: m_edu if x == 'unknown' else x)"
   ]
  },
  {
   "attachments": {},
   "cell_type": "markdown",
   "id": "987bf1d7",
   "metadata": {},
   "source": [
    "***"
   ]
  },
  {
   "attachments": {},
   "cell_type": "markdown",
   "id": "8099a266",
   "metadata": {},
   "source": [
    "Let`s look at the ***balance*** column for more details:\n",
    "- checking to outliers"
   ]
  },
  {
   "cell_type": "code",
   "execution_count": 14,
   "id": "fe8759c3",
   "metadata": {},
   "outputs": [
    {
     "data": {
      "image/png": "[encoded data removed]",
      "text/plain": [
       "<Figure size 1080x288 with 2 Axes>"
      ]
     },
     "metadata": {
      "needs_background": "light"
     },
     "output_type": "display_data"
    }
   ],
   "source": [
    "# Building histogram and box plot\n",
    "fig, axes = plt.subplots(nrows=1, ncols=2, figsize=(15, 4))\n",
    "\n",
    "histplot = sns.histplot(data=bank_copy, x='balance', ax=axes[0]);\n",
    "histplot.set_title('Balance Distribution');\n",
    "\n",
    "boxplot = sns.boxplot(data=bank_copy, x='balance', ax=axes[1]);\n",
    "boxplot.set_title('Balance Boxplot');"
   ]
  },
  {
   "attachments": {},
   "cell_type": "markdown",
   "id": "caf64071",
   "metadata": {},
   "source": [
    "It is usual graph`s view of data with outliers:\n",
    "* Histogram: seaborn automatically selects the number of bins needed to best visualize the distribution. If there are outlier values, the number of bins will be very large, and as the result we get this type of pictures.\n",
    "* Box plot: narrow pic as usual for data with outliers"
   ]
  },
  {
   "cell_type": "code",
   "execution_count": 15,
   "id": "883aea6e",
   "metadata": {},
   "outputs": [
    {
     "name": "stdout",
     "output_type": "stream",
     "text": [
      "Number of outliers by Tukey’s method: 1057\n",
      "Final number of rows (after removing outliers): 10105\n"
     ]
    }
   ],
   "source": [
    "\"\"\"\n",
    "Checking outliers by Tukey’s method:\n",
    "- calculate 1 and 3 quartiles,\n",
    "- calculate interquartile range (IQR),\n",
    "- calculate lower and upper bounds,\n",
    "- defining data set lies beyond either boundary\n",
    "\"\"\"\n",
    "def outliers_iqr(data, feature):\n",
    "    x = data[feature]\n",
    "    quartile_1, quartile_3 = x.quantile(0.25), x.quantile(0.75),\n",
    "    iqr = quartile_3 - quartile_1\n",
    "    lower_bound = quartile_1 - (iqr * 1.5)\n",
    "    upper_bound = quartile_3 + (iqr * 1.5)\n",
    "    # we should use strict equality\n",
    "    outliers = data[(x < lower_bound) | (x > upper_bound)]\n",
    "    # we should use strict inequality\n",
    "    cleaned_df = data[(x >= lower_bound) & (x <= upper_bound)]\n",
    "    \n",
    "    return outliers, cleaned_df\n",
    "\n",
    "\n",
    "outliers, bank_cleaned = outliers_iqr(bank_copy, 'balance')\n",
    "\n",
    "print(f'Number of outliers by Tukey’s method: {outliers.shape[0]}')\n",
    "print(f'Final number of rows (after removing outliers): {bank_cleaned.shape[0]}')"
   ]
  },
  {
   "cell_type": "code",
   "execution_count": 16,
   "id": "0cffc171",
   "metadata": {},
   "outputs": [
    {
     "data": {
      "image/png": "[encoded data removed]",
      "text/plain": [
       "<Figure size 1080x288 with 2 Axes>"
      ]
     },
     "metadata": {
      "needs_background": "light"
     },
     "output_type": "display_data"
    }
   ],
   "source": [
    "# Let`s build histogram and boxplot based on the cleaned dataset\n",
    "fig, axes = plt.subplots(nrows=1, ncols=2, figsize=(15, 4))\n",
    "\n",
    "histplot = sns.histplot(data=bank_cleaned, x='balance', ax=axes[0]);\n",
    "histplot.set_title('Cleaned Balance Distribution');\n",
    "\n",
    "boxplot = sns.boxplot(data=bank_cleaned, x='balance', ax=axes[1]);\n",
    "boxplot.set_title('Cleaned Balance Boxplot');"
   ]
  },
  {
   "attachments": {},
   "cell_type": "markdown",
   "id": "8beebd4f",
   "metadata": {},
   "source": [
    "* Box plot shows that there are some outliers in data by left anf right side from the boundaries.\n",
    "* As you can see, we cut the range of ***balance*** value: max ~ 4_000, min - there are negative values."
   ]
  },
  {
   "cell_type": "code",
   "execution_count": 17,
   "id": "062f89e1",
   "metadata": {},
   "outputs": [
    {
     "name": "stdout",
     "output_type": "stream",
     "text": [
      "Lower bound: -2241.0. Upper bound: 4063.0\n"
     ]
    }
   ],
   "source": [
    "\"\"\"\n",
    "Lower and Upper boundaries of box plot by Tukey’s method\n",
    "\"\"\"\n",
    "Q1 = bank_copy['balance'].quantile(q=.25)\n",
    "Q3 = bank_copy['balance'].quantile(q=.75)\n",
    "\n",
    "IQR = Q3 - Q1\n",
    "lower_bound = Q1 - (IQR*1.5)\n",
    "upper_bound = Q3 + (IQR*1.5)\n",
    "\n",
    "print(f'Lower bound: {lower_bound}. Upper bound: {upper_bound}')"
   ]
  },
  {
   "attachments": {},
   "cell_type": "markdown",
   "id": "9bcab68d",
   "metadata": {},
   "source": [
    "# <p style=\"text-align:center;font-size:100%;\">2. Feature Engineering</p>"
   ]
  },
  {
   "attachments": {},
   "cell_type": "markdown",
   "id": "8018abcf",
   "metadata": {},
   "source": [
    "***Our data***\n",
    "- Cleaned Dataset (without outliers) - *bank_cleaned*"
   ]
  },
  {
   "attachments": {},
   "cell_type": "markdown",
   "id": "4bb7d30a",
   "metadata": {},
   "source": [
    "***"
   ]
  },
  {
   "attachments": {},
   "cell_type": "markdown",
   "id": "592c72db",
   "metadata": {},
   "source": [
    "First step: we need to check target value - (un-)/balanced?"
   ]
  },
  {
   "cell_type": "code",
   "execution_count": 18,
   "id": "6d0cd3a8",
   "metadata": {},
   "outputs": [
    {
     "data": {
      "application/vnd.plotly.v1+json": {
       "config": {
        "plotlyServerURL": "https://plot.ly"
       },
       "data": [
        {
         "domain": {
          "x": [
           0,
           1
          ],
          "y": [
           0,
           1
          ]
         },
         "hole": 0.8,
         "hovertemplate": "label=%{label}<br>value=%{value}<extra></extra>",
         "labels": [
          "Don't open a deposit",
          "Open a deposit"
         ],
         "legendgroup": "",
         "name": "",
         "showlegend": true,
         "type": "pie",
         "values": [
          5424,
          4681
         ]
        }
       ],
       "layout": {
        "annotations": [
         {
          "font": {
           "size": 14
          },
          "showarrow": false,
          "text": "Ratio of Сlients<br>who opened a deposit<br>and didn`t",
          "x": 0.5,
          "y": 0.5
         }
        ],
        "legend": {
         "tracegroupgap": 0
        },
        "margin": {
         "t": 60
        },
        "template": {
         "data": {
          "bar": [
           {
            "error_x": {
             "color": "#2a3f5f"
            },
            "error_y": {
             "color": "#2a3f5f"
            },
            "marker": {
             "line": {
              "color": "#E5ECF6",
              "width": 0.5
             },
             "pattern": {
              "fillmode": "overlay",
              "size": 10,
              "solidity": 0.2
             }
            },
            "type": "bar"
           }
          ],
          "barpolar": [
           {
            "marker": {
             "line": {
              "color": "#E5ECF6",
              "width": 0.5
             },
             "pattern": {
              "fillmode": "overlay",
              "size": 10,
              "solidity": 0.2
             }
            },
            "type": "barpolar"
           }
          ],
          "carpet": [
           {
            "aaxis": {
             "endlinecolor": "#2a3f5f",
             "gridcolor": "white",
             "linecolor": "white",
             "minorgridcolor": "white",
             "startlinecolor": "#2a3f5f"
            },
            "baxis": {
             "endlinecolor": "#2a3f5f",
             "gridcolor": "white",
             "linecolor": "white",
             "minorgridcolor": "white",
             "startlinecolor": "#2a3f5f"
            },
            "type": "carpet"
           }
          ],
          "choropleth": [
           {
            "colorbar": {
             "outlinewidth": 0,
             "ticks": ""
            },
            "type": "choropleth"
           }
          ],
          "contour": [
           {
            "colorbar": {
             "outlinewidth": 0,
             "ticks": ""
            },
            "colorscale": [
             [
              0,
              "#0d0887"
             ],
             [
              0.1111111111111111,
              "#46039f"
             ],
             [
              0.2222222222222222,
              "#7201a8"
             ],
             [
              0.3333333333333333,
              "#9c179e"
             ],
             [
              0.4444444444444444,
              "#bd3786"
             ],
             [
              0.5555555555555556,
              "#d8576b"
             ],
             [
              0.6666666666666666,
              "#ed7953"
             ],
             [
              0.7777777777777778,
              "#fb9f3a"
             ],
             [
              0.8888888888888888,
              "#fdca26"
             ],
             [
              1,
              "#f0f921"
             ]
            ],
            "type": "contour"
           }
          ],
          "contourcarpet": [
           {
            "colorbar": {
             "outlinewidth": 0,
             "ticks": ""
            },
            "type": "contourcarpet"
           }
          ],
          "heatmap": [
           {
            "colorbar": {
             "outlinewidth": 0,
             "ticks": ""
            },
            "colorscale": [
             [
              0,
              "#0d0887"
             ],
             [
              0.1111111111111111,
              "#46039f"
             ],
             [
              0.2222222222222222,
              "#7201a8"
             ],
             [
              0.3333333333333333,
              "#9c179e"
             ],
             [
              0.4444444444444444,
              "#bd3786"
             ],
             [
              0.5555555555555556,
              "#d8576b"
             ],
             [
              0.6666666666666666,
              "#ed7953"
             ],
             [
              0.7777777777777778,
              "#fb9f3a"
             ],
             [
              0.8888888888888888,
              "#fdca26"
             ],
             [
              1,
              "#f0f921"
             ]
            ],
            "type": "heatmap"
           }
          ],
          "heatmapgl": [
           {
            "colorbar": {
             "outlinewidth": 0,
             "ticks": ""
            },
            "colorscale": [
             [
              0,
              "#0d0887"
             ],
             [
              0.1111111111111111,
              "#46039f"
             ],
             [
              0.2222222222222222,
              "#7201a8"
             ],
             [
              0.3333333333333333,
              "#9c179e"
             ],
             [
              0.4444444444444444,
              "#bd3786"
             ],
             [
              0.5555555555555556,
              "#d8576b"
             ],
             [
              0.6666666666666666,
              "#ed7953"
             ],
             [
              0.7777777777777778,
              "#fb9f3a"
             ],
             [
              0.8888888888888888,
              "#fdca26"
             ],
             [
              1,
              "#f0f921"
             ]
            ],
            "type": "heatmapgl"
           }
          ],
          "histogram": [
           {
            "marker": {
             "pattern": {
              "fillmode": "overlay",
              "size": 10,
              "solidity": 0.2
             }
            },
            "type": "histogram"
           }
          ],
          "histogram2d": [
           {
            "colorbar": {
             "outlinewidth": 0,
             "ticks": ""
            },
            "colorscale": [
             [
              0,
              "#0d0887"
             ],
             [
              0.1111111111111111,
              "#46039f"
             ],
             [
              0.2222222222222222,
              "#7201a8"
             ],
             [
              0.3333333333333333,
              "#9c179e"
             ],
             [
              0.4444444444444444,
              "#bd3786"
             ],
             [
              0.5555555555555556,
              "#d8576b"
             ],
             [
              0.6666666666666666,
              "#ed7953"
             ],
             [
              0.7777777777777778,
              "#fb9f3a"
             ],
             [
              0.8888888888888888,
              "#fdca26"
             ],
             [
              1,
              "#f0f921"
             ]
            ],
            "type": "histogram2d"
           }
          ],
          "histogram2dcontour": [
           {
            "colorbar": {
             "outlinewidth": 0,
             "ticks": ""
            },
            "colorscale": [
             [
              0,
              "#0d0887"
             ],
             [
              0.1111111111111111,
              "#46039f"
             ],
             [
              0.2222222222222222,
              "#7201a8"
             ],
             [
              0.3333333333333333,
              "#9c179e"
             ],
             [
              0.4444444444444444,
              "#bd3786"
             ],
             [
              0.5555555555555556,
              "#d8576b"
             ],
             [
              0.6666666666666666,
              "#ed7953"
             ],
             [
              0.7777777777777778,
              "#fb9f3a"
             ],
             [
              0.8888888888888888,
              "#fdca26"
             ],
             [
              1,
              "#f0f921"
             ]
            ],
            "type": "histogram2dcontour"
           }
          ],
          "mesh3d": [
           {
            "colorbar": {
             "outlinewidth": 0,
             "ticks": ""
            },
            "type": "mesh3d"
           }
          ],
          "parcoords": [
           {
            "line": {
             "colorbar": {
              "outlinewidth": 0,
              "ticks": ""
             }
            },
            "type": "parcoords"
           }
          ],
          "pie": [
           {
            "automargin": true,
            "type": "pie"
           }
          ],
          "scatter": [
           {
            "fillpattern": {
             "fillmode": "overlay",
             "size": 10,
             "solidity": 0.2
            },
            "type": "scatter"
           }
          ],
          "scatter3d": [
           {
            "line": {
             "colorbar": {
              "outlinewidth": 0,
              "ticks": ""
             }
            },
            "marker": {
             "colorbar": {
              "outlinewidth": 0,
              "ticks": ""
             }
            },
            "type": "scatter3d"
           }
          ],
          "scattercarpet": [
           {
            "marker": {
             "colorbar": {
              "outlinewidth": 0,
              "ticks": ""
             }
            },
            "type": "scattercarpet"
           }
          ],
          "scattergeo": [
           {
            "marker": {
             "colorbar": {
              "outlinewidth": 0,
              "ticks": ""
             }
            },
            "type": "scattergeo"
           }
          ],
          "scattergl": [
           {
            "marker": {
             "colorbar": {
              "outlinewidth": 0,
              "ticks": ""
             }
            },
            "type": "scattergl"
           }
          ],
          "scattermapbox": [
           {
            "marker": {
             "colorbar": {
              "outlinewidth": 0,
              "ticks": ""
             }
            },
            "type": "scattermapbox"
           }
          ],
          "scatterpolar": [
           {
            "marker": {
             "colorbar": {
              "outlinewidth": 0,
              "ticks": ""
             }
            },
            "type": "scatterpolar"
           }
          ],
          "scatterpolargl": [
           {
            "marker": {
             "colorbar": {
              "outlinewidth": 0,
              "ticks": ""
             }
            },
            "type": "scatterpolargl"
           }
          ],
          "scatterternary": [
           {
            "marker": {
             "colorbar": {
              "outlinewidth": 0,
              "ticks": ""
             }
            },
            "type": "scatterternary"
           }
          ],
          "surface": [
           {
            "colorbar": {
             "outlinewidth": 0,
             "ticks": ""
            },
            "colorscale": [
             [
              0,
              "#0d0887"
             ],
             [
              0.1111111111111111,
              "#46039f"
             ],
             [
              0.2222222222222222,
              "#7201a8"
             ],
             [
              0.3333333333333333,
              "#9c179e"
             ],
             [
              0.4444444444444444,
              "#bd3786"
             ],
             [
              0.5555555555555556,
              "#d8576b"
             ],
             [
              0.6666666666666666,
              "#ed7953"
             ],
             [
              0.7777777777777778,
              "#fb9f3a"
             ],
             [
              0.8888888888888888,
              "#fdca26"
             ],
             [
              1,
              "#f0f921"
             ]
            ],
            "type": "surface"
           }
          ],
          "table": [
           {
            "cells": {
             "fill": {
              "color": "#EBF0F8"
             },
             "line": {
              "color": "white"
             }
            },
            "header": {
             "fill": {
              "color": "#C8D4E3"
             },
             "line": {
              "color": "white"
             }
            },
            "type": "table"
           }
          ]
         },
         "layout": {
          "annotationdefaults": {
           "arrowcolor": "#2a3f5f",
           "arrowhead": 0,
           "arrowwidth": 1
          },
          "autotypenumbers": "strict",
          "coloraxis": {
           "colorbar": {
            "outlinewidth": 0,
            "ticks": ""
           }
          },
          "colorscale": {
           "diverging": [
            [
             0,
             "#8e0152"
            ],
            [
             0.1,
             "#c51b7d"
            ],
            [
             0.2,
             "#de77ae"
            ],
            [
             0.3,
             "#f1b6da"
            ],
            [
             0.4,
             "#fde0ef"
            ],
            [
             0.5,
             "#f7f7f7"
            ],
            [
             0.6,
             "#e6f5d0"
            ],
            [
             0.7,
             "#b8e186"
            ],
            [
             0.8,
             "#7fbc41"
            ],
            [
             0.9,
             "#4d9221"
            ],
            [
             1,
             "#276419"
            ]
           ],
           "sequential": [
            [
             0,
             "#0d0887"
            ],
            [
             0.1111111111111111,
             "#46039f"
            ],
            [
             0.2222222222222222,
             "#7201a8"
            ],
            [
             0.3333333333333333,
             "#9c179e"
            ],
            [
             0.4444444444444444,
             "#bd3786"
            ],
            [
             0.5555555555555556,
             "#d8576b"
            ],
            [
             0.6666666666666666,
             "#ed7953"
            ],
            [
             0.7777777777777778,
             "#fb9f3a"
            ],
            [
             0.8888888888888888,
             "#fdca26"
            ],
            [
             1,
             "#f0f921"
            ]
           ],
           "sequentialminus": [
            [
             0,
             "#0d0887"
            ],
            [
             0.1111111111111111,
             "#46039f"
            ],
            [
             0.2222222222222222,
             "#7201a8"
            ],
            [
             0.3333333333333333,
             "#9c179e"
            ],
            [
             0.4444444444444444,
             "#bd3786"
            ],
            [
             0.5555555555555556,
             "#d8576b"
            ],
            [
             0.6666666666666666,
             "#ed7953"
            ],
            [
             0.7777777777777778,
             "#fb9f3a"
            ],
            [
             0.8888888888888888,
             "#fdca26"
            ],
            [
             1,
             "#f0f921"
            ]
           ]
          },
          "colorway": [
           "#636efa",
           "#EF553B",
           "#00cc96",
           "#ab63fa",
           "#FFA15A",
           "#19d3f3",
           "#FF6692",
           "#B6E880",
           "#FF97FF",
           "#FECB52"
          ],
          "font": {
           "color": "#2a3f5f"
          },
          "geo": {
           "bgcolor": "white",
           "lakecolor": "white",
           "landcolor": "#E5ECF6",
           "showlakes": true,
           "showland": true,
           "subunitcolor": "white"
          },
          "hoverlabel": {
           "align": "left"
          },
          "hovermode": "closest",
          "mapbox": {
           "style": "light"
          },
          "paper_bgcolor": "white",
          "plot_bgcolor": "#E5ECF6",
          "polar": {
           "angularaxis": {
            "gridcolor": "white",
            "linecolor": "white",
            "ticks": ""
           },
           "bgcolor": "#E5ECF6",
           "radialaxis": {
            "gridcolor": "white",
            "linecolor": "white",
            "ticks": ""
           }
          },
          "scene": {
           "xaxis": {
            "backgroundcolor": "#E5ECF6",
            "gridcolor": "white",
            "gridwidth": 2,
            "linecolor": "white",
            "showbackground": true,
            "ticks": "",
            "zerolinecolor": "white"
           },
           "yaxis": {
            "backgroundcolor": "#E5ECF6",
            "gridcolor": "white",
            "gridwidth": 2,
            "linecolor": "white",
            "showbackground": true,
            "ticks": "",
            "zerolinecolor": "white"
           },
           "zaxis": {
            "backgroundcolor": "#E5ECF6",
            "gridcolor": "white",
            "gridwidth": 2,
            "linecolor": "white",
            "showbackground": true,
            "ticks": "",
            "zerolinecolor": "white"
           }
          },
          "shapedefaults": {
           "line": {
            "color": "#2a3f5f"
           }
          },
          "ternary": {
           "aaxis": {
            "gridcolor": "white",
            "linecolor": "white",
            "ticks": ""
           },
           "baxis": {
            "gridcolor": "white",
            "linecolor": "white",
            "ticks": ""
           },
           "bgcolor": "#E5ECF6",
           "caxis": {
            "gridcolor": "white",
            "linecolor": "white",
            "ticks": ""
           }
          },
          "title": {
           "x": 0.05
          },
          "xaxis": {
           "automargin": true,
           "gridcolor": "white",
           "linecolor": "white",
           "ticks": "",
           "title": {
            "standoff": 15
           },
           "zerolinecolor": "white",
           "zerolinewidth": 2
          },
          "yaxis": {
           "automargin": true,
           "gridcolor": "white",
           "linecolor": "white",
           "ticks": "",
           "title": {
            "standoff": 15
           },
           "zerolinecolor": "white",
           "zerolinewidth": 2
          }
         }
        }
       }
      }
     },
     "metadata": {},
     "output_type": "display_data"
    }
   ],
   "source": [
    "\"\"\"\n",
    "Grouped data by 'deposit' category\n",
    "Calculate the number of customer by 2 group - open deposit/ no\n",
    "Building Pie chart in order to illustrate distibution of 2 classes\n",
    "\"\"\"\n",
    "pie_data = bank_cleaned.groupby('deposit')['deposit'].count()\n",
    "pie_data.index = ['Don\\'t open a deposit', 'Open a deposit']\n",
    "\n",
    "# building Pie chart (Plotly)\n",
    "fig = px.pie(\n",
    "    values=pie_data,\n",
    "    names=pie_data.index,\n",
    "    hole=0.8\n",
    ");\n",
    "\n",
    "fig.update_layout(\n",
    "    annotations=[dict(text='Ratio of Сlients<br>who opened a deposit<br>and didn`t',\n",
    "                      x=0.5, y=0.5, font_size=14, showarrow=False)]\n",
    "    )\n",
    "\n",
    "fig.write_image('data/fig1.png')\n",
    "fig.show()"
   ]
  },
  {
   "cell_type": "code",
   "execution_count": 19,
   "id": "28cfa49a",
   "metadata": {},
   "outputs": [
    {
     "name": "stdout",
     "output_type": "stream",
     "text": [
      "Percentage of no subscription is 54 %\n",
      "Percentage of subscription is 46 %\n"
     ]
    }
   ],
   "source": [
    "count_no_dep = len(bank_cleaned[bank_cleaned['deposit']=='no'])\n",
    "count_dep = len(bank_cleaned[bank_cleaned['deposit']=='yes'])\n",
    "\n",
    "pct_of_no_dep = count_no_dep/(count_no_dep+count_dep)\n",
    "print(f'Percentage of no subscription is {round(pct_of_no_dep*100)} %')\n",
    "\n",
    "pct_of_dep = count_dep/(count_no_dep+count_dep)\n",
    "print(f'Percentage of subscription is {round(pct_of_dep*100)} %')"
   ]
  },
  {
   "attachments": {},
   "cell_type": "markdown",
   "id": "8d73275c",
   "metadata": {},
   "source": [
    "* ~ 46% of customer who opened a deposit,\n",
    "* ~ 54% of customer didn`t open a deposit.\n",
    "\n",
    "Based on this result we can conclude that our classes are balanced. The ratio of clients without a deposit to those with a deposit is 54 to 46. "
   ]
  },
  {
   "attachments": {},
   "cell_type": "markdown",
   "id": "cabdbe67",
   "metadata": {},
   "source": [
    "***"
   ]
  },
  {
   "attachments": {},
   "cell_type": "markdown",
   "id": "0147c313",
   "metadata": {},
   "source": [
    "Let`s look at the Descriptive statistics of numerical features"
   ]
  },
  {
   "cell_type": "code",
   "execution_count": 20,
   "id": "603cdb3c",
   "metadata": {},
   "outputs": [
    {
     "data": {
      "text/html": [
       "<div>\n",
       "<style scoped>\n",
       "    .dataframe tbody tr th:only-of-type {\n",
       "        vertical-align: middle;\n",
       "    }\n",
       "\n",
       "    .dataframe tbody tr th {\n",
       "        vertical-align: top;\n",
       "    }\n",
       "\n",
       "    .dataframe thead th {\n",
       "        text-align: right;\n",
       "    }\n",
       "</style>\n",
       "<table border=\"1\" class=\"dataframe\">\n",
       "  <thead>\n",
       "    <tr style=\"text-align: right;\">\n",
       "      <th></th>\n",
       "      <th>age</th>\n",
       "      <th>balance</th>\n",
       "      <th>day</th>\n",
       "      <th>duration</th>\n",
       "      <th>campaign</th>\n",
       "      <th>pdays</th>\n",
       "      <th>previous</th>\n",
       "    </tr>\n",
       "  </thead>\n",
       "  <tbody>\n",
       "    <tr>\n",
       "      <th>count</th>\n",
       "      <td>10105.000000</td>\n",
       "      <td>10105.000000</td>\n",
       "      <td>10105.000000</td>\n",
       "      <td>10105.000000</td>\n",
       "      <td>10105.000000</td>\n",
       "      <td>10105.000000</td>\n",
       "      <td>10105.000000</td>\n",
       "    </tr>\n",
       "    <tr>\n",
       "      <th>mean</th>\n",
       "      <td>40.895497</td>\n",
       "      <td>807.653538</td>\n",
       "      <td>15.590302</td>\n",
       "      <td>368.742603</td>\n",
       "      <td>2.517170</td>\n",
       "      <td>51.319644</td>\n",
       "      <td>0.816230</td>\n",
       "    </tr>\n",
       "    <tr>\n",
       "      <th>std</th>\n",
       "      <td>11.734931</td>\n",
       "      <td>994.151966</td>\n",
       "      <td>8.441510</td>\n",
       "      <td>346.651524</td>\n",
       "      <td>2.707159</td>\n",
       "      <td>109.644179</td>\n",
       "      <td>2.243795</td>\n",
       "    </tr>\n",
       "    <tr>\n",
       "      <th>min</th>\n",
       "      <td>18.000000</td>\n",
       "      <td>-2049.000000</td>\n",
       "      <td>1.000000</td>\n",
       "      <td>2.000000</td>\n",
       "      <td>1.000000</td>\n",
       "      <td>-1.000000</td>\n",
       "      <td>0.000000</td>\n",
       "    </tr>\n",
       "    <tr>\n",
       "      <th>25%</th>\n",
       "      <td>32.000000</td>\n",
       "      <td>95.000000</td>\n",
       "      <td>8.000000</td>\n",
       "      <td>137.000000</td>\n",
       "      <td>1.000000</td>\n",
       "      <td>-1.000000</td>\n",
       "      <td>0.000000</td>\n",
       "    </tr>\n",
       "    <tr>\n",
       "      <th>50%</th>\n",
       "      <td>38.000000</td>\n",
       "      <td>445.000000</td>\n",
       "      <td>15.000000</td>\n",
       "      <td>252.000000</td>\n",
       "      <td>2.000000</td>\n",
       "      <td>-1.000000</td>\n",
       "      <td>0.000000</td>\n",
       "    </tr>\n",
       "    <tr>\n",
       "      <th>75%</th>\n",
       "      <td>48.000000</td>\n",
       "      <td>1227.000000</td>\n",
       "      <td>22.000000</td>\n",
       "      <td>490.000000</td>\n",
       "      <td>3.000000</td>\n",
       "      <td>2.000000</td>\n",
       "      <td>1.000000</td>\n",
       "    </tr>\n",
       "    <tr>\n",
       "      <th>max</th>\n",
       "      <td>95.000000</td>\n",
       "      <td>4063.000000</td>\n",
       "      <td>31.000000</td>\n",
       "      <td>3881.000000</td>\n",
       "      <td>43.000000</td>\n",
       "      <td>854.000000</td>\n",
       "      <td>58.000000</td>\n",
       "    </tr>\n",
       "  </tbody>\n",
       "</table>\n",
       "</div>"
      ],
      "text/plain": [
       "                age       balance           day      duration      campaign  \\\n",
       "count  10105.000000  10105.000000  10105.000000  10105.000000  10105.000000   \n",
       "mean      40.895497    807.653538     15.590302    368.742603      2.517170   \n",
       "std       11.734931    994.151966      8.441510    346.651524      2.707159   \n",
       "min       18.000000  -2049.000000      1.000000      2.000000      1.000000   \n",
       "25%       32.000000     95.000000      8.000000    137.000000      1.000000   \n",
       "50%       38.000000    445.000000     15.000000    252.000000      2.000000   \n",
       "75%       48.000000   1227.000000     22.000000    490.000000      3.000000   \n",
       "max       95.000000   4063.000000     31.000000   3881.000000     43.000000   \n",
       "\n",
       "              pdays      previous  \n",
       "count  10105.000000  10105.000000  \n",
       "mean      51.319644      0.816230  \n",
       "std      109.644179      2.243795  \n",
       "min       -1.000000      0.000000  \n",
       "25%       -1.000000      0.000000  \n",
       "50%       -1.000000      0.000000  \n",
       "75%        2.000000      1.000000  \n",
       "max      854.000000     58.000000  "
      ]
     },
     "execution_count": 20,
     "metadata": {},
     "output_type": "execute_result"
    }
   ],
   "source": [
    "# Statistic information of Numeric data\n",
    "bank_cleaned.describe()"
   ]
  },
  {
   "cell_type": "code",
   "execution_count": 21,
   "id": "3a09b916",
   "metadata": {},
   "outputs": [
    {
     "name": "stdout",
     "output_type": "stream",
     "text": [
      "Maximum age of bank client: 95\n",
      "Minimum duration time of conversation with client: 2\n"
     ]
    }
   ],
   "source": [
    "print(f'Maximum age of bank client: {bank_cleaned.age.max()}')\n",
    "print(f'Minimum duration time of conversation with client: {bank_cleaned.duration.min()}')"
   ]
  },
  {
   "attachments": {},
   "cell_type": "markdown",
   "id": "a38b5e2c",
   "metadata": {},
   "source": [
    "Let`s look at the Descriptive statistics of Categorical features."
   ]
  },
  {
   "cell_type": "code",
   "execution_count": 22,
   "id": "bf45afc9",
   "metadata": {},
   "outputs": [
    {
     "data": {
      "text/html": [
       "<div>\n",
       "<style scoped>\n",
       "    .dataframe tbody tr th:only-of-type {\n",
       "        vertical-align: middle;\n",
       "    }\n",
       "\n",
       "    .dataframe tbody tr th {\n",
       "        vertical-align: top;\n",
       "    }\n",
       "\n",
       "    .dataframe thead th {\n",
       "        text-align: right;\n",
       "    }\n",
       "</style>\n",
       "<table border=\"1\" class=\"dataframe\">\n",
       "  <thead>\n",
       "    <tr style=\"text-align: right;\">\n",
       "      <th></th>\n",
       "      <th>job</th>\n",
       "      <th>marital</th>\n",
       "      <th>education</th>\n",
       "      <th>default</th>\n",
       "      <th>housing</th>\n",
       "      <th>loan</th>\n",
       "      <th>contact</th>\n",
       "      <th>month</th>\n",
       "      <th>poutcome</th>\n",
       "      <th>deposit</th>\n",
       "    </tr>\n",
       "  </thead>\n",
       "  <tbody>\n",
       "    <tr>\n",
       "      <th>count</th>\n",
       "      <td>10105</td>\n",
       "      <td>10105</td>\n",
       "      <td>10105</td>\n",
       "      <td>10105</td>\n",
       "      <td>10105</td>\n",
       "      <td>10105</td>\n",
       "      <td>10105</td>\n",
       "      <td>10105</td>\n",
       "      <td>10105</td>\n",
       "      <td>10105</td>\n",
       "    </tr>\n",
       "    <tr>\n",
       "      <th>unique</th>\n",
       "      <td>11</td>\n",
       "      <td>3</td>\n",
       "      <td>3</td>\n",
       "      <td>2</td>\n",
       "      <td>2</td>\n",
       "      <td>2</td>\n",
       "      <td>3</td>\n",
       "      <td>12</td>\n",
       "      <td>4</td>\n",
       "      <td>2</td>\n",
       "    </tr>\n",
       "    <tr>\n",
       "      <th>top</th>\n",
       "      <td>management</td>\n",
       "      <td>married</td>\n",
       "      <td>secondary</td>\n",
       "      <td>no</td>\n",
       "      <td>no</td>\n",
       "      <td>no</td>\n",
       "      <td>cellular</td>\n",
       "      <td>may</td>\n",
       "      <td>unknown</td>\n",
       "      <td>no</td>\n",
       "    </tr>\n",
       "    <tr>\n",
       "      <th>freq</th>\n",
       "      <td>2315</td>\n",
       "      <td>5715</td>\n",
       "      <td>5517</td>\n",
       "      <td>9939</td>\n",
       "      <td>5243</td>\n",
       "      <td>8712</td>\n",
       "      <td>7283</td>\n",
       "      <td>2617</td>\n",
       "      <td>7570</td>\n",
       "      <td>5424</td>\n",
       "    </tr>\n",
       "  </tbody>\n",
       "</table>\n",
       "</div>"
      ],
      "text/plain": [
       "               job  marital  education default housing   loan   contact  \\\n",
       "count        10105    10105      10105   10105   10105  10105     10105   \n",
       "unique          11        3          3       2       2      2         3   \n",
       "top     management  married  secondary      no      no     no  cellular   \n",
       "freq          2315     5715       5517    9939    5243   8712      7283   \n",
       "\n",
       "        month poutcome deposit  \n",
       "count   10105    10105   10105  \n",
       "unique     12        4       2  \n",
       "top       may  unknown      no  \n",
       "freq     2617     7570    5424  "
      ]
     },
     "execution_count": 22,
     "metadata": {},
     "output_type": "execute_result"
    }
   ],
   "source": [
    "bank_cleaned.describe(include=['object'])"
   ]
  },
  {
   "attachments": {},
   "cell_type": "markdown",
   "id": "cddf85c7",
   "metadata": {},
   "source": [
    "Top Customer Characteristics:\n",
    "* *job title* - management\n",
    "* *marital status* - married\n",
    "* *education level* - secondary\t\n",
    "* *default, housing, loan* - no"
   ]
  },
  {
   "attachments": {},
   "cell_type": "markdown",
   "id": "b42200ff",
   "metadata": {},
   "source": [
    "***"
   ]
  },
  {
   "attachments": {},
   "cell_type": "markdown",
   "id": "98c4d292",
   "metadata": {},
   "source": [
    "Let’s do some more research"
   ]
  },
  {
   "cell_type": "code",
   "execution_count": 23,
   "id": "ec5d32d8",
   "metadata": {},
   "outputs": [
    {
     "data": {
      "text/html": [
       "<div>\n",
       "<style scoped>\n",
       "    .dataframe tbody tr th:only-of-type {\n",
       "        vertical-align: middle;\n",
       "    }\n",
       "\n",
       "    .dataframe tbody tr th {\n",
       "        vertical-align: top;\n",
       "    }\n",
       "\n",
       "    .dataframe thead th {\n",
       "        text-align: right;\n",
       "    }\n",
       "</style>\n",
       "<table border=\"1\" class=\"dataframe\">\n",
       "  <thead>\n",
       "    <tr style=\"text-align: right;\">\n",
       "      <th></th>\n",
       "      <th>age</th>\n",
       "      <th>balance</th>\n",
       "      <th>day</th>\n",
       "      <th>duration</th>\n",
       "      <th>campaign</th>\n",
       "      <th>pdays</th>\n",
       "      <th>previous</th>\n",
       "    </tr>\n",
       "    <tr>\n",
       "      <th>deposit</th>\n",
       "      <th></th>\n",
       "      <th></th>\n",
       "      <th></th>\n",
       "      <th></th>\n",
       "      <th></th>\n",
       "      <th></th>\n",
       "      <th></th>\n",
       "    </tr>\n",
       "  </thead>\n",
       "  <tbody>\n",
       "    <tr>\n",
       "      <th>no</th>\n",
       "      <td>40.629978</td>\n",
       "      <td>682.155420</td>\n",
       "      <td>16.036320</td>\n",
       "      <td>221.316740</td>\n",
       "      <td>2.845870</td>\n",
       "      <td>36.253872</td>\n",
       "      <td>0.522124</td>\n",
       "    </tr>\n",
       "    <tr>\n",
       "      <th>yes</th>\n",
       "      <td>41.203162</td>\n",
       "      <td>953.071566</td>\n",
       "      <td>15.073489</td>\n",
       "      <td>539.568896</td>\n",
       "      <td>2.136296</td>\n",
       "      <td>68.776757</td>\n",
       "      <td>1.157018</td>\n",
       "    </tr>\n",
       "  </tbody>\n",
       "</table>\n",
       "</div>"
      ],
      "text/plain": [
       "               age     balance        day    duration  campaign      pdays  \\\n",
       "deposit                                                                      \n",
       "no       40.629978  682.155420  16.036320  221.316740  2.845870  36.253872   \n",
       "yes      41.203162  953.071566  15.073489  539.568896  2.136296  68.776757   \n",
       "\n",
       "         previous  \n",
       "deposit            \n",
       "no       0.522124  \n",
       "yes      1.157018  "
      ]
     },
     "execution_count": 23,
     "metadata": {},
     "output_type": "execute_result"
    }
   ],
   "source": [
    "bank_cleaned.groupby('deposit').mean()"
   ]
  },
  {
   "attachments": {},
   "cell_type": "markdown",
   "id": "8fea5a77",
   "metadata": {},
   "source": [
    "Here are the new observations:\n",
    "\n",
    "* The average ***age*** of clients who opened a deposit is higher than the average age of those who did not.\n",
    "* ***Balance*** value of clients who opened a deposit is higher than the average balance of those who did not.\n",
    "* The ***number of days*** since the last contact with the client is less for clients who have opened a deposit. And the smaller it is, the better the last call was remembered, which means the higher the chance of opening an account.\n",
    "* ***Duration*** of conversation time with clients who opened a deposit is higher than the average duration of those who did not.\n",
    "* The ***campaign*** (the number of calls per campaign) is less for clients who have opened a deposit.\n",
    "* ***Previous***: if the value is closer to 1, = / > 1, then the *deposit* value is 'yes' (1)"
   ]
  },
  {
   "attachments": {},
   "cell_type": "markdown",
   "id": "33981e21",
   "metadata": {},
   "source": [
    "We can look at the differences in the result of **current and past marketing campaign**.\n",
    "\n",
    "*Note*: Probably, people who have already agreed to a bank offer once are more likely to accept it again."
   ]
  },
  {
   "cell_type": "code",
   "execution_count": 24,
   "id": "2d640ce1",
   "metadata": {},
   "outputs": [
    {
     "data": {
      "text/plain": [
       "poutcome  deposit\n",
       "failure   no          562\n",
       "          yes         547\n",
       "other     yes         265\n",
       "          no          216\n",
       "success   yes         861\n",
       "          no           84\n",
       "unknown   no         4562\n",
       "          yes        3008\n",
       "Name: deposit, dtype: int64"
      ]
     },
     "execution_count": 24,
     "metadata": {},
     "output_type": "execute_result"
    }
   ],
   "source": [
    "marketing_data = bank_cleaned.groupby('poutcome')['deposit'].value_counts()\n",
    "marketing_data "
   ]
  },
  {
   "attachments": {},
   "cell_type": "markdown",
   "id": "5d350215",
   "metadata": {},
   "source": [
    "To present the data more clearly, we calculate the categorical mean of other categorical variables, such as *education* and *marital status*."
   ]
  },
  {
   "attachments": {},
   "cell_type": "markdown",
   "id": "38c85743",
   "metadata": {},
   "source": [
    "### `JOB, MARITAL STATUS, EDUCATION, MONTH`"
   ]
  },
  {
   "cell_type": "code",
   "execution_count": 25,
   "id": "6e361041",
   "metadata": {},
   "outputs": [
    {
     "data": {
      "text/html": [
       "<div>\n",
       "<style scoped>\n",
       "    .dataframe tbody tr th:only-of-type {\n",
       "        vertical-align: middle;\n",
       "    }\n",
       "\n",
       "    .dataframe tbody tr th {\n",
       "        vertical-align: top;\n",
       "    }\n",
       "\n",
       "    .dataframe thead th {\n",
       "        text-align: right;\n",
       "    }\n",
       "</style>\n",
       "<table border=\"1\" class=\"dataframe\">\n",
       "  <thead>\n",
       "    <tr style=\"text-align: right;\">\n",
       "      <th></th>\n",
       "      <th></th>\n",
       "      <th>age</th>\n",
       "      <th>balance</th>\n",
       "      <th>day</th>\n",
       "      <th>duration</th>\n",
       "      <th>campaign</th>\n",
       "      <th>pdays</th>\n",
       "      <th>previous</th>\n",
       "    </tr>\n",
       "    <tr>\n",
       "      <th>job</th>\n",
       "      <th>deposit</th>\n",
       "      <th></th>\n",
       "      <th></th>\n",
       "      <th></th>\n",
       "      <th></th>\n",
       "      <th></th>\n",
       "      <th></th>\n",
       "      <th></th>\n",
       "    </tr>\n",
       "  </thead>\n",
       "  <tbody>\n",
       "    <tr>\n",
       "      <th rowspan=\"2\" valign=\"top\">admin.</th>\n",
       "      <th>no</th>\n",
       "      <td>39.218750</td>\n",
       "      <td>627.931548</td>\n",
       "      <td>15.529762</td>\n",
       "      <td>207.313988</td>\n",
       "      <td>2.668155</td>\n",
       "      <td>52.412202</td>\n",
       "      <td>0.715774</td>\n",
       "    </tr>\n",
       "    <tr>\n",
       "      <th>yes</th>\n",
       "      <td>38.952962</td>\n",
       "      <td>856.616725</td>\n",
       "      <td>15.139373</td>\n",
       "      <td>510.411150</td>\n",
       "      <td>2.045296</td>\n",
       "      <td>79.418118</td>\n",
       "      <td>1.336237</td>\n",
       "    </tr>\n",
       "    <tr>\n",
       "      <th rowspan=\"2\" valign=\"top\">blue-collar</th>\n",
       "      <th>no</th>\n",
       "      <td>39.669264</td>\n",
       "      <td>654.830303</td>\n",
       "      <td>15.341126</td>\n",
       "      <td>232.691775</td>\n",
       "      <td>2.718615</td>\n",
       "      <td>40.260606</td>\n",
       "      <td>0.533333</td>\n",
       "    </tr>\n",
       "    <tr>\n",
       "      <th>yes</th>\n",
       "      <td>38.473926</td>\n",
       "      <td>786.217791</td>\n",
       "      <td>15.035276</td>\n",
       "      <td>676.151840</td>\n",
       "      <td>2.199387</td>\n",
       "      <td>55.107362</td>\n",
       "      <td>0.900307</td>\n",
       "    </tr>\n",
       "    <tr>\n",
       "      <th rowspan=\"2\" valign=\"top\">entrepreneur</th>\n",
       "      <th>no</th>\n",
       "      <td>42.952381</td>\n",
       "      <td>664.370370</td>\n",
       "      <td>15.698413</td>\n",
       "      <td>209.222222</td>\n",
       "      <td>2.544974</td>\n",
       "      <td>27.121693</td>\n",
       "      <td>0.444444</td>\n",
       "    </tr>\n",
       "    <tr>\n",
       "      <th>yes</th>\n",
       "      <td>42.540541</td>\n",
       "      <td>917.567568</td>\n",
       "      <td>14.693694</td>\n",
       "      <td>643.540541</td>\n",
       "      <td>2.936937</td>\n",
       "      <td>47.117117</td>\n",
       "      <td>0.765766</td>\n",
       "    </tr>\n",
       "    <tr>\n",
       "      <th rowspan=\"2\" valign=\"top\">housemaid</th>\n",
       "      <th>no</th>\n",
       "      <td>46.509804</td>\n",
       "      <td>646.751634</td>\n",
       "      <td>16.183007</td>\n",
       "      <td>210.973856</td>\n",
       "      <td>2.764706</td>\n",
       "      <td>18.450980</td>\n",
       "      <td>0.307190</td>\n",
       "    </tr>\n",
       "    <tr>\n",
       "      <th>yes</th>\n",
       "      <td>49.525253</td>\n",
       "      <td>1070.666667</td>\n",
       "      <td>16.141414</td>\n",
       "      <td>557.343434</td>\n",
       "      <td>2.515152</td>\n",
       "      <td>60.888889</td>\n",
       "      <td>0.838384</td>\n",
       "    </tr>\n",
       "    <tr>\n",
       "      <th rowspan=\"2\" valign=\"top\">management</th>\n",
       "      <th>no</th>\n",
       "      <td>40.432203</td>\n",
       "      <td>716.159322</td>\n",
       "      <td>16.545763</td>\n",
       "      <td>214.656780</td>\n",
       "      <td>3.000847</td>\n",
       "      <td>32.444068</td>\n",
       "      <td>0.482203</td>\n",
       "    </tr>\n",
       "    <tr>\n",
       "      <th>yes</th>\n",
       "      <td>39.789427</td>\n",
       "      <td>1048.597357</td>\n",
       "      <td>14.692511</td>\n",
       "      <td>497.410573</td>\n",
       "      <td>2.198238</td>\n",
       "      <td>75.401762</td>\n",
       "      <td>1.275771</td>\n",
       "    </tr>\n",
       "    <tr>\n",
       "      <th rowspan=\"2\" valign=\"top\">retired</th>\n",
       "      <th>no</th>\n",
       "      <td>61.324675</td>\n",
       "      <td>911.774892</td>\n",
       "      <td>15.584416</td>\n",
       "      <td>252.588745</td>\n",
       "      <td>2.675325</td>\n",
       "      <td>29.965368</td>\n",
       "      <td>0.523810</td>\n",
       "    </tr>\n",
       "    <tr>\n",
       "      <th>yes</th>\n",
       "      <td>67.046296</td>\n",
       "      <td>1278.337963</td>\n",
       "      <td>15.337963</td>\n",
       "      <td>443.002315</td>\n",
       "      <td>1.849537</td>\n",
       "      <td>67.365741</td>\n",
       "      <td>1.206019</td>\n",
       "    </tr>\n",
       "    <tr>\n",
       "      <th rowspan=\"2\" valign=\"top\">self-employed</th>\n",
       "      <th>no</th>\n",
       "      <td>40.629442</td>\n",
       "      <td>754.005076</td>\n",
       "      <td>16.340102</td>\n",
       "      <td>229.253807</td>\n",
       "      <td>2.979695</td>\n",
       "      <td>31.700508</td>\n",
       "      <td>0.685279</td>\n",
       "    </tr>\n",
       "    <tr>\n",
       "      <th>yes</th>\n",
       "      <td>37.416149</td>\n",
       "      <td>987.360248</td>\n",
       "      <td>14.826087</td>\n",
       "      <td>597.788820</td>\n",
       "      <td>2.149068</td>\n",
       "      <td>59.987578</td>\n",
       "      <td>1.000000</td>\n",
       "    </tr>\n",
       "    <tr>\n",
       "      <th rowspan=\"2\" valign=\"top\">services</th>\n",
       "      <th>no</th>\n",
       "      <td>38.374761</td>\n",
       "      <td>625.787763</td>\n",
       "      <td>16.059273</td>\n",
       "      <td>225.908222</td>\n",
       "      <td>2.898662</td>\n",
       "      <td>36.432122</td>\n",
       "      <td>0.453155</td>\n",
       "    </tr>\n",
       "    <tr>\n",
       "      <th>yes</th>\n",
       "      <td>37.275362</td>\n",
       "      <td>776.307246</td>\n",
       "      <td>15.072464</td>\n",
       "      <td>624.846377</td>\n",
       "      <td>2.142029</td>\n",
       "      <td>71.704348</td>\n",
       "      <td>1.000000</td>\n",
       "    </tr>\n",
       "    <tr>\n",
       "      <th rowspan=\"2\" valign=\"top\">student</th>\n",
       "      <th>no</th>\n",
       "      <td>27.012346</td>\n",
       "      <td>830.444444</td>\n",
       "      <td>13.641975</td>\n",
       "      <td>219.592593</td>\n",
       "      <td>2.679012</td>\n",
       "      <td>42.962963</td>\n",
       "      <td>1.111111</td>\n",
       "    </tr>\n",
       "    <tr>\n",
       "      <th>yes</th>\n",
       "      <td>25.693878</td>\n",
       "      <td>851.791837</td>\n",
       "      <td>15.575510</td>\n",
       "      <td>372.648980</td>\n",
       "      <td>1.995918</td>\n",
       "      <td>74.167347</td>\n",
       "      <td>1.330612</td>\n",
       "    </tr>\n",
       "    <tr>\n",
       "      <th rowspan=\"2\" valign=\"top\">technician</th>\n",
       "      <th>no</th>\n",
       "      <td>38.872222</td>\n",
       "      <td>654.171111</td>\n",
       "      <td>16.930000</td>\n",
       "      <td>213.608889</td>\n",
       "      <td>3.075556</td>\n",
       "      <td>33.352222</td>\n",
       "      <td>0.464444</td>\n",
       "    </tr>\n",
       "    <tr>\n",
       "      <th>yes</th>\n",
       "      <td>38.945799</td>\n",
       "      <td>942.355014</td>\n",
       "      <td>15.279133</td>\n",
       "      <td>544.831978</td>\n",
       "      <td>2.142276</td>\n",
       "      <td>63.276423</td>\n",
       "      <td>1.165312</td>\n",
       "    </tr>\n",
       "    <tr>\n",
       "      <th rowspan=\"2\" valign=\"top\">unemployed</th>\n",
       "      <th>no</th>\n",
       "      <td>40.888112</td>\n",
       "      <td>766.846154</td>\n",
       "      <td>16.076923</td>\n",
       "      <td>248.496503</td>\n",
       "      <td>2.461538</td>\n",
       "      <td>20.755245</td>\n",
       "      <td>0.237762</td>\n",
       "    </tr>\n",
       "    <tr>\n",
       "      <th>yes</th>\n",
       "      <td>41.042328</td>\n",
       "      <td>930.328042</td>\n",
       "      <td>15.111111</td>\n",
       "      <td>551.037037</td>\n",
       "      <td>1.947090</td>\n",
       "      <td>80.539683</td>\n",
       "      <td>1.232804</td>\n",
       "    </tr>\n",
       "  </tbody>\n",
       "</table>\n",
       "</div>"
      ],
      "text/plain": [
       "                             age      balance        day    duration  \\\n",
       "job           deposit                                                  \n",
       "admin.        no       39.218750   627.931548  15.529762  207.313988   \n",
       "              yes      38.952962   856.616725  15.139373  510.411150   \n",
       "blue-collar   no       39.669264   654.830303  15.341126  232.691775   \n",
       "              yes      38.473926   786.217791  15.035276  676.151840   \n",
       "entrepreneur  no       42.952381   664.370370  15.698413  209.222222   \n",
       "              yes      42.540541   917.567568  14.693694  643.540541   \n",
       "housemaid     no       46.509804   646.751634  16.183007  210.973856   \n",
       "              yes      49.525253  1070.666667  16.141414  557.343434   \n",
       "management    no       40.432203   716.159322  16.545763  214.656780   \n",
       "              yes      39.789427  1048.597357  14.692511  497.410573   \n",
       "retired       no       61.324675   911.774892  15.584416  252.588745   \n",
       "              yes      67.046296  1278.337963  15.337963  443.002315   \n",
       "self-employed no       40.629442   754.005076  16.340102  229.253807   \n",
       "              yes      37.416149   987.360248  14.826087  597.788820   \n",
       "services      no       38.374761   625.787763  16.059273  225.908222   \n",
       "              yes      37.275362   776.307246  15.072464  624.846377   \n",
       "student       no       27.012346   830.444444  13.641975  219.592593   \n",
       "              yes      25.693878   851.791837  15.575510  372.648980   \n",
       "technician    no       38.872222   654.171111  16.930000  213.608889   \n",
       "              yes      38.945799   942.355014  15.279133  544.831978   \n",
       "unemployed    no       40.888112   766.846154  16.076923  248.496503   \n",
       "              yes      41.042328   930.328042  15.111111  551.037037   \n",
       "\n",
       "                       campaign      pdays  previous  \n",
       "job           deposit                                 \n",
       "admin.        no       2.668155  52.412202  0.715774  \n",
       "              yes      2.045296  79.418118  1.336237  \n",
       "blue-collar   no       2.718615  40.260606  0.533333  \n",
       "              yes      2.199387  55.107362  0.900307  \n",
       "entrepreneur  no       2.544974  27.121693  0.444444  \n",
       "              yes      2.936937  47.117117  0.765766  \n",
       "housemaid     no       2.764706  18.450980  0.307190  \n",
       "              yes      2.515152  60.888889  0.838384  \n",
       "management    no       3.000847  32.444068  0.482203  \n",
       "              yes      2.198238  75.401762  1.275771  \n",
       "retired       no       2.675325  29.965368  0.523810  \n",
       "              yes      1.849537  67.365741  1.206019  \n",
       "self-employed no       2.979695  31.700508  0.685279  \n",
       "              yes      2.149068  59.987578  1.000000  \n",
       "services      no       2.898662  36.432122  0.453155  \n",
       "              yes      2.142029  71.704348  1.000000  \n",
       "student       no       2.679012  42.962963  1.111111  \n",
       "              yes      1.995918  74.167347  1.330612  \n",
       "technician    no       3.075556  33.352222  0.464444  \n",
       "              yes      2.142276  63.276423  1.165312  \n",
       "unemployed    no       2.461538  20.755245  0.237762  \n",
       "              yes      1.947090  80.539683  1.232804  "
      ]
     },
     "execution_count": 25,
     "metadata": {},
     "output_type": "execute_result"
    }
   ],
   "source": [
    "\"\"\"\n",
    "Group by Job column\n",
    "\"\"\"\n",
    "bank_cleaned.groupby(['job', 'deposit']).mean()"
   ]
  },
  {
   "cell_type": "code",
   "execution_count": 26,
   "id": "a174bd32",
   "metadata": {},
   "outputs": [
    {
     "data": {
      "text/html": [
       "<div>\n",
       "<style scoped>\n",
       "    .dataframe tbody tr th:only-of-type {\n",
       "        vertical-align: middle;\n",
       "    }\n",
       "\n",
       "    .dataframe tbody tr th {\n",
       "        vertical-align: top;\n",
       "    }\n",
       "\n",
       "    .dataframe thead th {\n",
       "        text-align: right;\n",
       "    }\n",
       "</style>\n",
       "<table border=\"1\" class=\"dataframe\">\n",
       "  <thead>\n",
       "    <tr style=\"text-align: right;\">\n",
       "      <th></th>\n",
       "      <th></th>\n",
       "      <th>age</th>\n",
       "      <th>balance</th>\n",
       "      <th>day</th>\n",
       "      <th>duration</th>\n",
       "      <th>campaign</th>\n",
       "      <th>pdays</th>\n",
       "      <th>previous</th>\n",
       "    </tr>\n",
       "    <tr>\n",
       "      <th>marital</th>\n",
       "      <th>deposit</th>\n",
       "      <th></th>\n",
       "      <th></th>\n",
       "      <th></th>\n",
       "      <th></th>\n",
       "      <th></th>\n",
       "      <th></th>\n",
       "      <th></th>\n",
       "    </tr>\n",
       "  </thead>\n",
       "  <tbody>\n",
       "    <tr>\n",
       "      <th rowspan=\"2\" valign=\"top\">divorced</th>\n",
       "      <th>no</th>\n",
       "      <td>45.386218</td>\n",
       "      <td>608.165064</td>\n",
       "      <td>15.844551</td>\n",
       "      <td>210.626603</td>\n",
       "      <td>2.766026</td>\n",
       "      <td>34.464744</td>\n",
       "      <td>0.419872</td>\n",
       "    </tr>\n",
       "    <tr>\n",
       "      <th>yes</th>\n",
       "      <td>48.575045</td>\n",
       "      <td>855.567812</td>\n",
       "      <td>15.482821</td>\n",
       "      <td>594.757685</td>\n",
       "      <td>2.083183</td>\n",
       "      <td>61.763110</td>\n",
       "      <td>0.924051</td>\n",
       "    </tr>\n",
       "    <tr>\n",
       "      <th rowspan=\"2\" valign=\"top\">married</th>\n",
       "      <th>no</th>\n",
       "      <td>42.783833</td>\n",
       "      <td>694.335755</td>\n",
       "      <td>16.165002</td>\n",
       "      <td>222.747805</td>\n",
       "      <td>2.959431</td>\n",
       "      <td>33.397215</td>\n",
       "      <td>0.492583</td>\n",
       "    </tr>\n",
       "    <tr>\n",
       "      <th>yes</th>\n",
       "      <td>46.026534</td>\n",
       "      <td>1029.008706</td>\n",
       "      <td>14.834163</td>\n",
       "      <td>541.496683</td>\n",
       "      <td>2.223051</td>\n",
       "      <td>71.308458</td>\n",
       "      <td>1.248756</td>\n",
       "    </tr>\n",
       "    <tr>\n",
       "      <th rowspan=\"2\" valign=\"top\">single</th>\n",
       "      <th>no</th>\n",
       "      <td>33.895124</td>\n",
       "      <td>686.122244</td>\n",
       "      <td>15.832331</td>\n",
       "      <td>222.615230</td>\n",
       "      <td>2.628591</td>\n",
       "      <td>43.302605</td>\n",
       "      <td>0.629927</td>\n",
       "    </tr>\n",
       "    <tr>\n",
       "      <th>yes</th>\n",
       "      <td>32.047786</td>\n",
       "      <td>877.756410</td>\n",
       "      <td>15.277972</td>\n",
       "      <td>519.074009</td>\n",
       "      <td>2.031469</td>\n",
       "      <td>67.478438</td>\n",
       "      <td>1.103147</td>\n",
       "    </tr>\n",
       "  </tbody>\n",
       "</table>\n",
       "</div>"
      ],
      "text/plain": [
       "                        age      balance        day    duration  campaign  \\\n",
       "marital  deposit                                                            \n",
       "divorced no       45.386218   608.165064  15.844551  210.626603  2.766026   \n",
       "         yes      48.575045   855.567812  15.482821  594.757685  2.083183   \n",
       "married  no       42.783833   694.335755  16.165002  222.747805  2.959431   \n",
       "         yes      46.026534  1029.008706  14.834163  541.496683  2.223051   \n",
       "single   no       33.895124   686.122244  15.832331  222.615230  2.628591   \n",
       "         yes      32.047786   877.756410  15.277972  519.074009  2.031469   \n",
       "\n",
       "                      pdays  previous  \n",
       "marital  deposit                       \n",
       "divorced no       34.464744  0.419872  \n",
       "         yes      61.763110  0.924051  \n",
       "married  no       33.397215  0.492583  \n",
       "         yes      71.308458  1.248756  \n",
       "single   no       43.302605  0.629927  \n",
       "         yes      67.478438  1.103147  "
      ]
     },
     "execution_count": 26,
     "metadata": {},
     "output_type": "execute_result"
    }
   ],
   "source": [
    "\"\"\"\n",
    "Group by Marital status column\n",
    "\"\"\"\n",
    "bank_cleaned.groupby(['marital', 'deposit']).mean()"
   ]
  },
  {
   "cell_type": "code",
   "execution_count": 27,
   "id": "6b94c019",
   "metadata": {},
   "outputs": [
    {
     "data": {
      "text/html": [
       "<div>\n",
       "<style scoped>\n",
       "    .dataframe tbody tr th:only-of-type {\n",
       "        vertical-align: middle;\n",
       "    }\n",
       "\n",
       "    .dataframe tbody tr th {\n",
       "        vertical-align: top;\n",
       "    }\n",
       "\n",
       "    .dataframe thead th {\n",
       "        text-align: right;\n",
       "    }\n",
       "</style>\n",
       "<table border=\"1\" class=\"dataframe\">\n",
       "  <thead>\n",
       "    <tr style=\"text-align: right;\">\n",
       "      <th></th>\n",
       "      <th></th>\n",
       "      <th>age</th>\n",
       "      <th>balance</th>\n",
       "      <th>day</th>\n",
       "      <th>duration</th>\n",
       "      <th>campaign</th>\n",
       "      <th>pdays</th>\n",
       "      <th>previous</th>\n",
       "    </tr>\n",
       "    <tr>\n",
       "      <th>education</th>\n",
       "      <th>deposit</th>\n",
       "      <th></th>\n",
       "      <th></th>\n",
       "      <th></th>\n",
       "      <th></th>\n",
       "      <th></th>\n",
       "      <th></th>\n",
       "      <th></th>\n",
       "    </tr>\n",
       "  </thead>\n",
       "  <tbody>\n",
       "    <tr>\n",
       "      <th rowspan=\"2\" valign=\"top\">primary</th>\n",
       "      <th>no</th>\n",
       "      <td>45.718750</td>\n",
       "      <td>673.590144</td>\n",
       "      <td>15.435096</td>\n",
       "      <td>224.287260</td>\n",
       "      <td>2.873798</td>\n",
       "      <td>30.707933</td>\n",
       "      <td>0.473558</td>\n",
       "    </tr>\n",
       "    <tr>\n",
       "      <th>yes</th>\n",
       "      <td>51.135397</td>\n",
       "      <td>973.707930</td>\n",
       "      <td>15.526112</td>\n",
       "      <td>641.094778</td>\n",
       "      <td>2.288201</td>\n",
       "      <td>55.288201</td>\n",
       "      <td>1.027079</td>\n",
       "    </tr>\n",
       "    <tr>\n",
       "      <th rowspan=\"2\" valign=\"top\">secondary</th>\n",
       "      <th>no</th>\n",
       "      <td>39.909328</td>\n",
       "      <td>661.233855</td>\n",
       "      <td>15.961187</td>\n",
       "      <td>221.433790</td>\n",
       "      <td>2.811155</td>\n",
       "      <td>38.736138</td>\n",
       "      <td>0.541748</td>\n",
       "    </tr>\n",
       "    <tr>\n",
       "      <th>yes</th>\n",
       "      <td>40.520196</td>\n",
       "      <td>897.025704</td>\n",
       "      <td>15.056304</td>\n",
       "      <td>551.794778</td>\n",
       "      <td>2.092615</td>\n",
       "      <td>72.321093</td>\n",
       "      <td>1.151367</td>\n",
       "    </tr>\n",
       "    <tr>\n",
       "      <th rowspan=\"2\" valign=\"top\">tertiary</th>\n",
       "      <th>no</th>\n",
       "      <td>39.303408</td>\n",
       "      <td>728.860419</td>\n",
       "      <td>16.515072</td>\n",
       "      <td>219.461992</td>\n",
       "      <td>2.900393</td>\n",
       "      <td>34.290301</td>\n",
       "      <td>0.509174</td>\n",
       "    </tr>\n",
       "    <tr>\n",
       "      <th>yes</th>\n",
       "      <td>39.182720</td>\n",
       "      <td>1027.035026</td>\n",
       "      <td>14.961471</td>\n",
       "      <td>491.434326</td>\n",
       "      <td>2.152948</td>\n",
       "      <td>67.776416</td>\n",
       "      <td>1.204320</td>\n",
       "    </tr>\n",
       "  </tbody>\n",
       "</table>\n",
       "</div>"
      ],
      "text/plain": [
       "                         age      balance        day    duration  campaign  \\\n",
       "education deposit                                                            \n",
       "primary   no       45.718750   673.590144  15.435096  224.287260  2.873798   \n",
       "          yes      51.135397   973.707930  15.526112  641.094778  2.288201   \n",
       "secondary no       39.909328   661.233855  15.961187  221.433790  2.811155   \n",
       "          yes      40.520196   897.025704  15.056304  551.794778  2.092615   \n",
       "tertiary  no       39.303408   728.860419  16.515072  219.461992  2.900393   \n",
       "          yes      39.182720  1027.035026  14.961471  491.434326  2.152948   \n",
       "\n",
       "                       pdays  previous  \n",
       "education deposit                       \n",
       "primary   no       30.707933  0.473558  \n",
       "          yes      55.288201  1.027079  \n",
       "secondary no       38.736138  0.541748  \n",
       "          yes      72.321093  1.151367  \n",
       "tertiary  no       34.290301  0.509174  \n",
       "          yes      67.776416  1.204320  "
      ]
     },
     "execution_count": 27,
     "metadata": {},
     "output_type": "execute_result"
    }
   ],
   "source": [
    "\"\"\"\n",
    "Group by Education column\n",
    "\"\"\"\n",
    "bank_cleaned.groupby(['education', 'deposit']).mean()"
   ]
  },
  {
   "cell_type": "code",
   "execution_count": 28,
   "id": "d772c3c2",
   "metadata": {},
   "outputs": [
    {
     "data": {
      "application/vnd.plotly.v1+json": {
       "config": {
        "plotlyServerURL": "https://plot.ly"
       },
       "data": [
        {
         "alignmentgroup": "True",
         "hovertemplate": "deposit=no<br>job=%{x}<br>count=%{y}<extra></extra>",
         "legendgroup": "no",
         "marker": {
          "color": "blue",
          "pattern": {
           "shape": ""
          }
         },
         "name": "no",
         "offsetgroup": "no",
         "orientation": "v",
         "showlegend": true,
         "textposition": "auto",
         "type": "bar",
         "x": [
          "admin.",
          "blue-collar",
          "entrepreneur",
          "housemaid",
          "management",
          "retired",
          "self-employed",
          "services",
          "student",
          "technician",
          "unemployed"
         ],
         "xaxis": "x",
         "y": [
          672,
          1155,
          189,
          153,
          1180,
          231,
          197,
          523,
          81,
          900,
          143
         ],
         "yaxis": "y"
        },
        {
         "alignmentgroup": "True",
         "hovertemplate": "deposit=yes<br>job=%{x}<br>count=%{y}<extra></extra>",
         "legendgroup": "yes",
         "marker": {
          "color": "red",
          "pattern": {
           "shape": ""
          }
         },
         "name": "yes",
         "offsetgroup": "yes",
         "orientation": "v",
         "showlegend": true,
         "textposition": "auto",
         "type": "bar",
         "x": [
          "admin.",
          "blue-collar",
          "entrepreneur",
          "housemaid",
          "management",
          "retired",
          "self-employed",
          "services",
          "student",
          "technician",
          "unemployed"
         ],
         "xaxis": "x",
         "y": [
          574,
          652,
          111,
          99,
          1135,
          432,
          161,
          345,
          245,
          738,
          189
         ],
         "yaxis": "y"
        }
       ],
       "layout": {
        "barmode": "group",
        "height": 400,
        "legend": {
         "title": {
          "text": "deposit"
         },
         "tracegroupgap": 0
        },
        "margin": {
         "t": 60
        },
        "template": {
         "data": {
          "bar": [
           {
            "error_x": {
             "color": "#2a3f5f"
            },
            "error_y": {
             "color": "#2a3f5f"
            },
            "marker": {
             "line": {
              "color": "#E5ECF6",
              "width": 0.5
             },
             "pattern": {
              "fillmode": "overlay",
              "size": 10,
              "solidity": 0.2
             }
            },
            "type": "bar"
           }
          ],
          "barpolar": [
           {
            "marker": {
             "line": {
              "color": "#E5ECF6",
              "width": 0.5
             },
             "pattern": {
              "fillmode": "overlay",
              "size": 10,
              "solidity": 0.2
             }
            },
            "type": "barpolar"
           }
          ],
          "carpet": [
           {
            "aaxis": {
             "endlinecolor": "#2a3f5f",
             "gridcolor": "white",
             "linecolor": "white",
             "minorgridcolor": "white",
             "startlinecolor": "#2a3f5f"
            },
            "baxis": {
             "endlinecolor": "#2a3f5f",
             "gridcolor": "white",
             "linecolor": "white",
             "minorgridcolor": "white",
             "startlinecolor": "#2a3f5f"
            },
            "type": "carpet"
           }
          ],
          "choropleth": [
           {
            "colorbar": {
             "outlinewidth": 0,
             "ticks": ""
            },
            "type": "choropleth"
           }
          ],
          "contour": [
           {
            "colorbar": {
             "outlinewidth": 0,
             "ticks": ""
            },
            "colorscale": [
             [
              0,
              "#0d0887"
             ],
             [
              0.1111111111111111,
              "#46039f"
             ],
             [
              0.2222222222222222,
              "#7201a8"
             ],
             [
              0.3333333333333333,
              "#9c179e"
             ],
             [
              0.4444444444444444,
              "#bd3786"
             ],
             [
              0.5555555555555556,
              "#d8576b"
             ],
             [
              0.6666666666666666,
              "#ed7953"
             ],
             [
              0.7777777777777778,
              "#fb9f3a"
             ],
             [
              0.8888888888888888,
              "#fdca26"
             ],
             [
              1,
              "#f0f921"
             ]
            ],
            "type": "contour"
           }
          ],
          "contourcarpet": [
           {
            "colorbar": {
             "outlinewidth": 0,
             "ticks": ""
            },
            "type": "contourcarpet"
           }
          ],
          "heatmap": [
           {
            "colorbar": {
             "outlinewidth": 0,
             "ticks": ""
            },
            "colorscale": [
             [
              0,
              "#0d0887"
             ],
             [
              0.1111111111111111,
              "#46039f"
             ],
             [
              0.2222222222222222,
              "#7201a8"
             ],
             [
              0.3333333333333333,
              "#9c179e"
             ],
             [
              0.4444444444444444,
              "#bd3786"
             ],
             [
              0.5555555555555556,
              "#d8576b"
             ],
             [
              0.6666666666666666,
              "#ed7953"
             ],
             [
              0.7777777777777778,
              "#fb9f3a"
             ],
             [
              0.8888888888888888,
              "#fdca26"
             ],
             [
              1,
              "#f0f921"
             ]
            ],
            "type": "heatmap"
           }
          ],
          "heatmapgl": [
           {
            "colorbar": {
             "outlinewidth": 0,
             "ticks": ""
            },
            "colorscale": [
             [
              0,
              "#0d0887"
             ],
             [
              0.1111111111111111,
              "#46039f"
             ],
             [
              0.2222222222222222,
              "#7201a8"
             ],
             [
              0.3333333333333333,
              "#9c179e"
             ],
             [
              0.4444444444444444,
              "#bd3786"
             ],
             [
              0.5555555555555556,
              "#d8576b"
             ],
             [
              0.6666666666666666,
              "#ed7953"
             ],
             [
              0.7777777777777778,
              "#fb9f3a"
             ],
             [
              0.8888888888888888,
              "#fdca26"
             ],
             [
              1,
              "#f0f921"
             ]
            ],
            "type": "heatmapgl"
           }
          ],
          "histogram": [
           {
            "marker": {
             "pattern": {
              "fillmode": "overlay",
              "size": 10,
              "solidity": 0.2
             }
            },
            "type": "histogram"
           }
          ],
          "histogram2d": [
           {
            "colorbar": {
             "outlinewidth": 0,
             "ticks": ""
            },
            "colorscale": [
             [
              0,
              "#0d0887"
             ],
             [
              0.1111111111111111,
              "#46039f"
             ],
             [
              0.2222222222222222,
              "#7201a8"
             ],
             [
              0.3333333333333333,
              "#9c179e"
             ],
             [
              0.4444444444444444,
              "#bd3786"
             ],
             [
              0.5555555555555556,
              "#d8576b"
             ],
             [
              0.6666666666666666,
              "#ed7953"
             ],
             [
              0.7777777777777778,
              "#fb9f3a"
             ],
             [
              0.8888888888888888,
              "#fdca26"
             ],
             [
              1,
              "#f0f921"
             ]
            ],
            "type": "histogram2d"
           }
          ],
          "histogram2dcontour": [
           {
            "colorbar": {
             "outlinewidth": 0,
             "ticks": ""
            },
            "colorscale": [
             [
              0,
              "#0d0887"
             ],
             [
              0.1111111111111111,
              "#46039f"
             ],
             [
              0.2222222222222222,
              "#7201a8"
             ],
             [
              0.3333333333333333,
              "#9c179e"
             ],
             [
              0.4444444444444444,
              "#bd3786"
             ],
             [
              0.5555555555555556,
              "#d8576b"
             ],
             [
              0.6666666666666666,
              "#ed7953"
             ],
             [
              0.7777777777777778,
              "#fb9f3a"
             ],
             [
              0.8888888888888888,
              "#fdca26"
             ],
             [
              1,
              "#f0f921"
             ]
            ],
            "type": "histogram2dcontour"
           }
          ],
          "mesh3d": [
           {
            "colorbar": {
             "outlinewidth": 0,
             "ticks": ""
            },
            "type": "mesh3d"
           }
          ],
          "parcoords": [
           {
            "line": {
             "colorbar": {
              "outlinewidth": 0,
              "ticks": ""
             }
            },
            "type": "parcoords"
           }
          ],
          "pie": [
           {
            "automargin": true,
            "type": "pie"
           }
          ],
          "scatter": [
           {
            "fillpattern": {
             "fillmode": "overlay",
             "size": 10,
             "solidity": 0.2
            },
            "type": "scatter"
           }
          ],
          "scatter3d": [
           {
            "line": {
             "colorbar": {
              "outlinewidth": 0,
              "ticks": ""
             }
            },
            "marker": {
             "colorbar": {
              "outlinewidth": 0,
              "ticks": ""
             }
            },
            "type": "scatter3d"
           }
          ],
          "scattercarpet": [
           {
            "marker": {
             "colorbar": {
              "outlinewidth": 0,
              "ticks": ""
             }
            },
            "type": "scattercarpet"
           }
          ],
          "scattergeo": [
           {
            "marker": {
             "colorbar": {
              "outlinewidth": 0,
              "ticks": ""
             }
            },
            "type": "scattergeo"
           }
          ],
          "scattergl": [
           {
            "marker": {
             "colorbar": {
              "outlinewidth": 0,
              "ticks": ""
             }
            },
            "type": "scattergl"
           }
          ],
          "scattermapbox": [
           {
            "marker": {
             "colorbar": {
              "outlinewidth": 0,
              "ticks": ""
             }
            },
            "type": "scattermapbox"
           }
          ],
          "scatterpolar": [
           {
            "marker": {
             "colorbar": {
              "outlinewidth": 0,
              "ticks": ""
             }
            },
            "type": "scatterpolar"
           }
          ],
          "scatterpolargl": [
           {
            "marker": {
             "colorbar": {
              "outlinewidth": 0,
              "ticks": ""
             }
            },
            "type": "scatterpolargl"
           }
          ],
          "scatterternary": [
           {
            "marker": {
             "colorbar": {
              "outlinewidth": 0,
              "ticks": ""
             }
            },
            "type": "scatterternary"
           }
          ],
          "surface": [
           {
            "colorbar": {
             "outlinewidth": 0,
             "ticks": ""
            },
            "colorscale": [
             [
              0,
              "#0d0887"
             ],
             [
              0.1111111111111111,
              "#46039f"
             ],
             [
              0.2222222222222222,
              "#7201a8"
             ],
             [
              0.3333333333333333,
              "#9c179e"
             ],
             [
              0.4444444444444444,
              "#bd3786"
             ],
             [
              0.5555555555555556,
              "#d8576b"
             ],
             [
              0.6666666666666666,
              "#ed7953"
             ],
             [
              0.7777777777777778,
              "#fb9f3a"
             ],
             [
              0.8888888888888888,
              "#fdca26"
             ],
             [
              1,
              "#f0f921"
             ]
            ],
            "type": "surface"
           }
          ],
          "table": [
           {
            "cells": {
             "fill": {
              "color": "#EBF0F8"
             },
             "line": {
              "color": "white"
             }
            },
            "header": {
             "fill": {
              "color": "#C8D4E3"
             },
             "line": {
              "color": "white"
             }
            },
            "type": "table"
           }
          ]
         },
         "layout": {
          "annotationdefaults": {
           "arrowcolor": "#2a3f5f",
           "arrowhead": 0,
           "arrowwidth": 1
          },
          "autotypenumbers": "strict",
          "coloraxis": {
           "colorbar": {
            "outlinewidth": 0,
            "ticks": ""
           }
          },
          "colorscale": {
           "diverging": [
            [
             0,
             "#8e0152"
            ],
            [
             0.1,
             "#c51b7d"
            ],
            [
             0.2,
             "#de77ae"
            ],
            [
             0.3,
             "#f1b6da"
            ],
            [
             0.4,
             "#fde0ef"
            ],
            [
             0.5,
             "#f7f7f7"
            ],
            [
             0.6,
             "#e6f5d0"
            ],
            [
             0.7,
             "#b8e186"
            ],
            [
             0.8,
             "#7fbc41"
            ],
            [
             0.9,
             "#4d9221"
            ],
            [
             1,
             "#276419"
            ]
           ],
           "sequential": [
            [
             0,
             "#0d0887"
            ],
            [
             0.1111111111111111,
             "#46039f"
            ],
            [
             0.2222222222222222,
             "#7201a8"
            ],
            [
             0.3333333333333333,
             "#9c179e"
            ],
            [
             0.4444444444444444,
             "#bd3786"
            ],
            [
             0.5555555555555556,
             "#d8576b"
            ],
            [
             0.6666666666666666,
             "#ed7953"
            ],
            [
             0.7777777777777778,
             "#fb9f3a"
            ],
            [
             0.8888888888888888,
             "#fdca26"
            ],
            [
             1,
             "#f0f921"
            ]
           ],
           "sequentialminus": [
            [
             0,
             "#0d0887"
            ],
            [
             0.1111111111111111,
             "#46039f"
            ],
            [
             0.2222222222222222,
             "#7201a8"
            ],
            [
             0.3333333333333333,
             "#9c179e"
            ],
            [
             0.4444444444444444,
             "#bd3786"
            ],
            [
             0.5555555555555556,
             "#d8576b"
            ],
            [
             0.6666666666666666,
             "#ed7953"
            ],
            [
             0.7777777777777778,
             "#fb9f3a"
            ],
            [
             0.8888888888888888,
             "#fdca26"
            ],
            [
             1,
             "#f0f921"
            ]
           ]
          },
          "colorway": [
           "#636efa",
           "#EF553B",
           "#00cc96",
           "#ab63fa",
           "#FFA15A",
           "#19d3f3",
           "#FF6692",
           "#B6E880",
           "#FF97FF",
           "#FECB52"
          ],
          "font": {
           "color": "#2a3f5f"
          },
          "geo": {
           "bgcolor": "white",
           "lakecolor": "white",
           "landcolor": "#E5ECF6",
           "showlakes": true,
           "showland": true,
           "subunitcolor": "white"
          },
          "hoverlabel": {
           "align": "left"
          },
          "hovermode": "closest",
          "mapbox": {
           "style": "light"
          },
          "paper_bgcolor": "white",
          "plot_bgcolor": "#E5ECF6",
          "polar": {
           "angularaxis": {
            "gridcolor": "white",
            "linecolor": "white",
            "ticks": ""
           },
           "bgcolor": "#E5ECF6",
           "radialaxis": {
            "gridcolor": "white",
            "linecolor": "white",
            "ticks": ""
           }
          },
          "scene": {
           "xaxis": {
            "backgroundcolor": "#E5ECF6",
            "gridcolor": "white",
            "gridwidth": 2,
            "linecolor": "white",
            "showbackground": true,
            "ticks": "",
            "zerolinecolor": "white"
           },
           "yaxis": {
            "backgroundcolor": "#E5ECF6",
            "gridcolor": "white",
            "gridwidth": 2,
            "linecolor": "white",
            "showbackground": true,
            "ticks": "",
            "zerolinecolor": "white"
           },
           "zaxis": {
            "backgroundcolor": "#E5ECF6",
            "gridcolor": "white",
            "gridwidth": 2,
            "linecolor": "white",
            "showbackground": true,
            "ticks": "",
            "zerolinecolor": "white"
           }
          },
          "shapedefaults": {
           "line": {
            "color": "#2a3f5f"
           }
          },
          "ternary": {
           "aaxis": {
            "gridcolor": "white",
            "linecolor": "white",
            "ticks": ""
           },
           "baxis": {
            "gridcolor": "white",
            "linecolor": "white",
            "ticks": ""
           },
           "bgcolor": "#E5ECF6",
           "caxis": {
            "gridcolor": "white",
            "linecolor": "white",
            "ticks": ""
           }
          },
          "title": {
           "x": 0.05
          },
          "xaxis": {
           "automargin": true,
           "gridcolor": "white",
           "linecolor": "white",
           "ticks": "",
           "title": {
            "standoff": 15
           },
           "zerolinecolor": "white",
           "zerolinewidth": 2
          },
          "yaxis": {
           "automargin": true,
           "gridcolor": "white",
           "linecolor": "white",
           "ticks": "",
           "title": {
            "standoff": 15
           },
           "zerolinecolor": "white",
           "zerolinewidth": 2
          }
         }
        },
        "title": {
         "text": "Opening a deposit by Job Title"
        },
        "width": 800,
        "xaxis": {
         "anchor": "y",
         "domain": [
          0,
          1
         ],
         "tickfont": {
          "size": 12
         },
         "title": {
          "text": "job"
         }
        },
        "yaxis": {
         "anchor": "x",
         "domain": [
          0,
          1
         ],
         "tickfont": {
          "size": 12
         },
         "title": {
          "font": {
           "size": 12
          },
          "text": "Frequency of Purchase"
         }
        }
       }
      }
     },
     "metadata": {},
     "output_type": "display_data"
    }
   ],
   "source": [
    "# Job: open a deposit/ do not\n",
    "job_data = bank_cleaned.groupby('job', as_index=False)['deposit'].value_counts()\n",
    "\n",
    "# Graph (Plotly) - bar chart\n",
    "fig = px.bar(\n",
    "    data_frame=job_data,\n",
    "    x='job',\n",
    "    y='count',\n",
    "    color='deposit',\n",
    "    barmode='group',\n",
    "    height=400,\n",
    "    width=800,\n",
    "    color_discrete_map={'no':'blue', 'yes':'red'}\n",
    ")\n",
    "\n",
    "fig.update_layout(\n",
    "    title='Opening a deposit by Job Title',\n",
    "    xaxis_tickfont_size=12,\n",
    "    yaxis=dict(\n",
    "        title='Frequency of Purchase',\n",
    "        titlefont_size=12,\n",
    "        tickfont_size=12,\n",
    "    ))\n",
    "\n",
    "fig.show()\n",
    "fig.write_image('data/fig2.png')"
   ]
  },
  {
   "cell_type": "code",
   "execution_count": 29,
   "id": "24e741bf",
   "metadata": {},
   "outputs": [
    {
     "data": {
      "image/png": "[encoded data removed]",
      "text/plain": [
       "<Figure size 432x288 with 1 Axes>"
      ]
     },
     "metadata": {
      "needs_background": "light"
     },
     "output_type": "display_data"
    }
   ],
   "source": [
    "table=pd.crosstab(bank_cleaned.marital, bank_cleaned.deposit)\n",
    "table.div(table.sum(1).astype(float), axis=0).plot(kind='bar', stacked=True)\n",
    "\n",
    "plt.title('Stacked Bar Chart of Marital Status vs Purchase')\n",
    "plt.xlabel('Marital Status')\n",
    "plt.ylabel('Proportion of Customers')\n",
    "plt.savefig('data/marital_vs_pur_stack.png')"
   ]
  },
  {
   "cell_type": "code",
   "execution_count": 30,
   "id": "9961f528",
   "metadata": {},
   "outputs": [
    {
     "data": {
      "image/png": "[encoded data removed]",
      "text/plain": [
       "<Figure size 432x288 with 1 Axes>"
      ]
     },
     "metadata": {
      "needs_background": "light"
     },
     "output_type": "display_data"
    }
   ],
   "source": [
    "table=pd.crosstab(bank_cleaned.education, bank_cleaned.deposit)\n",
    "table.div(table.sum(1).astype(float), axis=0).plot(kind='bar', stacked=True)\n",
    "\n",
    "plt.title('Stacked Bar Chart of Education vs Purchase')\n",
    "plt.xlabel('Education')\n",
    "plt.ylabel('Proportion of Customers')\n",
    "plt.savefig('data/edu_vs_pur_stack.png')"
   ]
  },
  {
   "cell_type": "code",
   "execution_count": 31,
   "id": "a85ca8e0",
   "metadata": {},
   "outputs": [
    {
     "data": {
      "application/vnd.plotly.v1+json": {
       "config": {
        "plotlyServerURL": "https://plot.ly"
       },
       "data": [
        {
         "alignmentgroup": "True",
         "hovertemplate": "deposit=yes<br>month=%{x}<br>count=%{y}<extra></extra>",
         "legendgroup": "yes",
         "marker": {
          "color": "red",
          "pattern": {
           "shape": ""
          }
         },
         "name": "yes",
         "offsetgroup": "yes",
         "orientation": "v",
         "showlegend": true,
         "textposition": "auto",
         "type": "bar",
         "x": [
          "apr",
          "aug",
          "dec",
          "feb",
          "jan",
          "jul",
          "jun",
          "mar",
          "may",
          "nov",
          "oct",
          "sep"
         ],
         "xaxis": "x",
         "y": [
          513,
          610,
          84,
          386,
          125,
          582,
          498,
          213,
          841,
          324,
          273,
          232
         ],
         "yaxis": "y"
        },
        {
         "alignmentgroup": "True",
         "hovertemplate": "deposit=no<br>month=%{x}<br>count=%{y}<extra></extra>",
         "legendgroup": "no",
         "marker": {
          "color": "blue",
          "pattern": {
           "shape": ""
          }
         },
         "name": "no",
         "offsetgroup": "no",
         "orientation": "v",
         "showlegend": true,
         "textposition": "auto",
         "type": "bar",
         "x": [
          "apr",
          "aug",
          "dec",
          "feb",
          "jan",
          "jul",
          "jun",
          "mar",
          "may",
          "nov",
          "oct",
          "sep"
         ],
         "xaxis": "x",
         "y": [
          317,
          775,
          9,
          323,
          194,
          836,
          606,
          24,
          1776,
          456,
          62,
          46
         ],
         "yaxis": "y"
        }
       ],
       "layout": {
        "barmode": "group",
        "height": 400,
        "legend": {
         "title": {
          "text": "deposit"
         },
         "tracegroupgap": 0
        },
        "margin": {
         "t": 60
        },
        "template": {
         "data": {
          "bar": [
           {
            "error_x": {
             "color": "#2a3f5f"
            },
            "error_y": {
             "color": "#2a3f5f"
            },
            "marker": {
             "line": {
              "color": "#E5ECF6",
              "width": 0.5
             },
             "pattern": {
              "fillmode": "overlay",
              "size": 10,
              "solidity": 0.2
             }
            },
            "type": "bar"
           }
          ],
          "barpolar": [
           {
            "marker": {
             "line": {
              "color": "#E5ECF6",
              "width": 0.5
             },
             "pattern": {
              "fillmode": "overlay",
              "size": 10,
              "solidity": 0.2
             }
            },
            "type": "barpolar"
           }
          ],
          "carpet": [
           {
            "aaxis": {
             "endlinecolor": "#2a3f5f",
             "gridcolor": "white",
             "linecolor": "white",
             "minorgridcolor": "white",
             "startlinecolor": "#2a3f5f"
            },
            "baxis": {
             "endlinecolor": "#2a3f5f",
             "gridcolor": "white",
             "linecolor": "white",
             "minorgridcolor": "white",
             "startlinecolor": "#2a3f5f"
            },
            "type": "carpet"
           }
          ],
          "choropleth": [
           {
            "colorbar": {
             "outlinewidth": 0,
             "ticks": ""
            },
            "type": "choropleth"
           }
          ],
          "contour": [
           {
            "colorbar": {
             "outlinewidth": 0,
             "ticks": ""
            },
            "colorscale": [
             [
              0,
              "#0d0887"
             ],
             [
              0.1111111111111111,
              "#46039f"
             ],
             [
              0.2222222222222222,
              "#7201a8"
             ],
             [
              0.3333333333333333,
              "#9c179e"
             ],
             [
              0.4444444444444444,
              "#bd3786"
             ],
             [
              0.5555555555555556,
              "#d8576b"
             ],
             [
              0.6666666666666666,
              "#ed7953"
             ],
             [
              0.7777777777777778,
              "#fb9f3a"
             ],
             [
              0.8888888888888888,
              "#fdca26"
             ],
             [
              1,
              "#f0f921"
             ]
            ],
            "type": "contour"
           }
          ],
          "contourcarpet": [
           {
            "colorbar": {
             "outlinewidth": 0,
             "ticks": ""
            },
            "type": "contourcarpet"
           }
          ],
          "heatmap": [
           {
            "colorbar": {
             "outlinewidth": 0,
             "ticks": ""
            },
            "colorscale": [
             [
              0,
              "#0d0887"
             ],
             [
              0.1111111111111111,
              "#46039f"
             ],
             [
              0.2222222222222222,
              "#7201a8"
             ],
             [
              0.3333333333333333,
              "#9c179e"
             ],
             [
              0.4444444444444444,
              "#bd3786"
             ],
             [
              0.5555555555555556,
              "#d8576b"
             ],
             [
              0.6666666666666666,
              "#ed7953"
             ],
             [
              0.7777777777777778,
              "#fb9f3a"
             ],
             [
              0.8888888888888888,
              "#fdca26"
             ],
             [
              1,
              "#f0f921"
             ]
            ],
            "type": "heatmap"
           }
          ],
          "heatmapgl": [
           {
            "colorbar": {
             "outlinewidth": 0,
             "ticks": ""
            },
            "colorscale": [
             [
              0,
              "#0d0887"
             ],
             [
              0.1111111111111111,
              "#46039f"
             ],
             [
              0.2222222222222222,
              "#7201a8"
             ],
             [
              0.3333333333333333,
              "#9c179e"
             ],
             [
              0.4444444444444444,
              "#bd3786"
             ],
             [
              0.5555555555555556,
              "#d8576b"
             ],
             [
              0.6666666666666666,
              "#ed7953"
             ],
             [
              0.7777777777777778,
              "#fb9f3a"
             ],
             [
              0.8888888888888888,
              "#fdca26"
             ],
             [
              1,
              "#f0f921"
             ]
            ],
            "type": "heatmapgl"
           }
          ],
          "histogram": [
           {
            "marker": {
             "pattern": {
              "fillmode": "overlay",
              "size": 10,
              "solidity": 0.2
             }
            },
            "type": "histogram"
           }
          ],
          "histogram2d": [
           {
            "colorbar": {
             "outlinewidth": 0,
             "ticks": ""
            },
            "colorscale": [
             [
              0,
              "#0d0887"
             ],
             [
              0.1111111111111111,
              "#46039f"
             ],
             [
              0.2222222222222222,
              "#7201a8"
             ],
             [
              0.3333333333333333,
              "#9c179e"
             ],
             [
              0.4444444444444444,
              "#bd3786"
             ],
             [
              0.5555555555555556,
              "#d8576b"
             ],
             [
              0.6666666666666666,
              "#ed7953"
             ],
             [
              0.7777777777777778,
              "#fb9f3a"
             ],
             [
              0.8888888888888888,
              "#fdca26"
             ],
             [
              1,
              "#f0f921"
             ]
            ],
            "type": "histogram2d"
           }
          ],
          "histogram2dcontour": [
           {
            "colorbar": {
             "outlinewidth": 0,
             "ticks": ""
            },
            "colorscale": [
             [
              0,
              "#0d0887"
             ],
             [
              0.1111111111111111,
              "#46039f"
             ],
             [
              0.2222222222222222,
              "#7201a8"
             ],
             [
              0.3333333333333333,
              "#9c179e"
             ],
             [
              0.4444444444444444,
              "#bd3786"
             ],
             [
              0.5555555555555556,
              "#d8576b"
             ],
             [
              0.6666666666666666,
              "#ed7953"
             ],
             [
              0.7777777777777778,
              "#fb9f3a"
             ],
             [
              0.8888888888888888,
              "#fdca26"
             ],
             [
              1,
              "#f0f921"
             ]
            ],
            "type": "histogram2dcontour"
           }
          ],
          "mesh3d": [
           {
            "colorbar": {
             "outlinewidth": 0,
             "ticks": ""
            },
            "type": "mesh3d"
           }
          ],
          "parcoords": [
           {
            "line": {
             "colorbar": {
              "outlinewidth": 0,
              "ticks": ""
             }
            },
            "type": "parcoords"
           }
          ],
          "pie": [
           {
            "automargin": true,
            "type": "pie"
           }
          ],
          "scatter": [
           {
            "fillpattern": {
             "fillmode": "overlay",
             "size": 10,
             "solidity": 0.2
            },
            "type": "scatter"
           }
          ],
          "scatter3d": [
           {
            "line": {
             "colorbar": {
              "outlinewidth": 0,
              "ticks": ""
             }
            },
            "marker": {
             "colorbar": {
              "outlinewidth": 0,
              "ticks": ""
             }
            },
            "type": "scatter3d"
           }
          ],
          "scattercarpet": [
           {
            "marker": {
             "colorbar": {
              "outlinewidth": 0,
              "ticks": ""
             }
            },
            "type": "scattercarpet"
           }
          ],
          "scattergeo": [
           {
            "marker": {
             "colorbar": {
              "outlinewidth": 0,
              "ticks": ""
             }
            },
            "type": "scattergeo"
           }
          ],
          "scattergl": [
           {
            "marker": {
             "colorbar": {
              "outlinewidth": 0,
              "ticks": ""
             }
            },
            "type": "scattergl"
           }
          ],
          "scattermapbox": [
           {
            "marker": {
             "colorbar": {
              "outlinewidth": 0,
              "ticks": ""
             }
            },
            "type": "scattermapbox"
           }
          ],
          "scatterpolar": [
           {
            "marker": {
             "colorbar": {
              "outlinewidth": 0,
              "ticks": ""
             }
            },
            "type": "scatterpolar"
           }
          ],
          "scatterpolargl": [
           {
            "marker": {
             "colorbar": {
              "outlinewidth": 0,
              "ticks": ""
             }
            },
            "type": "scatterpolargl"
           }
          ],
          "scatterternary": [
           {
            "marker": {
             "colorbar": {
              "outlinewidth": 0,
              "ticks": ""
             }
            },
            "type": "scatterternary"
           }
          ],
          "surface": [
           {
            "colorbar": {
             "outlinewidth": 0,
             "ticks": ""
            },
            "colorscale": [
             [
              0,
              "#0d0887"
             ],
             [
              0.1111111111111111,
              "#46039f"
             ],
             [
              0.2222222222222222,
              "#7201a8"
             ],
             [
              0.3333333333333333,
              "#9c179e"
             ],
             [
              0.4444444444444444,
              "#bd3786"
             ],
             [
              0.5555555555555556,
              "#d8576b"
             ],
             [
              0.6666666666666666,
              "#ed7953"
             ],
             [
              0.7777777777777778,
              "#fb9f3a"
             ],
             [
              0.8888888888888888,
              "#fdca26"
             ],
             [
              1,
              "#f0f921"
             ]
            ],
            "type": "surface"
           }
          ],
          "table": [
           {
            "cells": {
             "fill": {
              "color": "#EBF0F8"
             },
             "line": {
              "color": "white"
             }
            },
            "header": {
             "fill": {
              "color": "#C8D4E3"
             },
             "line": {
              "color": "white"
             }
            },
            "type": "table"
           }
          ]
         },
         "layout": {
          "annotationdefaults": {
           "arrowcolor": "#2a3f5f",
           "arrowhead": 0,
           "arrowwidth": 1
          },
          "autotypenumbers": "strict",
          "coloraxis": {
           "colorbar": {
            "outlinewidth": 0,
            "ticks": ""
           }
          },
          "colorscale": {
           "diverging": [
            [
             0,
             "#8e0152"
            ],
            [
             0.1,
             "#c51b7d"
            ],
            [
             0.2,
             "#de77ae"
            ],
            [
             0.3,
             "#f1b6da"
            ],
            [
             0.4,
             "#fde0ef"
            ],
            [
             0.5,
             "#f7f7f7"
            ],
            [
             0.6,
             "#e6f5d0"
            ],
            [
             0.7,
             "#b8e186"
            ],
            [
             0.8,
             "#7fbc41"
            ],
            [
             0.9,
             "#4d9221"
            ],
            [
             1,
             "#276419"
            ]
           ],
           "sequential": [
            [
             0,
             "#0d0887"
            ],
            [
             0.1111111111111111,
             "#46039f"
            ],
            [
             0.2222222222222222,
             "#7201a8"
            ],
            [
             0.3333333333333333,
             "#9c179e"
            ],
            [
             0.4444444444444444,
             "#bd3786"
            ],
            [
             0.5555555555555556,
             "#d8576b"
            ],
            [
             0.6666666666666666,
             "#ed7953"
            ],
            [
             0.7777777777777778,
             "#fb9f3a"
            ],
            [
             0.8888888888888888,
             "#fdca26"
            ],
            [
             1,
             "#f0f921"
            ]
           ],
           "sequentialminus": [
            [
             0,
             "#0d0887"
            ],
            [
             0.1111111111111111,
             "#46039f"
            ],
            [
             0.2222222222222222,
             "#7201a8"
            ],
            [
             0.3333333333333333,
             "#9c179e"
            ],
            [
             0.4444444444444444,
             "#bd3786"
            ],
            [
             0.5555555555555556,
             "#d8576b"
            ],
            [
             0.6666666666666666,
             "#ed7953"
            ],
            [
             0.7777777777777778,
             "#fb9f3a"
            ],
            [
             0.8888888888888888,
             "#fdca26"
            ],
            [
             1,
             "#f0f921"
            ]
           ]
          },
          "colorway": [
           "#636efa",
           "#EF553B",
           "#00cc96",
           "#ab63fa",
           "#FFA15A",
           "#19d3f3",
           "#FF6692",
           "#B6E880",
           "#FF97FF",
           "#FECB52"
          ],
          "font": {
           "color": "#2a3f5f"
          },
          "geo": {
           "bgcolor": "white",
           "lakecolor": "white",
           "landcolor": "#E5ECF6",
           "showlakes": true,
           "showland": true,
           "subunitcolor": "white"
          },
          "hoverlabel": {
           "align": "left"
          },
          "hovermode": "closest",
          "mapbox": {
           "style": "light"
          },
          "paper_bgcolor": "white",
          "plot_bgcolor": "#E5ECF6",
          "polar": {
           "angularaxis": {
            "gridcolor": "white",
            "linecolor": "white",
            "ticks": ""
           },
           "bgcolor": "#E5ECF6",
           "radialaxis": {
            "gridcolor": "white",
            "linecolor": "white",
            "ticks": ""
           }
          },
          "scene": {
           "xaxis": {
            "backgroundcolor": "#E5ECF6",
            "gridcolor": "white",
            "gridwidth": 2,
            "linecolor": "white",
            "showbackground": true,
            "ticks": "",
            "zerolinecolor": "white"
           },
           "yaxis": {
            "backgroundcolor": "#E5ECF6",
            "gridcolor": "white",
            "gridwidth": 2,
            "linecolor": "white",
            "showbackground": true,
            "ticks": "",
            "zerolinecolor": "white"
           },
           "zaxis": {
            "backgroundcolor": "#E5ECF6",
            "gridcolor": "white",
            "gridwidth": 2,
            "linecolor": "white",
            "showbackground": true,
            "ticks": "",
            "zerolinecolor": "white"
           }
          },
          "shapedefaults": {
           "line": {
            "color": "#2a3f5f"
           }
          },
          "ternary": {
           "aaxis": {
            "gridcolor": "white",
            "linecolor": "white",
            "ticks": ""
           },
           "baxis": {
            "gridcolor": "white",
            "linecolor": "white",
            "ticks": ""
           },
           "bgcolor": "#E5ECF6",
           "caxis": {
            "gridcolor": "white",
            "linecolor": "white",
            "ticks": ""
           }
          },
          "title": {
           "x": 0.05
          },
          "xaxis": {
           "automargin": true,
           "gridcolor": "white",
           "linecolor": "white",
           "ticks": "",
           "title": {
            "standoff": 15
           },
           "zerolinecolor": "white",
           "zerolinewidth": 2
          },
          "yaxis": {
           "automargin": true,
           "gridcolor": "white",
           "linecolor": "white",
           "ticks": "",
           "title": {
            "standoff": 15
           },
           "zerolinecolor": "white",
           "zerolinewidth": 2
          }
         }
        },
        "title": {
         "text": "Opening a deposit by Month"
        },
        "width": 800,
        "xaxis": {
         "anchor": "y",
         "domain": [
          0,
          1
         ],
         "tickfont": {
          "size": 12
         },
         "title": {
          "text": "Month"
         }
        },
        "yaxis": {
         "anchor": "x",
         "domain": [
          0,
          1
         ],
         "tickfont": {
          "size": 12
         },
         "title": {
          "font": {
           "size": 12
          },
          "text": "Frequency of Purchase"
         }
        }
       }
      }
     },
     "metadata": {},
     "output_type": "display_data"
    }
   ],
   "source": [
    "# season\n",
    "# 1 - winter, 2 - spring, 3 - summer, 4 - autumn\n",
    "bank_cleaned['season'] = bank_cleaned['month'].apply(lambda x: 'winter' if x in ['dec', 'jan', 'feb'] else ('spring' if x in ['mar', 'apr', 'may'] else \\\n",
    "                                                                         ('summer' if x in ['jun', 'jul', 'aug'] else \\\n",
    "                                                                         ('autumn' if x in ['sep', 'oct', 'nov'] else 'other'))))\n",
    "\n",
    "# Month\n",
    "month_data = bank_cleaned.groupby('month', as_index=False)['deposit'].value_counts()\n",
    "\n",
    "# Graph (Plotly) - bar chart\n",
    "fig = px.bar(\n",
    "    data_frame=month_data,\n",
    "    x='month',\n",
    "    y='count',\n",
    "    color='deposit',\n",
    "    barmode='group',\n",
    "    height=400,\n",
    "    width=800,\n",
    "    color_discrete_map={'no':'blue', 'yes':'red'}\n",
    ")\n",
    "\n",
    "fig.update_layout(\n",
    "    title='Opening a deposit by Month',\n",
    "    xaxis=dict(\n",
    "        title='Month',\n",
    "        tickfont_size=12,\n",
    "    ),\n",
    "    yaxis=dict(\n",
    "        title='Frequency of Purchase',\n",
    "        titlefont_size=12,\n",
    "        tickfont_size=12,\n",
    "    ))\n",
    "\n",
    "fig.show()\n",
    "fig.write_image('data/fig3.png')"
   ]
  },
  {
   "cell_type": "code",
   "execution_count": 32,
   "id": "1a6007bc",
   "metadata": {},
   "outputs": [
    {
     "data": {
      "application/vnd.plotly.v1+json": {
       "config": {
        "plotlyServerURL": "https://plot.ly"
       },
       "data": [
        {
         "alignmentgroup": "True",
         "hovertemplate": "deposit=yes<br>season=%{x}<br>count=%{y}<extra></extra>",
         "legendgroup": "yes",
         "marker": {
          "color": "red",
          "pattern": {
           "shape": ""
          }
         },
         "name": "yes",
         "offsetgroup": "yes",
         "orientation": "v",
         "showlegend": true,
         "textposition": "auto",
         "type": "bar",
         "x": [
          "autumn",
          "spring",
          "summer",
          "winter"
         ],
         "xaxis": "x",
         "y": [
          829,
          1567,
          1690,
          595
         ],
         "yaxis": "y"
        },
        {
         "alignmentgroup": "True",
         "hovertemplate": "deposit=no<br>season=%{x}<br>count=%{y}<extra></extra>",
         "legendgroup": "no",
         "marker": {
          "color": "blue",
          "pattern": {
           "shape": ""
          }
         },
         "name": "no",
         "offsetgroup": "no",
         "orientation": "v",
         "showlegend": true,
         "textposition": "auto",
         "type": "bar",
         "x": [
          "autumn",
          "spring",
          "summer",
          "winter"
         ],
         "xaxis": "x",
         "y": [
          564,
          2117,
          2217,
          526
         ],
         "yaxis": "y"
        }
       ],
       "layout": {
        "barmode": "group",
        "height": 400,
        "legend": {
         "title": {
          "text": "deposit"
         },
         "tracegroupgap": 0
        },
        "margin": {
         "t": 60
        },
        "template": {
         "data": {
          "bar": [
           {
            "error_x": {
             "color": "#2a3f5f"
            },
            "error_y": {
             "color": "#2a3f5f"
            },
            "marker": {
             "line": {
              "color": "#E5ECF6",
              "width": 0.5
             },
             "pattern": {
              "fillmode": "overlay",
              "size": 10,
              "solidity": 0.2
             }
            },
            "type": "bar"
           }
          ],
          "barpolar": [
           {
            "marker": {
             "line": {
              "color": "#E5ECF6",
              "width": 0.5
             },
             "pattern": {
              "fillmode": "overlay",
              "size": 10,
              "solidity": 0.2
             }
            },
            "type": "barpolar"
           }
          ],
          "carpet": [
           {
            "aaxis": {
             "endlinecolor": "#2a3f5f",
             "gridcolor": "white",
             "linecolor": "white",
             "minorgridcolor": "white",
             "startlinecolor": "#2a3f5f"
            },
            "baxis": {
             "endlinecolor": "#2a3f5f",
             "gridcolor": "white",
             "linecolor": "white",
             "minorgridcolor": "white",
             "startlinecolor": "#2a3f5f"
            },
            "type": "carpet"
           }
          ],
          "choropleth": [
           {
            "colorbar": {
             "outlinewidth": 0,
             "ticks": ""
            },
            "type": "choropleth"
           }
          ],
          "contour": [
           {
            "colorbar": {
             "outlinewidth": 0,
             "ticks": ""
            },
            "colorscale": [
             [
              0,
              "#0d0887"
             ],
             [
              0.1111111111111111,
              "#46039f"
             ],
             [
              0.2222222222222222,
              "#7201a8"
             ],
             [
              0.3333333333333333,
              "#9c179e"
             ],
             [
              0.4444444444444444,
              "#bd3786"
             ],
             [
              0.5555555555555556,
              "#d8576b"
             ],
             [
              0.6666666666666666,
              "#ed7953"
             ],
             [
              0.7777777777777778,
              "#fb9f3a"
             ],
             [
              0.8888888888888888,
              "#fdca26"
             ],
             [
              1,
              "#f0f921"
             ]
            ],
            "type": "contour"
           }
          ],
          "contourcarpet": [
           {
            "colorbar": {
             "outlinewidth": 0,
             "ticks": ""
            },
            "type": "contourcarpet"
           }
          ],
          "heatmap": [
           {
            "colorbar": {
             "outlinewidth": 0,
             "ticks": ""
            },
            "colorscale": [
             [
              0,
              "#0d0887"
             ],
             [
              0.1111111111111111,
              "#46039f"
             ],
             [
              0.2222222222222222,
              "#7201a8"
             ],
             [
              0.3333333333333333,
              "#9c179e"
             ],
             [
              0.4444444444444444,
              "#bd3786"
             ],
             [
              0.5555555555555556,
              "#d8576b"
             ],
             [
              0.6666666666666666,
              "#ed7953"
             ],
             [
              0.7777777777777778,
              "#fb9f3a"
             ],
             [
              0.8888888888888888,
              "#fdca26"
             ],
             [
              1,
              "#f0f921"
             ]
            ],
            "type": "heatmap"
           }
          ],
          "heatmapgl": [
           {
            "colorbar": {
             "outlinewidth": 0,
             "ticks": ""
            },
            "colorscale": [
             [
              0,
              "#0d0887"
             ],
             [
              0.1111111111111111,
              "#46039f"
             ],
             [
              0.2222222222222222,
              "#7201a8"
             ],
             [
              0.3333333333333333,
              "#9c179e"
             ],
             [
              0.4444444444444444,
              "#bd3786"
             ],
             [
              0.5555555555555556,
              "#d8576b"
             ],
             [
              0.6666666666666666,
              "#ed7953"
             ],
             [
              0.7777777777777778,
              "#fb9f3a"
             ],
             [
              0.8888888888888888,
              "#fdca26"
             ],
             [
              1,
              "#f0f921"
             ]
            ],
            "type": "heatmapgl"
           }
          ],
          "histogram": [
           {
            "marker": {
             "pattern": {
              "fillmode": "overlay",
              "size": 10,
              "solidity": 0.2
             }
            },
            "type": "histogram"
           }
          ],
          "histogram2d": [
           {
            "colorbar": {
             "outlinewidth": 0,
             "ticks": ""
            },
            "colorscale": [
             [
              0,
              "#0d0887"
             ],
             [
              0.1111111111111111,
              "#46039f"
             ],
             [
              0.2222222222222222,
              "#7201a8"
             ],
             [
              0.3333333333333333,
              "#9c179e"
             ],
             [
              0.4444444444444444,
              "#bd3786"
             ],
             [
              0.5555555555555556,
              "#d8576b"
             ],
             [
              0.6666666666666666,
              "#ed7953"
             ],
             [
              0.7777777777777778,
              "#fb9f3a"
             ],
             [
              0.8888888888888888,
              "#fdca26"
             ],
             [
              1,
              "#f0f921"
             ]
            ],
            "type": "histogram2d"
           }
          ],
          "histogram2dcontour": [
           {
            "colorbar": {
             "outlinewidth": 0,
             "ticks": ""
            },
            "colorscale": [
             [
              0,
              "#0d0887"
             ],
             [
              0.1111111111111111,
              "#46039f"
             ],
             [
              0.2222222222222222,
              "#7201a8"
             ],
             [
              0.3333333333333333,
              "#9c179e"
             ],
             [
              0.4444444444444444,
              "#bd3786"
             ],
             [
              0.5555555555555556,
              "#d8576b"
             ],
             [
              0.6666666666666666,
              "#ed7953"
             ],
             [
              0.7777777777777778,
              "#fb9f3a"
             ],
             [
              0.8888888888888888,
              "#fdca26"
             ],
             [
              1,
              "#f0f921"
             ]
            ],
            "type": "histogram2dcontour"
           }
          ],
          "mesh3d": [
           {
            "colorbar": {
             "outlinewidth": 0,
             "ticks": ""
            },
            "type": "mesh3d"
           }
          ],
          "parcoords": [
           {
            "line": {
             "colorbar": {
              "outlinewidth": 0,
              "ticks": ""
             }
            },
            "type": "parcoords"
           }
          ],
          "pie": [
           {
            "automargin": true,
            "type": "pie"
           }
          ],
          "scatter": [
           {
            "fillpattern": {
             "fillmode": "overlay",
             "size": 10,
             "solidity": 0.2
            },
            "type": "scatter"
           }
          ],
          "scatter3d": [
           {
            "line": {
             "colorbar": {
              "outlinewidth": 0,
              "ticks": ""
             }
            },
            "marker": {
             "colorbar": {
              "outlinewidth": 0,
              "ticks": ""
             }
            },
            "type": "scatter3d"
           }
          ],
          "scattercarpet": [
           {
            "marker": {
             "colorbar": {
              "outlinewidth": 0,
              "ticks": ""
             }
            },
            "type": "scattercarpet"
           }
          ],
          "scattergeo": [
           {
            "marker": {
             "colorbar": {
              "outlinewidth": 0,
              "ticks": ""
             }
            },
            "type": "scattergeo"
           }
          ],
          "scattergl": [
           {
            "marker": {
             "colorbar": {
              "outlinewidth": 0,
              "ticks": ""
             }
            },
            "type": "scattergl"
           }
          ],
          "scattermapbox": [
           {
            "marker": {
             "colorbar": {
              "outlinewidth": 0,
              "ticks": ""
             }
            },
            "type": "scattermapbox"
           }
          ],
          "scatterpolar": [
           {
            "marker": {
             "colorbar": {
              "outlinewidth": 0,
              "ticks": ""
             }
            },
            "type": "scatterpolar"
           }
          ],
          "scatterpolargl": [
           {
            "marker": {
             "colorbar": {
              "outlinewidth": 0,
              "ticks": ""
             }
            },
            "type": "scatterpolargl"
           }
          ],
          "scatterternary": [
           {
            "marker": {
             "colorbar": {
              "outlinewidth": 0,
              "ticks": ""
             }
            },
            "type": "scatterternary"
           }
          ],
          "surface": [
           {
            "colorbar": {
             "outlinewidth": 0,
             "ticks": ""
            },
            "colorscale": [
             [
              0,
              "#0d0887"
             ],
             [
              0.1111111111111111,
              "#46039f"
             ],
             [
              0.2222222222222222,
              "#7201a8"
             ],
             [
              0.3333333333333333,
              "#9c179e"
             ],
             [
              0.4444444444444444,
              "#bd3786"
             ],
             [
              0.5555555555555556,
              "#d8576b"
             ],
             [
              0.6666666666666666,
              "#ed7953"
             ],
             [
              0.7777777777777778,
              "#fb9f3a"
             ],
             [
              0.8888888888888888,
              "#fdca26"
             ],
             [
              1,
              "#f0f921"
             ]
            ],
            "type": "surface"
           }
          ],
          "table": [
           {
            "cells": {
             "fill": {
              "color": "#EBF0F8"
             },
             "line": {
              "color": "white"
             }
            },
            "header": {
             "fill": {
              "color": "#C8D4E3"
             },
             "line": {
              "color": "white"
             }
            },
            "type": "table"
           }
          ]
         },
         "layout": {
          "annotationdefaults": {
           "arrowcolor": "#2a3f5f",
           "arrowhead": 0,
           "arrowwidth": 1
          },
          "autotypenumbers": "strict",
          "coloraxis": {
           "colorbar": {
            "outlinewidth": 0,
            "ticks": ""
           }
          },
          "colorscale": {
           "diverging": [
            [
             0,
             "#8e0152"
            ],
            [
             0.1,
             "#c51b7d"
            ],
            [
             0.2,
             "#de77ae"
            ],
            [
             0.3,
             "#f1b6da"
            ],
            [
             0.4,
             "#fde0ef"
            ],
            [
             0.5,
             "#f7f7f7"
            ],
            [
             0.6,
             "#e6f5d0"
            ],
            [
             0.7,
             "#b8e186"
            ],
            [
             0.8,
             "#7fbc41"
            ],
            [
             0.9,
             "#4d9221"
            ],
            [
             1,
             "#276419"
            ]
           ],
           "sequential": [
            [
             0,
             "#0d0887"
            ],
            [
             0.1111111111111111,
             "#46039f"
            ],
            [
             0.2222222222222222,
             "#7201a8"
            ],
            [
             0.3333333333333333,
             "#9c179e"
            ],
            [
             0.4444444444444444,
             "#bd3786"
            ],
            [
             0.5555555555555556,
             "#d8576b"
            ],
            [
             0.6666666666666666,
             "#ed7953"
            ],
            [
             0.7777777777777778,
             "#fb9f3a"
            ],
            [
             0.8888888888888888,
             "#fdca26"
            ],
            [
             1,
             "#f0f921"
            ]
           ],
           "sequentialminus": [
            [
             0,
             "#0d0887"
            ],
            [
             0.1111111111111111,
             "#46039f"
            ],
            [
             0.2222222222222222,
             "#7201a8"
            ],
            [
             0.3333333333333333,
             "#9c179e"
            ],
            [
             0.4444444444444444,
             "#bd3786"
            ],
            [
             0.5555555555555556,
             "#d8576b"
            ],
            [
             0.6666666666666666,
             "#ed7953"
            ],
            [
             0.7777777777777778,
             "#fb9f3a"
            ],
            [
             0.8888888888888888,
             "#fdca26"
            ],
            [
             1,
             "#f0f921"
            ]
           ]
          },
          "colorway": [
           "#636efa",
           "#EF553B",
           "#00cc96",
           "#ab63fa",
           "#FFA15A",
           "#19d3f3",
           "#FF6692",
           "#B6E880",
           "#FF97FF",
           "#FECB52"
          ],
          "font": {
           "color": "#2a3f5f"
          },
          "geo": {
           "bgcolor": "white",
           "lakecolor": "white",
           "landcolor": "#E5ECF6",
           "showlakes": true,
           "showland": true,
           "subunitcolor": "white"
          },
          "hoverlabel": {
           "align": "left"
          },
          "hovermode": "closest",
          "mapbox": {
           "style": "light"
          },
          "paper_bgcolor": "white",
          "plot_bgcolor": "#E5ECF6",
          "polar": {
           "angularaxis": {
            "gridcolor": "white",
            "linecolor": "white",
            "ticks": ""
           },
           "bgcolor": "#E5ECF6",
           "radialaxis": {
            "gridcolor": "white",
            "linecolor": "white",
            "ticks": ""
           }
          },
          "scene": {
           "xaxis": {
            "backgroundcolor": "#E5ECF6",
            "gridcolor": "white",
            "gridwidth": 2,
            "linecolor": "white",
            "showbackground": true,
            "ticks": "",
            "zerolinecolor": "white"
           },
           "yaxis": {
            "backgroundcolor": "#E5ECF6",
            "gridcolor": "white",
            "gridwidth": 2,
            "linecolor": "white",
            "showbackground": true,
            "ticks": "",
            "zerolinecolor": "white"
           },
           "zaxis": {
            "backgroundcolor": "#E5ECF6",
            "gridcolor": "white",
            "gridwidth": 2,
            "linecolor": "white",
            "showbackground": true,
            "ticks": "",
            "zerolinecolor": "white"
           }
          },
          "shapedefaults": {
           "line": {
            "color": "#2a3f5f"
           }
          },
          "ternary": {
           "aaxis": {
            "gridcolor": "white",
            "linecolor": "white",
            "ticks": ""
           },
           "baxis": {
            "gridcolor": "white",
            "linecolor": "white",
            "ticks": ""
           },
           "bgcolor": "#E5ECF6",
           "caxis": {
            "gridcolor": "white",
            "linecolor": "white",
            "ticks": ""
           }
          },
          "title": {
           "x": 0.05
          },
          "xaxis": {
           "automargin": true,
           "gridcolor": "white",
           "linecolor": "white",
           "ticks": "",
           "title": {
            "standoff": 15
           },
           "zerolinecolor": "white",
           "zerolinewidth": 2
          },
          "yaxis": {
           "automargin": true,
           "gridcolor": "white",
           "linecolor": "white",
           "ticks": "",
           "title": {
            "standoff": 15
           },
           "zerolinecolor": "white",
           "zerolinewidth": 2
          }
         }
        },
        "title": {
         "text": "Opening a deposit by Season"
        },
        "width": 800,
        "xaxis": {
         "anchor": "y",
         "domain": [
          0,
          1
         ],
         "tickfont": {
          "size": 12
         },
         "title": {
          "text": "Season"
         }
        },
        "yaxis": {
         "anchor": "x",
         "domain": [
          0,
          1
         ],
         "tickfont": {
          "size": 12
         },
         "title": {
          "font": {
           "size": 12
          },
          "text": "Frequency of Purchase"
         }
        }
       }
      }
     },
     "metadata": {},
     "output_type": "display_data"
    }
   ],
   "source": [
    "# Season\n",
    "season_data = bank_cleaned.groupby('season', as_index=False)['deposit'].value_counts()\n",
    "\n",
    "# Graph (Plotly) - bar chart\n",
    "fig = px.bar(\n",
    "    data_frame=season_data,\n",
    "    x='season',\n",
    "    y='count',\n",
    "    color='deposit',\n",
    "    barmode='group',\n",
    "    height=400,\n",
    "    width=800,\n",
    "    color_discrete_map={'no':'blue', 'yes':'red'}\n",
    ")\n",
    "\n",
    "fig.update_layout(\n",
    "    title='Opening a deposit by Season',\n",
    "    xaxis=dict(\n",
    "        title='Season',\n",
    "        tickfont_size=12,\n",
    "    ),\n",
    "    yaxis=dict(\n",
    "        title='Frequency of Purchase',\n",
    "        titlefont_size=12,\n",
    "        tickfont_size=12,\n",
    "    ))\n",
    "\n",
    "fig.show()\n",
    "fig.write_image('data/fig4.png')"
   ]
  },
  {
   "attachments": {},
   "cell_type": "markdown",
   "id": "4536efce",
   "metadata": {},
   "source": [
    "* The frequency of opening a deposit doesn`t depend on the Job postion of the client. In most cases, the number of clients who opened a deposit / did not open is almost the same for each Job position.\n",
    "    - But there are some groups of customer who are more inclined to open a deposit:\n",
    "        - retired,\n",
    "        - student,\n",
    "        - unemployed\n",
    "    - Clients who are not inclined to open a deposit represent the following professions:\n",
    "        - blue-collar,\n",
    "        - enterpreneur,\n",
    "        - housemaid,\n",
    "        - services\n",
    "    - The largest number of bank customers work in Management sphere.\n",
    "* Usually, 'single' client are more inclined to open a deposit,\n",
    "* The category of Education looks like a good predictor: there is a tendency of increasing the ratio of opening a deposit by increasing education level.\n",
    "* Month and Season categories show interesting tendency:\n",
    "*Time periods, seasons, proximity to certain holidays often influence the decision of customers to use certain services*\n",
    "    - the worst month for marketing campaign is May (more than 67% of failure ratio),\n",
    "    - the number of connection with clients in Winter and Autumn is rare than in Spring and Summer,\n",
    "    - in Winter and Autumn the clients are more inclined to open a deposit,\n",
    "    - in Spring and Summer the clients are less inclined to open a deposit. It is time for vacation, repair business, et.c. -> it has more sense to increase marketing campaign activation in Winter and Autumn seasons."
   ]
  },
  {
   "attachments": {},
   "cell_type": "markdown",
   "id": "6571be07",
   "metadata": {},
   "source": [
    "***"
   ]
  },
  {
   "cell_type": "code",
   "execution_count": 33,
   "id": "02eb6206",
   "metadata": {},
   "outputs": [
    {
     "data": {
      "text/html": [
       "<div>\n",
       "<style scoped>\n",
       "    .dataframe tbody tr th:only-of-type {\n",
       "        vertical-align: middle;\n",
       "    }\n",
       "\n",
       "    .dataframe tbody tr th {\n",
       "        vertical-align: top;\n",
       "    }\n",
       "\n",
       "    .dataframe thead th {\n",
       "        text-align: right;\n",
       "    }\n",
       "</style>\n",
       "<table border=\"1\" class=\"dataframe\">\n",
       "  <thead>\n",
       "    <tr style=\"text-align: right;\">\n",
       "      <th></th>\n",
       "      <th>education</th>\n",
       "      <th>marital</th>\n",
       "      <th>deposit</th>\n",
       "      <th>count</th>\n",
       "    </tr>\n",
       "  </thead>\n",
       "  <tbody>\n",
       "    <tr>\n",
       "      <th>0</th>\n",
       "      <td>primary</td>\n",
       "      <td>divorced</td>\n",
       "      <td>yes</td>\n",
       "      <td>96</td>\n",
       "    </tr>\n",
       "    <tr>\n",
       "      <th>1</th>\n",
       "      <td>primary</td>\n",
       "      <td>divorced</td>\n",
       "      <td>no</td>\n",
       "      <td>91</td>\n",
       "    </tr>\n",
       "    <tr>\n",
       "      <th>2</th>\n",
       "      <td>primary</td>\n",
       "      <td>married</td>\n",
       "      <td>no</td>\n",
       "      <td>641</td>\n",
       "    </tr>\n",
       "    <tr>\n",
       "      <th>3</th>\n",
       "      <td>primary</td>\n",
       "      <td>married</td>\n",
       "      <td>yes</td>\n",
       "      <td>339</td>\n",
       "    </tr>\n",
       "    <tr>\n",
       "      <th>4</th>\n",
       "      <td>primary</td>\n",
       "      <td>single</td>\n",
       "      <td>no</td>\n",
       "      <td>100</td>\n",
       "    </tr>\n",
       "    <tr>\n",
       "      <th>5</th>\n",
       "      <td>primary</td>\n",
       "      <td>single</td>\n",
       "      <td>yes</td>\n",
       "      <td>82</td>\n",
       "    </tr>\n",
       "    <tr>\n",
       "      <th>6</th>\n",
       "      <td>secondary</td>\n",
       "      <td>divorced</td>\n",
       "      <td>no</td>\n",
       "      <td>370</td>\n",
       "    </tr>\n",
       "    <tr>\n",
       "      <th>7</th>\n",
       "      <td>secondary</td>\n",
       "      <td>divorced</td>\n",
       "      <td>yes</td>\n",
       "      <td>283</td>\n",
       "    </tr>\n",
       "    <tr>\n",
       "      <th>8</th>\n",
       "      <td>secondary</td>\n",
       "      <td>married</td>\n",
       "      <td>no</td>\n",
       "      <td>1830</td>\n",
       "    </tr>\n",
       "    <tr>\n",
       "      <th>9</th>\n",
       "      <td>secondary</td>\n",
       "      <td>married</td>\n",
       "      <td>yes</td>\n",
       "      <td>1289</td>\n",
       "    </tr>\n",
       "    <tr>\n",
       "      <th>10</th>\n",
       "      <td>secondary</td>\n",
       "      <td>single</td>\n",
       "      <td>yes</td>\n",
       "      <td>879</td>\n",
       "    </tr>\n",
       "    <tr>\n",
       "      <th>11</th>\n",
       "      <td>secondary</td>\n",
       "      <td>single</td>\n",
       "      <td>no</td>\n",
       "      <td>866</td>\n",
       "    </tr>\n",
       "    <tr>\n",
       "      <th>12</th>\n",
       "      <td>tertiary</td>\n",
       "      <td>divorced</td>\n",
       "      <td>yes</td>\n",
       "      <td>174</td>\n",
       "    </tr>\n",
       "    <tr>\n",
       "      <th>13</th>\n",
       "      <td>tertiary</td>\n",
       "      <td>divorced</td>\n",
       "      <td>no</td>\n",
       "      <td>163</td>\n",
       "    </tr>\n",
       "    <tr>\n",
       "      <th>14</th>\n",
       "      <td>tertiary</td>\n",
       "      <td>married</td>\n",
       "      <td>no</td>\n",
       "      <td>832</td>\n",
       "    </tr>\n",
       "    <tr>\n",
       "      <th>15</th>\n",
       "      <td>tertiary</td>\n",
       "      <td>married</td>\n",
       "      <td>yes</td>\n",
       "      <td>784</td>\n",
       "    </tr>\n",
       "    <tr>\n",
       "      <th>16</th>\n",
       "      <td>tertiary</td>\n",
       "      <td>single</td>\n",
       "      <td>yes</td>\n",
       "      <td>755</td>\n",
       "    </tr>\n",
       "    <tr>\n",
       "      <th>17</th>\n",
       "      <td>tertiary</td>\n",
       "      <td>single</td>\n",
       "      <td>no</td>\n",
       "      <td>531</td>\n",
       "    </tr>\n",
       "  </tbody>\n",
       "</table>\n",
       "</div>"
      ],
      "text/plain": [
       "    education   marital deposit  count\n",
       "0     primary  divorced     yes     96\n",
       "1     primary  divorced      no     91\n",
       "2     primary   married      no    641\n",
       "3     primary   married     yes    339\n",
       "4     primary    single      no    100\n",
       "5     primary    single     yes     82\n",
       "6   secondary  divorced      no    370\n",
       "7   secondary  divorced     yes    283\n",
       "8   secondary   married      no   1830\n",
       "9   secondary   married     yes   1289\n",
       "10  secondary    single     yes    879\n",
       "11  secondary    single      no    866\n",
       "12   tertiary  divorced     yes    174\n",
       "13   tertiary  divorced      no    163\n",
       "14   tertiary   married      no    832\n",
       "15   tertiary   married     yes    784\n",
       "16   tertiary    single     yes    755\n",
       "17   tertiary    single      no    531"
      ]
     },
     "execution_count": 33,
     "metadata": {},
     "output_type": "execute_result"
    }
   ],
   "source": [
    "\"\"\"\n",
    "What type of bank`s customer?\n",
    "- Marital status & Education level\n",
    "\"\"\"\n",
    "# creating pivot table with Education and Marital status columns\n",
    "edu_marital_data = bank_cleaned.groupby(['education', 'marital'], as_index=False)['deposit'].value_counts()\n",
    "edu_marital_data"
   ]
  },
  {
   "cell_type": "code",
   "execution_count": 34,
   "id": "ec00c0b0",
   "metadata": {},
   "outputs": [
    {
     "data": {
      "text/html": [
       "<div>\n",
       "<style scoped>\n",
       "    .dataframe tbody tr th:only-of-type {\n",
       "        vertical-align: middle;\n",
       "    }\n",
       "\n",
       "    .dataframe tbody tr th {\n",
       "        vertical-align: top;\n",
       "    }\n",
       "\n",
       "    .dataframe thead th {\n",
       "        text-align: right;\n",
       "    }\n",
       "</style>\n",
       "<table border=\"1\" class=\"dataframe\">\n",
       "  <thead>\n",
       "    <tr style=\"text-align: right;\">\n",
       "      <th>education</th>\n",
       "      <th>primary</th>\n",
       "      <th>secondary</th>\n",
       "      <th>tertiary</th>\n",
       "    </tr>\n",
       "    <tr>\n",
       "      <th>marital</th>\n",
       "      <th></th>\n",
       "      <th></th>\n",
       "      <th></th>\n",
       "    </tr>\n",
       "  </thead>\n",
       "  <tbody>\n",
       "    <tr>\n",
       "      <th>divorced</th>\n",
       "      <td>96</td>\n",
       "      <td>283</td>\n",
       "      <td>174</td>\n",
       "    </tr>\n",
       "    <tr>\n",
       "      <th>married</th>\n",
       "      <td>339</td>\n",
       "      <td>1289</td>\n",
       "      <td>784</td>\n",
       "    </tr>\n",
       "    <tr>\n",
       "      <th>single</th>\n",
       "      <td>82</td>\n",
       "      <td>879</td>\n",
       "      <td>755</td>\n",
       "    </tr>\n",
       "  </tbody>\n",
       "</table>\n",
       "</div>"
      ],
      "text/plain": [
       "education  primary  secondary  tertiary\n",
       "marital                                \n",
       "divorced        96        283       174\n",
       "married        339       1289       784\n",
       "single          82        879       755"
      ]
     },
     "metadata": {},
     "output_type": "display_data"
    },
    {
     "data": {
      "image/png": "[encoded data removed]",
      "text/plain": [
       "<Figure size 432x288 with 2 Axes>"
      ]
     },
     "metadata": {
      "needs_background": "light"
     },
     "output_type": "display_data"
    }
   ],
   "source": [
    "\"\"\"\n",
    "Ratio of clients with opening deposit\n",
    "\"\"\"\n",
    "opened_dep = bank_cleaned[bank_cleaned['deposit'] == 'yes'].groupby('education', as_index=False)['marital'].value_counts()\n",
    "\n",
    "pivot = opened_dep.pivot_table(\n",
    "    values='count',\n",
    "    columns='education',\n",
    "    index='marital'\n",
    ")\n",
    "\n",
    "display(pivot)\n",
    "\n",
    "# Graph (Seaborn) - Heat map\n",
    "heatmap = sns.heatmap(\n",
    "    data=pivot,\n",
    "    cmap='YlGnBu'\n",
    ")\n",
    "\n",
    "heatmap.set_title('Ratio of clients with opening deposit by Education level and Marital status', fontsize=16);"
   ]
  },
  {
   "cell_type": "code",
   "execution_count": 35,
   "id": "30ee29fc",
   "metadata": {},
   "outputs": [
    {
     "data": {
      "text/html": [
       "<div>\n",
       "<style scoped>\n",
       "    .dataframe tbody tr th:only-of-type {\n",
       "        vertical-align: middle;\n",
       "    }\n",
       "\n",
       "    .dataframe tbody tr th {\n",
       "        vertical-align: top;\n",
       "    }\n",
       "\n",
       "    .dataframe thead th {\n",
       "        text-align: right;\n",
       "    }\n",
       "</style>\n",
       "<table border=\"1\" class=\"dataframe\">\n",
       "  <thead>\n",
       "    <tr style=\"text-align: right;\">\n",
       "      <th>education</th>\n",
       "      <th>primary</th>\n",
       "      <th>secondary</th>\n",
       "      <th>tertiary</th>\n",
       "    </tr>\n",
       "    <tr>\n",
       "      <th>marital</th>\n",
       "      <th></th>\n",
       "      <th></th>\n",
       "      <th></th>\n",
       "    </tr>\n",
       "  </thead>\n",
       "  <tbody>\n",
       "    <tr>\n",
       "      <th>divorced</th>\n",
       "      <td>91</td>\n",
       "      <td>370</td>\n",
       "      <td>163</td>\n",
       "    </tr>\n",
       "    <tr>\n",
       "      <th>married</th>\n",
       "      <td>641</td>\n",
       "      <td>1830</td>\n",
       "      <td>832</td>\n",
       "    </tr>\n",
       "    <tr>\n",
       "      <th>single</th>\n",
       "      <td>100</td>\n",
       "      <td>866</td>\n",
       "      <td>531</td>\n",
       "    </tr>\n",
       "  </tbody>\n",
       "</table>\n",
       "</div>"
      ],
      "text/plain": [
       "education  primary  secondary  tertiary\n",
       "marital                                \n",
       "divorced        91        370       163\n",
       "married        641       1830       832\n",
       "single         100        866       531"
      ]
     },
     "metadata": {},
     "output_type": "display_data"
    },
    {
     "data": {
      "image/png": "[encoded data removed]",
      "text/plain": [
       "<Figure size 432x288 with 2 Axes>"
      ]
     },
     "metadata": {
      "needs_background": "light"
     },
     "output_type": "display_data"
    }
   ],
   "source": [
    "\"\"\"\n",
    "Ratio of clients with NOT opening deposit\n",
    "\"\"\"\n",
    "not_dep = bank_cleaned[bank_cleaned['deposit'] == 'no'].groupby('education', as_index=False)['marital'].value_counts()\n",
    "\n",
    "pivot = not_dep.pivot_table(\n",
    "    values='count',\n",
    "    columns='education',\n",
    "    index='marital'\n",
    ")\n",
    "\n",
    "display(pivot)\n",
    "\n",
    "# Graph (Seaborn) - Heat map\n",
    "heatmap = sns.heatmap(\n",
    "    data=pivot,\n",
    "    cmap='YlGnBu'\n",
    ")\n",
    "\n",
    "heatmap.set_title('Ratio of clients with NOT opening deposit by Education level and Marital status', fontsize=16);"
   ]
  },
  {
   "attachments": {},
   "cell_type": "markdown",
   "id": "3700578a",
   "metadata": {},
   "source": [
    "* Clients with 'married' status and secondary education level are typical customer of this bank.\n",
    "* Clients with 'single' / 'divorced' status and 1-3 education levels are more inclined to open a deposit."
   ]
  },
  {
   "attachments": {},
   "cell_type": "markdown",
   "id": "6bd021b3",
   "metadata": {},
   "source": [
    "***"
   ]
  },
  {
   "attachments": {},
   "cell_type": "markdown",
   "id": "11fbd6cd",
   "metadata": {},
   "source": [
    "### `AGE`"
   ]
  },
  {
   "cell_type": "code",
   "execution_count": 36,
   "id": "12276b7a",
   "metadata": {},
   "outputs": [
    {
     "data": {
      "image/png": "[encoded data removed]",
      "text/plain": [
       "<Figure size 432x288 with 1 Axes>"
      ]
     },
     "metadata": {
      "needs_background": "light"
     },
     "output_type": "display_data"
    }
   ],
   "source": [
    "bank_cleaned.age.hist()\n",
    "\n",
    "plt.title('Histogram of Age')\n",
    "plt.xlabel('Age')\n",
    "plt.ylabel('Frequency')\n",
    "plt.savefig('data/hist_age.png')"
   ]
  },
  {
   "attachments": {},
   "cell_type": "markdown",
   "id": "594896fb",
   "metadata": {},
   "source": [
    "Most of the bank’s customers in this dataset are between 25 and 40 years old"
   ]
  },
  {
   "cell_type": "code",
   "execution_count": 37,
   "id": "95d56f1b",
   "metadata": {},
   "outputs": [],
   "source": [
    "\"\"\"\n",
    "Let`s create age group:\n",
    "* '<30';\n",
    "* '30-40';\n",
    "* '40-50';\n",
    "* '50-60';\n",
    "* '60+'\n",
    "We can transform age in to categories by cut() method from Pandas\n",
    "-> using Pivot tables/ bar charts\n",
    "\"\"\"\n",
    "def get_age_group(age):\n",
    "    if age < 30:\n",
    "        age = '< 30'\n",
    "    elif 30 <= age < 40:\n",
    "        age = '30-39'\n",
    "    elif 40 <= age < 50:\n",
    "        age = '40-49'\n",
    "    elif 50 <= age <= 60:\n",
    "        age = '50-60'\n",
    "    elif age > 60:\n",
    "        age = '60+'\n",
    "    \n",
    "    return age\n",
    "\n",
    "   \n",
    "bank_cleaned['age_group'] = bank_cleaned.age.apply(get_age_group)"
   ]
  },
  {
   "cell_type": "code",
   "execution_count": 38,
   "id": "d70d7e73",
   "metadata": {},
   "outputs": [
    {
     "data": {
      "text/plain": [
       "age_group  deposit\n",
       "30-39      no         0.566776\n",
       "           yes        0.433224\n",
       "40-49      no         0.606213\n",
       "           yes        0.393787\n",
       "50-60      no         0.581940\n",
       "           yes        0.418060\n",
       "60+        yes        0.810916\n",
       "           no         0.189084\n",
       "< 30       yes        0.591753\n",
       "           no         0.408247\n",
       "Name: deposit, dtype: float64"
      ]
     },
     "execution_count": 38,
     "metadata": {},
     "output_type": "execute_result"
    }
   ],
   "source": [
    "age_data = bank_cleaned.groupby('age_group')['deposit'].value_counts(True)\n",
    "age_data"
   ]
  },
  {
   "attachments": {},
   "cell_type": "markdown",
   "id": "26cac0c0",
   "metadata": {},
   "source": [
    "* The age of clients who opened a deposit is in the next age range: less than 30 and 60+."
   ]
  },
  {
   "attachments": {},
   "cell_type": "markdown",
   "id": "c2b04313",
   "metadata": {},
   "source": [
    "***"
   ]
  },
  {
   "attachments": {},
   "cell_type": "markdown",
   "id": "8c6a7c6b",
   "metadata": {},
   "source": [
    "### `POUTCOME`"
   ]
  },
  {
   "cell_type": "code",
   "execution_count": 39,
   "id": "f326112c",
   "metadata": {},
   "outputs": [
    {
     "data": {
      "image/png": "[encoded data removed]",
      "text/plain": [
       "<Figure size 432x288 with 1 Axes>"
      ]
     },
     "metadata": {
      "needs_background": "light"
     },
     "output_type": "display_data"
    }
   ],
   "source": [
    "pd.crosstab(bank_cleaned.poutcome, bank_cleaned.deposit).plot(kind='bar')\n",
    "\n",
    "plt.title('Purchase Frequency for Poutcome')\n",
    "plt.xlabel('Poutcome')\n",
    "plt.ylabel('Frequency of Purchase')\n",
    "plt.savefig('data/pur_fre_pout_bar.png')"
   ]
  },
  {
   "attachments": {},
   "cell_type": "markdown",
   "id": "b8f9005f",
   "metadata": {},
   "source": [
    "Poutcome looks like a good predictor."
   ]
  },
  {
   "attachments": {},
   "cell_type": "markdown",
   "id": "d4289b7a",
   "metadata": {},
   "source": [
    "***"
   ]
  },
  {
   "attachments": {},
   "cell_type": "markdown",
   "id": "dfd805c0",
   "metadata": {},
   "source": [
    "# <p style=\"text-align:center;font-size:100%;\">3. Feature Encoding</p>"
   ]
  },
  {
   "cell_type": "code",
   "execution_count": 40,
   "id": "c9d6d153",
   "metadata": {},
   "outputs": [],
   "source": [
    "# Let's make a copy of df\n",
    "bank_encoding = bank_cleaned.copy()"
   ]
  },
  {
   "cell_type": "code",
   "execution_count": 41,
   "id": "06d5af64",
   "metadata": {},
   "outputs": [
    {
     "data": {
      "text/html": [
       "<div>\n",
       "<style scoped>\n",
       "    .dataframe tbody tr th:only-of-type {\n",
       "        vertical-align: middle;\n",
       "    }\n",
       "\n",
       "    .dataframe tbody tr th {\n",
       "        vertical-align: top;\n",
       "    }\n",
       "\n",
       "    .dataframe thead th {\n",
       "        text-align: right;\n",
       "    }\n",
       "</style>\n",
       "<table border=\"1\" class=\"dataframe\">\n",
       "  <thead>\n",
       "    <tr style=\"text-align: right;\">\n",
       "      <th></th>\n",
       "      <th>age</th>\n",
       "      <th>job</th>\n",
       "      <th>marital</th>\n",
       "      <th>education</th>\n",
       "      <th>default</th>\n",
       "      <th>balance</th>\n",
       "      <th>housing</th>\n",
       "      <th>loan</th>\n",
       "      <th>contact</th>\n",
       "      <th>day</th>\n",
       "      <th>month</th>\n",
       "      <th>duration</th>\n",
       "      <th>campaign</th>\n",
       "      <th>pdays</th>\n",
       "      <th>previous</th>\n",
       "      <th>poutcome</th>\n",
       "      <th>deposit</th>\n",
       "      <th>season</th>\n",
       "      <th>age_group</th>\n",
       "    </tr>\n",
       "  </thead>\n",
       "  <tbody>\n",
       "    <tr>\n",
       "      <th>0</th>\n",
       "      <td>59</td>\n",
       "      <td>admin.</td>\n",
       "      <td>married</td>\n",
       "      <td>secondary</td>\n",
       "      <td>no</td>\n",
       "      <td>2343.0</td>\n",
       "      <td>yes</td>\n",
       "      <td>no</td>\n",
       "      <td>unknown</td>\n",
       "      <td>5</td>\n",
       "      <td>may</td>\n",
       "      <td>1042</td>\n",
       "      <td>1</td>\n",
       "      <td>-1</td>\n",
       "      <td>0</td>\n",
       "      <td>unknown</td>\n",
       "      <td>yes</td>\n",
       "      <td>spring</td>\n",
       "      <td>50-60</td>\n",
       "    </tr>\n",
       "    <tr>\n",
       "      <th>1</th>\n",
       "      <td>56</td>\n",
       "      <td>admin.</td>\n",
       "      <td>married</td>\n",
       "      <td>secondary</td>\n",
       "      <td>no</td>\n",
       "      <td>45.0</td>\n",
       "      <td>no</td>\n",
       "      <td>no</td>\n",
       "      <td>unknown</td>\n",
       "      <td>5</td>\n",
       "      <td>may</td>\n",
       "      <td>1467</td>\n",
       "      <td>1</td>\n",
       "      <td>-1</td>\n",
       "      <td>0</td>\n",
       "      <td>unknown</td>\n",
       "      <td>yes</td>\n",
       "      <td>spring</td>\n",
       "      <td>50-60</td>\n",
       "    </tr>\n",
       "    <tr>\n",
       "      <th>2</th>\n",
       "      <td>41</td>\n",
       "      <td>technician</td>\n",
       "      <td>married</td>\n",
       "      <td>secondary</td>\n",
       "      <td>no</td>\n",
       "      <td>1270.0</td>\n",
       "      <td>yes</td>\n",
       "      <td>no</td>\n",
       "      <td>unknown</td>\n",
       "      <td>5</td>\n",
       "      <td>may</td>\n",
       "      <td>1389</td>\n",
       "      <td>1</td>\n",
       "      <td>-1</td>\n",
       "      <td>0</td>\n",
       "      <td>unknown</td>\n",
       "      <td>yes</td>\n",
       "      <td>spring</td>\n",
       "      <td>40-49</td>\n",
       "    </tr>\n",
       "    <tr>\n",
       "      <th>3</th>\n",
       "      <td>55</td>\n",
       "      <td>services</td>\n",
       "      <td>married</td>\n",
       "      <td>secondary</td>\n",
       "      <td>no</td>\n",
       "      <td>2476.0</td>\n",
       "      <td>yes</td>\n",
       "      <td>no</td>\n",
       "      <td>unknown</td>\n",
       "      <td>5</td>\n",
       "      <td>may</td>\n",
       "      <td>579</td>\n",
       "      <td>1</td>\n",
       "      <td>-1</td>\n",
       "      <td>0</td>\n",
       "      <td>unknown</td>\n",
       "      <td>yes</td>\n",
       "      <td>spring</td>\n",
       "      <td>50-60</td>\n",
       "    </tr>\n",
       "    <tr>\n",
       "      <th>4</th>\n",
       "      <td>54</td>\n",
       "      <td>admin.</td>\n",
       "      <td>married</td>\n",
       "      <td>tertiary</td>\n",
       "      <td>no</td>\n",
       "      <td>184.0</td>\n",
       "      <td>no</td>\n",
       "      <td>no</td>\n",
       "      <td>unknown</td>\n",
       "      <td>5</td>\n",
       "      <td>may</td>\n",
       "      <td>673</td>\n",
       "      <td>2</td>\n",
       "      <td>-1</td>\n",
       "      <td>0</td>\n",
       "      <td>unknown</td>\n",
       "      <td>yes</td>\n",
       "      <td>spring</td>\n",
       "      <td>50-60</td>\n",
       "    </tr>\n",
       "    <tr>\n",
       "      <th>...</th>\n",
       "      <td>...</td>\n",
       "      <td>...</td>\n",
       "      <td>...</td>\n",
       "      <td>...</td>\n",
       "      <td>...</td>\n",
       "      <td>...</td>\n",
       "      <td>...</td>\n",
       "      <td>...</td>\n",
       "      <td>...</td>\n",
       "      <td>...</td>\n",
       "      <td>...</td>\n",
       "      <td>...</td>\n",
       "      <td>...</td>\n",
       "      <td>...</td>\n",
       "      <td>...</td>\n",
       "      <td>...</td>\n",
       "      <td>...</td>\n",
       "      <td>...</td>\n",
       "      <td>...</td>\n",
       "    </tr>\n",
       "    <tr>\n",
       "      <th>11157</th>\n",
       "      <td>33</td>\n",
       "      <td>blue-collar</td>\n",
       "      <td>single</td>\n",
       "      <td>primary</td>\n",
       "      <td>no</td>\n",
       "      <td>1.0</td>\n",
       "      <td>yes</td>\n",
       "      <td>no</td>\n",
       "      <td>cellular</td>\n",
       "      <td>20</td>\n",
       "      <td>apr</td>\n",
       "      <td>257</td>\n",
       "      <td>1</td>\n",
       "      <td>-1</td>\n",
       "      <td>0</td>\n",
       "      <td>unknown</td>\n",
       "      <td>no</td>\n",
       "      <td>spring</td>\n",
       "      <td>30-39</td>\n",
       "    </tr>\n",
       "    <tr>\n",
       "      <th>11158</th>\n",
       "      <td>39</td>\n",
       "      <td>services</td>\n",
       "      <td>married</td>\n",
       "      <td>secondary</td>\n",
       "      <td>no</td>\n",
       "      <td>733.0</td>\n",
       "      <td>no</td>\n",
       "      <td>no</td>\n",
       "      <td>unknown</td>\n",
       "      <td>16</td>\n",
       "      <td>jun</td>\n",
       "      <td>83</td>\n",
       "      <td>4</td>\n",
       "      <td>-1</td>\n",
       "      <td>0</td>\n",
       "      <td>unknown</td>\n",
       "      <td>no</td>\n",
       "      <td>summer</td>\n",
       "      <td>30-39</td>\n",
       "    </tr>\n",
       "    <tr>\n",
       "      <th>11159</th>\n",
       "      <td>32</td>\n",
       "      <td>technician</td>\n",
       "      <td>single</td>\n",
       "      <td>secondary</td>\n",
       "      <td>no</td>\n",
       "      <td>29.0</td>\n",
       "      <td>no</td>\n",
       "      <td>no</td>\n",
       "      <td>cellular</td>\n",
       "      <td>19</td>\n",
       "      <td>aug</td>\n",
       "      <td>156</td>\n",
       "      <td>2</td>\n",
       "      <td>-1</td>\n",
       "      <td>0</td>\n",
       "      <td>unknown</td>\n",
       "      <td>no</td>\n",
       "      <td>summer</td>\n",
       "      <td>30-39</td>\n",
       "    </tr>\n",
       "    <tr>\n",
       "      <th>11160</th>\n",
       "      <td>43</td>\n",
       "      <td>technician</td>\n",
       "      <td>married</td>\n",
       "      <td>secondary</td>\n",
       "      <td>no</td>\n",
       "      <td>0.0</td>\n",
       "      <td>no</td>\n",
       "      <td>yes</td>\n",
       "      <td>cellular</td>\n",
       "      <td>8</td>\n",
       "      <td>may</td>\n",
       "      <td>9</td>\n",
       "      <td>2</td>\n",
       "      <td>172</td>\n",
       "      <td>5</td>\n",
       "      <td>failure</td>\n",
       "      <td>no</td>\n",
       "      <td>spring</td>\n",
       "      <td>40-49</td>\n",
       "    </tr>\n",
       "    <tr>\n",
       "      <th>11161</th>\n",
       "      <td>34</td>\n",
       "      <td>technician</td>\n",
       "      <td>married</td>\n",
       "      <td>secondary</td>\n",
       "      <td>no</td>\n",
       "      <td>0.0</td>\n",
       "      <td>no</td>\n",
       "      <td>no</td>\n",
       "      <td>cellular</td>\n",
       "      <td>9</td>\n",
       "      <td>jul</td>\n",
       "      <td>628</td>\n",
       "      <td>1</td>\n",
       "      <td>-1</td>\n",
       "      <td>0</td>\n",
       "      <td>unknown</td>\n",
       "      <td>no</td>\n",
       "      <td>summer</td>\n",
       "      <td>30-39</td>\n",
       "    </tr>\n",
       "  </tbody>\n",
       "</table>\n",
       "<p>10105 rows × 19 columns</p>\n",
       "</div>"
      ],
      "text/plain": [
       "       age          job  marital  education default  balance housing loan  \\\n",
       "0       59       admin.  married  secondary      no   2343.0     yes   no   \n",
       "1       56       admin.  married  secondary      no     45.0      no   no   \n",
       "2       41   technician  married  secondary      no   1270.0     yes   no   \n",
       "3       55     services  married  secondary      no   2476.0     yes   no   \n",
       "4       54       admin.  married   tertiary      no    184.0      no   no   \n",
       "...    ...          ...      ...        ...     ...      ...     ...  ...   \n",
       "11157   33  blue-collar   single    primary      no      1.0     yes   no   \n",
       "11158   39     services  married  secondary      no    733.0      no   no   \n",
       "11159   32   technician   single  secondary      no     29.0      no   no   \n",
       "11160   43   technician  married  secondary      no      0.0      no  yes   \n",
       "11161   34   technician  married  secondary      no      0.0      no   no   \n",
       "\n",
       "        contact  day month  duration  campaign  pdays  previous poutcome  \\\n",
       "0       unknown    5   may      1042         1     -1         0  unknown   \n",
       "1       unknown    5   may      1467         1     -1         0  unknown   \n",
       "2       unknown    5   may      1389         1     -1         0  unknown   \n",
       "3       unknown    5   may       579         1     -1         0  unknown   \n",
       "4       unknown    5   may       673         2     -1         0  unknown   \n",
       "...         ...  ...   ...       ...       ...    ...       ...      ...   \n",
       "11157  cellular   20   apr       257         1     -1         0  unknown   \n",
       "11158   unknown   16   jun        83         4     -1         0  unknown   \n",
       "11159  cellular   19   aug       156         2     -1         0  unknown   \n",
       "11160  cellular    8   may         9         2    172         5  failure   \n",
       "11161  cellular    9   jul       628         1     -1         0  unknown   \n",
       "\n",
       "      deposit  season age_group  \n",
       "0         yes  spring     50-60  \n",
       "1         yes  spring     50-60  \n",
       "2         yes  spring     40-49  \n",
       "3         yes  spring     50-60  \n",
       "4         yes  spring     50-60  \n",
       "...       ...     ...       ...  \n",
       "11157      no  spring     30-39  \n",
       "11158      no  summer     30-39  \n",
       "11159      no  summer     30-39  \n",
       "11160      no  spring     40-49  \n",
       "11161      no  summer     30-39  \n",
       "\n",
       "[10105 rows x 19 columns]"
      ]
     },
     "execution_count": 41,
     "metadata": {},
     "output_type": "execute_result"
    }
   ],
   "source": [
    "bank_encoding"
   ]
  },
  {
   "cell_type": "code",
   "execution_count": 42,
   "id": "1e815773",
   "metadata": {},
   "outputs": [
    {
     "data": {
      "text/html": [
       "<div>\n",
       "<style scoped>\n",
       "    .dataframe tbody tr th:only-of-type {\n",
       "        vertical-align: middle;\n",
       "    }\n",
       "\n",
       "    .dataframe tbody tr th {\n",
       "        vertical-align: top;\n",
       "    }\n",
       "\n",
       "    .dataframe thead th {\n",
       "        text-align: right;\n",
       "    }\n",
       "</style>\n",
       "<table border=\"1\" class=\"dataframe\">\n",
       "  <thead>\n",
       "    <tr style=\"text-align: right;\">\n",
       "      <th></th>\n",
       "      <th>age</th>\n",
       "      <th>job</th>\n",
       "      <th>marital</th>\n",
       "      <th>education</th>\n",
       "      <th>default</th>\n",
       "      <th>balance</th>\n",
       "      <th>housing</th>\n",
       "      <th>loan</th>\n",
       "      <th>contact</th>\n",
       "      <th>day</th>\n",
       "      <th>...</th>\n",
       "      <th>duration</th>\n",
       "      <th>campaign</th>\n",
       "      <th>pdays</th>\n",
       "      <th>previous</th>\n",
       "      <th>poutcome</th>\n",
       "      <th>deposit</th>\n",
       "      <th>season</th>\n",
       "      <th>age_group</th>\n",
       "      <th>edu_cat</th>\n",
       "      <th>age_cat</th>\n",
       "    </tr>\n",
       "  </thead>\n",
       "  <tbody>\n",
       "    <tr>\n",
       "      <th>0</th>\n",
       "      <td>59</td>\n",
       "      <td>admin.</td>\n",
       "      <td>married</td>\n",
       "      <td>secondary</td>\n",
       "      <td>no</td>\n",
       "      <td>2343.0</td>\n",
       "      <td>yes</td>\n",
       "      <td>no</td>\n",
       "      <td>unknown</td>\n",
       "      <td>5</td>\n",
       "      <td>...</td>\n",
       "      <td>1042</td>\n",
       "      <td>1</td>\n",
       "      <td>-1</td>\n",
       "      <td>0</td>\n",
       "      <td>unknown</td>\n",
       "      <td>yes</td>\n",
       "      <td>spring</td>\n",
       "      <td>50-60</td>\n",
       "      <td>1</td>\n",
       "      <td>1</td>\n",
       "    </tr>\n",
       "    <tr>\n",
       "      <th>1</th>\n",
       "      <td>56</td>\n",
       "      <td>admin.</td>\n",
       "      <td>married</td>\n",
       "      <td>secondary</td>\n",
       "      <td>no</td>\n",
       "      <td>45.0</td>\n",
       "      <td>no</td>\n",
       "      <td>no</td>\n",
       "      <td>unknown</td>\n",
       "      <td>5</td>\n",
       "      <td>...</td>\n",
       "      <td>1467</td>\n",
       "      <td>1</td>\n",
       "      <td>-1</td>\n",
       "      <td>0</td>\n",
       "      <td>unknown</td>\n",
       "      <td>yes</td>\n",
       "      <td>spring</td>\n",
       "      <td>50-60</td>\n",
       "      <td>1</td>\n",
       "      <td>1</td>\n",
       "    </tr>\n",
       "    <tr>\n",
       "      <th>2</th>\n",
       "      <td>41</td>\n",
       "      <td>technician</td>\n",
       "      <td>married</td>\n",
       "      <td>secondary</td>\n",
       "      <td>no</td>\n",
       "      <td>1270.0</td>\n",
       "      <td>yes</td>\n",
       "      <td>no</td>\n",
       "      <td>unknown</td>\n",
       "      <td>5</td>\n",
       "      <td>...</td>\n",
       "      <td>1389</td>\n",
       "      <td>1</td>\n",
       "      <td>-1</td>\n",
       "      <td>0</td>\n",
       "      <td>unknown</td>\n",
       "      <td>yes</td>\n",
       "      <td>spring</td>\n",
       "      <td>40-49</td>\n",
       "      <td>1</td>\n",
       "      <td>2</td>\n",
       "    </tr>\n",
       "    <tr>\n",
       "      <th>3</th>\n",
       "      <td>55</td>\n",
       "      <td>services</td>\n",
       "      <td>married</td>\n",
       "      <td>secondary</td>\n",
       "      <td>no</td>\n",
       "      <td>2476.0</td>\n",
       "      <td>yes</td>\n",
       "      <td>no</td>\n",
       "      <td>unknown</td>\n",
       "      <td>5</td>\n",
       "      <td>...</td>\n",
       "      <td>579</td>\n",
       "      <td>1</td>\n",
       "      <td>-1</td>\n",
       "      <td>0</td>\n",
       "      <td>unknown</td>\n",
       "      <td>yes</td>\n",
       "      <td>spring</td>\n",
       "      <td>50-60</td>\n",
       "      <td>1</td>\n",
       "      <td>1</td>\n",
       "    </tr>\n",
       "    <tr>\n",
       "      <th>4</th>\n",
       "      <td>54</td>\n",
       "      <td>admin.</td>\n",
       "      <td>married</td>\n",
       "      <td>tertiary</td>\n",
       "      <td>no</td>\n",
       "      <td>184.0</td>\n",
       "      <td>no</td>\n",
       "      <td>no</td>\n",
       "      <td>unknown</td>\n",
       "      <td>5</td>\n",
       "      <td>...</td>\n",
       "      <td>673</td>\n",
       "      <td>2</td>\n",
       "      <td>-1</td>\n",
       "      <td>0</td>\n",
       "      <td>unknown</td>\n",
       "      <td>yes</td>\n",
       "      <td>spring</td>\n",
       "      <td>50-60</td>\n",
       "      <td>2</td>\n",
       "      <td>1</td>\n",
       "    </tr>\n",
       "    <tr>\n",
       "      <th>5</th>\n",
       "      <td>42</td>\n",
       "      <td>management</td>\n",
       "      <td>single</td>\n",
       "      <td>tertiary</td>\n",
       "      <td>no</td>\n",
       "      <td>0.0</td>\n",
       "      <td>yes</td>\n",
       "      <td>yes</td>\n",
       "      <td>unknown</td>\n",
       "      <td>5</td>\n",
       "      <td>...</td>\n",
       "      <td>562</td>\n",
       "      <td>2</td>\n",
       "      <td>-1</td>\n",
       "      <td>0</td>\n",
       "      <td>unknown</td>\n",
       "      <td>yes</td>\n",
       "      <td>spring</td>\n",
       "      <td>40-49</td>\n",
       "      <td>2</td>\n",
       "      <td>2</td>\n",
       "    </tr>\n",
       "    <tr>\n",
       "      <th>6</th>\n",
       "      <td>56</td>\n",
       "      <td>management</td>\n",
       "      <td>married</td>\n",
       "      <td>tertiary</td>\n",
       "      <td>no</td>\n",
       "      <td>830.0</td>\n",
       "      <td>yes</td>\n",
       "      <td>yes</td>\n",
       "      <td>unknown</td>\n",
       "      <td>6</td>\n",
       "      <td>...</td>\n",
       "      <td>1201</td>\n",
       "      <td>1</td>\n",
       "      <td>-1</td>\n",
       "      <td>0</td>\n",
       "      <td>unknown</td>\n",
       "      <td>yes</td>\n",
       "      <td>spring</td>\n",
       "      <td>50-60</td>\n",
       "      <td>2</td>\n",
       "      <td>1</td>\n",
       "    </tr>\n",
       "    <tr>\n",
       "      <th>7</th>\n",
       "      <td>60</td>\n",
       "      <td>retired</td>\n",
       "      <td>divorced</td>\n",
       "      <td>secondary</td>\n",
       "      <td>no</td>\n",
       "      <td>545.0</td>\n",
       "      <td>yes</td>\n",
       "      <td>no</td>\n",
       "      <td>unknown</td>\n",
       "      <td>6</td>\n",
       "      <td>...</td>\n",
       "      <td>1030</td>\n",
       "      <td>1</td>\n",
       "      <td>-1</td>\n",
       "      <td>0</td>\n",
       "      <td>unknown</td>\n",
       "      <td>yes</td>\n",
       "      <td>spring</td>\n",
       "      <td>50-60</td>\n",
       "      <td>1</td>\n",
       "      <td>1</td>\n",
       "    </tr>\n",
       "    <tr>\n",
       "      <th>8</th>\n",
       "      <td>37</td>\n",
       "      <td>technician</td>\n",
       "      <td>married</td>\n",
       "      <td>secondary</td>\n",
       "      <td>no</td>\n",
       "      <td>1.0</td>\n",
       "      <td>yes</td>\n",
       "      <td>no</td>\n",
       "      <td>unknown</td>\n",
       "      <td>6</td>\n",
       "      <td>...</td>\n",
       "      <td>608</td>\n",
       "      <td>1</td>\n",
       "      <td>-1</td>\n",
       "      <td>0</td>\n",
       "      <td>unknown</td>\n",
       "      <td>yes</td>\n",
       "      <td>spring</td>\n",
       "      <td>30-39</td>\n",
       "      <td>1</td>\n",
       "      <td>3</td>\n",
       "    </tr>\n",
       "    <tr>\n",
       "      <th>9</th>\n",
       "      <td>28</td>\n",
       "      <td>services</td>\n",
       "      <td>single</td>\n",
       "      <td>secondary</td>\n",
       "      <td>no</td>\n",
       "      <td>550.0</td>\n",
       "      <td>yes</td>\n",
       "      <td>no</td>\n",
       "      <td>unknown</td>\n",
       "      <td>6</td>\n",
       "      <td>...</td>\n",
       "      <td>1297</td>\n",
       "      <td>3</td>\n",
       "      <td>-1</td>\n",
       "      <td>0</td>\n",
       "      <td>unknown</td>\n",
       "      <td>yes</td>\n",
       "      <td>spring</td>\n",
       "      <td>&lt; 30</td>\n",
       "      <td>1</td>\n",
       "      <td>4</td>\n",
       "    </tr>\n",
       "  </tbody>\n",
       "</table>\n",
       "<p>10 rows × 21 columns</p>\n",
       "</div>"
      ],
      "text/plain": [
       "   age         job   marital  education default  balance housing loan  \\\n",
       "0   59      admin.   married  secondary      no   2343.0     yes   no   \n",
       "1   56      admin.   married  secondary      no     45.0      no   no   \n",
       "2   41  technician   married  secondary      no   1270.0     yes   no   \n",
       "3   55    services   married  secondary      no   2476.0     yes   no   \n",
       "4   54      admin.   married   tertiary      no    184.0      no   no   \n",
       "5   42  management    single   tertiary      no      0.0     yes  yes   \n",
       "6   56  management   married   tertiary      no    830.0     yes  yes   \n",
       "7   60     retired  divorced  secondary      no    545.0     yes   no   \n",
       "8   37  technician   married  secondary      no      1.0     yes   no   \n",
       "9   28    services    single  secondary      no    550.0     yes   no   \n",
       "\n",
       "   contact  day  ... duration  campaign  pdays  previous  poutcome deposit  \\\n",
       "0  unknown    5  ...     1042         1     -1         0   unknown     yes   \n",
       "1  unknown    5  ...     1467         1     -1         0   unknown     yes   \n",
       "2  unknown    5  ...     1389         1     -1         0   unknown     yes   \n",
       "3  unknown    5  ...      579         1     -1         0   unknown     yes   \n",
       "4  unknown    5  ...      673         2     -1         0   unknown     yes   \n",
       "5  unknown    5  ...      562         2     -1         0   unknown     yes   \n",
       "6  unknown    6  ...     1201         1     -1         0   unknown     yes   \n",
       "7  unknown    6  ...     1030         1     -1         0   unknown     yes   \n",
       "8  unknown    6  ...      608         1     -1         0   unknown     yes   \n",
       "9  unknown    6  ...     1297         3     -1         0   unknown     yes   \n",
       "\n",
       "   season age_group edu_cat  age_cat  \n",
       "0  spring     50-60       1        1  \n",
       "1  spring     50-60       1        1  \n",
       "2  spring     40-49       1        2  \n",
       "3  spring     50-60       1        1  \n",
       "4  spring     50-60       2        1  \n",
       "5  spring     40-49       2        2  \n",
       "6  spring     50-60       2        1  \n",
       "7  spring     50-60       1        1  \n",
       "8  spring     30-39       1        3  \n",
       "9  spring      < 30       1        4  \n",
       "\n",
       "[10 rows x 21 columns]"
      ]
     },
     "execution_count": 42,
     "metadata": {},
     "output_type": "execute_result"
    }
   ],
   "source": [
    "import category_encoders as ce\n",
    "\n",
    "ord_encoder = ce.OrdinalEncoder()\n",
    "\n",
    "bank_encoding['edu_cat'] = ord_encoder.fit_transform(bank_encoding['education'])\n",
    "bank_encoding['age_cat'] = ord_encoder.fit_transform(bank_encoding['age_group'])\n",
    "\n",
    "bank_encoding.head(10)"
   ]
  },
  {
   "cell_type": "code",
   "execution_count": 43,
   "id": "626a5762",
   "metadata": {},
   "outputs": [
    {
     "data": {
      "text/html": [
       "<div>\n",
       "<style scoped>\n",
       "    .dataframe tbody tr th:only-of-type {\n",
       "        vertical-align: middle;\n",
       "    }\n",
       "\n",
       "    .dataframe tbody tr th {\n",
       "        vertical-align: top;\n",
       "    }\n",
       "\n",
       "    .dataframe thead th {\n",
       "        text-align: right;\n",
       "    }\n",
       "</style>\n",
       "<table border=\"1\" class=\"dataframe\">\n",
       "  <thead>\n",
       "    <tr style=\"text-align: right;\">\n",
       "      <th></th>\n",
       "      <th>age</th>\n",
       "      <th>job</th>\n",
       "      <th>marital</th>\n",
       "      <th>education</th>\n",
       "      <th>default</th>\n",
       "      <th>balance</th>\n",
       "      <th>housing</th>\n",
       "      <th>loan</th>\n",
       "      <th>contact</th>\n",
       "      <th>day</th>\n",
       "      <th>...</th>\n",
       "      <th>duration</th>\n",
       "      <th>campaign</th>\n",
       "      <th>pdays</th>\n",
       "      <th>previous</th>\n",
       "      <th>poutcome</th>\n",
       "      <th>deposit</th>\n",
       "      <th>season</th>\n",
       "      <th>age_group</th>\n",
       "      <th>edu_cat</th>\n",
       "      <th>age_cat</th>\n",
       "    </tr>\n",
       "  </thead>\n",
       "  <tbody>\n",
       "    <tr>\n",
       "      <th>0</th>\n",
       "      <td>59</td>\n",
       "      <td>admin.</td>\n",
       "      <td>married</td>\n",
       "      <td>secondary</td>\n",
       "      <td>0</td>\n",
       "      <td>2343.0</td>\n",
       "      <td>1</td>\n",
       "      <td>0</td>\n",
       "      <td>unknown</td>\n",
       "      <td>5</td>\n",
       "      <td>...</td>\n",
       "      <td>1042</td>\n",
       "      <td>1</td>\n",
       "      <td>-1</td>\n",
       "      <td>0</td>\n",
       "      <td>unknown</td>\n",
       "      <td>1</td>\n",
       "      <td>spring</td>\n",
       "      <td>50-60</td>\n",
       "      <td>1</td>\n",
       "      <td>1</td>\n",
       "    </tr>\n",
       "    <tr>\n",
       "      <th>1</th>\n",
       "      <td>56</td>\n",
       "      <td>admin.</td>\n",
       "      <td>married</td>\n",
       "      <td>secondary</td>\n",
       "      <td>0</td>\n",
       "      <td>45.0</td>\n",
       "      <td>0</td>\n",
       "      <td>0</td>\n",
       "      <td>unknown</td>\n",
       "      <td>5</td>\n",
       "      <td>...</td>\n",
       "      <td>1467</td>\n",
       "      <td>1</td>\n",
       "      <td>-1</td>\n",
       "      <td>0</td>\n",
       "      <td>unknown</td>\n",
       "      <td>1</td>\n",
       "      <td>spring</td>\n",
       "      <td>50-60</td>\n",
       "      <td>1</td>\n",
       "      <td>1</td>\n",
       "    </tr>\n",
       "    <tr>\n",
       "      <th>2</th>\n",
       "      <td>41</td>\n",
       "      <td>technician</td>\n",
       "      <td>married</td>\n",
       "      <td>secondary</td>\n",
       "      <td>0</td>\n",
       "      <td>1270.0</td>\n",
       "      <td>1</td>\n",
       "      <td>0</td>\n",
       "      <td>unknown</td>\n",
       "      <td>5</td>\n",
       "      <td>...</td>\n",
       "      <td>1389</td>\n",
       "      <td>1</td>\n",
       "      <td>-1</td>\n",
       "      <td>0</td>\n",
       "      <td>unknown</td>\n",
       "      <td>1</td>\n",
       "      <td>spring</td>\n",
       "      <td>40-49</td>\n",
       "      <td>1</td>\n",
       "      <td>2</td>\n",
       "    </tr>\n",
       "  </tbody>\n",
       "</table>\n",
       "<p>3 rows × 21 columns</p>\n",
       "</div>"
      ],
      "text/plain": [
       "   age         job  marital  education  default  balance  housing  loan  \\\n",
       "0   59      admin.  married  secondary        0   2343.0        1     0   \n",
       "1   56      admin.  married  secondary        0     45.0        0     0   \n",
       "2   41  technician  married  secondary        0   1270.0        1     0   \n",
       "\n",
       "   contact  day  ... duration  campaign  pdays  previous  poutcome deposit  \\\n",
       "0  unknown    5  ...     1042         1     -1         0   unknown       1   \n",
       "1  unknown    5  ...     1467         1     -1         0   unknown       1   \n",
       "2  unknown    5  ...     1389         1     -1         0   unknown       1   \n",
       "\n",
       "   season age_group edu_cat  age_cat  \n",
       "0  spring     50-60       1        1  \n",
       "1  spring     50-60       1        1  \n",
       "2  spring     40-49       1        2  \n",
       "\n",
       "[3 rows x 21 columns]"
      ]
     },
     "execution_count": 43,
     "metadata": {},
     "output_type": "execute_result"
    }
   ],
   "source": [
    "# Encoding of Binary categorical features to 1/0\n",
    "bank_encoding['housing'] = bank_encoding['housing'].apply(lambda x: 1 if x == 'yes' else 0)\n",
    "bank_encoding['loan'] = bank_encoding['loan'].apply(lambda x: 1 if x == 'yes' else 0)\n",
    "bank_encoding['default'] = bank_encoding['default'].apply(lambda x: 1 if x == 'yes' else 0)\n",
    "\n",
    "bank_encoding['deposit'] = bank_encoding['deposit'].apply(lambda x: 1 if x == 'yes' else 0)\n",
    "\n",
    "bank_encoding.head(3)"
   ]
  },
  {
   "cell_type": "code",
   "execution_count": 44,
   "id": "0c927a5e",
   "metadata": {},
   "outputs": [
    {
     "name": "stdout",
     "output_type": "stream",
     "text": [
      "<class 'pandas.core.frame.DataFrame'>\n",
      "Int64Index: 10105 entries, 0 to 11161\n",
      "Data columns (total 21 columns):\n",
      " #   Column     Non-Null Count  Dtype  \n",
      "---  ------     --------------  -----  \n",
      " 0   age        10105 non-null  int64  \n",
      " 1   job        10105 non-null  object \n",
      " 2   marital    10105 non-null  object \n",
      " 3   education  10105 non-null  object \n",
      " 4   default    10105 non-null  int64  \n",
      " 5   balance    10105 non-null  float64\n",
      " 6   housing    10105 non-null  int64  \n",
      " 7   loan       10105 non-null  int64  \n",
      " 8   contact    10105 non-null  object \n",
      " 9   day        10105 non-null  int64  \n",
      " 10  month      10105 non-null  object \n",
      " 11  duration   10105 non-null  int64  \n",
      " 12  campaign   10105 non-null  int64  \n",
      " 13  pdays      10105 non-null  int64  \n",
      " 14  previous   10105 non-null  int64  \n",
      " 15  poutcome   10105 non-null  object \n",
      " 16  deposit    10105 non-null  int64  \n",
      " 17  season     10105 non-null  object \n",
      " 18  age_group  10105 non-null  object \n",
      " 19  edu_cat    10105 non-null  int32  \n",
      " 20  age_cat    10105 non-null  int32  \n",
      "dtypes: float64(1), int32(2), int64(10), object(8)\n",
      "memory usage: 1.6+ MB\n"
     ]
    }
   ],
   "source": [
    "bank_encoding.info()"
   ]
  },
  {
   "attachments": {},
   "cell_type": "markdown",
   "id": "a88270ae",
   "metadata": {},
   "source": [
    "***"
   ]
  },
  {
   "attachments": {},
   "cell_type": "markdown",
   "id": "bf11c42c",
   "metadata": {},
   "source": [
    "Let`s look at the correlation between features and target (numeric data) using Heatmap.\n",
    "\n",
    "*Before creating new columns by OneHot encoding method*"
   ]
  },
  {
   "cell_type": "code",
   "execution_count": 45,
   "id": "4d13603f",
   "metadata": {},
   "outputs": [
    {
     "data": {
      "image/png": "[encoded data removed]",
      "text/plain": [
       "<Figure size 720x720 with 2 Axes>"
      ]
     },
     "metadata": {
      "needs_background": "light"
     },
     "output_type": "display_data"
    }
   ],
   "source": [
    "# Creating correlation heatmap: numeric data\n",
    "num_features = bank_encoding[['default', 'balance', 'housing', 'loan', 'day',\n",
    "                              'month', 'duration', 'campaign', 'pdays', 'previous',\n",
    "                              'deposit', 'edu_cat', 'age_cat']]\n",
    "\n",
    "# Params for graph: color, single corner\n",
    "mask = np.zeros_like(num_features.corr(method='spearman'), dtype=np.bool)\n",
    "mask[np.triu_indices_from(mask)] = True\n",
    "\n",
    "cmap = sns.diverging_palette(220, 10, as_cmap=True)\n",
    "fig, ax = plt.subplots(figsize=(10,10))\n",
    "\n",
    "sns.heatmap(num_features.corr(method='spearman'), mask=mask, cmap=cmap, linewidths=.6, annot=True, ax=ax)\n",
    "\n",
    "plt.show();"
   ]
  },
  {
   "attachments": {},
   "cell_type": "markdown",
   "id": "18c99484",
   "metadata": {},
   "source": [
    "* There is average level of correlation between *deposit* - *duration* feature (0.53)\n",
    "* There is strong correlation between *pdays - previous*. At the Feature selection step it is necessary to remove one of this features. Because strong correlation means data multicollinearity."
   ]
  },
  {
   "attachments": {},
   "cell_type": "markdown",
   "id": "718ef5a5",
   "metadata": {},
   "source": [
    "***"
   ]
  },
  {
   "attachments": {},
   "cell_type": "markdown",
   "id": "45753636",
   "metadata": {},
   "source": [
    "Encoding nominal variables (more than 2 categories):\n",
    "* 'job',\n",
    "* 'marital',\n",
    "* 'contact',\n",
    "* 'month',\n",
    "* 'season',\n",
    "* 'poutcome'."
   ]
  },
  {
   "cell_type": "code",
   "execution_count": 46,
   "id": "b996883f",
   "metadata": {},
   "outputs": [],
   "source": [
    "# dummy-features\n",
    "bank_encoding = pd.get_dummies(bank_encoding, columns=['job', 'marital', 'contact', 'month', 'poutcome', 'season'], drop_first=False)"
   ]
  },
  {
   "cell_type": "code",
   "execution_count": 47,
   "id": "74a853da",
   "metadata": {},
   "outputs": [
    {
     "data": {
      "text/html": [
       "<div>\n",
       "<style scoped>\n",
       "    .dataframe tbody tr th:only-of-type {\n",
       "        vertical-align: middle;\n",
       "    }\n",
       "\n",
       "    .dataframe tbody tr th {\n",
       "        vertical-align: top;\n",
       "    }\n",
       "\n",
       "    .dataframe thead th {\n",
       "        text-align: right;\n",
       "    }\n",
       "</style>\n",
       "<table border=\"1\" class=\"dataframe\">\n",
       "  <thead>\n",
       "    <tr style=\"text-align: right;\">\n",
       "      <th></th>\n",
       "      <th>age</th>\n",
       "      <th>education</th>\n",
       "      <th>default</th>\n",
       "      <th>balance</th>\n",
       "      <th>housing</th>\n",
       "      <th>loan</th>\n",
       "      <th>day</th>\n",
       "      <th>duration</th>\n",
       "      <th>campaign</th>\n",
       "      <th>pdays</th>\n",
       "      <th>...</th>\n",
       "      <th>month_oct</th>\n",
       "      <th>month_sep</th>\n",
       "      <th>poutcome_failure</th>\n",
       "      <th>poutcome_other</th>\n",
       "      <th>poutcome_success</th>\n",
       "      <th>poutcome_unknown</th>\n",
       "      <th>season_autumn</th>\n",
       "      <th>season_spring</th>\n",
       "      <th>season_summer</th>\n",
       "      <th>season_winter</th>\n",
       "    </tr>\n",
       "  </thead>\n",
       "  <tbody>\n",
       "    <tr>\n",
       "      <th>0</th>\n",
       "      <td>59</td>\n",
       "      <td>secondary</td>\n",
       "      <td>0</td>\n",
       "      <td>2343.0</td>\n",
       "      <td>1</td>\n",
       "      <td>0</td>\n",
       "      <td>5</td>\n",
       "      <td>1042</td>\n",
       "      <td>1</td>\n",
       "      <td>-1</td>\n",
       "      <td>...</td>\n",
       "      <td>0</td>\n",
       "      <td>0</td>\n",
       "      <td>0</td>\n",
       "      <td>0</td>\n",
       "      <td>0</td>\n",
       "      <td>1</td>\n",
       "      <td>0</td>\n",
       "      <td>1</td>\n",
       "      <td>0</td>\n",
       "      <td>0</td>\n",
       "    </tr>\n",
       "    <tr>\n",
       "      <th>1</th>\n",
       "      <td>56</td>\n",
       "      <td>secondary</td>\n",
       "      <td>0</td>\n",
       "      <td>45.0</td>\n",
       "      <td>0</td>\n",
       "      <td>0</td>\n",
       "      <td>5</td>\n",
       "      <td>1467</td>\n",
       "      <td>1</td>\n",
       "      <td>-1</td>\n",
       "      <td>...</td>\n",
       "      <td>0</td>\n",
       "      <td>0</td>\n",
       "      <td>0</td>\n",
       "      <td>0</td>\n",
       "      <td>0</td>\n",
       "      <td>1</td>\n",
       "      <td>0</td>\n",
       "      <td>1</td>\n",
       "      <td>0</td>\n",
       "      <td>0</td>\n",
       "    </tr>\n",
       "    <tr>\n",
       "      <th>2</th>\n",
       "      <td>41</td>\n",
       "      <td>secondary</td>\n",
       "      <td>0</td>\n",
       "      <td>1270.0</td>\n",
       "      <td>1</td>\n",
       "      <td>0</td>\n",
       "      <td>5</td>\n",
       "      <td>1389</td>\n",
       "      <td>1</td>\n",
       "      <td>-1</td>\n",
       "      <td>...</td>\n",
       "      <td>0</td>\n",
       "      <td>0</td>\n",
       "      <td>0</td>\n",
       "      <td>0</td>\n",
       "      <td>0</td>\n",
       "      <td>1</td>\n",
       "      <td>0</td>\n",
       "      <td>1</td>\n",
       "      <td>0</td>\n",
       "      <td>0</td>\n",
       "    </tr>\n",
       "    <tr>\n",
       "      <th>3</th>\n",
       "      <td>55</td>\n",
       "      <td>secondary</td>\n",
       "      <td>0</td>\n",
       "      <td>2476.0</td>\n",
       "      <td>1</td>\n",
       "      <td>0</td>\n",
       "      <td>5</td>\n",
       "      <td>579</td>\n",
       "      <td>1</td>\n",
       "      <td>-1</td>\n",
       "      <td>...</td>\n",
       "      <td>0</td>\n",
       "      <td>0</td>\n",
       "      <td>0</td>\n",
       "      <td>0</td>\n",
       "      <td>0</td>\n",
       "      <td>1</td>\n",
       "      <td>0</td>\n",
       "      <td>1</td>\n",
       "      <td>0</td>\n",
       "      <td>0</td>\n",
       "    </tr>\n",
       "    <tr>\n",
       "      <th>4</th>\n",
       "      <td>54</td>\n",
       "      <td>tertiary</td>\n",
       "      <td>0</td>\n",
       "      <td>184.0</td>\n",
       "      <td>0</td>\n",
       "      <td>0</td>\n",
       "      <td>5</td>\n",
       "      <td>673</td>\n",
       "      <td>2</td>\n",
       "      <td>-1</td>\n",
       "      <td>...</td>\n",
       "      <td>0</td>\n",
       "      <td>0</td>\n",
       "      <td>0</td>\n",
       "      <td>0</td>\n",
       "      <td>0</td>\n",
       "      <td>1</td>\n",
       "      <td>0</td>\n",
       "      <td>1</td>\n",
       "      <td>0</td>\n",
       "      <td>0</td>\n",
       "    </tr>\n",
       "    <tr>\n",
       "      <th>...</th>\n",
       "      <td>...</td>\n",
       "      <td>...</td>\n",
       "      <td>...</td>\n",
       "      <td>...</td>\n",
       "      <td>...</td>\n",
       "      <td>...</td>\n",
       "      <td>...</td>\n",
       "      <td>...</td>\n",
       "      <td>...</td>\n",
       "      <td>...</td>\n",
       "      <td>...</td>\n",
       "      <td>...</td>\n",
       "      <td>...</td>\n",
       "      <td>...</td>\n",
       "      <td>...</td>\n",
       "      <td>...</td>\n",
       "      <td>...</td>\n",
       "      <td>...</td>\n",
       "      <td>...</td>\n",
       "      <td>...</td>\n",
       "      <td>...</td>\n",
       "    </tr>\n",
       "    <tr>\n",
       "      <th>11157</th>\n",
       "      <td>33</td>\n",
       "      <td>primary</td>\n",
       "      <td>0</td>\n",
       "      <td>1.0</td>\n",
       "      <td>1</td>\n",
       "      <td>0</td>\n",
       "      <td>20</td>\n",
       "      <td>257</td>\n",
       "      <td>1</td>\n",
       "      <td>-1</td>\n",
       "      <td>...</td>\n",
       "      <td>0</td>\n",
       "      <td>0</td>\n",
       "      <td>0</td>\n",
       "      <td>0</td>\n",
       "      <td>0</td>\n",
       "      <td>1</td>\n",
       "      <td>0</td>\n",
       "      <td>1</td>\n",
       "      <td>0</td>\n",
       "      <td>0</td>\n",
       "    </tr>\n",
       "    <tr>\n",
       "      <th>11158</th>\n",
       "      <td>39</td>\n",
       "      <td>secondary</td>\n",
       "      <td>0</td>\n",
       "      <td>733.0</td>\n",
       "      <td>0</td>\n",
       "      <td>0</td>\n",
       "      <td>16</td>\n",
       "      <td>83</td>\n",
       "      <td>4</td>\n",
       "      <td>-1</td>\n",
       "      <td>...</td>\n",
       "      <td>0</td>\n",
       "      <td>0</td>\n",
       "      <td>0</td>\n",
       "      <td>0</td>\n",
       "      <td>0</td>\n",
       "      <td>1</td>\n",
       "      <td>0</td>\n",
       "      <td>0</td>\n",
       "      <td>1</td>\n",
       "      <td>0</td>\n",
       "    </tr>\n",
       "    <tr>\n",
       "      <th>11159</th>\n",
       "      <td>32</td>\n",
       "      <td>secondary</td>\n",
       "      <td>0</td>\n",
       "      <td>29.0</td>\n",
       "      <td>0</td>\n",
       "      <td>0</td>\n",
       "      <td>19</td>\n",
       "      <td>156</td>\n",
       "      <td>2</td>\n",
       "      <td>-1</td>\n",
       "      <td>...</td>\n",
       "      <td>0</td>\n",
       "      <td>0</td>\n",
       "      <td>0</td>\n",
       "      <td>0</td>\n",
       "      <td>0</td>\n",
       "      <td>1</td>\n",
       "      <td>0</td>\n",
       "      <td>0</td>\n",
       "      <td>1</td>\n",
       "      <td>0</td>\n",
       "    </tr>\n",
       "    <tr>\n",
       "      <th>11160</th>\n",
       "      <td>43</td>\n",
       "      <td>secondary</td>\n",
       "      <td>0</td>\n",
       "      <td>0.0</td>\n",
       "      <td>0</td>\n",
       "      <td>1</td>\n",
       "      <td>8</td>\n",
       "      <td>9</td>\n",
       "      <td>2</td>\n",
       "      <td>172</td>\n",
       "      <td>...</td>\n",
       "      <td>0</td>\n",
       "      <td>0</td>\n",
       "      <td>1</td>\n",
       "      <td>0</td>\n",
       "      <td>0</td>\n",
       "      <td>0</td>\n",
       "      <td>0</td>\n",
       "      <td>1</td>\n",
       "      <td>0</td>\n",
       "      <td>0</td>\n",
       "    </tr>\n",
       "    <tr>\n",
       "      <th>11161</th>\n",
       "      <td>34</td>\n",
       "      <td>secondary</td>\n",
       "      <td>0</td>\n",
       "      <td>0.0</td>\n",
       "      <td>0</td>\n",
       "      <td>0</td>\n",
       "      <td>9</td>\n",
       "      <td>628</td>\n",
       "      <td>1</td>\n",
       "      <td>-1</td>\n",
       "      <td>...</td>\n",
       "      <td>0</td>\n",
       "      <td>0</td>\n",
       "      <td>0</td>\n",
       "      <td>0</td>\n",
       "      <td>0</td>\n",
       "      <td>1</td>\n",
       "      <td>0</td>\n",
       "      <td>0</td>\n",
       "      <td>1</td>\n",
       "      <td>0</td>\n",
       "    </tr>\n",
       "  </tbody>\n",
       "</table>\n",
       "<p>10105 rows × 52 columns</p>\n",
       "</div>"
      ],
      "text/plain": [
       "       age  education  default  balance  housing  loan  day  duration  \\\n",
       "0       59  secondary        0   2343.0        1     0    5      1042   \n",
       "1       56  secondary        0     45.0        0     0    5      1467   \n",
       "2       41  secondary        0   1270.0        1     0    5      1389   \n",
       "3       55  secondary        0   2476.0        1     0    5       579   \n",
       "4       54   tertiary        0    184.0        0     0    5       673   \n",
       "...    ...        ...      ...      ...      ...   ...  ...       ...   \n",
       "11157   33    primary        0      1.0        1     0   20       257   \n",
       "11158   39  secondary        0    733.0        0     0   16        83   \n",
       "11159   32  secondary        0     29.0        0     0   19       156   \n",
       "11160   43  secondary        0      0.0        0     1    8         9   \n",
       "11161   34  secondary        0      0.0        0     0    9       628   \n",
       "\n",
       "       campaign  pdays  ...  month_oct  month_sep poutcome_failure  \\\n",
       "0             1     -1  ...          0          0                0   \n",
       "1             1     -1  ...          0          0                0   \n",
       "2             1     -1  ...          0          0                0   \n",
       "3             1     -1  ...          0          0                0   \n",
       "4             2     -1  ...          0          0                0   \n",
       "...         ...    ...  ...        ...        ...              ...   \n",
       "11157         1     -1  ...          0          0                0   \n",
       "11158         4     -1  ...          0          0                0   \n",
       "11159         2     -1  ...          0          0                0   \n",
       "11160         2    172  ...          0          0                1   \n",
       "11161         1     -1  ...          0          0                0   \n",
       "\n",
       "       poutcome_other  poutcome_success  poutcome_unknown  season_autumn  \\\n",
       "0                   0                 0                 1              0   \n",
       "1                   0                 0                 1              0   \n",
       "2                   0                 0                 1              0   \n",
       "3                   0                 0                 1              0   \n",
       "4                   0                 0                 1              0   \n",
       "...               ...               ...               ...            ...   \n",
       "11157               0                 0                 1              0   \n",
       "11158               0                 0                 1              0   \n",
       "11159               0                 0                 1              0   \n",
       "11160               0                 0                 0              0   \n",
       "11161               0                 0                 1              0   \n",
       "\n",
       "       season_spring  season_summer  season_winter  \n",
       "0                  1              0              0  \n",
       "1                  1              0              0  \n",
       "2                  1              0              0  \n",
       "3                  1              0              0  \n",
       "4                  1              0              0  \n",
       "...              ...            ...            ...  \n",
       "11157              1              0              0  \n",
       "11158              0              1              0  \n",
       "11159              0              1              0  \n",
       "11160              1              0              0  \n",
       "11161              0              1              0  \n",
       "\n",
       "[10105 rows x 52 columns]"
      ]
     },
     "execution_count": 47,
     "metadata": {},
     "output_type": "execute_result"
    }
   ],
   "source": [
    "bank_encoding"
   ]
  },
  {
   "cell_type": "code",
   "execution_count": 48,
   "id": "1e013c2c",
   "metadata": {},
   "outputs": [
    {
     "data": {
      "text/html": [
       "<div>\n",
       "<style scoped>\n",
       "    .dataframe tbody tr th:only-of-type {\n",
       "        vertical-align: middle;\n",
       "    }\n",
       "\n",
       "    .dataframe tbody tr th {\n",
       "        vertical-align: top;\n",
       "    }\n",
       "\n",
       "    .dataframe thead th {\n",
       "        text-align: right;\n",
       "    }\n",
       "</style>\n",
       "<table border=\"1\" class=\"dataframe\">\n",
       "  <thead>\n",
       "    <tr style=\"text-align: right;\">\n",
       "      <th></th>\n",
       "      <th>default</th>\n",
       "      <th>balance</th>\n",
       "      <th>housing</th>\n",
       "      <th>loan</th>\n",
       "      <th>day</th>\n",
       "      <th>duration</th>\n",
       "      <th>campaign</th>\n",
       "      <th>pdays</th>\n",
       "      <th>previous</th>\n",
       "      <th>deposit</th>\n",
       "      <th>...</th>\n",
       "      <th>month_oct</th>\n",
       "      <th>month_sep</th>\n",
       "      <th>poutcome_failure</th>\n",
       "      <th>poutcome_other</th>\n",
       "      <th>poutcome_success</th>\n",
       "      <th>poutcome_unknown</th>\n",
       "      <th>season_autumn</th>\n",
       "      <th>season_spring</th>\n",
       "      <th>season_summer</th>\n",
       "      <th>season_winter</th>\n",
       "    </tr>\n",
       "  </thead>\n",
       "  <tbody>\n",
       "    <tr>\n",
       "      <th>0</th>\n",
       "      <td>0</td>\n",
       "      <td>2343.0</td>\n",
       "      <td>1</td>\n",
       "      <td>0</td>\n",
       "      <td>5</td>\n",
       "      <td>1042</td>\n",
       "      <td>1</td>\n",
       "      <td>-1</td>\n",
       "      <td>0</td>\n",
       "      <td>1</td>\n",
       "      <td>...</td>\n",
       "      <td>0</td>\n",
       "      <td>0</td>\n",
       "      <td>0</td>\n",
       "      <td>0</td>\n",
       "      <td>0</td>\n",
       "      <td>1</td>\n",
       "      <td>0</td>\n",
       "      <td>1</td>\n",
       "      <td>0</td>\n",
       "      <td>0</td>\n",
       "    </tr>\n",
       "    <tr>\n",
       "      <th>1</th>\n",
       "      <td>0</td>\n",
       "      <td>45.0</td>\n",
       "      <td>0</td>\n",
       "      <td>0</td>\n",
       "      <td>5</td>\n",
       "      <td>1467</td>\n",
       "      <td>1</td>\n",
       "      <td>-1</td>\n",
       "      <td>0</td>\n",
       "      <td>1</td>\n",
       "      <td>...</td>\n",
       "      <td>0</td>\n",
       "      <td>0</td>\n",
       "      <td>0</td>\n",
       "      <td>0</td>\n",
       "      <td>0</td>\n",
       "      <td>1</td>\n",
       "      <td>0</td>\n",
       "      <td>1</td>\n",
       "      <td>0</td>\n",
       "      <td>0</td>\n",
       "    </tr>\n",
       "    <tr>\n",
       "      <th>2</th>\n",
       "      <td>0</td>\n",
       "      <td>1270.0</td>\n",
       "      <td>1</td>\n",
       "      <td>0</td>\n",
       "      <td>5</td>\n",
       "      <td>1389</td>\n",
       "      <td>1</td>\n",
       "      <td>-1</td>\n",
       "      <td>0</td>\n",
       "      <td>1</td>\n",
       "      <td>...</td>\n",
       "      <td>0</td>\n",
       "      <td>0</td>\n",
       "      <td>0</td>\n",
       "      <td>0</td>\n",
       "      <td>0</td>\n",
       "      <td>1</td>\n",
       "      <td>0</td>\n",
       "      <td>1</td>\n",
       "      <td>0</td>\n",
       "      <td>0</td>\n",
       "    </tr>\n",
       "    <tr>\n",
       "      <th>3</th>\n",
       "      <td>0</td>\n",
       "      <td>2476.0</td>\n",
       "      <td>1</td>\n",
       "      <td>0</td>\n",
       "      <td>5</td>\n",
       "      <td>579</td>\n",
       "      <td>1</td>\n",
       "      <td>-1</td>\n",
       "      <td>0</td>\n",
       "      <td>1</td>\n",
       "      <td>...</td>\n",
       "      <td>0</td>\n",
       "      <td>0</td>\n",
       "      <td>0</td>\n",
       "      <td>0</td>\n",
       "      <td>0</td>\n",
       "      <td>1</td>\n",
       "      <td>0</td>\n",
       "      <td>1</td>\n",
       "      <td>0</td>\n",
       "      <td>0</td>\n",
       "    </tr>\n",
       "    <tr>\n",
       "      <th>4</th>\n",
       "      <td>0</td>\n",
       "      <td>184.0</td>\n",
       "      <td>0</td>\n",
       "      <td>0</td>\n",
       "      <td>5</td>\n",
       "      <td>673</td>\n",
       "      <td>2</td>\n",
       "      <td>-1</td>\n",
       "      <td>0</td>\n",
       "      <td>1</td>\n",
       "      <td>...</td>\n",
       "      <td>0</td>\n",
       "      <td>0</td>\n",
       "      <td>0</td>\n",
       "      <td>0</td>\n",
       "      <td>0</td>\n",
       "      <td>1</td>\n",
       "      <td>0</td>\n",
       "      <td>1</td>\n",
       "      <td>0</td>\n",
       "      <td>0</td>\n",
       "    </tr>\n",
       "    <tr>\n",
       "      <th>...</th>\n",
       "      <td>...</td>\n",
       "      <td>...</td>\n",
       "      <td>...</td>\n",
       "      <td>...</td>\n",
       "      <td>...</td>\n",
       "      <td>...</td>\n",
       "      <td>...</td>\n",
       "      <td>...</td>\n",
       "      <td>...</td>\n",
       "      <td>...</td>\n",
       "      <td>...</td>\n",
       "      <td>...</td>\n",
       "      <td>...</td>\n",
       "      <td>...</td>\n",
       "      <td>...</td>\n",
       "      <td>...</td>\n",
       "      <td>...</td>\n",
       "      <td>...</td>\n",
       "      <td>...</td>\n",
       "      <td>...</td>\n",
       "      <td>...</td>\n",
       "    </tr>\n",
       "    <tr>\n",
       "      <th>11157</th>\n",
       "      <td>0</td>\n",
       "      <td>1.0</td>\n",
       "      <td>1</td>\n",
       "      <td>0</td>\n",
       "      <td>20</td>\n",
       "      <td>257</td>\n",
       "      <td>1</td>\n",
       "      <td>-1</td>\n",
       "      <td>0</td>\n",
       "      <td>0</td>\n",
       "      <td>...</td>\n",
       "      <td>0</td>\n",
       "      <td>0</td>\n",
       "      <td>0</td>\n",
       "      <td>0</td>\n",
       "      <td>0</td>\n",
       "      <td>1</td>\n",
       "      <td>0</td>\n",
       "      <td>1</td>\n",
       "      <td>0</td>\n",
       "      <td>0</td>\n",
       "    </tr>\n",
       "    <tr>\n",
       "      <th>11158</th>\n",
       "      <td>0</td>\n",
       "      <td>733.0</td>\n",
       "      <td>0</td>\n",
       "      <td>0</td>\n",
       "      <td>16</td>\n",
       "      <td>83</td>\n",
       "      <td>4</td>\n",
       "      <td>-1</td>\n",
       "      <td>0</td>\n",
       "      <td>0</td>\n",
       "      <td>...</td>\n",
       "      <td>0</td>\n",
       "      <td>0</td>\n",
       "      <td>0</td>\n",
       "      <td>0</td>\n",
       "      <td>0</td>\n",
       "      <td>1</td>\n",
       "      <td>0</td>\n",
       "      <td>0</td>\n",
       "      <td>1</td>\n",
       "      <td>0</td>\n",
       "    </tr>\n",
       "    <tr>\n",
       "      <th>11159</th>\n",
       "      <td>0</td>\n",
       "      <td>29.0</td>\n",
       "      <td>0</td>\n",
       "      <td>0</td>\n",
       "      <td>19</td>\n",
       "      <td>156</td>\n",
       "      <td>2</td>\n",
       "      <td>-1</td>\n",
       "      <td>0</td>\n",
       "      <td>0</td>\n",
       "      <td>...</td>\n",
       "      <td>0</td>\n",
       "      <td>0</td>\n",
       "      <td>0</td>\n",
       "      <td>0</td>\n",
       "      <td>0</td>\n",
       "      <td>1</td>\n",
       "      <td>0</td>\n",
       "      <td>0</td>\n",
       "      <td>1</td>\n",
       "      <td>0</td>\n",
       "    </tr>\n",
       "    <tr>\n",
       "      <th>11160</th>\n",
       "      <td>0</td>\n",
       "      <td>0.0</td>\n",
       "      <td>0</td>\n",
       "      <td>1</td>\n",
       "      <td>8</td>\n",
       "      <td>9</td>\n",
       "      <td>2</td>\n",
       "      <td>172</td>\n",
       "      <td>5</td>\n",
       "      <td>0</td>\n",
       "      <td>...</td>\n",
       "      <td>0</td>\n",
       "      <td>0</td>\n",
       "      <td>1</td>\n",
       "      <td>0</td>\n",
       "      <td>0</td>\n",
       "      <td>0</td>\n",
       "      <td>0</td>\n",
       "      <td>1</td>\n",
       "      <td>0</td>\n",
       "      <td>0</td>\n",
       "    </tr>\n",
       "    <tr>\n",
       "      <th>11161</th>\n",
       "      <td>0</td>\n",
       "      <td>0.0</td>\n",
       "      <td>0</td>\n",
       "      <td>0</td>\n",
       "      <td>9</td>\n",
       "      <td>628</td>\n",
       "      <td>1</td>\n",
       "      <td>-1</td>\n",
       "      <td>0</td>\n",
       "      <td>0</td>\n",
       "      <td>...</td>\n",
       "      <td>0</td>\n",
       "      <td>0</td>\n",
       "      <td>0</td>\n",
       "      <td>0</td>\n",
       "      <td>0</td>\n",
       "      <td>1</td>\n",
       "      <td>0</td>\n",
       "      <td>0</td>\n",
       "      <td>1</td>\n",
       "      <td>0</td>\n",
       "    </tr>\n",
       "  </tbody>\n",
       "</table>\n",
       "<p>10105 rows × 49 columns</p>\n",
       "</div>"
      ],
      "text/plain": [
       "       default  balance  housing  loan  day  duration  campaign  pdays  \\\n",
       "0            0   2343.0        1     0    5      1042         1     -1   \n",
       "1            0     45.0        0     0    5      1467         1     -1   \n",
       "2            0   1270.0        1     0    5      1389         1     -1   \n",
       "3            0   2476.0        1     0    5       579         1     -1   \n",
       "4            0    184.0        0     0    5       673         2     -1   \n",
       "...        ...      ...      ...   ...  ...       ...       ...    ...   \n",
       "11157        0      1.0        1     0   20       257         1     -1   \n",
       "11158        0    733.0        0     0   16        83         4     -1   \n",
       "11159        0     29.0        0     0   19       156         2     -1   \n",
       "11160        0      0.0        0     1    8         9         2    172   \n",
       "11161        0      0.0        0     0    9       628         1     -1   \n",
       "\n",
       "       previous  deposit  ...  month_oct  month_sep  poutcome_failure  \\\n",
       "0             0        1  ...          0          0                 0   \n",
       "1             0        1  ...          0          0                 0   \n",
       "2             0        1  ...          0          0                 0   \n",
       "3             0        1  ...          0          0                 0   \n",
       "4             0        1  ...          0          0                 0   \n",
       "...         ...      ...  ...        ...        ...               ...   \n",
       "11157         0        0  ...          0          0                 0   \n",
       "11158         0        0  ...          0          0                 0   \n",
       "11159         0        0  ...          0          0                 0   \n",
       "11160         5        0  ...          0          0                 1   \n",
       "11161         0        0  ...          0          0                 0   \n",
       "\n",
       "       poutcome_other  poutcome_success  poutcome_unknown  season_autumn  \\\n",
       "0                   0                 0                 1              0   \n",
       "1                   0                 0                 1              0   \n",
       "2                   0                 0                 1              0   \n",
       "3                   0                 0                 1              0   \n",
       "4                   0                 0                 1              0   \n",
       "...               ...               ...               ...            ...   \n",
       "11157               0                 0                 1              0   \n",
       "11158               0                 0                 1              0   \n",
       "11159               0                 0                 1              0   \n",
       "11160               0                 0                 0              0   \n",
       "11161               0                 0                 1              0   \n",
       "\n",
       "       season_spring  season_summer  season_winter  \n",
       "0                  1              0              0  \n",
       "1                  1              0              0  \n",
       "2                  1              0              0  \n",
       "3                  1              0              0  \n",
       "4                  1              0              0  \n",
       "...              ...            ...            ...  \n",
       "11157              1              0              0  \n",
       "11158              0              1              0  \n",
       "11159              0              1              0  \n",
       "11160              1              0              0  \n",
       "11161              0              1              0  \n",
       "\n",
       "[10105 rows x 49 columns]"
      ]
     },
     "execution_count": 48,
     "metadata": {},
     "output_type": "execute_result"
    }
   ],
   "source": [
    "bank_final = bank_encoding.drop(columns=['age', 'education', 'age_group'])\n",
    "bank_final"
   ]
  },
  {
   "cell_type": "code",
   "execution_count": 49,
   "id": "1c884c1a",
   "metadata": {},
   "outputs": [
    {
     "data": {
      "text/plain": [
       "<AxesSubplot: >"
      ]
     },
     "execution_count": 49,
     "metadata": {},
     "output_type": "execute_result"
    },
    {
     "data": {
      "image/png": "[encoded data removed]",
      "text/plain": [
       "<Figure size 2160x1440 with 2 Axes>"
      ]
     },
     "metadata": {
      "needs_background": "light"
     },
     "output_type": "display_data"
    }
   ],
   "source": [
    "\"\"\"\n",
    "Let`s check multicorrelation between features\n",
    "\"\"\"\n",
    "corr_data = bank_final.drop(columns='deposit', axis=1).corr(method='spearman')\n",
    "\n",
    "plt.rcParams['figure.figsize'] = (30,20)\n",
    "\n",
    "sns.heatmap(corr_data[corr_data.abs() > 0.6], annot = True,  fmt='.1f')"
   ]
  },
  {
   "attachments": {},
   "cell_type": "markdown",
   "id": "a859b473",
   "metadata": {},
   "source": [
    "* There is strong correlation between the next paar:\n",
    "    - previous-pdays - positive correlation\n",
    "    - positive correlation between features Month and Season\n",
    "    - poutcome_unknown-pdays - negative correlation\n",
    "    - poutcome_unknown-previous - negative correlation\n",
    "    - marital_married-marital_single - negative correlation\n",
    "    - contact_cellular-contact_unknown - negative correlation"
   ]
  },
  {
   "attachments": {},
   "cell_type": "markdown",
   "id": "3ae9c367",
   "metadata": {},
   "source": [
    "***"
   ]
  },
  {
   "attachments": {},
   "cell_type": "markdown",
   "id": "a8478f38",
   "metadata": {},
   "source": [
    "# <p style=\"text-align:center;font-size:100%;\">4. Feature Selection</p>"
   ]
  },
  {
   "cell_type": "code",
   "execution_count": 50,
   "id": "79f3e432",
   "metadata": {},
   "outputs": [],
   "source": [
    "X = bank_final.drop(['pdays', 'deposit'], axis=1) # remove pdays column\n",
    "y = bank_final['deposit'] # target value\n",
    "\n",
    "# dividing for train и validation data (67/33) \n",
    "X_train, X_test, y_train, y_test = train_test_split(X, y, stratify=y, random_state=RANDOM_SEED, test_size=0.33)"
   ]
  },
  {
   "cell_type": "code",
   "execution_count": 51,
   "id": "c861fa8b",
   "metadata": {},
   "outputs": [
    {
     "name": "stdout",
     "output_type": "stream",
     "text": [
      "(6770, 47) (6770,) (3335, 47) (3335,)\n"
     ]
    }
   ],
   "source": [
    "print(X_train.shape, y_train.shape, X_test.shape, y_test.shape)"
   ]
  },
  {
   "cell_type": "code",
   "execution_count": 52,
   "id": "0f6e03e0",
   "metadata": {},
   "outputs": [
    {
     "data": {
      "text/plain": [
       "array(['balance', 'housing', 'loan', 'duration', 'campaign', 'previous',\n",
       "       'age_cat', 'job_blue-collar', 'job_retired', 'job_student',\n",
       "       'contact_cellular', 'contact_unknown', 'month_apr', 'month_mar',\n",
       "       'month_may', 'month_oct', 'month_sep', 'poutcome_success',\n",
       "       'poutcome_unknown', 'season_autumn'], dtype=object)"
      ]
     },
     "execution_count": 52,
     "metadata": {},
     "output_type": "execute_result"
    }
   ],
   "source": [
    "\"\"\"\n",
    "Let`s check more meaningful features using SelectKBest \n",
    "\"\"\"\n",
    "selector = SelectKBest(score_func = f_classif, k=20)\n",
    "selector.fit(X_train, y_train)\n",
    " \n",
    "selector.get_feature_names_out()"
   ]
  },
  {
   "cell_type": "code",
   "execution_count": 53,
   "id": "fd3af3a0",
   "metadata": {},
   "outputs": [],
   "source": [
    "\"\"\"\n",
    "Let`s get more 20 meaningful features by SelectKBest\n",
    "+ add the next featutes:\n",
    "- marital status\n",
    "- education level\n",
    "\"\"\"\n",
    "X_train = X_train[['balance', 'housing', 'loan', 'duration', 'campaign', 'previous',\n",
    "       'age_cat', 'job_blue-collar', 'job_retired', 'job_student',\n",
    "       'contact_cellular', 'contact_unknown', 'month_apr', 'month_mar',\n",
    "       'month_may', 'month_oct', 'month_sep', 'poutcome_success',\n",
    "       'poutcome_unknown', 'season_autumn', 'edu_cat',\n",
    "       'marital_single', 'marital_divorced']]\n",
    "\n",
    "X_test = X_test[['balance', 'housing', 'loan', 'duration', 'campaign', 'previous',\n",
    "       'age_cat', 'job_blue-collar', 'job_retired', 'job_student',\n",
    "       'contact_cellular', 'contact_unknown', 'month_apr', 'month_mar',\n",
    "       'month_may', 'month_oct', 'month_sep', 'poutcome_success',\n",
    "       'poutcome_unknown', 'season_autumn', 'edu_cat',\n",
    "       'marital_single', 'marital_divorced']]"
   ]
  },
  {
   "cell_type": "code",
   "execution_count": 54,
   "id": "7fcf322b",
   "metadata": {},
   "outputs": [
    {
     "name": "stdout",
     "output_type": "stream",
     "text": [
      "0.47\n"
     ]
    }
   ],
   "source": [
    "# Data Normalization: minmaxsxaler\n",
    "mm_scaler = MinMaxScaler()\n",
    "\n",
    "mm_scaler.fit(X_train)\n",
    "\n",
    "X_train_scaled = mm_scaler.transform(X_train)\n",
    "X_test_scaled = mm_scaler.transform(X_test) \n",
    "\n",
    "print(round(X_test_scaled[:, 0].mean(), 2))"
   ]
  },
  {
   "attachments": {},
   "cell_type": "markdown",
   "id": "0894c632",
   "metadata": {},
   "source": [
    "# <p style=\"text-align:center;font-size:100%;\">5. Classification ML models: Logistic Regression and Decision Tree</p>"
   ]
  },
  {
   "cell_type": "code",
   "execution_count": 55,
   "id": "8acc0166",
   "metadata": {},
   "outputs": [
    {
     "name": "stdout",
     "output_type": "stream",
     "text": [
      "              precision    recall  f1-score   support\n",
      "\n",
      "           0       0.81      0.86      0.83      1790\n",
      "           1       0.82      0.76      0.79      1545\n",
      "\n",
      "    accuracy                           0.81      3335\n",
      "   macro avg       0.81      0.81      0.81      3335\n",
      "weighted avg       0.81      0.81      0.81      3335\n",
      "\n",
      "Logistic Regression:\n",
      "F1-score train: 0.81\n",
      "F1-score train: 0.79\n"
     ]
    }
   ],
   "source": [
    "# Model\n",
    "lr_model = linear_model.LogisticRegression(\n",
    "    solver='sag',\n",
    "    max_iter=1000,\n",
    "    random_state=RANDOM_SEED\n",
    "    )\n",
    "\n",
    "# Training model: target -> logloss minimization\n",
    "log_reg = lr_model.fit(X_train_scaled, y_train)\n",
    "\n",
    "# Get prediction of class\n",
    "y_train_pred = log_reg.predict(X_train_scaled)\n",
    "y_test_pred = log_reg.predict(X_test_scaled)\n",
    "\n",
    "print(metrics.classification_report(y_test, y_test_pred))\n",
    "\n",
    "# F1_score computing\n",
    "print('Logistic Regression:')\n",
    "print('F1-score train: {:.2f}'.format(metrics.f1_score(y_train, y_train_pred)))\n",
    "print('F1-score train: {:.2f}'.format(metrics.f1_score(y_test, y_test_pred)))"
   ]
  },
  {
   "cell_type": "code",
   "execution_count": 56,
   "id": "c91a588b",
   "metadata": {},
   "outputs": [
    {
     "name": "stdout",
     "output_type": "stream",
     "text": [
      "Decision Tree (parameters by default):\n",
      "F1-score train: 1.00\n",
      "F1-score test: 0.74\n"
     ]
    }
   ],
   "source": [
    "# DecisionTreeClassifier\n",
    "dt_clf = tree.DecisionTreeClassifier(\n",
    "    criterion='entropy', # informative criterion \n",
    "    random_state=RANDOM_SEED\n",
    ")\n",
    "\n",
    "# Training Decision Tree by CART algorithm\n",
    "dt_clf.fit(X_train_scaled, y_train)\n",
    "\n",
    "# Get class prediction\n",
    "y_train_pred = dt_clf.predict(X_train_scaled)\n",
    "y_test_pred = dt_clf.predict(X_test_scaled)\n",
    "\n",
    "# F1_score computing\n",
    "print('Decision Tree (parameters by default):')\n",
    "print('F1-score train: {:.2f}'.format(metrics.f1_score(y_train, y_train_pred)))\n",
    "print('F1-score test: {:.2f}'.format(metrics.f1_score(y_test, y_test_pred)))"
   ]
  },
  {
   "cell_type": "code",
   "execution_count": 57,
   "id": "71a7e8a7",
   "metadata": {},
   "outputs": [
    {
     "name": "stdout",
     "output_type": "stream",
     "text": [
      "Decision Tree (max_depth=6):\n",
      "F1-score train: 0.81\n",
      "F1-score test: 0.80\n"
     ]
    }
   ],
   "source": [
    "# DecisionTreeClassifier: max_depth=6\n",
    "dt_clf = tree.DecisionTreeClassifier(\n",
    "    criterion='entropy',\n",
    "    max_depth=6,\n",
    "    random_state=RANDOM_SEED\n",
    ")\n",
    "\n",
    "# Training Decision Tree\n",
    "dt_clf.fit(X_train_scaled, y_train)\n",
    "\n",
    "# Get class prediction\n",
    "y_train_pred = dt_clf.predict(X_train_scaled)\n",
    "y_test_pred = dt_clf.predict(X_test_scaled)\n",
    "\n",
    "# F1_score computing\n",
    "print('Decision Tree (max_depth=6):')\n",
    "print('F1-score train: {:.2f}'.format(metrics.f1_score(y_train, y_train_pred)))\n",
    "print('F1-score test: {:.2f}'.format(metrics.f1_score(y_test, y_test_pred)))"
   ]
  },
  {
   "cell_type": "code",
   "execution_count": 58,
   "id": "63574943",
   "metadata": {},
   "outputs": [
    {
     "name": "stdout",
     "output_type": "stream",
     "text": [
      "Wall time: 4.95 s\n",
      "Decision Tree (Optimisation of Hypermarameters by GridSearch):\n",
      "f1_score (train): 0.83\n",
      "f1_score (test): 0.81\n",
      "\n",
      "Best Hyperparameter Values: {'max_depth': 7, 'min_samples_split': 10}\n"
     ]
    }
   ],
   "source": [
    "# Optimisation of Hypermarameters: GridSearch\n",
    "param_grid = {'min_samples_split': [2, 5, 7, 10],\n",
    "              'max_depth': [3,5,7]\n",
    "              }\n",
    "\n",
    "grid_search = GridSearchCV(\n",
    "    estimator=tree.DecisionTreeClassifier(\n",
    "        random_state=RANDOM_SEED,\n",
    "        criterion='entropy'\n",
    "    ),\n",
    "    param_grid=param_grid,\n",
    "    n_jobs = -1\n",
    ")\n",
    "\n",
    "# choose the Best Hyperparameter Values based on metrics result\n",
    "%time grid_search.fit(X_train_scaled, y_train)\n",
    "\n",
    "y_train_pred = grid_search.predict(X_train_scaled)\n",
    "y_test_pred = grid_search.predict(X_test_scaled)\n",
    "\n",
    "print('Decision Tree (Optimisation of Hypermarameters by GridSearch):')\n",
    "print('f1_score (train): {:.2f}'.format(metrics.f1_score(y_train, y_train_pred)))\n",
    "print('f1_score (test): {:.2f}'.format(metrics.f1_score(y_test, y_test_pred)))\n",
    "print('\\nBest Hyperparameter Values: {}'.format(grid_search.best_params_))"
   ]
  },
  {
   "cell_type": "code",
   "execution_count": 59,
   "id": "fefdd4d5",
   "metadata": {},
   "outputs": [
    {
     "name": "stdout",
     "output_type": "stream",
     "text": [
      "Decision Tree (max_depth=7, min_samples_split=10):\n",
      "F1-score train: 0.83\n",
      "F1-score test: 0.81\n"
     ]
    }
   ],
   "source": [
    "dt_clf = tree.DecisionTreeClassifier(\n",
    "    criterion='entropy',\n",
    "    max_depth=7,\n",
    "    min_samples_split=10,\n",
    "    random_state=RANDOM_SEED\n",
    ")\n",
    "\n",
    "# Training Decision Tree\n",
    "dt_clf.fit(X_train_scaled, y_train)\n",
    "\n",
    "# Get class prediction\n",
    "y_train_pred = dt_clf.predict(X_train_scaled)\n",
    "y_test_pred = dt_clf.predict(X_test_scaled)\n",
    "\n",
    "# F1_score computing\n",
    "print('Decision Tree (max_depth=7, min_samples_split=10):')\n",
    "print('F1-score train: {:.2f}'.format(metrics.f1_score(y_train, y_train_pred)))\n",
    "print('F1-score test: {:.2f}'.format(metrics.f1_score(y_test, y_test_pred)))"
   ]
  },
  {
   "attachments": {},
   "cell_type": "markdown",
   "id": "ed0fc831",
   "metadata": {},
   "source": [
    "# <p style=\"text-align:center;font-size:100%;\">6. Classification ML models: Ensembles</p>"
   ]
  },
  {
   "attachments": {},
   "cell_type": "markdown",
   "id": "3b9b9238",
   "metadata": {},
   "source": [
    "### `RANDOM FOREST`"
   ]
  },
  {
   "cell_type": "code",
   "execution_count": 60,
   "id": "e708e3fe",
   "metadata": {},
   "outputs": [
    {
     "name": "stdout",
     "output_type": "stream",
     "text": [
      "              precision    recall  f1-score   support\n",
      "\n",
      "           0       0.86      0.82      0.84      1790\n",
      "           1       0.81      0.85      0.83      1545\n",
      "\n",
      "    accuracy                           0.84      3335\n",
      "   macro avg       0.84      0.84      0.84      3335\n",
      "weighted avg       0.84      0.84      0.84      3335\n",
      "\n",
      "Recall: 0.85\n",
      "\n",
      "Random Forest (max_depth=10, min_samples_leaf=5, n_estimators=100):\n",
      "F1-score train: 0.85\n",
      "F1-score test: 0.83\n"
     ]
    }
   ],
   "source": [
    "# Model: RandomForestClassifier\n",
    "rf_model = RandomForestClassifier(\n",
    "    n_estimators=100,\n",
    "    criterion = 'gini',\n",
    "    min_samples_leaf = 5,\n",
    "    max_depth = 10,\n",
    "    random_state=RANDOM_SEED\n",
    "    )\n",
    "\n",
    "\n",
    "rf_model.fit(X_train_scaled, y_train)\n",
    "\n",
    "# Get class prediction\n",
    "y_train_pred = rf_model.predict(X_train_scaled)\n",
    "y_test_pred = rf_model.predict(X_test_scaled)\n",
    "\n",
    "# Report of metrics result\n",
    "print(metrics.classification_report(y_test, y_test_pred))\n",
    "\n",
    "# Recall computing\n",
    "print('Recall: {:.2f}'.format(metrics.recall_score(y_test, y_test_pred)))\n",
    "\n",
    "# F1_score computing\n",
    "print('\\nRandom Forest (max_depth=10, min_samples_leaf=5, n_estimators=100):')\n",
    "print('F1-score train: {:.2f}'.format(metrics.f1_score(y_train, y_train_pred)))\n",
    "print('F1-score test: {:.2f}'.format(metrics.f1_score(y_test, y_test_pred)))"
   ]
  },
  {
   "attachments": {},
   "cell_type": "markdown",
   "id": "9809bbab",
   "metadata": {},
   "source": [
    "### `GRADIENT BOOSTING`"
   ]
  },
  {
   "cell_type": "code",
   "execution_count": 61,
   "id": "99f12dfe",
   "metadata": {},
   "outputs": [
    {
     "name": "stdout",
     "output_type": "stream",
     "text": [
      "              precision    recall  f1-score   support\n",
      "\n",
      "           0       0.86      0.83      0.84      1790\n",
      "           1       0.81      0.84      0.83      1545\n",
      "\n",
      "    accuracy                           0.84      3335\n",
      "   macro avg       0.84      0.84      0.84      3335\n",
      "weighted avg       0.84      0.84      0.84      3335\n",
      "\n",
      "\n",
      "Gradient Boosting (max_depth=5, min_samples_leaf=5, n_estimators=300, learning_rate=0.05):\n",
      "F1-score train: 0.85\n",
      "F1-score test: 0.83\n"
     ]
    }
   ],
   "source": [
    "# Model: GradientBoostingClassifier\n",
    "gb = GradientBoostingClassifier(\n",
    "    learning_rate = 0.05,\n",
    "    max_depth=5,\n",
    "    min_samples_leaf = 5,\n",
    "    n_estimators=300, # number of estimators in ensemble\n",
    "    random_state=RANDOM_SEED\n",
    ")\n",
    "\n",
    "# Model training\n",
    "gb.fit(X_train_scaled, y_train)\n",
    "\n",
    "# Getting prediction for test\n",
    "y_test_pred = gb.predict(X_test_scaled)\n",
    "\n",
    "# Report of metrics result\n",
    "print(metrics.classification_report(y_test, y_test_pred))\n",
    "print('\\nGradient Boosting (max_depth=5, min_samples_leaf=5, n_estimators=300, learning_rate=0.05):')\n",
    "print('F1-score train: {:.2f}'.format(metrics.f1_score(y_train, y_train_pred)))\n",
    "print('F1-score test: {:.2f}'.format(metrics.f1_score(y_test, y_test_pred)))"
   ]
  },
  {
   "attachments": {},
   "cell_type": "markdown",
   "id": "e5708581",
   "metadata": {},
   "source": [
    "### `STACKING`"
   ]
  },
  {
   "cell_type": "code",
   "execution_count": 62,
   "id": "0bd42fb0",
   "metadata": {},
   "outputs": [
    {
     "data": {
      "text/html": [
       "<style>#sk-container-id-1 {color: black;background-color: white;}#sk-container-id-1 pre{padding: 0;}#sk-container-id-1 div.sk-toggleable {background-color: white;}#sk-container-id-1 label.sk-toggleable__label {cursor: pointer;display: block;width: 100%;margin-bottom: 0;padding: 0.3em;box-sizing: border-box;text-align: center;}#sk-container-id-1 label.sk-toggleable__label-arrow:before {content: \"▸\";float: left;margin-right: 0.25em;color: #696969;}#sk-container-id-1 label.sk-toggleable__label-arrow:hover:before {color: black;}#sk-container-id-1 div.sk-estimator:hover label.sk-toggleable__label-arrow:before {color: black;}#sk-container-id-1 div.sk-toggleable__content {max-height: 0;max-width: 0;overflow: hidden;text-align: left;background-color: #f0f8ff;}#sk-container-id-1 div.sk-toggleable__content pre {margin: 0.2em;color: black;border-radius: 0.25em;background-color: #f0f8ff;}#sk-container-id-1 input.sk-toggleable__control:checked~div.sk-toggleable__content {max-height: 200px;max-width: 100%;overflow: auto;}#sk-container-id-1 input.sk-toggleable__control:checked~label.sk-toggleable__label-arrow:before {content: \"▾\";}#sk-container-id-1 div.sk-estimator input.sk-toggleable__control:checked~label.sk-toggleable__label {background-color: #d4ebff;}#sk-container-id-1 div.sk-label input.sk-toggleable__control:checked~label.sk-toggleable__label {background-color: #d4ebff;}#sk-container-id-1 input.sk-hidden--visually {border: 0;clip: rect(1px 1px 1px 1px);clip: rect(1px, 1px, 1px, 1px);height: 1px;margin: -1px;overflow: hidden;padding: 0;position: absolute;width: 1px;}#sk-container-id-1 div.sk-estimator {font-family: monospace;background-color: #f0f8ff;border: 1px dotted black;border-radius: 0.25em;box-sizing: border-box;margin-bottom: 0.5em;}#sk-container-id-1 div.sk-estimator:hover {background-color: #d4ebff;}#sk-container-id-1 div.sk-parallel-item::after {content: \"\";width: 100%;border-bottom: 1px solid gray;flex-grow: 1;}#sk-container-id-1 div.sk-label:hover label.sk-toggleable__label {background-color: #d4ebff;}#sk-container-id-1 div.sk-serial::before {content: \"\";position: absolute;border-left: 1px solid gray;box-sizing: border-box;top: 0;bottom: 0;left: 50%;z-index: 0;}#sk-container-id-1 div.sk-serial {display: flex;flex-direction: column;align-items: center;background-color: white;padding-right: 0.2em;padding-left: 0.2em;position: relative;}#sk-container-id-1 div.sk-item {position: relative;z-index: 1;}#sk-container-id-1 div.sk-parallel {display: flex;align-items: stretch;justify-content: center;background-color: white;position: relative;}#sk-container-id-1 div.sk-item::before, #sk-container-id-1 div.sk-parallel-item::before {content: \"\";position: absolute;border-left: 1px solid gray;box-sizing: border-box;top: 0;bottom: 0;left: 50%;z-index: -1;}#sk-container-id-1 div.sk-parallel-item {display: flex;flex-direction: column;z-index: 1;position: relative;background-color: white;}#sk-container-id-1 div.sk-parallel-item:first-child::after {align-self: flex-end;width: 50%;}#sk-container-id-1 div.sk-parallel-item:last-child::after {align-self: flex-start;width: 50%;}#sk-container-id-1 div.sk-parallel-item:only-child::after {width: 0;}#sk-container-id-1 div.sk-dashed-wrapped {border: 1px dashed gray;margin: 0 0.4em 0.5em 0.4em;box-sizing: border-box;padding-bottom: 0.4em;background-color: white;}#sk-container-id-1 div.sk-label label {font-family: monospace;font-weight: bold;display: inline-block;line-height: 1.2em;}#sk-container-id-1 div.sk-label-container {text-align: center;}#sk-container-id-1 div.sk-container {/* jupyter's `normalize.less` sets `[hidden] { display: none; }` but bootstrap.min.css set `[hidden] { display: none !important; }` so we also need the `!important` here to be able to override the default hidden behavior on the sphinx rendered scikit-learn.org. See: https://github.com/scikit-learn/scikit-learn/issues/21755 */display: inline-block !important;position: relative;}#sk-container-id-1 div.sk-text-repr-fallback {display: none;}</style><div id=\"sk-container-id-1\" class=\"sk-top-container\"><div class=\"sk-text-repr-fallback\"><pre>StackingClassifier(estimators=[(&#x27;dt&#x27;,\n",
       "                                DecisionTreeClassifier(criterion=&#x27;entropy&#x27;,\n",
       "                                                       max_depth=7,\n",
       "                                                       min_samples_split=7,\n",
       "                                                       random_state=42)),\n",
       "                               (&#x27;gb&#x27;,\n",
       "                                GradientBoostingClassifier(learning_rate=0.05,\n",
       "                                                           max_depth=5,\n",
       "                                                           min_samples_leaf=5,\n",
       "                                                           n_estimators=300,\n",
       "                                                           random_state=42))],\n",
       "                   final_estimator=LogisticRegression(max_iter=1000,\n",
       "                                                      random_state=42,\n",
       "                                                      solver=&#x27;sag&#x27;))</pre><b>In a Jupyter environment, please rerun this cell to show the HTML representation or trust the notebook. <br />On GitHub, the HTML representation is unable to render, please try loading this page with nbviewer.org.</b></div><div class=\"sk-container\" hidden><div class=\"sk-item sk-dashed-wrapped\"><div class=\"sk-label-container\"><div class=\"sk-label sk-toggleable\"><input class=\"sk-toggleable__control sk-hidden--visually\" id=\"sk-estimator-id-1\" type=\"checkbox\" ><label for=\"sk-estimator-id-1\" class=\"sk-toggleable__label sk-toggleable__label-arrow\">StackingClassifier</label><div class=\"sk-toggleable__content\"><pre>StackingClassifier(estimators=[(&#x27;dt&#x27;,\n",
       "                                DecisionTreeClassifier(criterion=&#x27;entropy&#x27;,\n",
       "                                                       max_depth=7,\n",
       "                                                       min_samples_split=7,\n",
       "                                                       random_state=42)),\n",
       "                               (&#x27;gb&#x27;,\n",
       "                                GradientBoostingClassifier(learning_rate=0.05,\n",
       "                                                           max_depth=5,\n",
       "                                                           min_samples_leaf=5,\n",
       "                                                           n_estimators=300,\n",
       "                                                           random_state=42))],\n",
       "                   final_estimator=LogisticRegression(max_iter=1000,\n",
       "                                                      random_state=42,\n",
       "                                                      solver=&#x27;sag&#x27;))</pre></div></div></div><div class=\"sk-serial\"><div class=\"sk-item\"><div class=\"sk-parallel\"><div class=\"sk-parallel-item\"><div class=\"sk-item\"><div class=\"sk-label-container\"><div class=\"sk-label sk-toggleable\"><label>dt</label></div></div><div class=\"sk-serial\"><div class=\"sk-item\"><div class=\"sk-estimator sk-toggleable\"><input class=\"sk-toggleable__control sk-hidden--visually\" id=\"sk-estimator-id-2\" type=\"checkbox\" ><label for=\"sk-estimator-id-2\" class=\"sk-toggleable__label sk-toggleable__label-arrow\">DecisionTreeClassifier</label><div class=\"sk-toggleable__content\"><pre>DecisionTreeClassifier(criterion=&#x27;entropy&#x27;, max_depth=7, min_samples_split=7,\n",
       "                       random_state=42)</pre></div></div></div></div></div></div><div class=\"sk-parallel-item\"><div class=\"sk-item\"><div class=\"sk-label-container\"><div class=\"sk-label sk-toggleable\"><label>gb</label></div></div><div class=\"sk-serial\"><div class=\"sk-item\"><div class=\"sk-estimator sk-toggleable\"><input class=\"sk-toggleable__control sk-hidden--visually\" id=\"sk-estimator-id-3\" type=\"checkbox\" ><label for=\"sk-estimator-id-3\" class=\"sk-toggleable__label sk-toggleable__label-arrow\">GradientBoostingClassifier</label><div class=\"sk-toggleable__content\"><pre>GradientBoostingClassifier(learning_rate=0.05, max_depth=5, min_samples_leaf=5,\n",
       "                           n_estimators=300, random_state=42)</pre></div></div></div></div></div></div></div></div><div class=\"sk-item\"><div class=\"sk-parallel\"><div class=\"sk-parallel-item\"><div class=\"sk-item\"><div class=\"sk-label-container\"><div class=\"sk-label sk-toggleable\"><label>final_estimator</label></div></div><div class=\"sk-serial\"><div class=\"sk-item\"><div class=\"sk-estimator sk-toggleable\"><input class=\"sk-toggleable__control sk-hidden--visually\" id=\"sk-estimator-id-4\" type=\"checkbox\" ><label for=\"sk-estimator-id-4\" class=\"sk-toggleable__label sk-toggleable__label-arrow\">LogisticRegression</label><div class=\"sk-toggleable__content\"><pre>LogisticRegression(max_iter=1000, random_state=42, solver=&#x27;sag&#x27;)</pre></div></div></div></div></div></div></div></div></div></div></div></div>"
      ],
      "text/plain": [
       "StackingClassifier(estimators=[('dt',\n",
       "                                DecisionTreeClassifier(criterion='entropy',\n",
       "                                                       max_depth=7,\n",
       "                                                       min_samples_split=7,\n",
       "                                                       random_state=42)),\n",
       "                               ('gb',\n",
       "                                GradientBoostingClassifier(learning_rate=0.05,\n",
       "                                                           max_depth=5,\n",
       "                                                           min_samples_leaf=5,\n",
       "                                                           n_estimators=300,\n",
       "                                                           random_state=42))],\n",
       "                   final_estimator=LogisticRegression(max_iter=1000,\n",
       "                                                      random_state=42,\n",
       "                                                      solver='sag'))"
      ]
     },
     "execution_count": 62,
     "metadata": {},
     "output_type": "execute_result"
    }
   ],
   "source": [
    "# Model: Stacking: DecisionTreeClassifier, GradientBoostingClassifier\n",
    "estimators = [\n",
    "    ('dt', tree.DecisionTreeClassifier(criterion='entropy',\n",
    "                                      max_depth=7,\n",
    "                                      min_samples_split=7,\n",
    "                                      random_state=RANDOM_SEED)),\n",
    "    ('gb', GradientBoostingClassifier(learning_rate = 0.05,\n",
    "                                      max_depth=5,\n",
    "                                      min_samples_leaf=5,\n",
    "                                      n_estimators=300,\n",
    "                                      random_state=RANDOM_SEED))\n",
    "]\n",
    "\n",
    "# Object of Stacking class\n",
    "stack_clas = StackingClassifier(\n",
    "    estimators=estimators,\n",
    "    final_estimator=linear_model.LogisticRegression(max_iter=1000,\n",
    "                                                    solver='sag',\n",
    "                                                    random_state=RANDOM_SEED)\n",
    "    )\n",
    "\n",
    "# Model training\n",
    "stack_clas.fit(X_train_scaled, y_train)"
   ]
  },
  {
   "cell_type": "code",
   "execution_count": 63,
   "id": "d04f6a0b",
   "metadata": {},
   "outputs": [
    {
     "name": "stdout",
     "output_type": "stream",
     "text": [
      "              precision    recall  f1-score   support\n",
      "\n",
      "           0       0.86      0.84      0.85      1790\n",
      "           1       0.82      0.84      0.83      1545\n",
      "\n",
      "    accuracy                           0.84      3335\n",
      "   macro avg       0.84      0.84      0.84      3335\n",
      "weighted avg       0.84      0.84      0.84      3335\n",
      "\n",
      "\n",
      "Stacking:\n",
      "Precision test: 0.82\n",
      "\n",
      "F1_score train: 0.85\n",
      "F1_score test: 0.83\n"
     ]
    }
   ],
   "source": [
    "# Getting prediction for test data\n",
    "y_test_pred = stack_clas.predict(X_test_scaled)\n",
    "\n",
    "# Report of metrics result\n",
    "print(metrics.classification_report(y_test, y_test_pred))\n",
    "\n",
    "print('\\nStacking:')\n",
    "print('Precision test: {:.2f}'.format(metrics.precision_score(y_test, y_test_pred)))\n",
    "print('\\nF1_score train: {:.2f}'.format(metrics.f1_score(y_train, y_train_pred)))\n",
    "print('F1_score test: {:.2f}'.format(metrics.f1_score(y_test, y_test_pred)))"
   ]
  },
  {
   "cell_type": "code",
   "execution_count": 64,
   "id": "35de769c",
   "metadata": {},
   "outputs": [
    {
     "data": {
      "text/plain": [
       "array([0.05568708, 0.05106554, 0.00888797, 0.48823845, 0.01401131,\n",
       "       0.036205  , 0.04364804, 0.00242309, 0.00247704, 0.00187294,\n",
       "       0.00553276, 0.06935934, 0.01679345, 0.02574193, 0.01436747,\n",
       "       0.01919716, 0.01241936, 0.11071126, 0.00223183, 0.00859129,\n",
       "       0.00519864, 0.00403246, 0.00130657])"
      ]
     },
     "execution_count": 64,
     "metadata": {},
     "output_type": "execute_result"
    }
   ],
   "source": [
    "# What kind of features are more meaningful in GradientBoosting model?\n",
    "gb.feature_importances_"
   ]
  },
  {
   "cell_type": "code",
   "execution_count": 65,
   "id": "055cdd42",
   "metadata": {},
   "outputs": [
    {
     "data": {
      "text/plain": [
       "Index(['balance', 'housing', 'loan', 'duration', 'campaign', 'previous',\n",
       "       'age_cat', 'job_blue-collar', 'job_retired', 'job_student',\n",
       "       'contact_cellular', 'contact_unknown', 'month_apr', 'month_mar',\n",
       "       'month_may', 'month_oct', 'month_sep', 'poutcome_success',\n",
       "       'poutcome_unknown', 'season_autumn', 'edu_cat', 'marital_single',\n",
       "       'marital_divorced'],\n",
       "      dtype='object')"
      ]
     },
     "execution_count": 65,
     "metadata": {},
     "output_type": "execute_result"
    }
   ],
   "source": [
    "X_train.columns"
   ]
  },
  {
   "attachments": {},
   "cell_type": "markdown",
   "id": "aa35a9e4",
   "metadata": {},
   "source": [
    "***"
   ]
  },
  {
   "cell_type": "code",
   "execution_count": 66,
   "id": "c48e29e9",
   "metadata": {},
   "outputs": [],
   "source": [
    "\"\"\"\n",
    "Hyperparameter Optimization by Optuna\n",
    "\"\"\"\n",
    "# print(\"Optuna version: {}\".format(optuna.__version__))\n",
    "\n",
    "\"\"\"\n",
    "Set up Hyperparameter Optimization for the Random Forest\n",
    "\"\"\"\n",
    "def optuna_rf(trial):\n",
    "  # define hyperparameter search spaces\n",
    "  n_estimators = trial.suggest_int('n_estimators', 100, 200, 1)\n",
    "  max_depth = trial.suggest_int('max_depth', 10, 30, 1)\n",
    "  min_samples_leaf = trial.suggest_int('min_samples_leaf', 2, 10, 1)\n",
    "\n",
    "  # creating Model\n",
    "  model = RandomForestClassifier(n_estimators=n_estimators,\n",
    "                                 max_depth=max_depth,\n",
    "                                 min_samples_leaf=min_samples_leaf,\n",
    "                                 random_state=RANDOM_SEED)\n",
    "  # Training model\n",
    "  model.fit(X_train_scaled, y_train)\n",
    "  score = metrics.f1_score(y_train, model.predict(X_train_scaled))\n",
    "\n",
    "  return score"
   ]
  },
  {
   "cell_type": "code",
   "execution_count": 67,
   "id": "808573c6",
   "metadata": {},
   "outputs": [
    {
     "name": "stderr",
     "output_type": "stream",
     "text": [
      "\u001b[32m[I 2023-05-04 17:00:28,340]\u001b[0m A new study created in memory with name: RandomForestClassifier\u001b[0m\n",
      "\u001b[32m[I 2023-05-04 17:00:29,209]\u001b[0m Trial 0 finished with value: 0.8631054352904532 and parameters: {'n_estimators': 106, 'max_depth': 19, 'min_samples_leaf': 7}. Best is trial 0 with value: 0.8631054352904532.\u001b[0m\n",
      "\u001b[32m[I 2023-05-04 17:00:30,091]\u001b[0m Trial 1 finished with value: 0.8636576604716539 and parameters: {'n_estimators': 141, 'max_depth': 11, 'min_samples_leaf': 4}. Best is trial 1 with value: 0.8636576604716539.\u001b[0m\n",
      "\u001b[32m[I 2023-05-04 17:00:31,598]\u001b[0m Trial 2 finished with value: 0.9009514896272032 and parameters: {'n_estimators': 145, 'max_depth': 26, 'min_samples_leaf': 3}. Best is trial 2 with value: 0.9009514896272032.\u001b[0m\n",
      "\u001b[32m[I 2023-05-04 17:00:32,800]\u001b[0m Trial 3 finished with value: 0.8736496007515265 and parameters: {'n_estimators': 184, 'max_depth': 11, 'min_samples_leaf': 2}. Best is trial 2 with value: 0.9009514896272032.\u001b[0m\n",
      "\u001b[32m[I 2023-05-04 17:00:33,573]\u001b[0m Trial 4 finished with value: 0.9205548549810846 and parameters: {'n_estimators': 106, 'max_depth': 19, 'min_samples_leaf': 2}. Best is trial 4 with value: 0.9205548549810846.\u001b[0m\n",
      "\u001b[32m[I 2023-05-04 17:00:34,499]\u001b[0m Trial 5 finished with value: 0.8698353525939732 and parameters: {'n_estimators': 150, 'max_depth': 21, 'min_samples_leaf': 6}. Best is trial 4 with value: 0.9205548549810846.\u001b[0m\n",
      "\u001b[32m[I 2023-05-04 17:00:35,469]\u001b[0m Trial 6 finished with value: 0.8516028146989836 and parameters: {'n_estimators': 179, 'max_depth': 10, 'min_samples_leaf': 6}. Best is trial 4 with value: 0.9205548549810846.\u001b[0m\n",
      "\u001b[32m[I 2023-05-04 17:00:36,610]\u001b[0m Trial 7 finished with value: 0.870680218921032 and parameters: {'n_estimators': 187, 'max_depth': 13, 'min_samples_leaf': 4}. Best is trial 4 with value: 0.9205548549810846.\u001b[0m\n",
      "\u001b[32m[I 2023-05-04 17:00:38,046]\u001b[0m Trial 8 finished with value: 0.931786106319586 and parameters: {'n_estimators': 188, 'max_depth': 25, 'min_samples_leaf': 2}. Best is trial 8 with value: 0.931786106319586.\u001b[0m\n",
      "\u001b[32m[I 2023-05-04 17:00:39,135]\u001b[0m Trial 9 finished with value: 0.8699439950217798 and parameters: {'n_estimators': 174, 'max_depth': 23, 'min_samples_leaf': 6}. Best is trial 8 with value: 0.931786106319586.\u001b[0m\n",
      "\u001b[32m[I 2023-05-04 17:00:40,263]\u001b[0m Trial 10 finished with value: 0.8552324677344115 and parameters: {'n_estimators': 198, 'max_depth': 27, 'min_samples_leaf': 10}. Best is trial 8 with value: 0.931786106319586.\u001b[0m\n",
      "\u001b[32m[I 2023-05-04 17:00:41,054]\u001b[0m Trial 11 finished with value: 0.909892879647133 and parameters: {'n_estimators': 108, 'max_depth': 17, 'min_samples_leaf': 2}. Best is trial 8 with value: 0.931786106319586.\u001b[0m\n",
      "\u001b[32m[I 2023-05-04 17:00:41,920]\u001b[0m Trial 12 finished with value: 0.8843876597070738 and parameters: {'n_estimators': 126, 'max_depth': 29, 'min_samples_leaf': 4}. Best is trial 8 with value: 0.931786106319586.\u001b[0m\n",
      "\u001b[32m[I 2023-05-04 17:00:43,090]\u001b[0m Trial 13 finished with value: 0.9079504469186137 and parameters: {'n_estimators': 164, 'max_depth': 16, 'min_samples_leaf': 2}. Best is trial 8 with value: 0.931786106319586.\u001b[0m\n",
      "\u001b[32m[I 2023-05-04 17:00:43,816]\u001b[0m Trial 14 finished with value: 0.8614523402270254 and parameters: {'n_estimators': 123, 'max_depth': 24, 'min_samples_leaf': 8}. Best is trial 8 with value: 0.931786106319586.\u001b[0m\n",
      "\u001b[32m[I 2023-05-04 17:00:44,960]\u001b[0m Trial 15 finished with value: 0.9013732833957552 and parameters: {'n_estimators': 163, 'max_depth': 30, 'min_samples_leaf': 3}. Best is trial 8 with value: 0.931786106319586.\u001b[0m\n",
      "\u001b[32m[I 2023-05-04 17:00:45,770]\u001b[0m Trial 16 finished with value: 0.8761875097336863 and parameters: {'n_estimators': 126, 'max_depth': 21, 'min_samples_leaf': 5}. Best is trial 8 with value: 0.931786106319586.\u001b[0m\n",
      "\u001b[32m[I 2023-05-04 17:00:46,863]\u001b[0m Trial 17 finished with value: 0.8961748633879781 and parameters: {'n_estimators': 161, 'max_depth': 18, 'min_samples_leaf': 3}. Best is trial 8 with value: 0.931786106319586.\u001b[0m\n",
      "\u001b[32m[I 2023-05-04 17:00:47,542]\u001b[0m Trial 18 finished with value: 0.8556749182624942 and parameters: {'n_estimators': 118, 'max_depth': 24, 'min_samples_leaf': 10}. Best is trial 8 with value: 0.931786106319586.\u001b[0m\n",
      "\u001b[32m[I 2023-05-04 17:00:48,370]\u001b[0m Trial 19 finished with value: 0.8686142790189034 and parameters: {'n_estimators': 135, 'max_depth': 14, 'min_samples_leaf': 5}. Best is trial 8 with value: 0.931786106319586.\u001b[0m\n"
     ]
    },
    {
     "name": "stdout",
     "output_type": "stream",
     "text": [
      "Wall time: 20 s\n"
     ]
    }
   ],
   "source": [
    "%%time\n",
    "\n",
    "# create an object of study\n",
    "# need to maximize the metric - direction=\"maximize\"\n",
    "study = optuna.create_study(study_name=\"RandomForestClassifier\", direction=\"maximize\")\n",
    "\n",
    "# looking for the best combination of hyperparameters n_trials\n",
    "study.optimize(optuna_rf, n_trials=20)"
   ]
  },
  {
   "cell_type": "code",
   "execution_count": 68,
   "id": "aa157092",
   "metadata": {},
   "outputs": [
    {
     "name": "stdout",
     "output_type": "stream",
     "text": [
      "The Best Hyperparameter Values {'n_estimators': 188, 'max_depth': 25, 'min_samples_leaf': 2}\n",
      "f1_score (train data): 0.93\n"
     ]
    }
   ],
   "source": [
    "print('The Best Hyperparameter Values {}'.format(study.best_params))\n",
    "print('f1_score (train data): {:.2f}'.format(study.best_value))"
   ]
  },
  {
   "cell_type": "code",
   "execution_count": 69,
   "id": "2f1d7cf7",
   "metadata": {},
   "outputs": [
    {
     "name": "stdout",
     "output_type": "stream",
     "text": [
      "Accuracy on test data: 0.84\n",
      "\n",
      "Random Forest (Optimisation of Hypermarameters by Optuna):\n",
      "\n",
      "f1_score on train data: 0.93\n",
      "f1_score on test data: 0.83\n"
     ]
    }
   ],
   "source": [
    "# Accuracy computing on test data\n",
    "model = RandomForestClassifier(**study.best_params, random_state=RANDOM_SEED)\n",
    "\n",
    "model.fit(X_train_scaled, y_train)\n",
    "\n",
    "y_train_pred = model.predict(X_train_scaled)\n",
    "print('Accuracy on test data: {:.2f}'.format(model.score(X_test_scaled, y_test)))\n",
    "\n",
    "y_test_pred = model.predict(X_test_scaled)\n",
    "print('\\nRandom Forest (Optimisation of Hypermarameters by Optuna):')\n",
    "print('\\nf1_score on train data: {:.2f}'.format(metrics.f1_score(y_train, y_train_pred)))\n",
    "print('f1_score on test data: {:.2f}'.format(metrics.f1_score(y_test, y_test_pred)))"
   ]
  },
  {
   "attachments": {},
   "cell_type": "markdown",
   "id": "b09a9b6a",
   "metadata": {},
   "source": [
    "***"
   ]
  },
  {
   "cell_type": "code",
   "execution_count": 70,
   "id": "97cbe1b4",
   "metadata": {},
   "outputs": [
    {
     "data": {
      "text/html": [
       "<div>\n",
       "<style scoped>\n",
       "    .dataframe tbody tr th:only-of-type {\n",
       "        vertical-align: middle;\n",
       "    }\n",
       "\n",
       "    .dataframe tbody tr th {\n",
       "        vertical-align: top;\n",
       "    }\n",
       "\n",
       "    .dataframe thead th {\n",
       "        text-align: right;\n",
       "    }\n",
       "</style>\n",
       "<table border=\"1\" class=\"dataframe\">\n",
       "  <thead>\n",
       "    <tr style=\"text-align: right;\">\n",
       "      <th></th>\n",
       "      <th>Model Name</th>\n",
       "      <th>Hyperparameters</th>\n",
       "      <th>F1_score, train</th>\n",
       "      <th>F1_score, test</th>\n",
       "    </tr>\n",
       "  </thead>\n",
       "  <tbody>\n",
       "    <tr>\n",
       "      <th>0</th>\n",
       "      <td>Logistic Regression (base)</td>\n",
       "      <td></td>\n",
       "      <td>0.81</td>\n",
       "      <td>0.79</td>\n",
       "    </tr>\n",
       "    <tr>\n",
       "      <th>1</th>\n",
       "      <td>Decision Tree (by default)</td>\n",
       "      <td></td>\n",
       "      <td>1.00</td>\n",
       "      <td>0.74</td>\n",
       "    </tr>\n",
       "    <tr>\n",
       "      <th>2</th>\n",
       "      <td>Decision Tree (2)</td>\n",
       "      <td>max_depth=6</td>\n",
       "      <td>0.81</td>\n",
       "      <td>0.80</td>\n",
       "    </tr>\n",
       "    <tr>\n",
       "      <th>3</th>\n",
       "      <td>Decision Tree (optimization by GridSearch)</td>\n",
       "      <td>max_depth=7, min_samples_split=10</td>\n",
       "      <td>0.83</td>\n",
       "      <td>0.81</td>\n",
       "    </tr>\n",
       "    <tr>\n",
       "      <th>4</th>\n",
       "      <td>Random Forest</td>\n",
       "      <td>max_depth=10, min_samples_leaf=5, n_estimators...</td>\n",
       "      <td>0.85</td>\n",
       "      <td>0.83</td>\n",
       "    </tr>\n",
       "    <tr>\n",
       "      <th>5</th>\n",
       "      <td>Gradient Boosting</td>\n",
       "      <td>learning_rate=0.05, max_depth=5, min_samples_l...</td>\n",
       "      <td>0.85</td>\n",
       "      <td>0.83</td>\n",
       "    </tr>\n",
       "    <tr>\n",
       "      <th>6</th>\n",
       "      <td>Stacking</td>\n",
       "      <td>as in Decision Tree (by GridSearch) and Gradie...</td>\n",
       "      <td>0.85</td>\n",
       "      <td>0.83</td>\n",
       "    </tr>\n",
       "    <tr>\n",
       "      <th>7</th>\n",
       "      <td>Random Forest (optimization by Optuna)</td>\n",
       "      <td>n_estimators=134, max_depth=25, min_samples_le...</td>\n",
       "      <td>0.93</td>\n",
       "      <td>0.83</td>\n",
       "    </tr>\n",
       "  </tbody>\n",
       "</table>\n",
       "</div>"
      ],
      "text/plain": [
       "                                   Model Name  \\\n",
       "0                  Logistic Regression (base)   \n",
       "1                  Decision Tree (by default)   \n",
       "2                           Decision Tree (2)   \n",
       "3  Decision Tree (optimization by GridSearch)   \n",
       "4                               Random Forest   \n",
       "5                           Gradient Boosting   \n",
       "6                                    Stacking   \n",
       "7      Random Forest (optimization by Optuna)   \n",
       "\n",
       "                                     Hyperparameters F1_score, train  \\\n",
       "0                                                               0.81   \n",
       "1                                                               1.00   \n",
       "2                                        max_depth=6            0.81   \n",
       "3                  max_depth=7, min_samples_split=10            0.83   \n",
       "4  max_depth=10, min_samples_leaf=5, n_estimators...            0.85   \n",
       "5  learning_rate=0.05, max_depth=5, min_samples_l...            0.85   \n",
       "6  as in Decision Tree (by GridSearch) and Gradie...            0.85   \n",
       "7  n_estimators=134, max_depth=25, min_samples_le...            0.93   \n",
       "\n",
       "  F1_score, test  \n",
       "0           0.79  \n",
       "1           0.74  \n",
       "2           0.80  \n",
       "3           0.81  \n",
       "4           0.83  \n",
       "5           0.83  \n",
       "6           0.83  \n",
       "7           0.83  "
      ]
     },
     "metadata": {},
     "output_type": "display_data"
    }
   ],
   "source": [
    "result = pd.DataFrame({\n",
    "    'Model Name': ['Logistic Regression (base)', 'Decision Tree (by default)', 'Decision Tree (2)', 'Decision Tree (optimization by GridSearch)',\n",
    "                   'Random Forest', 'Gradient Boosting', 'Stacking', 'Random Forest (optimization by Optuna)'],\n",
    "    'Hyperparameters': ['', '', 'max_depth=6', 'max_depth=7, min_samples_split=10', 'max_depth=10, min_samples_leaf=5, n_estimators=100',\n",
    "                        'learning_rate=0.05, max_depth=5, min_samples_leaf=5, n_estimators=300', 'as in Decision Tree (by GridSearch) and Gradient Boosting',\n",
    "                        'n_estimators=134, max_depth=25, min_samples_leaf=2'],\n",
    "    'F1_score, train': ['0.81', '1.00', '0.81', '0.83', '0.85', '0.85', '0.85', '0.93'],\n",
    "    'F1_score, test': ['0.79', '0.74', '0.80', '0.81', '0.83', '0.83', '0.83', '0.83']\n",
    "})\n",
    "\n",
    "display(result)"
   ]
  },
  {
   "attachments": {},
   "cell_type": "markdown",
   "id": "b2df1637",
   "metadata": {},
   "source": [
    "Based on the F1_score values, I can conclude that the best results show Ensemble models: Random Forest, Gradient Boosting, Stacking.\n",
    "\n",
    "But anyway it is not a high rate of prediction (0.83 for test data). It`s necessary to do in-depth analysis of data/ creating new features further."
   ]
  }
 ],
 "metadata": {
  "kernelspec": {
   "display_name": "Python 3 (ipykernel)",
   "language": "python",
   "name": "python3"
  },
  "language_info": {
   "codemirror_mode": {
    "name": "ipython",
    "version": 3
   },
   "file_extension": ".py",
   "mimetype": "text/x-python",
   "name": "python",
   "nbconvert_exporter": "python",
   "pygments_lexer": "ipython3",
   "version": "3.8.8"
  }
 },
 "nbformat": 4,
 "nbformat_minor": 5
}
