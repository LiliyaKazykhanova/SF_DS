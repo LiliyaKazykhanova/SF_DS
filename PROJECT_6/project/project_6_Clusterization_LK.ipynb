{
 "cells": [
  {
   "attachments": {},
   "cell_type": "markdown",
   "metadata": {},
   "source": [
    "# <center> Study Project-6: Clusterization"
   ]
  },
  {
   "attachments": {},
   "cell_type": "markdown",
   "metadata": {},
   "source": [
    "### <center> Customer segmentation based on their purchasing power: Gift Shop\n",
    "<center> <img src=https://salesupnow.ru/storage/app/media/pipeople.png align=\"center\" width=\"300\"/> </center>"
   ]
  },
  {
   "attachments": {},
   "cell_type": "markdown",
   "metadata": {},
   "source": [
    "**Business Task**:\n",
    "To group customers with similar purchasing power together.\n",
    "\n",
    "*It`s the main step to develop further tailored marketing and sales strategies for each segment and improve their overall performance.*\n",
    "\n",
    "**Technical Task**\n",
    "* Using the data to build a clusterization model based on customers` purchasing power, order quantity and statute of limitations for last purchase. Define profile of each cluster.\n",
    "\n",
    "**Type of ML task**\n",
    "* Clusterization -> Classification\n",
    "\n",
    "**Metrics:** Accuracy\n",
    "\n",
    "**Data:** The csv file contains 541 909 records and 8 columns\n"
   ]
  },
  {
   "attachments": {},
   "cell_type": "markdown",
   "metadata": {},
   "source": [
    "# <p style=\"text-align:center;font-size:100%;\">0. Install and Import</p>"
   ]
  },
  {
   "cell_type": "code",
   "execution_count": 1,
   "metadata": {},
   "outputs": [],
   "source": [
    "# Import libs\n",
    "import pandas as pd\n",
    "import numpy as np\n",
    "\n",
    "# Libs for visualization\n",
    "import plotly.express as px\n",
    "import plotly.graph_objs as go\n",
    "import matplotlib.pyplot as plt\n",
    "import seaborn as sns\n",
    "from mpl_toolkits.mplot3d import Axes3D\n",
    "from plotly.subplots import make_subplots\n",
    "\n",
    "from datetime import datetime\n",
    "\n",
    "# Models\n",
    "from sklearn import mixture\n",
    "from sklearn import manifold\n",
    "from sklearn import pipeline\n",
    "from sklearn import preprocessing\n",
    "from sklearn import cluster\n",
    "from sklearn import metrics\n",
    "from sklearn import model_selection\n",
    "from sklearn import decomposition\n",
    "from sklearn import ensemble\n",
    "from sklearn.pipeline import Pipeline\n",
    "\n",
    "import warnings \n",
    "from IPython.display import display, HTML\n",
    "\n",
    "warnings.filterwarnings('ignore')\n",
    "\n",
    "plt.rcParams['patch.force_edgecolor'] = True"
   ]
  },
  {
   "cell_type": "code",
   "execution_count": 2,
   "metadata": {},
   "outputs": [],
   "source": [
    "# Fixing RANDOM_SEED to make experiment repetable\n",
    "RANDOM_SEED = 42\n",
    "\n",
    "# Fixing package versions to make experiment repetable\n",
    "!pip freeze > requirements.txt"
   ]
  },
  {
   "cell_type": "code",
   "execution_count": 3,
   "metadata": {},
   "outputs": [],
   "source": [
    "# Load datasets\n",
    "data = pd.read_csv(\n",
    "    'data/customer_segmentation_project.csv',\n",
    "    encoding='ISO-8859-1'\n",
    ")"
   ]
  },
  {
   "cell_type": "markdown",
   "metadata": {},
   "source": [
    "***"
   ]
  },
  {
   "attachments": {},
   "cell_type": "markdown",
   "metadata": {},
   "source": [
    "## <center> 1. Checking dataset: outliers, duplicates"
   ]
  },
  {
   "cell_type": "markdown",
   "metadata": {},
   "source": [
    "Let's read the dataset into the DataFrame *data* and will have a look at the *shape, columns, column data types and the first 5 rows of the data*. This will give a brief overview of the data at hand."
   ]
  },
  {
   "cell_type": "code",
   "execution_count": 4,
   "metadata": {},
   "outputs": [
    {
     "name": "stdout",
     "output_type": "stream",
     "text": [
      "Data shape: (541909, 8)\n"
     ]
    },
    {
     "data": {
      "text/html": [
       "<div>\n",
       "<style scoped>\n",
       "    .dataframe tbody tr th:only-of-type {\n",
       "        vertical-align: middle;\n",
       "    }\n",
       "\n",
       "    .dataframe tbody tr th {\n",
       "        vertical-align: top;\n",
       "    }\n",
       "\n",
       "    .dataframe thead th {\n",
       "        text-align: right;\n",
       "    }\n",
       "</style>\n",
       "<table border=\"1\" class=\"dataframe\">\n",
       "  <thead>\n",
       "    <tr style=\"text-align: right;\">\n",
       "      <th></th>\n",
       "      <th>InvoiceNo</th>\n",
       "      <th>StockCode</th>\n",
       "      <th>Description</th>\n",
       "      <th>Quantity</th>\n",
       "      <th>InvoiceDate</th>\n",
       "      <th>UnitPrice</th>\n",
       "      <th>CustomerID</th>\n",
       "      <th>Country</th>\n",
       "    </tr>\n",
       "  </thead>\n",
       "  <tbody>\n",
       "    <tr>\n",
       "      <th>0</th>\n",
       "      <td>536365</td>\n",
       "      <td>85123A</td>\n",
       "      <td>WHITE HANGING HEART T-LIGHT HOLDER</td>\n",
       "      <td>6</td>\n",
       "      <td>12/1/2010 8:26</td>\n",
       "      <td>2.55</td>\n",
       "      <td>17850.0</td>\n",
       "      <td>United Kingdom</td>\n",
       "    </tr>\n",
       "    <tr>\n",
       "      <th>1</th>\n",
       "      <td>536365</td>\n",
       "      <td>71053</td>\n",
       "      <td>WHITE METAL LANTERN</td>\n",
       "      <td>6</td>\n",
       "      <td>12/1/2010 8:26</td>\n",
       "      <td>3.39</td>\n",
       "      <td>17850.0</td>\n",
       "      <td>United Kingdom</td>\n",
       "    </tr>\n",
       "    <tr>\n",
       "      <th>2</th>\n",
       "      <td>536365</td>\n",
       "      <td>84406B</td>\n",
       "      <td>CREAM CUPID HEARTS COAT HANGER</td>\n",
       "      <td>8</td>\n",
       "      <td>12/1/2010 8:26</td>\n",
       "      <td>2.75</td>\n",
       "      <td>17850.0</td>\n",
       "      <td>United Kingdom</td>\n",
       "    </tr>\n",
       "    <tr>\n",
       "      <th>3</th>\n",
       "      <td>536365</td>\n",
       "      <td>84029G</td>\n",
       "      <td>KNITTED UNION FLAG HOT WATER BOTTLE</td>\n",
       "      <td>6</td>\n",
       "      <td>12/1/2010 8:26</td>\n",
       "      <td>3.39</td>\n",
       "      <td>17850.0</td>\n",
       "      <td>United Kingdom</td>\n",
       "    </tr>\n",
       "    <tr>\n",
       "      <th>4</th>\n",
       "      <td>536365</td>\n",
       "      <td>84029E</td>\n",
       "      <td>RED WOOLLY HOTTIE WHITE HEART.</td>\n",
       "      <td>6</td>\n",
       "      <td>12/1/2010 8:26</td>\n",
       "      <td>3.39</td>\n",
       "      <td>17850.0</td>\n",
       "      <td>United Kingdom</td>\n",
       "    </tr>\n",
       "  </tbody>\n",
       "</table>\n",
       "</div>"
      ],
      "text/plain": [
       "  InvoiceNo StockCode                          Description  Quantity  \\\n",
       "0    536365    85123A   WHITE HANGING HEART T-LIGHT HOLDER         6   \n",
       "1    536365     71053                  WHITE METAL LANTERN         6   \n",
       "2    536365    84406B       CREAM CUPID HEARTS COAT HANGER         8   \n",
       "3    536365    84029G  KNITTED UNION FLAG HOT WATER BOTTLE         6   \n",
       "4    536365    84029E       RED WOOLLY HOTTIE WHITE HEART.         6   \n",
       "\n",
       "      InvoiceDate  UnitPrice  CustomerID         Country  \n",
       "0  12/1/2010 8:26       2.55     17850.0  United Kingdom  \n",
       "1  12/1/2010 8:26       3.39     17850.0  United Kingdom  \n",
       "2  12/1/2010 8:26       2.75     17850.0  United Kingdom  \n",
       "3  12/1/2010 8:26       3.39     17850.0  United Kingdom  \n",
       "4  12/1/2010 8:26       3.39     17850.0  United Kingdom  "
      ]
     },
     "metadata": {},
     "output_type": "display_data"
    },
    {
     "name": "stdout",
     "output_type": "stream",
     "text": [
      "<class 'pandas.core.frame.DataFrame'>\n",
      "RangeIndex: 541909 entries, 0 to 541908\n",
      "Data columns (total 8 columns):\n",
      " #   Column       Non-Null Count   Dtype  \n",
      "---  ------       --------------   -----  \n",
      " 0   InvoiceNo    541909 non-null  object \n",
      " 1   StockCode    541909 non-null  object \n",
      " 2   Description  540455 non-null  object \n",
      " 3   Quantity     541909 non-null  int64  \n",
      " 4   InvoiceDate  541909 non-null  object \n",
      " 5   UnitPrice    541909 non-null  float64\n",
      " 6   CustomerID   406829 non-null  float64\n",
      " 7   Country      541909 non-null  object \n",
      "dtypes: float64(2), int64(1), object(5)\n",
      "memory usage: 33.1+ MB\n"
     ]
    },
    {
     "data": {
      "text/plain": [
       "None"
      ]
     },
     "metadata": {},
     "output_type": "display_data"
    }
   ],
   "source": [
    "# Reading csv-file\n",
    "print(f'Data shape: {data.shape}')\n",
    "\n",
    "display(data.head())\n",
    "display(data.info())"
   ]
  },
  {
   "attachments": {},
   "cell_type": "markdown",
   "metadata": {},
   "source": [
    "***"
   ]
  },
  {
   "attachments": {},
   "cell_type": "markdown",
   "metadata": {},
   "source": [
    "### `Exploring the content of variables`\n",
    "\n",
    "The dataset is dedicated to the customers information and contains 541_909 rows and 8 columns\n",
    "The Variables correspond to:\n",
    "\n",
    "* *InvoiceNo*: Invoice number. Nominal, a 6-digit integral number uniquely assigned to each transaction. If this code starts with letter 'c', it indicates a cancellation.\n",
    "\n",
    "* *StockCode*: Product (item) code. Nominal, a 5-digit integral number uniquely assigned to each distinct product.\n",
    "\n",
    "* *Description*: Product (item) name. Nominal.\n",
    "\n",
    "* *Quantity*: The quantities of each product (item) per transaction. Numeric.\n",
    "\n",
    "* *InvoiceDate*: Invoice Date and time. Numeric, the day and time when each transaction was generated.\n",
    "\n",
    "* *UnitPrice*: Unit price. Numeric, Product price per unit in sterling.\n",
    "\n",
    "* *CustomerID*: Customer number. Nominal, a 5-digit integral number uniquely assigned to each customer.\n",
    "\n",
    "* *Country*: Country name. Nominal, the name of the country where each customer resides."
   ]
  },
  {
   "cell_type": "code",
   "execution_count": 5,
   "metadata": {},
   "outputs": [
    {
     "data": {
      "text/html": [
       "<div>\n",
       "<style scoped>\n",
       "    .dataframe tbody tr th:only-of-type {\n",
       "        vertical-align: middle;\n",
       "    }\n",
       "\n",
       "    .dataframe tbody tr th {\n",
       "        vertical-align: top;\n",
       "    }\n",
       "\n",
       "    .dataframe thead th {\n",
       "        text-align: right;\n",
       "    }\n",
       "</style>\n",
       "<table border=\"1\" class=\"dataframe\">\n",
       "  <thead>\n",
       "    <tr style=\"text-align: right;\">\n",
       "      <th></th>\n",
       "      <th>Column_Name</th>\n",
       "      <th>Num_Unique</th>\n",
       "      <th>Type</th>\n",
       "      <th>Unique_category</th>\n",
       "    </tr>\n",
       "  </thead>\n",
       "  <tbody>\n",
       "    <tr>\n",
       "      <th>0</th>\n",
       "      <td>Country</td>\n",
       "      <td>38</td>\n",
       "      <td>object</td>\n",
       "      <td>[United Kingdom, France, Australia, Netherland...</td>\n",
       "    </tr>\n",
       "    <tr>\n",
       "      <th>1</th>\n",
       "      <td>Quantity</td>\n",
       "      <td>722</td>\n",
       "      <td>int64</td>\n",
       "      <td>[6, 8, 2, 32, 3, 4, 24, 12, 48, 18, 20, 36, 80...</td>\n",
       "    </tr>\n",
       "    <tr>\n",
       "      <th>2</th>\n",
       "      <td>UnitPrice</td>\n",
       "      <td>1630</td>\n",
       "      <td>float64</td>\n",
       "      <td>[2.55, 3.39, 2.75, 7.65, 4.25, 1.85, 1.69, 2.1...</td>\n",
       "    </tr>\n",
       "    <tr>\n",
       "      <th>3</th>\n",
       "      <td>StockCode</td>\n",
       "      <td>4070</td>\n",
       "      <td>object</td>\n",
       "      <td>[85123A, 71053, 84406B, 84029G, 84029E, 22752,...</td>\n",
       "    </tr>\n",
       "    <tr>\n",
       "      <th>4</th>\n",
       "      <td>Description</td>\n",
       "      <td>4223</td>\n",
       "      <td>object</td>\n",
       "      <td>[WHITE HANGING HEART T-LIGHT HOLDER, WHITE MET...</td>\n",
       "    </tr>\n",
       "    <tr>\n",
       "      <th>5</th>\n",
       "      <td>CustomerID</td>\n",
       "      <td>4372</td>\n",
       "      <td>float64</td>\n",
       "      <td>[17850.0, 13047.0, 12583.0, 13748.0, 15100.0, ...</td>\n",
       "    </tr>\n",
       "    <tr>\n",
       "      <th>6</th>\n",
       "      <td>InvoiceDate</td>\n",
       "      <td>23260</td>\n",
       "      <td>object</td>\n",
       "      <td>[12/1/2010 8:26, 12/1/2010 8:28, 12/1/2010 8:3...</td>\n",
       "    </tr>\n",
       "    <tr>\n",
       "      <th>7</th>\n",
       "      <td>InvoiceNo</td>\n",
       "      <td>25900</td>\n",
       "      <td>object</td>\n",
       "      <td>[536365, 536366, 536367, 536368, 536369, 53637...</td>\n",
       "    </tr>\n",
       "  </tbody>\n",
       "</table>\n",
       "</div>"
      ],
      "text/plain": [
       "   Column_Name  Num_Unique     Type  \\\n",
       "0      Country          38   object   \n",
       "1     Quantity         722    int64   \n",
       "2    UnitPrice        1630  float64   \n",
       "3    StockCode        4070   object   \n",
       "4  Description        4223   object   \n",
       "5   CustomerID        4372  float64   \n",
       "6  InvoiceDate       23260   object   \n",
       "7    InvoiceNo       25900   object   \n",
       "\n",
       "                                     Unique_category  \n",
       "0  [United Kingdom, France, Australia, Netherland...  \n",
       "1  [6, 8, 2, 32, 3, 4, 24, 12, 48, 18, 20, 36, 80...  \n",
       "2  [2.55, 3.39, 2.75, 7.65, 4.25, 1.85, 1.69, 2.1...  \n",
       "3  [85123A, 71053, 84406B, 84029G, 84029E, 22752,...  \n",
       "4  [WHITE HANGING HEART T-LIGHT HOLDER, WHITE MET...  \n",
       "5  [17850.0, 13047.0, 12583.0, 13748.0, 15100.0, ...  \n",
       "6  [12/1/2010 8:26, 12/1/2010 8:28, 12/1/2010 8:3...  \n",
       "7  [536365, 536366, 536367, 536368, 536369, 53637...  "
      ]
     },
     "metadata": {},
     "output_type": "display_data"
    }
   ],
   "source": [
    "\"\"\"\n",
    "Define Unique categories in each column\n",
    "\"\"\"\n",
    "unique_list = []\n",
    "\n",
    "for col in data.columns:\n",
    "    # creating tuple: column name, number of unique values, type\n",
    "    item = (col, data[col].nunique(), data[col].dtypes, data[col].unique())\n",
    "    unique_list.append(item)\n",
    "    \n",
    "unique_counts = pd.DataFrame(\n",
    "    unique_list,\n",
    "    columns=['Column_Name', 'Num_Unique', 'Type', 'Unique_category']\n",
    ").sort_values(by='Num_Unique', ignore_index=True)\n",
    "\n",
    "\n",
    "display(unique_counts)"
   ]
  },
  {
   "cell_type": "markdown",
   "metadata": {},
   "source": [
    "Some observations about the data:\n",
    "\n",
    "* Number of countries from which orders were made: 38\n",
    "* Number of unique products: 4070\n",
    "* Number of Description for each product: 4223\n",
    "    - *This difference looks interesting because number of Description is more than number of unique products*\n",
    "* Number of unique customers: 4372"
   ]
  },
  {
   "cell_type": "code",
   "execution_count": 6,
   "metadata": {},
   "outputs": [
    {
     "data": {
      "text/html": [
       "<div>\n",
       "<style scoped>\n",
       "    .dataframe tbody tr th:only-of-type {\n",
       "        vertical-align: middle;\n",
       "    }\n",
       "\n",
       "    .dataframe tbody tr th {\n",
       "        vertical-align: top;\n",
       "    }\n",
       "\n",
       "    .dataframe thead th {\n",
       "        text-align: right;\n",
       "    }\n",
       "</style>\n",
       "<table border=\"1\" class=\"dataframe\">\n",
       "  <thead>\n",
       "    <tr style=\"text-align: right;\">\n",
       "      <th></th>\n",
       "      <th>Quantity</th>\n",
       "      <th>UnitPrice</th>\n",
       "      <th>CustomerID</th>\n",
       "    </tr>\n",
       "  </thead>\n",
       "  <tbody>\n",
       "    <tr>\n",
       "      <th>count</th>\n",
       "      <td>541909.00</td>\n",
       "      <td>541909.00</td>\n",
       "      <td>406829.00</td>\n",
       "    </tr>\n",
       "    <tr>\n",
       "      <th>mean</th>\n",
       "      <td>9.55</td>\n",
       "      <td>4.61</td>\n",
       "      <td>15287.69</td>\n",
       "    </tr>\n",
       "    <tr>\n",
       "      <th>std</th>\n",
       "      <td>218.08</td>\n",
       "      <td>96.76</td>\n",
       "      <td>1713.60</td>\n",
       "    </tr>\n",
       "    <tr>\n",
       "      <th>min</th>\n",
       "      <td>-80995.00</td>\n",
       "      <td>-11062.06</td>\n",
       "      <td>12346.00</td>\n",
       "    </tr>\n",
       "    <tr>\n",
       "      <th>25%</th>\n",
       "      <td>1.00</td>\n",
       "      <td>1.25</td>\n",
       "      <td>13953.00</td>\n",
       "    </tr>\n",
       "    <tr>\n",
       "      <th>50%</th>\n",
       "      <td>3.00</td>\n",
       "      <td>2.08</td>\n",
       "      <td>15152.00</td>\n",
       "    </tr>\n",
       "    <tr>\n",
       "      <th>75%</th>\n",
       "      <td>10.00</td>\n",
       "      <td>4.13</td>\n",
       "      <td>16791.00</td>\n",
       "    </tr>\n",
       "    <tr>\n",
       "      <th>max</th>\n",
       "      <td>80995.00</td>\n",
       "      <td>38970.00</td>\n",
       "      <td>18287.00</td>\n",
       "    </tr>\n",
       "  </tbody>\n",
       "</table>\n",
       "</div>"
      ],
      "text/plain": [
       "        Quantity  UnitPrice  CustomerID\n",
       "count  541909.00  541909.00   406829.00\n",
       "mean        9.55       4.61    15287.69\n",
       "std       218.08      96.76     1713.60\n",
       "min    -80995.00  -11062.06    12346.00\n",
       "25%         1.00       1.25    13953.00\n",
       "50%         3.00       2.08    15152.00\n",
       "75%        10.00       4.13    16791.00\n",
       "max     80995.00   38970.00    18287.00"
      ]
     },
     "execution_count": 6,
     "metadata": {},
     "output_type": "execute_result"
    }
   ],
   "source": [
    "\"\"\"\n",
    "Let's look at the numerical columns\n",
    "\"\"\"\n",
    "round(data.describe(), 2)"
   ]
  },
  {
   "cell_type": "markdown",
   "metadata": {},
   "source": [
    "Some observations about the data:\n",
    "\n",
    "* There is column with missing data - CustomerID\n",
    "* The number of product Quantity varies between **-80995** and **80995** with most number being 3 or 10\n",
    "* The Unit Price varying from **-11062.06** to **38970**. There are definitely some outliers present which must be treated."
   ]
  },
  {
   "cell_type": "code",
   "execution_count": 7,
   "metadata": {},
   "outputs": [
    {
     "data": {
      "text/html": [
       "<div>\n",
       "<style scoped>\n",
       "    .dataframe tbody tr th:only-of-type {\n",
       "        vertical-align: middle;\n",
       "    }\n",
       "\n",
       "    .dataframe tbody tr th {\n",
       "        vertical-align: top;\n",
       "    }\n",
       "\n",
       "    .dataframe thead th {\n",
       "        text-align: right;\n",
       "    }\n",
       "</style>\n",
       "<table border=\"1\" class=\"dataframe\">\n",
       "  <thead>\n",
       "    <tr style=\"text-align: right;\">\n",
       "      <th></th>\n",
       "      <th>InvoiceNo</th>\n",
       "      <th>StockCode</th>\n",
       "      <th>Description</th>\n",
       "      <th>InvoiceDate</th>\n",
       "      <th>Country</th>\n",
       "    </tr>\n",
       "  </thead>\n",
       "  <tbody>\n",
       "    <tr>\n",
       "      <th>count</th>\n",
       "      <td>541909</td>\n",
       "      <td>541909</td>\n",
       "      <td>540455</td>\n",
       "      <td>541909</td>\n",
       "      <td>541909</td>\n",
       "    </tr>\n",
       "    <tr>\n",
       "      <th>unique</th>\n",
       "      <td>25900</td>\n",
       "      <td>4070</td>\n",
       "      <td>4223</td>\n",
       "      <td>23260</td>\n",
       "      <td>38</td>\n",
       "    </tr>\n",
       "    <tr>\n",
       "      <th>top</th>\n",
       "      <td>573585</td>\n",
       "      <td>85123A</td>\n",
       "      <td>WHITE HANGING HEART T-LIGHT HOLDER</td>\n",
       "      <td>10/31/2011 14:41</td>\n",
       "      <td>United Kingdom</td>\n",
       "    </tr>\n",
       "    <tr>\n",
       "      <th>freq</th>\n",
       "      <td>1114</td>\n",
       "      <td>2313</td>\n",
       "      <td>2369</td>\n",
       "      <td>1114</td>\n",
       "      <td>495478</td>\n",
       "    </tr>\n",
       "  </tbody>\n",
       "</table>\n",
       "</div>"
      ],
      "text/plain": [
       "       InvoiceNo StockCode                         Description  \\\n",
       "count     541909    541909                              540455   \n",
       "unique     25900      4070                                4223   \n",
       "top       573585    85123A  WHITE HANGING HEART T-LIGHT HOLDER   \n",
       "freq        1114      2313                                2369   \n",
       "\n",
       "             InvoiceDate         Country  \n",
       "count             541909          541909  \n",
       "unique             23260              38  \n",
       "top     10/31/2011 14:41  United Kingdom  \n",
       "freq                1114          495478  "
      ]
     },
     "execution_count": 7,
     "metadata": {},
     "output_type": "execute_result"
    }
   ],
   "source": [
    "\"\"\"\n",
    "Let's look at the non numerical columns\n",
    "\"\"\"\n",
    "data.describe(include='object')"
   ]
  },
  {
   "cell_type": "markdown",
   "metadata": {},
   "source": [
    "Some observations about the data:\n",
    "\n",
    "* There is column with missing values - Description\n",
    "* The most customers are from United Kingdom\n",
    "* The most popular number of transaction: 573585 (0,21%)\n",
    "* The most popular product: 85123A (0,43%) *(Description: WHITE HANGING HEART T-LIGHT HOLDER)*"
   ]
  },
  {
   "cell_type": "markdown",
   "metadata": {},
   "source": [
    "***"
   ]
  },
  {
   "attachments": {},
   "cell_type": "markdown",
   "metadata": {},
   "source": [
    "### `InvoiceDate`"
   ]
  },
  {
   "cell_type": "code",
   "execution_count": 8,
   "metadata": {},
   "outputs": [
    {
     "name": "stdout",
     "output_type": "stream",
     "text": [
      "Last time (yyyy-mm-dd): 2011-12-09 12:50:00\n",
      "First time (yyyy-mm-dd): 2010-12-01 08:26:00\n"
     ]
    }
   ],
   "source": [
    "# Convert 'InvoiceDate' column to datetime type\n",
    "data['InvoiceDate'] = pd.to_datetime(data['InvoiceDate'], format='%m/%d/%Y %H:%M')\n",
    "\n",
    "# Check: Look at the last and first time of purchase\n",
    "print(f'Last time (yyyy-mm-dd): {data.InvoiceDate.max()}')\n",
    "print(f'First time (yyyy-mm-dd): {data.InvoiceDate.min()}')"
   ]
  },
  {
   "cell_type": "code",
   "execution_count": 9,
   "metadata": {},
   "outputs": [
    {
     "name": "stdout",
     "output_type": "stream",
     "text": [
      "Maximum products quantity in order: 80995\n",
      "Minimum products quantity in order: -80995\n",
      "The most cheap product (except of products with negative price): \n"
     ]
    },
    {
     "data": {
      "text/plain": [
       "0.0"
      ]
     },
     "metadata": {},
     "output_type": "display_data"
    }
   ],
   "source": [
    "print(f'Maximum products quantity in order: {data.Quantity.max()}')\n",
    "print(f'Minimum products quantity in order: {data.Quantity.min()}')\n",
    "print('The most cheap product (except of products with negative price): ')\n",
    "display(data[data['UnitPrice'] >= 0]['UnitPrice'].min())"
   ]
  },
  {
   "cell_type": "markdown",
   "metadata": {},
   "source": [
    "As you can see, there are 2 transactions with more than **80 thousand products quantity** - positive and negative values (probably, it's situation of cancelled order).\n",
    "\n",
    "Moreover there are cases with **0 price** for product.\n",
    "\n",
    "We need to explore these cases in details."
   ]
  },
  {
   "cell_type": "code",
   "execution_count": 10,
   "metadata": {},
   "outputs": [
    {
     "name": "stdout",
     "output_type": "stream",
     "text": [
      "Number of unique customers: 4372\n",
      "Number of unique countries: 37\n",
      "ID number of the most popular product: 2313\n"
     ]
    }
   ],
   "source": [
    "print(f'Number of unique customers: {data.CustomerID.nunique()}')\n",
    "\n",
    "print('Number of unique countries: {}'.format(data[data['Country'] != 'Unspecified']['Country'].nunique())) # except of 'Unspecified' tag\n",
    "\n",
    "print(f'ID number of the most popular product: {data.StockCode.value_counts()[0]}')"
   ]
  },
  {
   "cell_type": "markdown",
   "metadata": {},
   "source": [
    "***"
   ]
  },
  {
   "cell_type": "markdown",
   "metadata": {},
   "source": [
    "# <p style=\"text-align:center;font-size:100%;\">2. Data preprocessing and cleaning</p>"
   ]
  },
  {
   "cell_type": "code",
   "execution_count": 11,
   "metadata": {},
   "outputs": [],
   "source": [
    "# Make a copy\n",
    "data_market = data.copy()"
   ]
  },
  {
   "cell_type": "markdown",
   "metadata": {},
   "source": [
    "### `Missing Values`"
   ]
  },
  {
   "cell_type": "code",
   "execution_count": 12,
   "metadata": {},
   "outputs": [
    {
     "name": "stdout",
     "output_type": "stream",
     "text": [
      "Total number of rows, columns: (541909, 8)\n",
      "\n",
      "Number of found duplicates: 5268\n",
      "\n",
      "Features with nulls: 2\n",
      "Description      1454\n",
      "CustomerID     135080\n",
      "dtype: int64\n"
     ]
    }
   ],
   "source": [
    "\"\"\"\n",
    "Let`s check our data for Missing values (MV)\n",
    "\"\"\"\n",
    "print(f'Total number of rows, columns: {data_market.shape}')\n",
    "\n",
    "# duplicates\n",
    "all_columns = list(data_market.columns)\n",
    "mask_dupl = data_market.duplicated(subset=all_columns) \n",
    "data_duplicates = data_market[mask_dupl]\n",
    "print(f'\\nNumber of found duplicates: {data_duplicates.shape[0]}')\n",
    "\n",
    "# features with missing values\n",
    "nulls_data = data_market.isnull().sum()\n",
    "nulls = nulls_data[nulls_data > 0]\n",
    "print(f'\\nFeatures with nulls: {nulls_data[nulls_data>0].count()}\\n{nulls}')"
   ]
  },
  {
   "cell_type": "markdown",
   "metadata": {},
   "source": [
    "There are missing values in 2 columns:\n",
    "- Description (0.27%)\n",
    "- CustomerID (~25%)\n",
    "\n",
    "It indicates that the transactions are incorrect or incomplete.\n",
    "\n",
    "Let's delete rows with Missing Values."
   ]
  },
  {
   "cell_type": "code",
   "execution_count": 13,
   "metadata": {},
   "outputs": [
    {
     "data": {
      "image/png": "[encoded data removed]",
      "text/plain": [
       "<Figure size 720x288 with 2 Axes>"
      ]
     },
     "metadata": {
      "needs_background": "light"
     },
     "output_type": "display_data"
    }
   ],
   "source": [
    "\"\"\"\n",
    "Distribution of Missing Values according to the data\n",
    "\"\"\"\n",
    "cols_with_null = data_market.isnull().sum()\n",
    "\n",
    "colors = ['blue', 'yellow']\n",
    "\n",
    "fig = plt.figure(figsize=(10,4))\n",
    "cols = cols_with_null.index\n",
    "ax = sns.heatmap(\n",
    "    data_market[cols].isnull(),\n",
    "    cmap=sns.color_palette(colors)\n",
    ")"
   ]
  },
  {
   "cell_type": "markdown",
   "metadata": {},
   "source": [
    "The graph shows that the concentrations of Missing Values on the \"Description\" feature are included in the gaps on the \"CustomerID\" feature.\n",
    "\n",
    "It will be enough to delete rows with MV in CustomerID column."
   ]
  },
  {
   "cell_type": "code",
   "execution_count": 14,
   "metadata": {},
   "outputs": [
    {
     "data": {
      "text/plain": [
       "(406829, 8)"
      ]
     },
     "execution_count": 14,
     "metadata": {},
     "output_type": "execute_result"
    }
   ],
   "source": [
    "# Delete rows with Missing Values\n",
    "data_market = data_market.dropna(how='any', axis=0)\n",
    "data_market.shape"
   ]
  },
  {
   "cell_type": "markdown",
   "metadata": {},
   "source": [
    "### `Duplicates`\n",
    "\n",
    "Let's check number of duplicates after deleting rows with Missing Values"
   ]
  },
  {
   "cell_type": "code",
   "execution_count": 15,
   "metadata": {},
   "outputs": [
    {
     "name": "stdout",
     "output_type": "stream",
     "text": [
      "\n",
      "Number of found duplicates: 5225\n"
     ]
    }
   ],
   "source": [
    "all_columns = list(data_market.columns)\n",
    "mask_dupl = data_market.duplicated(subset=all_columns) \n",
    "data_duplicates = data_market[mask_dupl]\n",
    "\n",
    "print(f'\\nNumber of found duplicates: {data_duplicates.shape[0]}')"
   ]
  },
  {
   "cell_type": "code",
   "execution_count": 16,
   "metadata": {},
   "outputs": [
    {
     "name": "stdout",
     "output_type": "stream",
     "text": [
      "Final number of rows: 401604\n"
     ]
    }
   ],
   "source": [
    "# Delete duplicates\n",
    "data_market = data_market.drop_duplicates(subset=all_columns)\n",
    "print(f'Final number of rows: {data_market.shape[0]}')"
   ]
  },
  {
   "cell_type": "markdown",
   "metadata": {},
   "source": [
    "***"
   ]
  },
  {
   "cell_type": "markdown",
   "metadata": {},
   "source": [
    "### `Quantity of product`\n",
    "\n",
    "This column consists of negative values. Let's look at it in details."
   ]
  },
  {
   "cell_type": "code",
   "execution_count": 17,
   "metadata": {},
   "outputs": [
    {
     "name": "stdout",
     "output_type": "stream",
     "text": [
      "Count of entries with a negative number: 8872\n"
     ]
    },
    {
     "data": {
      "text/html": [
       "<div>\n",
       "<style scoped>\n",
       "    .dataframe tbody tr th:only-of-type {\n",
       "        vertical-align: middle;\n",
       "    }\n",
       "\n",
       "    .dataframe tbody tr th {\n",
       "        vertical-align: top;\n",
       "    }\n",
       "\n",
       "    .dataframe thead th {\n",
       "        text-align: right;\n",
       "    }\n",
       "</style>\n",
       "<table border=\"1\" class=\"dataframe\">\n",
       "  <thead>\n",
       "    <tr style=\"text-align: right;\">\n",
       "      <th></th>\n",
       "      <th>InvoiceNo</th>\n",
       "      <th>StockCode</th>\n",
       "      <th>Description</th>\n",
       "      <th>Quantity</th>\n",
       "      <th>InvoiceDate</th>\n",
       "      <th>UnitPrice</th>\n",
       "      <th>CustomerID</th>\n",
       "      <th>Country</th>\n",
       "    </tr>\n",
       "  </thead>\n",
       "  <tbody>\n",
       "    <tr>\n",
       "      <th>141</th>\n",
       "      <td>C536379</td>\n",
       "      <td>D</td>\n",
       "      <td>Discount</td>\n",
       "      <td>-1</td>\n",
       "      <td>2010-12-01 09:41:00</td>\n",
       "      <td>27.50</td>\n",
       "      <td>14527.0</td>\n",
       "      <td>United Kingdom</td>\n",
       "    </tr>\n",
       "    <tr>\n",
       "      <th>154</th>\n",
       "      <td>C536383</td>\n",
       "      <td>35004C</td>\n",
       "      <td>SET OF 3 COLOURED  FLYING DUCKS</td>\n",
       "      <td>-1</td>\n",
       "      <td>2010-12-01 09:49:00</td>\n",
       "      <td>4.65</td>\n",
       "      <td>15311.0</td>\n",
       "      <td>United Kingdom</td>\n",
       "    </tr>\n",
       "    <tr>\n",
       "      <th>235</th>\n",
       "      <td>C536391</td>\n",
       "      <td>22556</td>\n",
       "      <td>PLASTERS IN TIN CIRCUS PARADE</td>\n",
       "      <td>-12</td>\n",
       "      <td>2010-12-01 10:24:00</td>\n",
       "      <td>1.65</td>\n",
       "      <td>17548.0</td>\n",
       "      <td>United Kingdom</td>\n",
       "    </tr>\n",
       "    <tr>\n",
       "      <th>236</th>\n",
       "      <td>C536391</td>\n",
       "      <td>21984</td>\n",
       "      <td>PACK OF 12 PINK PAISLEY TISSUES</td>\n",
       "      <td>-24</td>\n",
       "      <td>2010-12-01 10:24:00</td>\n",
       "      <td>0.29</td>\n",
       "      <td>17548.0</td>\n",
       "      <td>United Kingdom</td>\n",
       "    </tr>\n",
       "    <tr>\n",
       "      <th>237</th>\n",
       "      <td>C536391</td>\n",
       "      <td>21983</td>\n",
       "      <td>PACK OF 12 BLUE PAISLEY TISSUES</td>\n",
       "      <td>-24</td>\n",
       "      <td>2010-12-01 10:24:00</td>\n",
       "      <td>0.29</td>\n",
       "      <td>17548.0</td>\n",
       "      <td>United Kingdom</td>\n",
       "    </tr>\n",
       "  </tbody>\n",
       "</table>\n",
       "</div>"
      ],
      "text/plain": [
       "    InvoiceNo StockCode                       Description  Quantity  \\\n",
       "141   C536379         D                          Discount        -1   \n",
       "154   C536383    35004C   SET OF 3 COLOURED  FLYING DUCKS        -1   \n",
       "235   C536391     22556    PLASTERS IN TIN CIRCUS PARADE        -12   \n",
       "236   C536391     21984  PACK OF 12 PINK PAISLEY TISSUES        -24   \n",
       "237   C536391     21983  PACK OF 12 BLUE PAISLEY TISSUES        -24   \n",
       "\n",
       "            InvoiceDate  UnitPrice  CustomerID         Country  \n",
       "141 2010-12-01 09:41:00      27.50     14527.0  United Kingdom  \n",
       "154 2010-12-01 09:49:00       4.65     15311.0  United Kingdom  \n",
       "235 2010-12-01 10:24:00       1.65     17548.0  United Kingdom  \n",
       "236 2010-12-01 10:24:00       0.29     17548.0  United Kingdom  \n",
       "237 2010-12-01 10:24:00       0.29     17548.0  United Kingdom  "
      ]
     },
     "execution_count": 17,
     "metadata": {},
     "output_type": "execute_result"
    }
   ],
   "source": [
    "negative_quantity = data_market[(data_market['Quantity']<0)]\n",
    "\n",
    "print('Count of entries with a negative number: {}'.format(negative_quantity.shape[0]))\n",
    "negative_quantity.head()"
   ]
  },
  {
   "cell_type": "markdown",
   "metadata": {},
   "source": [
    "There are about 9 thousand cases (2,2%) with negative value of Quantity. It doesn't look like as a mistake.\n",
    "\n",
    "Some observations about the data:\n",
    "\n",
    "* Order number (InvoiceNo) and product id (StockCode) are contained numeric values and symbols\n",
    "* Product ID contains different special symbols\n",
    "* Each column for each transaction history"
   ]
  },
  {
   "cell_type": "markdown",
   "metadata": {},
   "source": [
    "Let's check: all records with a negative quantity of products are indeed reverse transactions.\n",
    "\n",
    "If the transaction is not a return, but contains a negative quantity of goods, this will be considered as an outlier."
   ]
  },
  {
   "cell_type": "code",
   "execution_count": 18,
   "metadata": {},
   "outputs": [
    {
     "data": {
      "text/plain": [
       "0"
      ]
     },
     "execution_count": 18,
     "metadata": {},
     "output_type": "execute_result"
    }
   ],
   "source": [
    "\"\"\"\n",
    "Number of transactions without \"C\" symbol (cancelletion)\n",
    "\"\"\"\n",
    "def get_number_not_C(invoice_number):\n",
    "    i = 0\n",
    "    for number in invoice_number:\n",
    "        if 'C' not in number:\n",
    "            i += 1\n",
    "    return i\n",
    "    \n",
    "    \n",
    "get_number_not_C(negative_quantity['InvoiceNo'])"
   ]
  },
  {
   "cell_type": "markdown",
   "metadata": {},
   "source": [
    "All transactions with negative quantity of goods are returns.\n",
    "\n",
    "Let's take a closer look at returns. Now, each unique product has a separate line in the table, which makes it difficult to determine the total number of returns.\n",
    "\n",
    "To count the number of returns, it's necessary to determine the number of products purchased in every transaction"
   ]
  },
  {
   "cell_type": "code",
   "execution_count": 19,
   "metadata": {},
   "outputs": [
    {
     "data": {
      "text/html": [
       "<div>\n",
       "<style scoped>\n",
       "    .dataframe tbody tr th:only-of-type {\n",
       "        vertical-align: middle;\n",
       "    }\n",
       "\n",
       "    .dataframe tbody tr th {\n",
       "        vertical-align: top;\n",
       "    }\n",
       "\n",
       "    .dataframe thead th {\n",
       "        text-align: right;\n",
       "    }\n",
       "</style>\n",
       "<table border=\"1\" class=\"dataframe\">\n",
       "  <thead>\n",
       "    <tr style=\"text-align: right;\">\n",
       "      <th></th>\n",
       "      <th>CustomerID</th>\n",
       "      <th>InvoiceNo</th>\n",
       "      <th>Number of products</th>\n",
       "    </tr>\n",
       "  </thead>\n",
       "  <tbody>\n",
       "    <tr>\n",
       "      <th>0</th>\n",
       "      <td>12346.0</td>\n",
       "      <td>541431</td>\n",
       "      <td>1</td>\n",
       "    </tr>\n",
       "    <tr>\n",
       "      <th>1</th>\n",
       "      <td>12346.0</td>\n",
       "      <td>C541433</td>\n",
       "      <td>1</td>\n",
       "    </tr>\n",
       "    <tr>\n",
       "      <th>2</th>\n",
       "      <td>12347.0</td>\n",
       "      <td>537626</td>\n",
       "      <td>31</td>\n",
       "    </tr>\n",
       "    <tr>\n",
       "      <th>3</th>\n",
       "      <td>12347.0</td>\n",
       "      <td>542237</td>\n",
       "      <td>29</td>\n",
       "    </tr>\n",
       "    <tr>\n",
       "      <th>4</th>\n",
       "      <td>12347.0</td>\n",
       "      <td>549222</td>\n",
       "      <td>24</td>\n",
       "    </tr>\n",
       "    <tr>\n",
       "      <th>5</th>\n",
       "      <td>12347.0</td>\n",
       "      <td>556201</td>\n",
       "      <td>18</td>\n",
       "    </tr>\n",
       "    <tr>\n",
       "      <th>6</th>\n",
       "      <td>12347.0</td>\n",
       "      <td>562032</td>\n",
       "      <td>22</td>\n",
       "    </tr>\n",
       "    <tr>\n",
       "      <th>7</th>\n",
       "      <td>12347.0</td>\n",
       "      <td>573511</td>\n",
       "      <td>47</td>\n",
       "    </tr>\n",
       "    <tr>\n",
       "      <th>8</th>\n",
       "      <td>12347.0</td>\n",
       "      <td>581180</td>\n",
       "      <td>11</td>\n",
       "    </tr>\n",
       "    <tr>\n",
       "      <th>9</th>\n",
       "      <td>12348.0</td>\n",
       "      <td>539318</td>\n",
       "      <td>17</td>\n",
       "    </tr>\n",
       "  </tbody>\n",
       "</table>\n",
       "</div>"
      ],
      "text/plain": [
       "   CustomerID InvoiceNo  Number of products\n",
       "0     12346.0    541431                   1\n",
       "1     12346.0   C541433                   1\n",
       "2     12347.0    537626                  31\n",
       "3     12347.0    542237                  29\n",
       "4     12347.0    549222                  24\n",
       "5     12347.0    556201                  18\n",
       "6     12347.0    562032                  22\n",
       "7     12347.0    573511                  47\n",
       "8     12347.0    581180                  11\n",
       "9     12348.0    539318                  17"
      ]
     },
     "execution_count": 19,
     "metadata": {},
     "output_type": "execute_result"
    }
   ],
   "source": [
    "temp = data_market.groupby(by=['CustomerID', 'InvoiceNo'], as_index=False)['InvoiceDate'].count()\n",
    "nb_products_per_basket = temp.rename(columns = {'InvoiceDate':'Number of products'})\n",
    "nb_products_per_basket[:10].sort_values('CustomerID')"
   ]
  },
  {
   "cell_type": "markdown",
   "metadata": {},
   "source": [
    "The first lines of this list shows several things worthy of interest:\n",
    "\n",
    "* the existence of entries with the prefix C for the InvoiceNo variable: this indicates transactions that have been canceled\n",
    "* the existence of users who only came once and only purchased one product (e.g. #12346)\n",
    "* the existence of frequent users that buy a large number of items at each order"
   ]
  },
  {
   "cell_type": "code",
   "execution_count": 20,
   "metadata": {},
   "outputs": [
    {
     "data": {
      "text/html": [
       "<div>\n",
       "<style scoped>\n",
       "    .dataframe tbody tr th:only-of-type {\n",
       "        vertical-align: middle;\n",
       "    }\n",
       "\n",
       "    .dataframe tbody tr th {\n",
       "        vertical-align: top;\n",
       "    }\n",
       "\n",
       "    .dataframe thead th {\n",
       "        text-align: right;\n",
       "    }\n",
       "</style>\n",
       "<table border=\"1\" class=\"dataframe\">\n",
       "  <thead>\n",
       "    <tr style=\"text-align: right;\">\n",
       "      <th></th>\n",
       "      <th>CustomerID</th>\n",
       "      <th>InvoiceNo</th>\n",
       "      <th>Number of products</th>\n",
       "      <th>order_canceled</th>\n",
       "    </tr>\n",
       "  </thead>\n",
       "  <tbody>\n",
       "    <tr>\n",
       "      <th>0</th>\n",
       "      <td>12346.0</td>\n",
       "      <td>541431</td>\n",
       "      <td>1</td>\n",
       "      <td>0</td>\n",
       "    </tr>\n",
       "    <tr>\n",
       "      <th>1</th>\n",
       "      <td>12346.0</td>\n",
       "      <td>C541433</td>\n",
       "      <td>1</td>\n",
       "      <td>1</td>\n",
       "    </tr>\n",
       "    <tr>\n",
       "      <th>2</th>\n",
       "      <td>12347.0</td>\n",
       "      <td>537626</td>\n",
       "      <td>31</td>\n",
       "      <td>0</td>\n",
       "    </tr>\n",
       "    <tr>\n",
       "      <th>3</th>\n",
       "      <td>12347.0</td>\n",
       "      <td>542237</td>\n",
       "      <td>29</td>\n",
       "      <td>0</td>\n",
       "    </tr>\n",
       "    <tr>\n",
       "      <th>4</th>\n",
       "      <td>12347.0</td>\n",
       "      <td>549222</td>\n",
       "      <td>24</td>\n",
       "      <td>0</td>\n",
       "    </tr>\n",
       "  </tbody>\n",
       "</table>\n",
       "</div>"
      ],
      "text/plain": [
       "   CustomerID InvoiceNo  Number of products  order_canceled\n",
       "0     12346.0    541431                   1               0\n",
       "1     12346.0   C541433                   1               1\n",
       "2     12347.0    537626                  31               0\n",
       "3     12347.0    542237                  29               0\n",
       "4     12347.0    549222                  24               0"
      ]
     },
     "metadata": {},
     "output_type": "display_data"
    },
    {
     "name": "stdout",
     "output_type": "stream",
     "text": [
      "Percentage of canceled orders: 16 %\n"
     ]
    }
   ],
   "source": [
    "\"\"\"\n",
    "Let's check number of canceled orders\n",
    "\"\"\"\n",
    "nb_products_per_basket['order_canceled'] = nb_products_per_basket['InvoiceNo'].apply(lambda x: 1 if 'C' in x else 0)\n",
    "display(nb_products_per_basket.head())\n",
    "\n",
    "print(f'Percentage of canceled orders: {round(nb_products_per_basket.order_canceled.sum() / nb_products_per_basket.shape[0] * 100)} %')"
   ]
  },
  {
   "cell_type": "markdown",
   "metadata": {},
   "source": [
    "More than 16% of unique orders are returns."
   ]
  },
  {
   "cell_type": "code",
   "execution_count": 21,
   "metadata": {},
   "outputs": [
    {
     "data": {
      "text/html": [
       "<div>\n",
       "<style scoped>\n",
       "    .dataframe tbody tr th:only-of-type {\n",
       "        vertical-align: middle;\n",
       "    }\n",
       "\n",
       "    .dataframe tbody tr th {\n",
       "        vertical-align: top;\n",
       "    }\n",
       "\n",
       "    .dataframe thead th {\n",
       "        text-align: right;\n",
       "    }\n",
       "</style>\n",
       "<table border=\"1\" class=\"dataframe\">\n",
       "  <thead>\n",
       "    <tr style=\"text-align: right;\">\n",
       "      <th></th>\n",
       "      <th>CustomerID</th>\n",
       "      <th>InvoiceNo</th>\n",
       "      <th>Number of products</th>\n",
       "      <th>order_canceled</th>\n",
       "    </tr>\n",
       "  </thead>\n",
       "  <tbody>\n",
       "    <tr>\n",
       "      <th>1</th>\n",
       "      <td>12346.0</td>\n",
       "      <td>C541433</td>\n",
       "      <td>1</td>\n",
       "      <td>1</td>\n",
       "    </tr>\n",
       "    <tr>\n",
       "      <th>23</th>\n",
       "      <td>12352.0</td>\n",
       "      <td>C545329</td>\n",
       "      <td>2</td>\n",
       "      <td>1</td>\n",
       "    </tr>\n",
       "    <tr>\n",
       "      <th>24</th>\n",
       "      <td>12352.0</td>\n",
       "      <td>C545330</td>\n",
       "      <td>1</td>\n",
       "      <td>1</td>\n",
       "    </tr>\n",
       "    <tr>\n",
       "      <th>25</th>\n",
       "      <td>12352.0</td>\n",
       "      <td>C547388</td>\n",
       "      <td>7</td>\n",
       "      <td>1</td>\n",
       "    </tr>\n",
       "    <tr>\n",
       "      <th>39</th>\n",
       "      <td>12359.0</td>\n",
       "      <td>C549955</td>\n",
       "      <td>2</td>\n",
       "      <td>1</td>\n",
       "    </tr>\n",
       "  </tbody>\n",
       "</table>\n",
       "</div>"
      ],
      "text/plain": [
       "    CustomerID InvoiceNo  Number of products  order_canceled\n",
       "1      12346.0   C541433                   1               1\n",
       "23     12352.0   C545329                   2               1\n",
       "24     12352.0   C545330                   1               1\n",
       "25     12352.0   C547388                   7               1\n",
       "39     12359.0   C549955                   2               1"
      ]
     },
     "execution_count": 21,
     "metadata": {},
     "output_type": "execute_result"
    }
   ],
   "source": [
    "# Let's look at the cancelled orders\n",
    "nb_products_per_basket[nb_products_per_basket['order_canceled']==1].head()"
   ]
  },
  {
   "cell_type": "code",
   "execution_count": 22,
   "metadata": {},
   "outputs": [
    {
     "data": {
      "text/html": [
       "<div>\n",
       "<style scoped>\n",
       "    .dataframe tbody tr th:only-of-type {\n",
       "        vertical-align: middle;\n",
       "    }\n",
       "\n",
       "    .dataframe tbody tr th {\n",
       "        vertical-align: top;\n",
       "    }\n",
       "\n",
       "    .dataframe thead th {\n",
       "        text-align: right;\n",
       "    }\n",
       "</style>\n",
       "<table border=\"1\" class=\"dataframe\">\n",
       "  <thead>\n",
       "    <tr style=\"text-align: right;\">\n",
       "      <th></th>\n",
       "      <th>InvoiceNo</th>\n",
       "      <th>StockCode</th>\n",
       "      <th>Description</th>\n",
       "      <th>Quantity</th>\n",
       "      <th>InvoiceDate</th>\n",
       "      <th>UnitPrice</th>\n",
       "      <th>CustomerID</th>\n",
       "      <th>Country</th>\n",
       "    </tr>\n",
       "  </thead>\n",
       "  <tbody>\n",
       "    <tr>\n",
       "      <th>61619</th>\n",
       "      <td>541431</td>\n",
       "      <td>23166</td>\n",
       "      <td>MEDIUM CERAMIC TOP STORAGE JAR</td>\n",
       "      <td>74215</td>\n",
       "      <td>2011-01-18 10:01:00</td>\n",
       "      <td>1.04</td>\n",
       "      <td>12346.0</td>\n",
       "      <td>United Kingdom</td>\n",
       "    </tr>\n",
       "    <tr>\n",
       "      <th>61624</th>\n",
       "      <td>C541433</td>\n",
       "      <td>23166</td>\n",
       "      <td>MEDIUM CERAMIC TOP STORAGE JAR</td>\n",
       "      <td>-74215</td>\n",
       "      <td>2011-01-18 10:17:00</td>\n",
       "      <td>1.04</td>\n",
       "      <td>12346.0</td>\n",
       "      <td>United Kingdom</td>\n",
       "    </tr>\n",
       "  </tbody>\n",
       "</table>\n",
       "</div>"
      ],
      "text/plain": [
       "      InvoiceNo StockCode                     Description  Quantity  \\\n",
       "61619    541431     23166  MEDIUM CERAMIC TOP STORAGE JAR     74215   \n",
       "61624   C541433     23166  MEDIUM CERAMIC TOP STORAGE JAR    -74215   \n",
       "\n",
       "              InvoiceDate  UnitPrice  CustomerID         Country  \n",
       "61619 2011-01-18 10:01:00       1.04     12346.0  United Kingdom  \n",
       "61624 2011-01-18 10:17:00       1.04     12346.0  United Kingdom  "
      ]
     },
     "execution_count": 22,
     "metadata": {},
     "output_type": "execute_result"
    }
   ],
   "source": [
    "\"\"\"\n",
    "Example: client with ID: 12346\n",
    "\"\"\"\n",
    "data_market[data_market['CustomerID'] == 12346]"
   ]
  },
  {
   "cell_type": "markdown",
   "metadata": {},
   "source": [
    "It is order-cancellation example.\n",
    "\n",
    "* The next columns - StockCode, UnitPrice, CustomerID - are the same.\n",
    "* Quantity column consists of positive and negative value of the same number.\n",
    "\n",
    "**Hypothesis**: there is analogue with the same product code, CustomerID and the opposite value of the product quantity for each canceled transaction in the database."
   ]
  },
  {
   "cell_type": "code",
   "execution_count": 23,
   "metadata": {},
   "outputs": [
    {
     "name": "stdout",
     "output_type": "stream",
     "text": [
      "Number of mismatches: 5626\n"
     ]
    }
   ],
   "source": [
    "returns = negative_quantity.copy()\n",
    "returns.reset_index(inplace=True)\n",
    "\n",
    "returns['Quantity'] = -returns['Quantity']\n",
    "\n",
    "matched = pd.merge(returns, data_market,\n",
    "                   on=['StockCode', 'CustomerID', 'Quantity'], how='inner')\n",
    "matched.drop_duplicates(subset='index', inplace=True)\n",
    "print(f'Number of mismatches: {negative_quantity.shape[0] - matched.shape[0]}')"
   ]
  },
  {
   "cell_type": "markdown",
   "metadata": {},
   "source": [
    "**The hypothesis was not confirmed:** not all orders with a negative quantity of goods have their analogues in the table.\n",
    "\n",
    "We need to further understand why this is happening."
   ]
  },
  {
   "cell_type": "code",
   "execution_count": 24,
   "metadata": {},
   "outputs": [
    {
     "data": {
      "text/html": [
       "<div>\n",
       "<style scoped>\n",
       "    .dataframe tbody tr th:only-of-type {\n",
       "        vertical-align: middle;\n",
       "    }\n",
       "\n",
       "    .dataframe tbody tr th {\n",
       "        vertical-align: top;\n",
       "    }\n",
       "\n",
       "    .dataframe thead th {\n",
       "        text-align: right;\n",
       "    }\n",
       "</style>\n",
       "<table border=\"1\" class=\"dataframe\">\n",
       "  <thead>\n",
       "    <tr style=\"text-align: right;\">\n",
       "      <th></th>\n",
       "      <th>InvoiceNo</th>\n",
       "      <th>StockCode</th>\n",
       "      <th>Description</th>\n",
       "      <th>Quantity</th>\n",
       "      <th>InvoiceDate</th>\n",
       "      <th>UnitPrice</th>\n",
       "      <th>CustomerID</th>\n",
       "      <th>Country</th>\n",
       "    </tr>\n",
       "  </thead>\n",
       "  <tbody>\n",
       "    <tr>\n",
       "      <th>141</th>\n",
       "      <td>C536379</td>\n",
       "      <td>D</td>\n",
       "      <td>Discount</td>\n",
       "      <td>-1</td>\n",
       "      <td>2010-12-01 09:41:00</td>\n",
       "      <td>27.50</td>\n",
       "      <td>14527.0</td>\n",
       "      <td>United Kingdom</td>\n",
       "    </tr>\n",
       "    <tr>\n",
       "      <th>8963</th>\n",
       "      <td>537159</td>\n",
       "      <td>22112</td>\n",
       "      <td>CHOCOLATE HOT WATER BOTTLE</td>\n",
       "      <td>6</td>\n",
       "      <td>2010-12-05 13:17:00</td>\n",
       "      <td>4.95</td>\n",
       "      <td>14527.0</td>\n",
       "      <td>United Kingdom</td>\n",
       "    </tr>\n",
       "    <tr>\n",
       "      <th>8964</th>\n",
       "      <td>537159</td>\n",
       "      <td>22111</td>\n",
       "      <td>SCOTTIE DOG HOT WATER BOTTLE</td>\n",
       "      <td>1</td>\n",
       "      <td>2010-12-05 13:17:00</td>\n",
       "      <td>4.95</td>\n",
       "      <td>14527.0</td>\n",
       "      <td>United Kingdom</td>\n",
       "    </tr>\n",
       "    <tr>\n",
       "      <th>8965</th>\n",
       "      <td>537159</td>\n",
       "      <td>21479</td>\n",
       "      <td>WHITE SKULL HOT WATER BOTTLE</td>\n",
       "      <td>1</td>\n",
       "      <td>2010-12-05 13:17:00</td>\n",
       "      <td>3.75</td>\n",
       "      <td>14527.0</td>\n",
       "      <td>United Kingdom</td>\n",
       "    </tr>\n",
       "    <tr>\n",
       "      <th>8966</th>\n",
       "      <td>537159</td>\n",
       "      <td>22114</td>\n",
       "      <td>HOT WATER BOTTLE TEA AND SYMPATHY</td>\n",
       "      <td>6</td>\n",
       "      <td>2010-12-05 13:17:00</td>\n",
       "      <td>3.95</td>\n",
       "      <td>14527.0</td>\n",
       "      <td>United Kingdom</td>\n",
       "    </tr>\n",
       "  </tbody>\n",
       "</table>\n",
       "</div>"
      ],
      "text/plain": [
       "     InvoiceNo StockCode                        Description  Quantity  \\\n",
       "141    C536379         D                           Discount        -1   \n",
       "8963    537159     22112         CHOCOLATE HOT WATER BOTTLE         6   \n",
       "8964    537159     22111       SCOTTIE DOG HOT WATER BOTTLE         1   \n",
       "8965    537159     21479      WHITE SKULL HOT WATER BOTTLE          1   \n",
       "8966    537159     22114  HOT WATER BOTTLE TEA AND SYMPATHY         6   \n",
       "\n",
       "             InvoiceDate  UnitPrice  CustomerID         Country  \n",
       "141  2010-12-01 09:41:00      27.50     14527.0  United Kingdom  \n",
       "8963 2010-12-05 13:17:00       4.95     14527.0  United Kingdom  \n",
       "8964 2010-12-05 13:17:00       4.95     14527.0  United Kingdom  \n",
       "8965 2010-12-05 13:17:00       3.75     14527.0  United Kingdom  \n",
       "8966 2010-12-05 13:17:00       3.95     14527.0  United Kingdom  "
      ]
     },
     "execution_count": 24,
     "metadata": {},
     "output_type": "execute_result"
    }
   ],
   "source": [
    "\"\"\"\n",
    "Counterexample: client with ID: 14527\n",
    "\"\"\"\n",
    "data_market[data_market['CustomerID'] == 14527].head(5)"
   ]
  },
  {
   "cell_type": "markdown",
   "metadata": {},
   "source": [
    "Some observations about the data:\n",
    "\n",
    "* the first line - C536379 - has not analogue with the same product quantity\n",
    "    - *reason*: this product has special StockCode - D - it means discount\n",
    "\n",
    "**Hypothesis**: there is analogue with the same product code, CustomerID and the opposite value of the product quantity for each canceled transaction in the database if the product without discount."
   ]
  },
  {
   "cell_type": "code",
   "execution_count": 25,
   "metadata": {},
   "outputs": [
    {
     "data": {
      "text/html": [
       "<div>\n",
       "<style scoped>\n",
       "    .dataframe tbody tr th:only-of-type {\n",
       "        vertical-align: middle;\n",
       "    }\n",
       "\n",
       "    .dataframe tbody tr th {\n",
       "        vertical-align: top;\n",
       "    }\n",
       "\n",
       "    .dataframe thead th {\n",
       "        text-align: right;\n",
       "    }\n",
       "</style>\n",
       "<table border=\"1\" class=\"dataframe\">\n",
       "  <thead>\n",
       "    <tr style=\"text-align: right;\">\n",
       "      <th></th>\n",
       "      <th>InvoiceNo</th>\n",
       "      <th>StockCode</th>\n",
       "      <th>Description</th>\n",
       "      <th>Quantity</th>\n",
       "      <th>InvoiceDate</th>\n",
       "      <th>UnitPrice</th>\n",
       "      <th>CustomerID</th>\n",
       "      <th>Country</th>\n",
       "    </tr>\n",
       "  </thead>\n",
       "  <tbody>\n",
       "    <tr>\n",
       "      <th>154</th>\n",
       "      <td>C536383</td>\n",
       "      <td>35004C</td>\n",
       "      <td>SET OF 3 COLOURED  FLYING DUCKS</td>\n",
       "      <td>-1</td>\n",
       "      <td>2010-12-01 09:49:00</td>\n",
       "      <td>4.65</td>\n",
       "      <td>15311.0</td>\n",
       "      <td>United Kingdom</td>\n",
       "    </tr>\n",
       "    <tr>\n",
       "      <th>235</th>\n",
       "      <td>C536391</td>\n",
       "      <td>22556</td>\n",
       "      <td>PLASTERS IN TIN CIRCUS PARADE</td>\n",
       "      <td>-12</td>\n",
       "      <td>2010-12-01 10:24:00</td>\n",
       "      <td>1.65</td>\n",
       "      <td>17548.0</td>\n",
       "      <td>United Kingdom</td>\n",
       "    </tr>\n",
       "    <tr>\n",
       "      <th>236</th>\n",
       "      <td>C536391</td>\n",
       "      <td>21984</td>\n",
       "      <td>PACK OF 12 PINK PAISLEY TISSUES</td>\n",
       "      <td>-24</td>\n",
       "      <td>2010-12-01 10:24:00</td>\n",
       "      <td>0.29</td>\n",
       "      <td>17548.0</td>\n",
       "      <td>United Kingdom</td>\n",
       "    </tr>\n",
       "    <tr>\n",
       "      <th>237</th>\n",
       "      <td>C536391</td>\n",
       "      <td>21983</td>\n",
       "      <td>PACK OF 12 BLUE PAISLEY TISSUES</td>\n",
       "      <td>-24</td>\n",
       "      <td>2010-12-01 10:24:00</td>\n",
       "      <td>0.29</td>\n",
       "      <td>17548.0</td>\n",
       "      <td>United Kingdom</td>\n",
       "    </tr>\n",
       "    <tr>\n",
       "      <th>238</th>\n",
       "      <td>C536391</td>\n",
       "      <td>21980</td>\n",
       "      <td>PACK OF 12 RED RETROSPOT TISSUES</td>\n",
       "      <td>-24</td>\n",
       "      <td>2010-12-01 10:24:00</td>\n",
       "      <td>0.29</td>\n",
       "      <td>17548.0</td>\n",
       "      <td>United Kingdom</td>\n",
       "    </tr>\n",
       "    <tr>\n",
       "      <th>...</th>\n",
       "      <td>...</td>\n",
       "      <td>...</td>\n",
       "      <td>...</td>\n",
       "      <td>...</td>\n",
       "      <td>...</td>\n",
       "      <td>...</td>\n",
       "      <td>...</td>\n",
       "      <td>...</td>\n",
       "    </tr>\n",
       "    <tr>\n",
       "      <th>540449</th>\n",
       "      <td>C581490</td>\n",
       "      <td>23144</td>\n",
       "      <td>ZINC T-LIGHT HOLDER STARS SMALL</td>\n",
       "      <td>-11</td>\n",
       "      <td>2011-12-09 09:57:00</td>\n",
       "      <td>0.83</td>\n",
       "      <td>14397.0</td>\n",
       "      <td>United Kingdom</td>\n",
       "    </tr>\n",
       "    <tr>\n",
       "      <th>541541</th>\n",
       "      <td>C581499</td>\n",
       "      <td>M</td>\n",
       "      <td>Manual</td>\n",
       "      <td>-1</td>\n",
       "      <td>2011-12-09 10:28:00</td>\n",
       "      <td>224.69</td>\n",
       "      <td>15498.0</td>\n",
       "      <td>United Kingdom</td>\n",
       "    </tr>\n",
       "    <tr>\n",
       "      <th>541715</th>\n",
       "      <td>C581568</td>\n",
       "      <td>21258</td>\n",
       "      <td>VICTORIAN SEWING BOX LARGE</td>\n",
       "      <td>-5</td>\n",
       "      <td>2011-12-09 11:57:00</td>\n",
       "      <td>10.95</td>\n",
       "      <td>15311.0</td>\n",
       "      <td>United Kingdom</td>\n",
       "    </tr>\n",
       "    <tr>\n",
       "      <th>541716</th>\n",
       "      <td>C581569</td>\n",
       "      <td>84978</td>\n",
       "      <td>HANGING HEART JAR T-LIGHT HOLDER</td>\n",
       "      <td>-1</td>\n",
       "      <td>2011-12-09 11:58:00</td>\n",
       "      <td>1.25</td>\n",
       "      <td>17315.0</td>\n",
       "      <td>United Kingdom</td>\n",
       "    </tr>\n",
       "    <tr>\n",
       "      <th>541717</th>\n",
       "      <td>C581569</td>\n",
       "      <td>20979</td>\n",
       "      <td>36 PENCILS TUBE RED RETROSPOT</td>\n",
       "      <td>-5</td>\n",
       "      <td>2011-12-09 11:58:00</td>\n",
       "      <td>1.25</td>\n",
       "      <td>17315.0</td>\n",
       "      <td>United Kingdom</td>\n",
       "    </tr>\n",
       "  </tbody>\n",
       "</table>\n",
       "<p>8795 rows × 8 columns</p>\n",
       "</div>"
      ],
      "text/plain": [
       "       InvoiceNo StockCode                        Description  Quantity  \\\n",
       "154      C536383    35004C    SET OF 3 COLOURED  FLYING DUCKS        -1   \n",
       "235      C536391     22556     PLASTERS IN TIN CIRCUS PARADE        -12   \n",
       "236      C536391     21984   PACK OF 12 PINK PAISLEY TISSUES        -24   \n",
       "237      C536391     21983   PACK OF 12 BLUE PAISLEY TISSUES        -24   \n",
       "238      C536391     21980  PACK OF 12 RED RETROSPOT TISSUES        -24   \n",
       "...          ...       ...                                ...       ...   \n",
       "540449   C581490     23144    ZINC T-LIGHT HOLDER STARS SMALL       -11   \n",
       "541541   C581499         M                             Manual        -1   \n",
       "541715   C581568     21258         VICTORIAN SEWING BOX LARGE        -5   \n",
       "541716   C581569     84978   HANGING HEART JAR T-LIGHT HOLDER        -1   \n",
       "541717   C581569     20979      36 PENCILS TUBE RED RETROSPOT        -5   \n",
       "\n",
       "               InvoiceDate  UnitPrice  CustomerID         Country  \n",
       "154    2010-12-01 09:49:00       4.65     15311.0  United Kingdom  \n",
       "235    2010-12-01 10:24:00       1.65     17548.0  United Kingdom  \n",
       "236    2010-12-01 10:24:00       0.29     17548.0  United Kingdom  \n",
       "237    2010-12-01 10:24:00       0.29     17548.0  United Kingdom  \n",
       "238    2010-12-01 10:24:00       0.29     17548.0  United Kingdom  \n",
       "...                    ...        ...         ...             ...  \n",
       "540449 2011-12-09 09:57:00       0.83     14397.0  United Kingdom  \n",
       "541541 2011-12-09 10:28:00     224.69     15498.0  United Kingdom  \n",
       "541715 2011-12-09 11:57:00      10.95     15311.0  United Kingdom  \n",
       "541716 2011-12-09 11:58:00       1.25     17315.0  United Kingdom  \n",
       "541717 2011-12-09 11:58:00       1.25     17315.0  United Kingdom  \n",
       "\n",
       "[8795 rows x 8 columns]"
      ]
     },
     "execution_count": 25,
     "metadata": {},
     "output_type": "execute_result"
    }
   ],
   "source": [
    "stock_code_D_index = negative_quantity[negative_quantity['StockCode'] == 'D'].index\n",
    "stock_code_D_index\n",
    "\n",
    "neg_quantity_without_duscount = negative_quantity.drop(index=stock_code_D_index)\n",
    "neg_quantity_without_duscount"
   ]
  },
  {
   "cell_type": "code",
   "execution_count": 26,
   "metadata": {},
   "outputs": [
    {
     "name": "stdout",
     "output_type": "stream",
     "text": [
      "Number of mismatches: 5549\n"
     ]
    }
   ],
   "source": [
    "returns = neg_quantity_without_duscount.copy()\n",
    "returns.reset_index(inplace=True)\n",
    "\n",
    "returns['Quantity'] = -returns['Quantity']\n",
    "\n",
    "matched = pd.merge(returns, data_market,\n",
    "                   on=['StockCode', 'CustomerID', 'Quantity'], how='inner')\n",
    "matched.drop_duplicates(subset='index', inplace=True)\n",
    "print(f'Number of mismatches: {neg_quantity_without_duscount.shape[0] - matched.shape[0]}')"
   ]
  },
  {
   "cell_type": "markdown",
   "metadata": {},
   "source": [
    "**The hypothesis was not confirmed.**\n",
    "\n",
    "We need to further understand why this is happening."
   ]
  },
  {
   "cell_type": "code",
   "execution_count": 27,
   "metadata": {},
   "outputs": [
    {
     "data": {
      "text/html": [
       "<div>\n",
       "<style scoped>\n",
       "    .dataframe tbody tr th:only-of-type {\n",
       "        vertical-align: middle;\n",
       "    }\n",
       "\n",
       "    .dataframe tbody tr th {\n",
       "        vertical-align: top;\n",
       "    }\n",
       "\n",
       "    .dataframe thead th {\n",
       "        text-align: right;\n",
       "    }\n",
       "</style>\n",
       "<table border=\"1\" class=\"dataframe\">\n",
       "  <thead>\n",
       "    <tr style=\"text-align: right;\">\n",
       "      <th></th>\n",
       "      <th>InvoiceNo</th>\n",
       "      <th>StockCode</th>\n",
       "      <th>Description</th>\n",
       "      <th>Quantity</th>\n",
       "      <th>InvoiceDate</th>\n",
       "      <th>UnitPrice</th>\n",
       "      <th>CustomerID</th>\n",
       "      <th>Country</th>\n",
       "    </tr>\n",
       "  </thead>\n",
       "  <tbody>\n",
       "    <tr>\n",
       "      <th>154</th>\n",
       "      <td>C536383</td>\n",
       "      <td>35004C</td>\n",
       "      <td>SET OF 3 COLOURED  FLYING DUCKS</td>\n",
       "      <td>-1</td>\n",
       "      <td>2010-12-01 09:49:00</td>\n",
       "      <td>4.65</td>\n",
       "      <td>15311.0</td>\n",
       "      <td>United Kingdom</td>\n",
       "    </tr>\n",
       "    <tr>\n",
       "      <th>9200</th>\n",
       "      <td>537195</td>\n",
       "      <td>35004C</td>\n",
       "      <td>SET OF 3 COLOURED  FLYING DUCKS</td>\n",
       "      <td>12</td>\n",
       "      <td>2010-12-05 13:55:00</td>\n",
       "      <td>4.65</td>\n",
       "      <td>15311.0</td>\n",
       "      <td>United Kingdom</td>\n",
       "    </tr>\n",
       "    <tr>\n",
       "      <th>18196</th>\n",
       "      <td>C537805</td>\n",
       "      <td>35004C</td>\n",
       "      <td>SET OF 3 COLOURED  FLYING DUCKS</td>\n",
       "      <td>-1</td>\n",
       "      <td>2010-12-08 13:18:00</td>\n",
       "      <td>4.65</td>\n",
       "      <td>15311.0</td>\n",
       "      <td>United Kingdom</td>\n",
       "    </tr>\n",
       "    <tr>\n",
       "      <th>28630</th>\n",
       "      <td>538651</td>\n",
       "      <td>35004C</td>\n",
       "      <td>SET OF 3 COLOURED  FLYING DUCKS</td>\n",
       "      <td>12</td>\n",
       "      <td>2010-12-13 15:07:00</td>\n",
       "      <td>4.65</td>\n",
       "      <td>15311.0</td>\n",
       "      <td>United Kingdom</td>\n",
       "    </tr>\n",
       "    <tr>\n",
       "      <th>39381</th>\n",
       "      <td>C539640</td>\n",
       "      <td>35004C</td>\n",
       "      <td>SET OF 3 COLOURED  FLYING DUCKS</td>\n",
       "      <td>-3</td>\n",
       "      <td>2010-12-20 15:27:00</td>\n",
       "      <td>4.65</td>\n",
       "      <td>15311.0</td>\n",
       "      <td>United Kingdom</td>\n",
       "    </tr>\n",
       "    <tr>\n",
       "      <th>44157</th>\n",
       "      <td>540157</td>\n",
       "      <td>35004C</td>\n",
       "      <td>SET OF 3 COLOURED  FLYING DUCKS</td>\n",
       "      <td>12</td>\n",
       "      <td>2011-01-05 11:41:00</td>\n",
       "      <td>4.65</td>\n",
       "      <td>15311.0</td>\n",
       "      <td>United Kingdom</td>\n",
       "    </tr>\n",
       "    <tr>\n",
       "      <th>59542</th>\n",
       "      <td>541293</td>\n",
       "      <td>35004C</td>\n",
       "      <td>SET OF 3 COLOURED  FLYING DUCKS</td>\n",
       "      <td>12</td>\n",
       "      <td>2011-01-17 13:39:00</td>\n",
       "      <td>4.65</td>\n",
       "      <td>15311.0</td>\n",
       "      <td>United Kingdom</td>\n",
       "    </tr>\n",
       "    <tr>\n",
       "      <th>78333</th>\n",
       "      <td>C542866</td>\n",
       "      <td>35004C</td>\n",
       "      <td>SET OF 3 COLOURED  FLYING DUCKS</td>\n",
       "      <td>-2</td>\n",
       "      <td>2011-02-01 12:14:00</td>\n",
       "      <td>4.65</td>\n",
       "      <td>15311.0</td>\n",
       "      <td>United Kingdom</td>\n",
       "    </tr>\n",
       "  </tbody>\n",
       "</table>\n",
       "</div>"
      ],
      "text/plain": [
       "      InvoiceNo StockCode                      Description  Quantity  \\\n",
       "154     C536383    35004C  SET OF 3 COLOURED  FLYING DUCKS        -1   \n",
       "9200     537195    35004C  SET OF 3 COLOURED  FLYING DUCKS        12   \n",
       "18196   C537805    35004C  SET OF 3 COLOURED  FLYING DUCKS        -1   \n",
       "28630    538651    35004C  SET OF 3 COLOURED  FLYING DUCKS        12   \n",
       "39381   C539640    35004C  SET OF 3 COLOURED  FLYING DUCKS        -3   \n",
       "44157    540157    35004C  SET OF 3 COLOURED  FLYING DUCKS        12   \n",
       "59542    541293    35004C  SET OF 3 COLOURED  FLYING DUCKS        12   \n",
       "78333   C542866    35004C  SET OF 3 COLOURED  FLYING DUCKS        -2   \n",
       "\n",
       "              InvoiceDate  UnitPrice  CustomerID         Country  \n",
       "154   2010-12-01 09:49:00       4.65     15311.0  United Kingdom  \n",
       "9200  2010-12-05 13:55:00       4.65     15311.0  United Kingdom  \n",
       "18196 2010-12-08 13:18:00       4.65     15311.0  United Kingdom  \n",
       "28630 2010-12-13 15:07:00       4.65     15311.0  United Kingdom  \n",
       "39381 2010-12-20 15:27:00       4.65     15311.0  United Kingdom  \n",
       "44157 2011-01-05 11:41:00       4.65     15311.0  United Kingdom  \n",
       "59542 2011-01-17 13:39:00       4.65     15311.0  United Kingdom  \n",
       "78333 2011-02-01 12:14:00       4.65     15311.0  United Kingdom  "
      ]
     },
     "execution_count": 27,
     "metadata": {},
     "output_type": "execute_result"
    }
   ],
   "source": [
    "\"\"\"\n",
    "Counterexample:\n",
    "- client with ID: 15311\n",
    "- product id: 35004C\n",
    "\"\"\"\n",
    "data_market[(data_market['CustomerID'] == 15311) & (data_market['StockCode'] == '35004C')]"
   ]
  },
  {
   "cell_type": "markdown",
   "metadata": {},
   "source": [
    "* On the first line we see an order with cancellation (the order number starts with a \"C\"). But there are no previous records of transactions associated with this client.\n",
    "\n",
    "*The order for the purchase of this product from the client was received before December 2010, and this data is not in our table. This is a very common problem that arises in almost any work with transactions: there is only a fragment of the general data, but it is not known what preceded this fragment.*\n",
    "\n",
    "* The next two lines show that the client can cancel not the whole order, but only part of it (on December 5, the client buys 12 units of goods, and on December 8, he issues a return for only 1 unit of goods). We must take this into account for the future."
   ]
  },
  {
   "cell_type": "markdown",
   "metadata": {},
   "source": [
    "Let's create new column: **QuantityCanceled** - quantity if cancalled orders after each transaction."
   ]
  },
  {
   "cell_type": "markdown",
   "metadata": {},
   "source": [
    "**We will not consider complex cases:**\n",
    "\n",
    "* A canceled transaction does not have an opposite one (there was not a single purchase transaction for the refund transaction).\n",
    "* The quantity of returned goods in the refund transaction is greater than the quantity of goods indicated in any of the individual purchase transactions (this is the case when the client made several orders of the same product, and then returned all the goods at once)."
   ]
  },
  {
   "cell_type": "code",
   "execution_count": 28,
   "metadata": {},
   "outputs": [],
   "source": [
    "\"\"\"\n",
    "Function to add new column - QuantityCanceled\n",
    "- input: table with transactions\n",
    "- output: column with quantity of cancelled orders\n",
    "\"\"\"\n",
    "def get_quantity_canceled(data):\n",
    "    # Initialized Series (with nulls) of the same length as the columns of the table\n",
    "    quantity_canceled = pd.Series(np.zeros(data.shape[0]), index=data.index)    \n",
    "    negative_quantity = data[(data['Quantity'] < 0)].copy()\n",
    "    for index, col in negative_quantity.iterrows():\n",
    "        # Create DataFrame from all transactions opposite to returns\n",
    "        df_test = data[(data['CustomerID'] == col['CustomerID']) &\n",
    "                       (data['StockCode']  == col['StockCode']) & \n",
    "                       (data['InvoiceDate'] < col['InvoiceDate']) & \n",
    "                       (data['Quantity'] > 0)].copy()\n",
    "        # The transaction-return has no opposite - do nothing\n",
    "        if (df_test.shape[0] == 0): \n",
    "            continue\n",
    "        # The transaction-return has only one opposite transaction\n",
    "        # Adding the quantity of returned goods to the QuantityCanceled column\n",
    "        elif (df_test.shape[0] == 1): \n",
    "            index_order = df_test.index[0]\n",
    "            quantity_canceled.loc[index_order] = -col['Quantity']       \n",
    "        # The return transaction has multiple opposite transactions\n",
    "        # Enter the quantity of the returned goods in the QuantityCanceled column for the purchase transaction\n",
    "        # in which the quantity of goods > (-1) * (the number of goods in the return transaction)\n",
    "        elif (df_test.shape[0] > 1): \n",
    "            df_test.sort_index(axis=0 ,ascending=False, inplace = True)        \n",
    "            for ind, val in df_test.iterrows():\n",
    "                if val['Quantity'] < -col['Quantity']: \n",
    "                    continue\n",
    "                quantity_canceled.loc[ind] = -col['Quantity']\n",
    "                break\n",
    "            \n",
    "    return quantity_canceled\n",
    "\n",
    "\n",
    "data_market['QuantityCanceled'] = get_quantity_canceled(data_market)"
   ]
  },
  {
   "cell_type": "code",
   "execution_count": 29,
   "metadata": {},
   "outputs": [
    {
     "name": "stdout",
     "output_type": "stream",
     "text": [
      "Sum of canceled orders: 245266.0\n"
     ]
    }
   ],
   "source": [
    "print(f'Sum of canceled orders: {data_market.QuantityCanceled.sum()}')"
   ]
  },
  {
   "cell_type": "code",
   "execution_count": 30,
   "metadata": {},
   "outputs": [
    {
     "data": {
      "text/plain": [
       "(392732, 9)"
      ]
     },
     "execution_count": 30,
     "metadata": {},
     "output_type": "execute_result"
    }
   ],
   "source": [
    "\"\"\"\n",
    "Delete records with negative values in Quantity column\n",
    "\"\"\"\n",
    "data_neg_quantity = data_market[data_market['Quantity'] < 0].index\n",
    "data_market = data_market.drop(index = data_neg_quantity)\n",
    "data_market.shape"
   ]
  },
  {
   "cell_type": "markdown",
   "metadata": {},
   "source": [
    "***"
   ]
  },
  {
   "cell_type": "markdown",
   "metadata": {},
   "source": [
    "### `Type od Transactions: StockCode`"
   ]
  },
  {
   "cell_type": "code",
   "execution_count": 31,
   "metadata": {},
   "outputs": [
    {
     "data": {
      "text/plain": [
       "['POST', 'C2', 'M', 'BANK CHARGES', 'PADS', 'DOT']"
      ]
     },
     "execution_count": 31,
     "metadata": {},
     "output_type": "execute_result"
    }
   ],
   "source": [
    "\"\"\"\n",
    "Using regular expressions in order to check type of transactions in StockCode column\n",
    "\"\"\"\n",
    "\n",
    "data_market['SpecialCode'] = data_market['StockCode'].str.contains('^[a-zA-Z]+', regex=True)\n",
    "\n",
    "unique_symbols = []\n",
    "for index, row in data_market.iterrows():\n",
    "    if (row['SpecialCode'] is True) & (row['StockCode'] not in unique_symbols):\n",
    "        unique_symbols.append(row['StockCode'])\n",
    "        \n",
    "unique_symbols"
   ]
  },
  {
   "cell_type": "code",
   "execution_count": 32,
   "metadata": {},
   "outputs": [
    {
     "data": {
      "text/plain": [
       "(391183, 10)"
      ]
     },
     "execution_count": 32,
     "metadata": {},
     "output_type": "execute_result"
    }
   ],
   "source": [
    "\"\"\"\n",
    "Delete transactions with special codes\n",
    "\"\"\"\n",
    "data_market = data_market[data_market['SpecialCode'] == False]\n",
    "data_market.shape"
   ]
  },
  {
   "cell_type": "markdown",
   "metadata": {},
   "source": [
    "***"
   ]
  },
  {
   "cell_type": "markdown",
   "metadata": {},
   "source": [
    "### `Product Price`"
   ]
  },
  {
   "cell_type": "code",
   "execution_count": 33,
   "metadata": {},
   "outputs": [
    {
     "name": "stdout",
     "output_type": "stream",
     "text": [
      "Number of transaction with price equals 0: 33\n"
     ]
    }
   ],
   "source": [
    "print(f'Number of transaction with price equals 0: {data_market[data_market.UnitPrice == 0].shape[0]}')"
   ]
  },
  {
   "cell_type": "code",
   "execution_count": 34,
   "metadata": {},
   "outputs": [
    {
     "data": {
      "text/plain": [
       "(391150, 10)"
      ]
     },
     "execution_count": 34,
     "metadata": {},
     "output_type": "execute_result"
    }
   ],
   "source": [
    "\"\"\"\n",
    "Delete records with price equals or less than 0\n",
    "\"\"\"\n",
    "data_market = data_market[data_market['UnitPrice'] > 0]\n",
    "data_market.shape"
   ]
  },
  {
   "cell_type": "markdown",
   "metadata": {},
   "source": [
    "***"
   ]
  },
  {
   "cell_type": "markdown",
   "metadata": {},
   "source": [
    "# <p style=\"text-align:center;font-size:100%;\">3. Exploratory Data Analysis (EDA). Feature Engineering</p>\n",
    "\n",
    "*Feature engineering is the process of transforming variables, and extracting and creating new variables from the original data points, to train machine learning models.*"
   ]
  },
  {
   "cell_type": "markdown",
   "metadata": {},
   "source": [
    "Objectives:\n",
    "\n",
    "* Customers from which countries buy more and more often\n",
    "* Define seasonality in sales\n",
    "* Creating new features"
   ]
  },
  {
   "cell_type": "markdown",
   "metadata": {},
   "source": [
    "***"
   ]
  },
  {
   "cell_type": "code",
   "execution_count": 35,
   "metadata": {},
   "outputs": [
    {
     "data": {
      "text/html": [
       "<div>\n",
       "<style scoped>\n",
       "    .dataframe tbody tr th:only-of-type {\n",
       "        vertical-align: middle;\n",
       "    }\n",
       "\n",
       "    .dataframe tbody tr th {\n",
       "        vertical-align: top;\n",
       "    }\n",
       "\n",
       "    .dataframe thead th {\n",
       "        text-align: right;\n",
       "    }\n",
       "</style>\n",
       "<table border=\"1\" class=\"dataframe\">\n",
       "  <thead>\n",
       "    <tr style=\"text-align: right;\">\n",
       "      <th></th>\n",
       "      <th>CustomerID</th>\n",
       "      <th>InvoiceNo</th>\n",
       "      <th>Number of products</th>\n",
       "    </tr>\n",
       "  </thead>\n",
       "  <tbody>\n",
       "    <tr>\n",
       "      <th>0</th>\n",
       "      <td>12346.0</td>\n",
       "      <td>541431</td>\n",
       "      <td>1</td>\n",
       "    </tr>\n",
       "    <tr>\n",
       "      <th>1</th>\n",
       "      <td>12347.0</td>\n",
       "      <td>537626</td>\n",
       "      <td>31</td>\n",
       "    </tr>\n",
       "    <tr>\n",
       "      <th>2</th>\n",
       "      <td>12347.0</td>\n",
       "      <td>542237</td>\n",
       "      <td>29</td>\n",
       "    </tr>\n",
       "    <tr>\n",
       "      <th>3</th>\n",
       "      <td>12347.0</td>\n",
       "      <td>549222</td>\n",
       "      <td>24</td>\n",
       "    </tr>\n",
       "    <tr>\n",
       "      <th>4</th>\n",
       "      <td>12347.0</td>\n",
       "      <td>556201</td>\n",
       "      <td>18</td>\n",
       "    </tr>\n",
       "  </tbody>\n",
       "</table>\n",
       "</div>"
      ],
      "text/plain": [
       "   CustomerID InvoiceNo  Number of products\n",
       "0     12346.0    541431                   1\n",
       "1     12347.0    537626                  31\n",
       "2     12347.0    542237                  29\n",
       "3     12347.0    549222                  24\n",
       "4     12347.0    556201                  18"
      ]
     },
     "execution_count": 35,
     "metadata": {},
     "output_type": "execute_result"
    }
   ],
   "source": [
    "# Grouping data by unique customers\n",
    "temp = data_market.groupby(by=['CustomerID', 'InvoiceNo'], as_index=False)['InvoiceDate'].count()\n",
    "nb_products_per_basket = temp.rename(columns = {'InvoiceDate':'Number of products'})\n",
    "nb_products_per_basket.head()"
   ]
  },
  {
   "cell_type": "code",
   "execution_count": 36,
   "metadata": {},
   "outputs": [],
   "source": [
    "\"\"\"\n",
    "Chloropleth map:\n",
    "- Number of orders per country\n",
    "\"\"\"\n",
    "country_df = pd.DataFrame(columns=['Country', 'Customers'])\n",
    "countrys = sorted(data_market['Country'].unique())\n",
    "for idx in range(len(countrys)):\n",
    "    country = countrys[idx]\n",
    "    new_row = {'Country':country, 'Customers':len(data_market[data_market['Country'] == country]['CustomerID'].unique())}\n",
    "    country_df = country_df.append(new_row, ignore_index=True)\n",
    "\n",
    "country_df['Customers'] = country_df['Customers'].astype('int')\n",
    "\n",
    "fig = px.choropleth(\n",
    "    country_df,\n",
    "    locations='Country',\n",
    "    locationmode='country names',\n",
    "    scope='world',\n",
    "    color='Customers',\n",
    "    color_continuous_scale='spectral',\n",
    "    title='Number of orders per country'\n",
    ")\n",
    "\n",
    "fig.update_layout(showlegend=True)\n",
    "fig.write_image('plotly/choropleth_1.png')\n",
    "# fig.show()"
   ]
  },
  {
   "cell_type": "code",
   "execution_count": 37,
   "metadata": {},
   "outputs": [],
   "source": [
    "\"\"\"\n",
    "Visualization:\n",
    "- top-3 countries by orders quantity\n",
    "\"\"\"\n",
    "quantity_df = pd.DataFrame(columns=['Country', 'OrderNumber'])\n",
    "countries = sorted(data_market['Country'].unique())\n",
    "for idx in range(len(countries)):\n",
    "    country = countries[idx]\n",
    "    new_row = {'Country':country, 'OrderNumber':len(data_market[data_market['Country'] == country]['InvoiceNo'].unique())}\n",
    "    quantity_df = quantity_df.append(new_row, ignore_index=True)\n",
    "\n",
    "quantity_df['OrderNumber'] = quantity_df['OrderNumber'].astype('int')\n",
    "\n",
    "fig = px.bar(quantity_df,\n",
    "             x = 'Country',\n",
    "             y = 'OrderNumber',\n",
    "             barmode = 'group',\n",
    "             title = 'Number of orders per country',\n",
    "             template = 'ggplot2'\n",
    "             )\n",
    "\n",
    "fig.update_layout(showlegend=True)\n",
    "fig.write_image('plotly/bar_2.png')\n",
    "# fig.show()"
   ]
  },
  {
   "cell_type": "code",
   "execution_count": 38,
   "metadata": {},
   "outputs": [
    {
     "data": {
      "text/html": [
       "<div>\n",
       "<style scoped>\n",
       "    .dataframe tbody tr th:only-of-type {\n",
       "        vertical-align: middle;\n",
       "    }\n",
       "\n",
       "    .dataframe tbody tr th {\n",
       "        vertical-align: top;\n",
       "    }\n",
       "\n",
       "    .dataframe thead th {\n",
       "        text-align: right;\n",
       "    }\n",
       "</style>\n",
       "<table border=\"1\" class=\"dataframe\">\n",
       "  <thead>\n",
       "    <tr style=\"text-align: right;\">\n",
       "      <th></th>\n",
       "      <th>InvoiceNo</th>\n",
       "      <th>StockCode</th>\n",
       "      <th>Description</th>\n",
       "      <th>Quantity</th>\n",
       "      <th>InvoiceDate</th>\n",
       "      <th>UnitPrice</th>\n",
       "      <th>CustomerID</th>\n",
       "      <th>Country</th>\n",
       "      <th>QuantityCanceled</th>\n",
       "      <th>SpecialCode</th>\n",
       "      <th>TotalPrice</th>\n",
       "    </tr>\n",
       "  </thead>\n",
       "  <tbody>\n",
       "    <tr>\n",
       "      <th>0</th>\n",
       "      <td>536365</td>\n",
       "      <td>85123A</td>\n",
       "      <td>WHITE HANGING HEART T-LIGHT HOLDER</td>\n",
       "      <td>6</td>\n",
       "      <td>2010-12-01 08:26:00</td>\n",
       "      <td>2.55</td>\n",
       "      <td>17850.0</td>\n",
       "      <td>United Kingdom</td>\n",
       "      <td>0.0</td>\n",
       "      <td>False</td>\n",
       "      <td>15.30</td>\n",
       "    </tr>\n",
       "    <tr>\n",
       "      <th>1</th>\n",
       "      <td>536365</td>\n",
       "      <td>71053</td>\n",
       "      <td>WHITE METAL LANTERN</td>\n",
       "      <td>6</td>\n",
       "      <td>2010-12-01 08:26:00</td>\n",
       "      <td>3.39</td>\n",
       "      <td>17850.0</td>\n",
       "      <td>United Kingdom</td>\n",
       "      <td>0.0</td>\n",
       "      <td>False</td>\n",
       "      <td>20.34</td>\n",
       "    </tr>\n",
       "    <tr>\n",
       "      <th>2</th>\n",
       "      <td>536365</td>\n",
       "      <td>84406B</td>\n",
       "      <td>CREAM CUPID HEARTS COAT HANGER</td>\n",
       "      <td>8</td>\n",
       "      <td>2010-12-01 08:26:00</td>\n",
       "      <td>2.75</td>\n",
       "      <td>17850.0</td>\n",
       "      <td>United Kingdom</td>\n",
       "      <td>0.0</td>\n",
       "      <td>False</td>\n",
       "      <td>22.00</td>\n",
       "    </tr>\n",
       "    <tr>\n",
       "      <th>3</th>\n",
       "      <td>536365</td>\n",
       "      <td>84029G</td>\n",
       "      <td>KNITTED UNION FLAG HOT WATER BOTTLE</td>\n",
       "      <td>6</td>\n",
       "      <td>2010-12-01 08:26:00</td>\n",
       "      <td>3.39</td>\n",
       "      <td>17850.0</td>\n",
       "      <td>United Kingdom</td>\n",
       "      <td>0.0</td>\n",
       "      <td>False</td>\n",
       "      <td>20.34</td>\n",
       "    </tr>\n",
       "    <tr>\n",
       "      <th>4</th>\n",
       "      <td>536365</td>\n",
       "      <td>84029E</td>\n",
       "      <td>RED WOOLLY HOTTIE WHITE HEART.</td>\n",
       "      <td>6</td>\n",
       "      <td>2010-12-01 08:26:00</td>\n",
       "      <td>3.39</td>\n",
       "      <td>17850.0</td>\n",
       "      <td>United Kingdom</td>\n",
       "      <td>0.0</td>\n",
       "      <td>False</td>\n",
       "      <td>20.34</td>\n",
       "    </tr>\n",
       "  </tbody>\n",
       "</table>\n",
       "</div>"
      ],
      "text/plain": [
       "  InvoiceNo StockCode                          Description  Quantity  \\\n",
       "0    536365    85123A   WHITE HANGING HEART T-LIGHT HOLDER         6   \n",
       "1    536365     71053                  WHITE METAL LANTERN         6   \n",
       "2    536365    84406B       CREAM CUPID HEARTS COAT HANGER         8   \n",
       "3    536365    84029G  KNITTED UNION FLAG HOT WATER BOTTLE         6   \n",
       "4    536365    84029E       RED WOOLLY HOTTIE WHITE HEART.         6   \n",
       "\n",
       "          InvoiceDate  UnitPrice  CustomerID         Country  \\\n",
       "0 2010-12-01 08:26:00       2.55     17850.0  United Kingdom   \n",
       "1 2010-12-01 08:26:00       3.39     17850.0  United Kingdom   \n",
       "2 2010-12-01 08:26:00       2.75     17850.0  United Kingdom   \n",
       "3 2010-12-01 08:26:00       3.39     17850.0  United Kingdom   \n",
       "4 2010-12-01 08:26:00       3.39     17850.0  United Kingdom   \n",
       "\n",
       "   QuantityCanceled  SpecialCode  TotalPrice  \n",
       "0               0.0        False       15.30  \n",
       "1               0.0        False       20.34  \n",
       "2               0.0        False       22.00  \n",
       "3               0.0        False       20.34  \n",
       "4               0.0        False       20.34  "
      ]
     },
     "metadata": {},
     "output_type": "display_data"
    },
    {
     "name": "stdout",
     "output_type": "stream",
     "text": [
      "Average total order value: 21\n"
     ]
    }
   ],
   "source": [
    "\"\"\"\n",
    "Add new column: TotalPrice\n",
    "\"\"\"\n",
    "data_market['TotalPrice'] = data_market['UnitPrice'] * (data_market['Quantity'] - data_market['QuantityCanceled'])\n",
    "display(data_market.head())\n",
    "print(f'Average total order value: {round(data_market.TotalPrice.mean())}')"
   ]
  },
  {
   "cell_type": "code",
   "execution_count": 39,
   "metadata": {},
   "outputs": [],
   "source": [
    "\"\"\"\n",
    "Visualization:\n",
    "- top-3 countries by total revenue\n",
    "\"\"\"\n",
    "total_df = pd.DataFrame(columns=['Country', 'TotalPrice'])\n",
    "countries = sorted(data_market['Country'].unique())\n",
    "for idx in range(len(countries)):\n",
    "    country = countries[idx]\n",
    "    new_row = {'Country':country, 'TotalPrice':sum(data_market[data_market['Country'] == country]['TotalPrice'].unique())}\n",
    "    total_df = total_df.append(new_row, ignore_index=True)\n",
    "\n",
    "fig = px.bar(total_df,\n",
    "             x = 'Country',\n",
    "             y = 'TotalPrice',\n",
    "             barmode = 'group',\n",
    "             title = 'Total Income per country',\n",
    "             template = 'ggplot2'\n",
    "             )\n",
    "\n",
    "fig.update_layout(showlegend=True)\n",
    "fig.write_image('plotly/bar_3.png')\n",
    "# fig.show()"
   ]
  },
  {
   "cell_type": "markdown",
   "metadata": {},
   "source": [
    "***"
   ]
  },
  {
   "cell_type": "markdown",
   "metadata": {},
   "source": [
    "### `Time Features`"
   ]
  },
  {
   "cell_type": "markdown",
   "metadata": {},
   "source": [
    "***"
   ]
  },
  {
   "cell_type": "code",
   "execution_count": 40,
   "metadata": {},
   "outputs": [
    {
     "name": "stdout",
     "output_type": "stream",
     "text": [
      "Number of Total Price in each month: \n"
     ]
    },
    {
     "data": {
      "text/html": [
       "<div>\n",
       "<style scoped>\n",
       "    .dataframe tbody tr th:only-of-type {\n",
       "        vertical-align: middle;\n",
       "    }\n",
       "\n",
       "    .dataframe tbody tr th {\n",
       "        vertical-align: top;\n",
       "    }\n",
       "\n",
       "    .dataframe thead th {\n",
       "        text-align: right;\n",
       "    }\n",
       "</style>\n",
       "<table border=\"1\" class=\"dataframe\">\n",
       "  <thead>\n",
       "    <tr style=\"text-align: right;\">\n",
       "      <th></th>\n",
       "      <th>purchases_month</th>\n",
       "      <th>TotalPrice</th>\n",
       "    </tr>\n",
       "  </thead>\n",
       "  <tbody>\n",
       "    <tr>\n",
       "      <th>10</th>\n",
       "      <td>11</td>\n",
       "      <td>1119641.60</td>\n",
       "    </tr>\n",
       "    <tr>\n",
       "      <th>9</th>\n",
       "      <td>10</td>\n",
       "      <td>967436.46</td>\n",
       "    </tr>\n",
       "    <tr>\n",
       "      <th>8</th>\n",
       "      <td>9</td>\n",
       "      <td>928554.44</td>\n",
       "    </tr>\n",
       "    <tr>\n",
       "      <th>11</th>\n",
       "      <td>12</td>\n",
       "      <td>894126.86</td>\n",
       "    </tr>\n",
       "    <tr>\n",
       "      <th>4</th>\n",
       "      <td>5</td>\n",
       "      <td>647403.81</td>\n",
       "    </tr>\n",
       "    <tr>\n",
       "      <th>7</th>\n",
       "      <td>8</td>\n",
       "      <td>614704.38</td>\n",
       "    </tr>\n",
       "    <tr>\n",
       "      <th>5</th>\n",
       "      <td>6</td>\n",
       "      <td>601238.45</td>\n",
       "    </tr>\n",
       "    <tr>\n",
       "      <th>6</th>\n",
       "      <td>7</td>\n",
       "      <td>581019.35</td>\n",
       "    </tr>\n",
       "    <tr>\n",
       "      <th>2</th>\n",
       "      <td>3</td>\n",
       "      <td>571941.01</td>\n",
       "    </tr>\n",
       "    <tr>\n",
       "      <th>0</th>\n",
       "      <td>1</td>\n",
       "      <td>453560.68</td>\n",
       "    </tr>\n",
       "    <tr>\n",
       "      <th>3</th>\n",
       "      <td>4</td>\n",
       "      <td>447922.86</td>\n",
       "    </tr>\n",
       "    <tr>\n",
       "      <th>1</th>\n",
       "      <td>2</td>\n",
       "      <td>436043.09</td>\n",
       "    </tr>\n",
       "  </tbody>\n",
       "</table>\n",
       "</div>"
      ],
      "text/plain": [
       "    purchases_month  TotalPrice\n",
       "10               11  1119641.60\n",
       "9                10   967436.46\n",
       "8                 9   928554.44\n",
       "11               12   894126.86\n",
       "4                 5   647403.81\n",
       "7                 8   614704.38\n",
       "5                 6   601238.45\n",
       "6                 7   581019.35\n",
       "2                 3   571941.01\n",
       "0                 1   453560.68\n",
       "3                 4   447922.86\n",
       "1                 2   436043.09"
      ]
     },
     "metadata": {},
     "output_type": "display_data"
    }
   ],
   "source": [
    "\"\"\"\n",
    "Function to get 3 new time feautures:\n",
    "- purchases_month - month of purchasing\n",
    "- purchases_hour - hour of purchasing\n",
    "- purchases_day_of_week - day of the week on which the customer make purchases\n",
    "\"\"\"\n",
    "def add_datetime_features(df):\n",
    "    df['purchases_month'] = df['InvoiceDate'].dt.month\n",
    "    df['purchases_hour'] = df['InvoiceDate'].dt.hour\n",
    "    df['purchases_day_of_week'] = df['InvoiceDate'].dt.day_name()\n",
    "    \n",
    "    return df\n",
    "\n",
    "\n",
    "add_datetime_features(data_market)\n",
    "\n",
    "# Check\n",
    "print('Number of Total Price in each month: ')\n",
    "display(data_market.groupby(['purchases_month'], as_index=False)['TotalPrice'].sum().sort_values(by='TotalPrice', ascending=False))"
   ]
  },
  {
   "cell_type": "markdown",
   "metadata": {},
   "source": [
    "Month with the higher Total income is November.\n",
    "\n",
    "It is a time before Christmas and New Year celebration, when people look for presents.\n",
    "*(This dataset describes data of gifts shop)*"
   ]
  },
  {
   "cell_type": "code",
   "execution_count": 41,
   "metadata": {},
   "outputs": [
    {
     "name": "stdout",
     "output_type": "stream",
     "text": [
      "Number of Total Price in each day: \n"
     ]
    },
    {
     "data": {
      "text/html": [
       "<div>\n",
       "<style scoped>\n",
       "    .dataframe tbody tr th:only-of-type {\n",
       "        vertical-align: middle;\n",
       "    }\n",
       "\n",
       "    .dataframe tbody tr th {\n",
       "        vertical-align: top;\n",
       "    }\n",
       "\n",
       "    .dataframe thead th {\n",
       "        text-align: right;\n",
       "    }\n",
       "</style>\n",
       "<table border=\"1\" class=\"dataframe\">\n",
       "  <thead>\n",
       "    <tr style=\"text-align: right;\">\n",
       "      <th></th>\n",
       "      <th>purchases_day_of_week</th>\n",
       "      <th>TotalPrice</th>\n",
       "    </tr>\n",
       "  </thead>\n",
       "  <tbody>\n",
       "    <tr>\n",
       "      <th>3</th>\n",
       "      <td>Thursday</td>\n",
       "      <td>1888101.69</td>\n",
       "    </tr>\n",
       "    <tr>\n",
       "      <th>4</th>\n",
       "      <td>Tuesday</td>\n",
       "      <td>1552138.73</td>\n",
       "    </tr>\n",
       "    <tr>\n",
       "      <th>5</th>\n",
       "      <td>Wednesday</td>\n",
       "      <td>1535711.83</td>\n",
       "    </tr>\n",
       "    <tr>\n",
       "      <th>1</th>\n",
       "      <td>Monday</td>\n",
       "      <td>1300385.00</td>\n",
       "    </tr>\n",
       "    <tr>\n",
       "      <th>0</th>\n",
       "      <td>Friday</td>\n",
       "      <td>1219558.24</td>\n",
       "    </tr>\n",
       "    <tr>\n",
       "      <th>2</th>\n",
       "      <td>Sunday</td>\n",
       "      <td>767697.50</td>\n",
       "    </tr>\n",
       "  </tbody>\n",
       "</table>\n",
       "</div>"
      ],
      "text/plain": [
       "  purchases_day_of_week  TotalPrice\n",
       "3              Thursday  1888101.69\n",
       "4               Tuesday  1552138.73\n",
       "5             Wednesday  1535711.83\n",
       "1                Monday  1300385.00\n",
       "0                Friday  1219558.24\n",
       "2                Sunday   767697.50"
      ]
     },
     "metadata": {},
     "output_type": "display_data"
    }
   ],
   "source": [
    "print('Number of Total Price in each day: ')\n",
    "display(data_market.groupby(['purchases_day_of_week'], as_index=False)['TotalPrice'].sum().sort_values(by='TotalPrice', ascending=False))"
   ]
  },
  {
   "cell_type": "markdown",
   "metadata": {},
   "source": [
    "There is no any transactions in Saturday.\n",
    "\n",
    "Probably this day is weekend for the shop or maybe it is a mistake."
   ]
  },
  {
   "cell_type": "code",
   "execution_count": 42,
   "metadata": {},
   "outputs": [],
   "source": [
    "\"\"\"\n",
    "Create new feature:\n",
    "- Date\n",
    "\"\"\"\n",
    "data_market['Date'] = data_market['InvoiceDate'].dt.date\n",
    "purchases_by_date = data_market.groupby(['Date', 'purchases_hour'], as_index=False)['Quantity'].sum()\n",
    "\n",
    "purchases_by_hour = purchases_by_date.groupby('purchases_hour', as_index=False)['Quantity'].mean().sort_values(by='Quantity', ascending=False)\n",
    "\n",
    "fig = px.bar(purchases_by_hour,\n",
    "             x = 'purchases_hour',\n",
    "             y = 'Quantity',\n",
    "             barmode = 'group',\n",
    "             title = 'Quantity of orders (mean value) by each hour',\n",
    "             template = 'ggplot2'\n",
    "             )\n",
    "\n",
    "fig.update_layout(showlegend=True)\n",
    "fig.write_image('plotly/bar_4.png')\n",
    "# fig.show()"
   ]
  },
  {
   "cell_type": "markdown",
   "metadata": {},
   "source": [
    "Some observations about the data:\n",
    "\n",
    "* Most orders are made during the day, between 10 am and 3 pm.\n",
    "* Orders are not received from 9 pm to 6 am."
   ]
  },
  {
   "cell_type": "markdown",
   "metadata": {},
   "source": [
    "***"
   ]
  },
  {
   "cell_type": "markdown",
   "metadata": {},
   "source": [
    "# <p style=\"text-align:center;font-size:100%;\">4. RFM-customers segmentation. Part I</p>"
   ]
  },
  {
   "cell_type": "markdown",
   "metadata": {},
   "source": [
    "The method consists in grouping clients based on the following parameters:\n",
    "\n",
    "* Recency (Prescription) - prescription of the last purchase of the client;\n",
    "* Frequency (Frequency) - the total number of customer purchases;\n",
    "* Monetary Value - How much money the customer has spent."
   ]
  },
  {
   "cell_type": "markdown",
   "metadata": {},
   "source": [
    "The task of marketers is to lead the client to the zone of loyal ones."
   ]
  },
  {
   "cell_type": "markdown",
   "metadata": {},
   "source": [
    "***"
   ]
  },
  {
   "cell_type": "code",
   "execution_count": 43,
   "metadata": {},
   "outputs": [
    {
     "data": {
      "text/html": [
       "<div>\n",
       "<style scoped>\n",
       "    .dataframe tbody tr th:only-of-type {\n",
       "        vertical-align: middle;\n",
       "    }\n",
       "\n",
       "    .dataframe tbody tr th {\n",
       "        vertical-align: top;\n",
       "    }\n",
       "\n",
       "    .dataframe thead th {\n",
       "        text-align: right;\n",
       "    }\n",
       "</style>\n",
       "<table border=\"1\" class=\"dataframe\">\n",
       "  <thead>\n",
       "    <tr style=\"text-align: right;\">\n",
       "      <th></th>\n",
       "      <th>Recency</th>\n",
       "      <th>Frequency</th>\n",
       "      <th>Monetary</th>\n",
       "    </tr>\n",
       "    <tr>\n",
       "      <th>CustomerId</th>\n",
       "      <th></th>\n",
       "      <th></th>\n",
       "      <th></th>\n",
       "    </tr>\n",
       "  </thead>\n",
       "  <tbody>\n",
       "    <tr>\n",
       "      <th>12346.0</th>\n",
       "      <td>325</td>\n",
       "      <td>1</td>\n",
       "      <td>0.0</td>\n",
       "    </tr>\n",
       "    <tr>\n",
       "      <th>12347.0</th>\n",
       "      <td>2</td>\n",
       "      <td>7</td>\n",
       "      <td>4310.0</td>\n",
       "    </tr>\n",
       "    <tr>\n",
       "      <th>12348.0</th>\n",
       "      <td>75</td>\n",
       "      <td>4</td>\n",
       "      <td>1437.24</td>\n",
       "    </tr>\n",
       "    <tr>\n",
       "      <th>12349.0</th>\n",
       "      <td>18</td>\n",
       "      <td>1</td>\n",
       "      <td>1457.55</td>\n",
       "    </tr>\n",
       "    <tr>\n",
       "      <th>12350.0</th>\n",
       "      <td>310</td>\n",
       "      <td>1</td>\n",
       "      <td>294.4</td>\n",
       "    </tr>\n",
       "  </tbody>\n",
       "</table>\n",
       "</div>"
      ],
      "text/plain": [
       "           Recency Frequency Monetary\n",
       "CustomerId                           \n",
       "12346.0        325         1      0.0\n",
       "12347.0          2         7   4310.0\n",
       "12348.0         75         4  1437.24\n",
       "12349.0         18         1  1457.55\n",
       "12350.0        310         1    294.4"
      ]
     },
     "execution_count": 43,
     "metadata": {},
     "output_type": "execute_result"
    }
   ],
   "source": [
    "\"\"\"\n",
    "Create table with 3 features, grouped by Customer ID\n",
    "- Recency\n",
    "- Frequency\n",
    "- Monetary\n",
    "\"\"\"\n",
    "now_date = datetime(2011, 12, 10)\n",
    "rfm_table = pd.DataFrame(columns=['Recency', 'Frequency', 'Monetary'], index=sorted(data_market['CustomerID'].unique()))\n",
    "for ind in rfm_table.index:\n",
    "    rfm_table.loc[ind, 'Recency'] = (now_date - data_market[data_market.CustomerID == ind]['InvoiceDate'].max()).days\n",
    "    rfm_table.loc[ind, 'Frequency'] = len(data_market[data_market.CustomerID == ind]['InvoiceNo'].unique())\n",
    "    rfm_table.loc[ind, 'Monetary'] = data_market[data_market.CustomerID == ind]['TotalPrice'].sum()\n",
    "    \n",
    "rfm_table.index.rename('CustomerId', inplace= True)\n",
    "rfm_table.head()"
   ]
  },
  {
   "cell_type": "code",
   "execution_count": 44,
   "metadata": {},
   "outputs": [
    {
     "name": "stdout",
     "output_type": "stream",
     "text": [
      "Number of clients made a purchase more than 200 days ago: 743.\n",
      "Average number of orders during one year: 4.\n",
      "Total amount of money spent by the client with id 12360: 2302.\n"
     ]
    }
   ],
   "source": [
    "print('Number of clients made a purchase more than 200 days ago: {}.'.format(rfm_table[rfm_table.Recency > 200].shape[0]))\n",
    "print('Average number of orders during one year: {}.'.format(round(rfm_table.Frequency.mean())))\n",
    "print('Total amount of money spent by the client with id 12360: {}.'.format(round(rfm_table.loc[12360.0]['Monetary'])))"
   ]
  },
  {
   "cell_type": "code",
   "execution_count": 45,
   "metadata": {},
   "outputs": [],
   "source": [
    "boxes = [px.box(rfm_table, x=column) for column in rfm_table.columns]\n",
    "\n",
    "fig = make_subplots(\n",
    "    rows=1,\n",
    "    cols=3,\n",
    "    subplot_titles=('Recency','Frequency', 'Monetary')\n",
    "    )\n",
    "\n",
    "for i, box in enumerate(boxes):\n",
    "    fig.add_trace(boxes[i]['data'][0], row=1, col=i+1)\n",
    "\n",
    "fig.update_layout(showlegend=True)\n",
    "fig.write_image('plotly/boxplot_5.png')\n",
    "# fig.show()"
   ]
  },
  {
   "cell_type": "markdown",
   "metadata": {},
   "source": [
    "Some observations about the data:\n",
    "\n",
    "* There are customers with an abnormally high number of orders placed (more than 100).\n",
    "* There are customers with total price of order more than 190 thousand\n",
    "\n",
    "Outliers could make significant influence on the clusterization results."
   ]
  },
  {
   "cell_type": "code",
   "execution_count": 46,
   "metadata": {},
   "outputs": [
    {
     "name": "stdout",
     "output_type": "stream",
     "text": [
      "<class 'pandas.core.frame.DataFrame'>\n",
      "Float64Index: 4044 entries, 12346.0 to 18287.0\n",
      "Data columns (total 3 columns):\n",
      " #   Column     Non-Null Count  Dtype \n",
      "---  ------     --------------  ----- \n",
      " 0   Recency    4044 non-null   object\n",
      " 1   Frequency  4044 non-null   object\n",
      " 2   Monetary   4044 non-null   object\n",
      "dtypes: object(3)\n",
      "memory usage: 126.4+ KB\n"
     ]
    }
   ],
   "source": [
    "\"\"\"\n",
    "Delete outliers by quantile 0.95\n",
    "\"\"\"\n",
    "freq_q = rfm_table.Frequency.quantile(0.95)\n",
    "monetary_q = rfm_table.Monetary.quantile(0.95)\n",
    "\n",
    "rfm_table_cleaned = rfm_table[(rfm_table['Frequency'] <= freq_q) & (rfm_table['Monetary'] <= monetary_q)]\n",
    "rfm_table_cleaned.info()"
   ]
  },
  {
   "cell_type": "code",
   "execution_count": 47,
   "metadata": {},
   "outputs": [],
   "source": [
    "boxes = [px.box(rfm_table_cleaned, x=column) for column in rfm_table_cleaned.columns]\n",
    "fig = make_subplots(\n",
    "    rows=1,\n",
    "    cols=3, \n",
    "    subplot_titles=('Recency', 'Frequency', 'Monetary')\n",
    "    )\n",
    "\n",
    "for i, box in enumerate(boxes):\n",
    "    fig.add_trace(boxes[i]['data'][0], row=1, col=i+1)\n",
    "\n",
    "fig.update_layout(showlegend=True)\n",
    "fig.write_image('plotly/boxplot_6.png')\n",
    "# fig.show()"
   ]
  },
  {
   "cell_type": "markdown",
   "metadata": {},
   "source": [
    "***"
   ]
  },
  {
   "cell_type": "markdown",
   "metadata": {},
   "source": [
    "### `Clustering stage`\n",
    "\n",
    "- evaluate the distribution of observations in the feature space (3-dimensional scatterplot: RFM)"
   ]
  },
  {
   "cell_type": "code",
   "execution_count": 48,
   "metadata": {},
   "outputs": [
    {
     "data": {
      "image/png": "[encoded data removed]",
      "text/plain": [
       "<Figure size 432x432 with 1 Axes>"
      ]
     },
     "metadata": {
      "needs_background": "light"
     },
     "output_type": "display_data"
    }
   ],
   "source": [
    "\"\"\"\n",
    "Let's build a visualization of 3-dimensional feature space\n",
    "\"\"\"\n",
    "# create 3-d object\n",
    "fig = plt.figure(figsize=(6,6))\n",
    "ax = Axes3D(fig)\n",
    "\n",
    "# add an additional axis to the image object\n",
    "fig.add_axes(ax)\n",
    "ax.azim = 20\n",
    "ax.elev = 30\n",
    "\n",
    "# visualiztion: x, y, z, and information about grouping data by color\n",
    "ax.scatter(\n",
    "    rfm_table_cleaned['Recency'].to_list(), \n",
    "    rfm_table_cleaned['Frequency'].to_list(),\n",
    "    rfm_table_cleaned['Monetary'].to_list()\n",
    ")\n",
    "\n",
    "# add axes\n",
    "ax.set_xlabel('Recency')\n",
    "ax.set_ylabel('Frequency')\n",
    "ax.set_zlabel('Monetary');"
   ]
  },
  {
   "cell_type": "markdown",
   "metadata": {},
   "source": [
    "Some observations about the scatterplot:\n",
    "\n",
    "* there are clients with large values of the Monetary and Frequency parameters\n",
    "    * probably they are the best clients who buy most often and bring in the most money\n",
    "* it is difficult to say how many clusters we have."
   ]
  },
  {
   "cell_type": "markdown",
   "metadata": {},
   "source": [
    "***"
   ]
  },
  {
   "cell_type": "markdown",
   "metadata": {},
   "source": [
    "### `Dimensionality Reduction methods`"
   ]
  },
  {
   "cell_type": "code",
   "execution_count": 49,
   "metadata": {},
   "outputs": [
    {
     "name": "stdout",
     "output_type": "stream",
     "text": [
      "Number of components: 2\n",
      "Part of total variance in the original dataset is explained by the First principal component: 0.68\n"
     ]
    }
   ],
   "source": [
    "\"\"\"\n",
    "Principal component analysis (PCA)\n",
    "\"\"\"\n",
    "# create pipeline\n",
    "pipeline = Pipeline([('scaler', preprocessing.StandardScaler()),\n",
    "                     ('pca', decomposition.PCA(n_components=2))])\n",
    "\n",
    "# Training model\n",
    "rfm_table_processed = pipeline.fit_transform(rfm_table_cleaned)\n",
    "\n",
    "rfm_table_processed = pd.DataFrame(rfm_table_processed,\n",
    "                                   columns=['axis-1', 'axis-2'],\n",
    "                                   index=rfm_table_cleaned.index\n",
    "                                   )\n",
    "\n",
    "print(f'Number of components: {len(pipeline[1].components_)}')\n",
    "print(f'Part of total variance in the original dataset is explained by the First principal component: {round(pipeline[1].explained_variance_ratio_[0], 2)}')"
   ]
  },
  {
   "cell_type": "code",
   "execution_count": 50,
   "metadata": {},
   "outputs": [
    {
     "data": {
      "image/png": "[encoded data removed]",
      "text/plain": [
       "<Figure size 432x288 with 1 Axes>"
      ]
     },
     "metadata": {
      "needs_background": "light"
     },
     "output_type": "display_data"
    }
   ],
   "source": [
    "sns.scatterplot(data=rfm_table_processed, x='axis-1', y='axis-2');"
   ]
  },
  {
   "cell_type": "code",
   "execution_count": 51,
   "metadata": {},
   "outputs": [
    {
     "data": {
      "text/html": [
       "<div>\n",
       "<style scoped>\n",
       "    .dataframe tbody tr th:only-of-type {\n",
       "        vertical-align: middle;\n",
       "    }\n",
       "\n",
       "    .dataframe tbody tr th {\n",
       "        vertical-align: top;\n",
       "    }\n",
       "\n",
       "    .dataframe thead th {\n",
       "        text-align: right;\n",
       "    }\n",
       "</style>\n",
       "<table border=\"1\" class=\"dataframe\">\n",
       "  <thead>\n",
       "    <tr style=\"text-align: right;\">\n",
       "      <th></th>\n",
       "      <th>silhouette</th>\n",
       "      <th>cluster</th>\n",
       "    </tr>\n",
       "  </thead>\n",
       "  <tbody>\n",
       "    <tr>\n",
       "      <th>0</th>\n",
       "      <td>0.500296</td>\n",
       "      <td>2</td>\n",
       "    </tr>\n",
       "    <tr>\n",
       "      <th>1</th>\n",
       "      <td>0.524230</td>\n",
       "      <td>3</td>\n",
       "    </tr>\n",
       "    <tr>\n",
       "      <th>2</th>\n",
       "      <td>0.497553</td>\n",
       "      <td>4</td>\n",
       "    </tr>\n",
       "    <tr>\n",
       "      <th>3</th>\n",
       "      <td>0.454544</td>\n",
       "      <td>5</td>\n",
       "    </tr>\n",
       "    <tr>\n",
       "      <th>4</th>\n",
       "      <td>0.448006</td>\n",
       "      <td>6</td>\n",
       "    </tr>\n",
       "    <tr>\n",
       "      <th>5</th>\n",
       "      <td>0.420295</td>\n",
       "      <td>7</td>\n",
       "    </tr>\n",
       "    <tr>\n",
       "      <th>6</th>\n",
       "      <td>0.420745</td>\n",
       "      <td>8</td>\n",
       "    </tr>\n",
       "    <tr>\n",
       "      <th>7</th>\n",
       "      <td>0.408957</td>\n",
       "      <td>9</td>\n",
       "    </tr>\n",
       "    <tr>\n",
       "      <th>8</th>\n",
       "      <td>0.397843</td>\n",
       "      <td>10</td>\n",
       "    </tr>\n",
       "  </tbody>\n",
       "</table>\n",
       "</div>"
      ],
      "text/plain": [
       "   silhouette  cluster\n",
       "0    0.500296        2\n",
       "1    0.524230        3\n",
       "2    0.497553        4\n",
       "3    0.454544        5\n",
       "4    0.448006        6\n",
       "5    0.420295        7\n",
       "6    0.420745        8\n",
       "7    0.408957        9\n",
       "8    0.397843       10"
      ]
     },
     "metadata": {},
     "output_type": "display_data"
    },
    {
     "data": {
      "text/plain": [
       "<AxesSubplot: xlabel='cluster', ylabel='silhouette'>"
      ]
     },
     "execution_count": 51,
     "metadata": {},
     "output_type": "execute_result"
    },
    {
     "data": {
      "image/png": "[encoded data removed]",
      "text/plain": [
       "<Figure size 432x288 with 1 Axes>"
      ]
     },
     "metadata": {},
     "output_type": "display_data"
    }
   ],
   "source": [
    "\"\"\"\n",
    "Let's try to divide this space of principal components into segments\n",
    "-  k-means method\n",
    "\"\"\"\n",
    "# create dict\n",
    "silhouette_res = {'silhouette': [], 'cluster': []}\n",
    "\n",
    "for i in range(2, 11):\n",
    "    # training k_means model\n",
    "    k_means = cluster.KMeans(n_clusters=i,\n",
    "                             random_state=RANDOM_SEED\n",
    "                             ).fit(rfm_table_processed)\n",
    "    silhouette_res['silhouette'].append(metrics.silhouette_score(rfm_table_processed, k_means.labels_))\n",
    "    silhouette_res['cluster'].append(i)\n",
    "    \n",
    "# save results in to df\n",
    "silhouette_df = pd.DataFrame(silhouette_res)\n",
    "display(silhouette_df)\n",
    "\n",
    "# visualiztion style\n",
    "sns.set_style('darkgrid')\n",
    "sns.lineplot(data=silhouette_df, x='cluster', y='silhouette', marker= 'o')"
   ]
  },
  {
   "cell_type": "markdown",
   "metadata": {},
   "source": [
    "* Maximum value of the silhouette coefficient for K-means: 0.52\n",
    "* Optimal number of clusters: 3"
   ]
  },
  {
   "cell_type": "code",
   "execution_count": 52,
   "metadata": {},
   "outputs": [
    {
     "data": {
      "text/html": [
       "<div>\n",
       "<style scoped>\n",
       "    .dataframe tbody tr th:only-of-type {\n",
       "        vertical-align: middle;\n",
       "    }\n",
       "\n",
       "    .dataframe tbody tr th {\n",
       "        vertical-align: top;\n",
       "    }\n",
       "\n",
       "    .dataframe thead th {\n",
       "        text-align: right;\n",
       "    }\n",
       "</style>\n",
       "<table border=\"1\" class=\"dataframe\">\n",
       "  <thead>\n",
       "    <tr style=\"text-align: right;\">\n",
       "      <th></th>\n",
       "      <th>silhouette</th>\n",
       "      <th>cluster</th>\n",
       "    </tr>\n",
       "  </thead>\n",
       "  <tbody>\n",
       "    <tr>\n",
       "      <th>0</th>\n",
       "      <td>0.342484</td>\n",
       "      <td>2</td>\n",
       "    </tr>\n",
       "    <tr>\n",
       "      <th>1</th>\n",
       "      <td>0.436061</td>\n",
       "      <td>3</td>\n",
       "    </tr>\n",
       "    <tr>\n",
       "      <th>2</th>\n",
       "      <td>0.350103</td>\n",
       "      <td>4</td>\n",
       "    </tr>\n",
       "    <tr>\n",
       "      <th>3</th>\n",
       "      <td>0.246969</td>\n",
       "      <td>5</td>\n",
       "    </tr>\n",
       "    <tr>\n",
       "      <th>4</th>\n",
       "      <td>0.266670</td>\n",
       "      <td>6</td>\n",
       "    </tr>\n",
       "    <tr>\n",
       "      <th>5</th>\n",
       "      <td>0.198851</td>\n",
       "      <td>7</td>\n",
       "    </tr>\n",
       "    <tr>\n",
       "      <th>6</th>\n",
       "      <td>0.196880</td>\n",
       "      <td>8</td>\n",
       "    </tr>\n",
       "    <tr>\n",
       "      <th>7</th>\n",
       "      <td>0.157627</td>\n",
       "      <td>9</td>\n",
       "    </tr>\n",
       "    <tr>\n",
       "      <th>8</th>\n",
       "      <td>0.109445</td>\n",
       "      <td>10</td>\n",
       "    </tr>\n",
       "  </tbody>\n",
       "</table>\n",
       "</div>"
      ],
      "text/plain": [
       "   silhouette  cluster\n",
       "0    0.342484        2\n",
       "1    0.436061        3\n",
       "2    0.350103        4\n",
       "3    0.246969        5\n",
       "4    0.266670        6\n",
       "5    0.198851        7\n",
       "6    0.196880        8\n",
       "7    0.157627        9\n",
       "8    0.109445       10"
      ]
     },
     "metadata": {},
     "output_type": "display_data"
    },
    {
     "data": {
      "text/plain": [
       "<AxesSubplot: xlabel='cluster', ylabel='silhouette'>"
      ]
     },
     "execution_count": 52,
     "metadata": {},
     "output_type": "execute_result"
    },
    {
     "data": {
      "image/png": "[encoded data removed]",
      "text/plain": [
       "<Figure size 432x288 with 1 Axes>"
      ]
     },
     "metadata": {},
     "output_type": "display_data"
    }
   ],
   "source": [
    "\"\"\"\n",
    "Let's try to divide this space of principal components into segments\n",
    "- EM-algorithm\n",
    "\"\"\"\n",
    "# create dict\n",
    "silhouette_gm = {'silhouette': [], 'cluster': []}\n",
    "\n",
    "for i in range(2, 11):\n",
    "    # training k_means model\n",
    "    gm = mixture.GaussianMixture(\n",
    "        n_components=i,\n",
    "        random_state=RANDOM_SEED\n",
    "        ).fit_predict(rfm_table_processed)\n",
    "    \n",
    "    silhouette_gm['silhouette'].append(metrics.silhouette_score(rfm_table_processed, gm))\n",
    "    silhouette_gm['cluster'].append(i)\n",
    "    \n",
    "# save results in to df\n",
    "silhouette_gm_df = pd.DataFrame(silhouette_gm)\n",
    "display(silhouette_gm_df)\n",
    "\n",
    "# visualiztion style\n",
    "sns.set_style('darkgrid')\n",
    "sns.lineplot(data=silhouette_gm_df, x='cluster', y='silhouette', marker= 'o')"
   ]
  },
  {
   "cell_type": "markdown",
   "metadata": {},
   "source": [
    "* Maximum value of the silhouette coefficient for EM-algorithm: 0.44\n",
    "* Optimal number of clusters: 3"
   ]
  },
  {
   "cell_type": "markdown",
   "metadata": {},
   "source": [
    "**The high value of the silhouette coefficient is for K-Means model.**"
   ]
  },
  {
   "cell_type": "code",
   "execution_count": 53,
   "metadata": {},
   "outputs": [
    {
     "name": "stdout",
     "output_type": "stream",
     "text": [
      "Number of customers in a big cluster: 2    2269\n",
      "0     999\n",
      "1     776\n",
      "Name: KMeans_Cluster_ID, dtype: int64\n"
     ]
    }
   ],
   "source": [
    "k_means = cluster.KMeans(n_clusters=3,\n",
    "                         n_init=10,\n",
    "                         random_state=RANDOM_SEED\n",
    "                         )\n",
    "\n",
    "k_means.fit(rfm_table_processed)\n",
    "\n",
    "rfm_table_processed['KMeans_Cluster_ID'] = k_means.labels_\n",
    "print(f'Number of customers in a big cluster: {rfm_table_processed.KMeans_Cluster_ID.value_counts()}')"
   ]
  },
  {
   "cell_type": "code",
   "execution_count": 54,
   "metadata": {},
   "outputs": [
    {
     "data": {
      "image/png": "[encoded data removed]",
      "text/plain": [
       "<Figure size 864x360 with 1 Axes>"
      ]
     },
     "metadata": {},
     "output_type": "display_data"
    }
   ],
   "source": [
    "fig = plt.figure(figsize=(12, 5))\n",
    "sns.scatterplot(\n",
    "    data=rfm_table_processed, \n",
    "    x='axis-1', \n",
    "    y='axis-2', \n",
    "    hue='KMeans_Cluster_ID',\n",
    ");"
   ]
  },
  {
   "cell_type": "markdown",
   "metadata": {},
   "source": [
    "* There are 3 segments.\n",
    "\n",
    "Let's create profile for each segment"
   ]
  },
  {
   "cell_type": "code",
   "execution_count": 55,
   "metadata": {},
   "outputs": [
    {
     "data": {
      "text/html": [
       "<div>\n",
       "<style scoped>\n",
       "    .dataframe tbody tr th:only-of-type {\n",
       "        vertical-align: middle;\n",
       "    }\n",
       "\n",
       "    .dataframe tbody tr th {\n",
       "        vertical-align: top;\n",
       "    }\n",
       "\n",
       "    .dataframe thead th {\n",
       "        text-align: right;\n",
       "    }\n",
       "</style>\n",
       "<table border=\"1\" class=\"dataframe\">\n",
       "  <thead>\n",
       "    <tr style=\"text-align: right;\">\n",
       "      <th></th>\n",
       "      <th>Recency</th>\n",
       "      <th>Frequency</th>\n",
       "      <th>Monetary</th>\n",
       "    </tr>\n",
       "    <tr>\n",
       "      <th>KMeans_Cluster_ID</th>\n",
       "      <th></th>\n",
       "      <th></th>\n",
       "      <th></th>\n",
       "    </tr>\n",
       "  </thead>\n",
       "  <tbody>\n",
       "    <tr>\n",
       "      <th>0</th>\n",
       "      <td>253.0</td>\n",
       "      <td>1.0</td>\n",
       "      <td>386.0</td>\n",
       "    </tr>\n",
       "    <tr>\n",
       "      <th>1</th>\n",
       "      <td>32.0</td>\n",
       "      <td>7.0</td>\n",
       "      <td>2658.0</td>\n",
       "    </tr>\n",
       "    <tr>\n",
       "      <th>2</th>\n",
       "      <td>51.0</td>\n",
       "      <td>2.0</td>\n",
       "      <td>660.0</td>\n",
       "    </tr>\n",
       "  </tbody>\n",
       "</table>\n",
       "</div>"
      ],
      "text/plain": [
       "                   Recency  Frequency  Monetary\n",
       "KMeans_Cluster_ID                              \n",
       "0                    253.0        1.0     386.0\n",
       "1                     32.0        7.0    2658.0\n",
       "2                     51.0        2.0     660.0"
      ]
     },
     "execution_count": 55,
     "metadata": {},
     "output_type": "execute_result"
    }
   ],
   "source": [
    "\"\"\"\n",
    "Create Profile:\n",
    "* data: rfm_table_cleaned\n",
    "* grouped rfm_table_cleaned by clusters\n",
    "* calculate the average for each feature\n",
    "\"\"\"\n",
    "rfm_table_cleaned['KMeans_Cluster_ID'] = k_means.labels_\n",
    "\n",
    "grouped_rfm = rfm_table_cleaned.groupby('KMeans_Cluster_ID').mean()\n",
    "round(grouped_rfm)"
   ]
  },
  {
   "cell_type": "markdown",
   "metadata": {},
   "source": [
    "### `Radar Chart for cluster's Profile visualization`"
   ]
  },
  {
   "cell_type": "code",
   "execution_count": 56,
   "metadata": {},
   "outputs": [],
   "source": [
    "def plot_cluster_profile(grouped_data, n_clusters):\n",
    "    # Normalised grouped data (0-1)\n",
    "    scaler = preprocessing.MinMaxScaler()\n",
    "    grouped_data = pd.DataFrame(scaler.fit_transform(grouped_data), columns=grouped_data.columns)\n",
    "    # Create featutes list\n",
    "    features = grouped_data.columns\n",
    "    # Create empty fig\n",
    "    fig = go.Figure()\n",
    "    # Visualize Radar chat for each cluster\n",
    "    for i in range(n_clusters):\n",
    "        fig.add_trace(go.Scatterpolar(\n",
    "            r=grouped_data.iloc[i].values, # raduis\n",
    "            theta=features,\n",
    "            fill='toself', # color\n",
    "            name=f'Cluster {i}', # name — cluster's number\n",
    "        ))\n",
    "    # Update fig's parameters\n",
    "    fig.update_layout(\n",
    "        showlegend=True,\n",
    "        autosize=False,\n",
    "        width=800,\n",
    "        height=800,\n",
    "    )\n",
    "    \n",
    "    fig.write_image('plotly/Scatterpolar_{}.png'.format(n_clusters))\n",
    "    # fig.show()\n",
    "    \n",
    "    \n",
    "plot_cluster_profile(grouped_rfm, n_clusters=3)"
   ]
  },
  {
   "cell_type": "markdown",
   "metadata": {},
   "source": [
    "* **Cluster 0:** \"Loyal\" customers - high-paying, frequent purchases, last purchase was not long time ago\n",
    "* **Cluster 1:** \"Lost\" customers - low-paying, rare purchases, last purchase was long time ago\n",
    "* **Cluster 2:** \"Intermediate\" customers - active, mean-paying, mean-value of purchases"
   ]
  },
  {
   "attachments": {},
   "cell_type": "markdown",
   "metadata": {},
   "source": [
    "***"
   ]
  },
  {
   "cell_type": "markdown",
   "metadata": {},
   "source": [
    "# <p style=\"text-align:center;font-size:100%;\">5. RFM-customers segmentation. Part II</p>"
   ]
  },
  {
   "cell_type": "markdown",
   "metadata": {},
   "source": [
    "Usually customer segmentation task has objective to define more than 3 segments - some gradation from loyal to lost customers.\n",
    "\n",
    "Let's use another type of Dimensionality Reduction method as non linear transformation - **t-SNE**"
   ]
  },
  {
   "cell_type": "markdown",
   "metadata": {},
   "source": [
    "***"
   ]
  },
  {
   "cell_type": "code",
   "execution_count": 57,
   "metadata": {},
   "outputs": [
    {
     "name": "stdout",
     "output_type": "stream",
     "text": [
      "Value of Kullback–Leibler divergence: 0.54\n"
     ]
    }
   ],
   "source": [
    "# deleting cluster labels from cleaned RFM-table (it could be the reason of leak data)\n",
    "rfm_table_cleaned.drop('KMeans_Cluster_ID', axis = 1, inplace = True)\n",
    "\n",
    "# create pipeline\n",
    "pipeline = Pipeline(\n",
    "    [('scaler', preprocessing.StandardScaler()),\n",
    "     ('tsne', manifold.TSNE(n_components=2,\n",
    "                            perplexity=50,\n",
    "                            random_state=100))\n",
    "     ]\n",
    "    )\n",
    "\n",
    "# Training pipeline\n",
    "rfm_table_processed = pipeline.fit_transform(rfm_table_cleaned)\n",
    "rfm_table_processed = pd.DataFrame(\n",
    "    rfm_table_processed,\n",
    "    columns = ['axis-1', 'axis-2']\n",
    ")\n",
    "\n",
    "print(f'Value of Kullback–Leibler divergence: {round(pipeline[1].kl_divergence_, 2)}')"
   ]
  },
  {
   "cell_type": "code",
   "execution_count": 58,
   "metadata": {},
   "outputs": [
    {
     "data": {
      "image/png": "[encoded data removed]",
      "text/plain": [
       "<Figure size 864x360 with 1 Axes>"
      ]
     },
     "metadata": {},
     "output_type": "display_data"
    }
   ],
   "source": [
    "fig = plt.figure(figsize=(12, 5))\n",
    "sns.scatterplot(data=rfm_table_processed, x='axis-1', y='axis-2');"
   ]
  },
  {
   "cell_type": "markdown",
   "metadata": {},
   "source": [
    "The algorithm grouped the most similar objects into similar clusters, and these clusters are easy to identify."
   ]
  },
  {
   "cell_type": "code",
   "execution_count": 59,
   "metadata": {},
   "outputs": [
    {
     "data": {
      "text/html": [
       "<div>\n",
       "<style scoped>\n",
       "    .dataframe tbody tr th:only-of-type {\n",
       "        vertical-align: middle;\n",
       "    }\n",
       "\n",
       "    .dataframe tbody tr th {\n",
       "        vertical-align: top;\n",
       "    }\n",
       "\n",
       "    .dataframe thead th {\n",
       "        text-align: right;\n",
       "    }\n",
       "</style>\n",
       "<table border=\"1\" class=\"dataframe\">\n",
       "  <thead>\n",
       "    <tr style=\"text-align: right;\">\n",
       "      <th></th>\n",
       "      <th>silhouette</th>\n",
       "      <th>cluster</th>\n",
       "    </tr>\n",
       "  </thead>\n",
       "  <tbody>\n",
       "    <tr>\n",
       "      <th>0</th>\n",
       "      <td>0.434189</td>\n",
       "      <td>3</td>\n",
       "    </tr>\n",
       "    <tr>\n",
       "      <th>1</th>\n",
       "      <td>0.479278</td>\n",
       "      <td>4</td>\n",
       "    </tr>\n",
       "    <tr>\n",
       "      <th>2</th>\n",
       "      <td>0.478284</td>\n",
       "      <td>5</td>\n",
       "    </tr>\n",
       "    <tr>\n",
       "      <th>3</th>\n",
       "      <td>0.479196</td>\n",
       "      <td>6</td>\n",
       "    </tr>\n",
       "    <tr>\n",
       "      <th>4</th>\n",
       "      <td>0.484495</td>\n",
       "      <td>7</td>\n",
       "    </tr>\n",
       "    <tr>\n",
       "      <th>5</th>\n",
       "      <td>0.482026</td>\n",
       "      <td>8</td>\n",
       "    </tr>\n",
       "  </tbody>\n",
       "</table>\n",
       "</div>"
      ],
      "text/plain": [
       "   silhouette  cluster\n",
       "0    0.434189        3\n",
       "1    0.479278        4\n",
       "2    0.478284        5\n",
       "3    0.479196        6\n",
       "4    0.484495        7\n",
       "5    0.482026        8"
      ]
     },
     "metadata": {},
     "output_type": "display_data"
    },
    {
     "data": {
      "text/plain": [
       "<AxesSubplot: xlabel='cluster', ylabel='silhouette'>"
      ]
     },
     "execution_count": 59,
     "metadata": {},
     "output_type": "execute_result"
    },
    {
     "data": {
      "image/png": "[encoded data removed]",
      "text/plain": [
       "<Figure size 432x288 with 1 Axes>"
      ]
     },
     "metadata": {},
     "output_type": "display_data"
    }
   ],
   "source": [
    "\"\"\"\n",
    "Let's try to divide this space of principal components into segments\n",
    "-  k-means method\n",
    "\"\"\"\n",
    "silhouette_res = {'silhouette': [], 'cluster': []}\n",
    "\n",
    "for i in range(3, 9):\n",
    "    # training k_means model\n",
    "    k_means = cluster.KMeans(n_clusters=i,\n",
    "                             random_state=RANDOM_SEED\n",
    "                             ).fit(rfm_table_processed)\n",
    "    \n",
    "    silhouette_res['silhouette'].append(metrics.silhouette_score(rfm_table_processed, k_means.labels_))\n",
    "    silhouette_res['cluster'].append(i)\n",
    "    \n",
    "# save results in to df\n",
    "silhouette_df = pd.DataFrame(silhouette_res)\n",
    "display(silhouette_df)\n",
    "\n",
    "# visualiztion style\n",
    "sns.set_style('darkgrid')\n",
    "sns.lineplot(data=silhouette_df, x='cluster', y='silhouette', marker= 'o')"
   ]
  },
  {
   "cell_type": "markdown",
   "metadata": {},
   "source": [
    "* Maximum value of the silhouette coefficient for K-means: 0.48\n",
    "* Optimal number of clusters: 7"
   ]
  },
  {
   "cell_type": "code",
   "execution_count": 60,
   "metadata": {},
   "outputs": [
    {
     "data": {
      "text/html": [
       "<div>\n",
       "<style scoped>\n",
       "    .dataframe tbody tr th:only-of-type {\n",
       "        vertical-align: middle;\n",
       "    }\n",
       "\n",
       "    .dataframe tbody tr th {\n",
       "        vertical-align: top;\n",
       "    }\n",
       "\n",
       "    .dataframe thead th {\n",
       "        text-align: right;\n",
       "    }\n",
       "</style>\n",
       "<table border=\"1\" class=\"dataframe\">\n",
       "  <thead>\n",
       "    <tr style=\"text-align: right;\">\n",
       "      <th></th>\n",
       "      <th>silhouette</th>\n",
       "      <th>cluster</th>\n",
       "    </tr>\n",
       "  </thead>\n",
       "  <tbody>\n",
       "    <tr>\n",
       "      <th>0</th>\n",
       "      <td>0.427071</td>\n",
       "      <td>3</td>\n",
       "    </tr>\n",
       "    <tr>\n",
       "      <th>1</th>\n",
       "      <td>0.468827</td>\n",
       "      <td>4</td>\n",
       "    </tr>\n",
       "    <tr>\n",
       "      <th>2</th>\n",
       "      <td>0.412347</td>\n",
       "      <td>5</td>\n",
       "    </tr>\n",
       "    <tr>\n",
       "      <th>3</th>\n",
       "      <td>0.457162</td>\n",
       "      <td>6</td>\n",
       "    </tr>\n",
       "    <tr>\n",
       "      <th>4</th>\n",
       "      <td>0.411883</td>\n",
       "      <td>7</td>\n",
       "    </tr>\n",
       "    <tr>\n",
       "      <th>5</th>\n",
       "      <td>0.429173</td>\n",
       "      <td>8</td>\n",
       "    </tr>\n",
       "  </tbody>\n",
       "</table>\n",
       "</div>"
      ],
      "text/plain": [
       "   silhouette  cluster\n",
       "0    0.427071        3\n",
       "1    0.468827        4\n",
       "2    0.412347        5\n",
       "3    0.457162        6\n",
       "4    0.411883        7\n",
       "5    0.429173        8"
      ]
     },
     "metadata": {},
     "output_type": "display_data"
    },
    {
     "data": {
      "text/plain": [
       "<AxesSubplot: xlabel='cluster', ylabel='silhouette'>"
      ]
     },
     "execution_count": 60,
     "metadata": {},
     "output_type": "execute_result"
    },
    {
     "data": {
      "image/png": "[encoded data removed]",
      "text/plain": [
       "<Figure size 432x288 with 1 Axes>"
      ]
     },
     "metadata": {},
     "output_type": "display_data"
    }
   ],
   "source": [
    "\"\"\"\n",
    "Let's try to divide this space of principal components into segments\n",
    "- EM-algorithm\n",
    "\"\"\"\n",
    "silhouette_gm = {'silhouette': [], 'cluster': []}\n",
    "\n",
    "for i in range(3, 9):\n",
    "    # training k_means model\n",
    "    gm = mixture.GaussianMixture(\n",
    "        n_components=i,\n",
    "        random_state=RANDOM_SEED\n",
    "        ).fit_predict(rfm_table_processed)\n",
    "    \n",
    "    silhouette_gm['silhouette'].append(metrics.silhouette_score(rfm_table_processed, gm))\n",
    "    silhouette_gm['cluster'].append(i)\n",
    "    \n",
    "# save results in to df\n",
    "silhouette_gm_df = pd.DataFrame(silhouette_gm)\n",
    "display(silhouette_gm_df)\n",
    "\n",
    "# visualiztion style\n",
    "sns.set_style('darkgrid')\n",
    "sns.lineplot(data=silhouette_gm_df, x='cluster', y='silhouette', marker= 'o')"
   ]
  },
  {
   "cell_type": "markdown",
   "metadata": {},
   "source": [
    "* Maximum value of the silhouette coefficient for EM-algorithm: 0.47\n",
    "* Optimal number of clusters: 4"
   ]
  },
  {
   "cell_type": "code",
   "execution_count": 61,
   "metadata": {},
   "outputs": [
    {
     "data": {
      "text/html": [
       "<div>\n",
       "<style scoped>\n",
       "    .dataframe tbody tr th:only-of-type {\n",
       "        vertical-align: middle;\n",
       "    }\n",
       "\n",
       "    .dataframe tbody tr th {\n",
       "        vertical-align: top;\n",
       "    }\n",
       "\n",
       "    .dataframe thead th {\n",
       "        text-align: right;\n",
       "    }\n",
       "</style>\n",
       "<table border=\"1\" class=\"dataframe\">\n",
       "  <thead>\n",
       "    <tr style=\"text-align: right;\">\n",
       "      <th></th>\n",
       "      <th>silhouette</th>\n",
       "      <th>cluster</th>\n",
       "    </tr>\n",
       "  </thead>\n",
       "  <tbody>\n",
       "    <tr>\n",
       "      <th>0</th>\n",
       "      <td>0.379710</td>\n",
       "      <td>2</td>\n",
       "    </tr>\n",
       "    <tr>\n",
       "      <th>1</th>\n",
       "      <td>0.423116</td>\n",
       "      <td>3</td>\n",
       "    </tr>\n",
       "    <tr>\n",
       "      <th>2</th>\n",
       "      <td>0.456647</td>\n",
       "      <td>4</td>\n",
       "    </tr>\n",
       "    <tr>\n",
       "      <th>3</th>\n",
       "      <td>0.470394</td>\n",
       "      <td>5</td>\n",
       "    </tr>\n",
       "    <tr>\n",
       "      <th>4</th>\n",
       "      <td>0.469175</td>\n",
       "      <td>6</td>\n",
       "    </tr>\n",
       "    <tr>\n",
       "      <th>5</th>\n",
       "      <td>0.458636</td>\n",
       "      <td>7</td>\n",
       "    </tr>\n",
       "    <tr>\n",
       "      <th>6</th>\n",
       "      <td>0.479046</td>\n",
       "      <td>8</td>\n",
       "    </tr>\n",
       "  </tbody>\n",
       "</table>\n",
       "</div>"
      ],
      "text/plain": [
       "   silhouette  cluster\n",
       "0    0.379710        2\n",
       "1    0.423116        3\n",
       "2    0.456647        4\n",
       "3    0.470394        5\n",
       "4    0.469175        6\n",
       "5    0.458636        7\n",
       "6    0.479046        8"
      ]
     },
     "metadata": {},
     "output_type": "display_data"
    },
    {
     "data": {
      "text/plain": [
       "<AxesSubplot: xlabel='cluster', ylabel='silhouette'>"
      ]
     },
     "execution_count": 61,
     "metadata": {},
     "output_type": "execute_result"
    },
    {
     "data": {
      "image/png": "[encoded data removed]",
      "text/plain": [
       "<Figure size 432x288 with 1 Axes>"
      ]
     },
     "metadata": {},
     "output_type": "display_data"
    }
   ],
   "source": [
    "\"\"\"\n",
    "Let's try to divide this space of principal components into segments\n",
    "- Agglomerative Clustering\n",
    "\"\"\"\n",
    "silhouette_agg = {'silhouette': [], 'cluster': []}\n",
    "\n",
    "for i in range(2, 9):\n",
    "    # training k_means model\n",
    "    aggl = cluster.AgglomerativeClustering(\n",
    "        n_clusters=i\n",
    "        ).fit_predict(rfm_table_processed)\n",
    "    \n",
    "    silhouette_agg['silhouette'].append(metrics.silhouette_score(rfm_table_processed, aggl))\n",
    "    silhouette_agg['cluster'].append(i)\n",
    "    \n",
    "# save results in to df\n",
    "silhouette_agg_df = pd.DataFrame(silhouette_agg)\n",
    "display(silhouette_agg_df)\n",
    "\n",
    "# visualiztion style\n",
    "sns.set_style('darkgrid')\n",
    "sns.lineplot(data=silhouette_agg_df, x='cluster', y='silhouette', marker= 'o')"
   ]
  },
  {
   "cell_type": "markdown",
   "metadata": {},
   "source": [
    "* Maximum value of the silhouette coefficient for Agglomerative Clustering: 0.48\n",
    "* Optimal number of clusters: 8"
   ]
  },
  {
   "cell_type": "code",
   "execution_count": 62,
   "metadata": {},
   "outputs": [
    {
     "name": "stdout",
     "output_type": "stream",
     "text": [
      "Number of customers in a big cluster: 1    914\n",
      "4    683\n",
      "0    656\n",
      "2    543\n",
      "5    446\n",
      "6    405\n",
      "3    397\n",
      "Name: KMeans_Cluster_ID, dtype: int64\n"
     ]
    }
   ],
   "source": [
    "k_means = cluster.KMeans(n_clusters=7,\n",
    "                         n_init=10,\n",
    "                         random_state=RANDOM_SEED\n",
    "                         )\n",
    "\n",
    "k_means.fit(rfm_table_processed)\n",
    "\n",
    "rfm_table_processed['KMeans_Cluster_ID'] = k_means.labels_\n",
    "print(f'Number of customers in a big cluster: {rfm_table_processed.KMeans_Cluster_ID.value_counts()}')"
   ]
  },
  {
   "cell_type": "code",
   "execution_count": 63,
   "metadata": {},
   "outputs": [
    {
     "data": {
      "image/png": "[encoded data removed]",
      "text/plain": [
       "<Figure size 864x360 with 1 Axes>"
      ]
     },
     "metadata": {},
     "output_type": "display_data"
    }
   ],
   "source": [
    "fig = plt.figure(figsize=(12, 5))\n",
    "sns.scatterplot(data=rfm_table_processed, x='axis-1', y='axis-2', hue=k_means.labels_.astype('str'));"
   ]
  },
  {
   "cell_type": "markdown",
   "metadata": {},
   "source": [
    "* There are 7 segments.\n",
    "\n",
    "Let's create profile for each segment"
   ]
  },
  {
   "cell_type": "code",
   "execution_count": 64,
   "metadata": {},
   "outputs": [
    {
     "name": "stdout",
     "output_type": "stream",
     "text": [
      "Max value for Recency column (days number): 313.0\n"
     ]
    }
   ],
   "source": [
    "\"\"\"\n",
    "Create Profile:\n",
    "* data: rfm_table_cleaned\n",
    "* grouped rfm_table_cleaned by clusters\n",
    "* calculate the average for each feature\n",
    "\"\"\"\n",
    "rfm_table_cleaned['KMeans_Cluster_ID'] = k_means.labels_\n",
    "\n",
    "grouped_rfm = rfm_table_cleaned.groupby('KMeans_Cluster_ID').mean()\n",
    "round(grouped_rfm)\n",
    "\n",
    "print(f'Max value for Recency column (days number): {grouped_rfm.Recency.max()}')"
   ]
  },
  {
   "cell_type": "code",
   "execution_count": 65,
   "metadata": {},
   "outputs": [],
   "source": [
    "plot_cluster_profile(grouped_rfm, n_clusters=7)"
   ]
  },
  {
   "cell_type": "markdown",
   "metadata": {},
   "source": [
    "* **Cluster 0:** \"Newbie\" clients - first purchase for not high price, few days ago\n",
    "* **Cluster 1:** \"Loyal\" customers - high-paying, frequent purchases, last purchase was not long time ago\n",
    "* **Cluster 2:** \"Loose\" customers - a few purchases for not high price, few days ago\n",
    "* **Cluster 3:** \"Lost\" customers - low-paying, rare purchases, last purchase was more than one year ago\n",
    "* **Cluster 4:** \"Promising\" clients - active, mean-paying, mean-value of purchases\n",
    "* **Cluster 5:** Customers at \"risk zone\" - a few purchases for not high price, last purchase was more than 5 months ago\n",
    "* **Cluster 6:** \"Sleeping\" customers - make 1 order for low price more than 5 months ago"
   ]
  },
  {
   "cell_type": "markdown",
   "metadata": {},
   "source": [
    "***"
   ]
  },
  {
   "cell_type": "markdown",
   "metadata": {},
   "source": [
    "# <p style=\"text-align:center;font-size:100%;\">6. RFM-customers segmentation. Part III. Classification model</p>"
   ]
  },
  {
   "cell_type": "markdown",
   "metadata": {},
   "source": [
    "Now we have true clusters labels.\n",
    "\n",
    "In order to make prediction for new data it's needed to change task from **clusterization** to **classification**."
   ]
  },
  {
   "cell_type": "markdown",
   "metadata": {},
   "source": [
    "***"
   ]
  },
  {
   "cell_type": "code",
   "execution_count": 66,
   "metadata": {},
   "outputs": [
    {
     "data": {
      "text/plain": [
       "3235"
      ]
     },
     "metadata": {},
     "output_type": "display_data"
    },
    {
     "data": {
      "text/plain": [
       "809"
      ]
     },
     "metadata": {},
     "output_type": "display_data"
    }
   ],
   "source": [
    "X = rfm_table_cleaned.drop(columns='KMeans_Cluster_ID', axis=1) #cleaned RFM-table\n",
    "y = rfm_table_cleaned['KMeans_Cluster_ID'] #cluster's label\n",
    "\n",
    "# dividing for train and validation data (80/20) - hold-out validation\n",
    "X_train, X_test, y_train, y_test = model_selection.train_test_split(X, y, test_size=0.2, random_state=RANDOM_SEED)\n",
    "display(X_train.shape[0], X_test.shape[0])"
   ]
  },
  {
   "cell_type": "markdown",
   "metadata": {},
   "source": [
    "T-SNE - non linear method. That's why it has more sense to use non linear models:\n",
    "* Ensemlbe (Random Forest)"
   ]
  },
  {
   "cell_type": "code",
   "execution_count": 67,
   "metadata": {},
   "outputs": [
    {
     "name": "stdout",
     "output_type": "stream",
     "text": [
      "Wall time: 1min 56s\n",
      "Accuracy on train data: 1.000\n",
      "\n",
      "Accuracy on test data: 0.985\n",
      "\n",
      "The best values of hyperparameters: {'criterion': 'gini', 'max_depth': 13, 'n_estimators': 200}\n"
     ]
    }
   ],
   "source": [
    "\"\"\"\n",
    "Ensemble: Random Forest model\n",
    "\"\"\"\n",
    "\n",
    "param_grid = {\n",
    "    'max_depth': range(5, 15),\n",
    "    'criterion': ['gini', 'entropy'],\n",
    "    'n_estimators': [100, 200, 500]\n",
    "}\n",
    "\n",
    "grid_search_forest = model_selection.GridSearchCV(\n",
    "    estimator=ensemble.RandomForestClassifier(random_state=RANDOM_SEED),\n",
    "    param_grid=param_grid,\n",
    "    cv=5,\n",
    "    n_jobs = -1\n",
    ")\n",
    "\n",
    "# Model training\n",
    "%time grid_search_forest.fit(X_train, y_train)\n",
    "\n",
    "# Get prediction\n",
    "y_train_pred = grid_search_forest.predict(X_train)\n",
    "y_test_pred = grid_search_forest.predict(X_test)\n",
    "\n",
    "# Computing metrics\n",
    "print('Accuracy on train data: {:.3f}'.format(metrics.accuracy_score(y_train, y_train_pred)))\n",
    "print('\\nAccuracy on test data: {:.3f}'.format(metrics.accuracy_score(y_test, y_test_pred)))\n",
    "print('\\nThe best values of hyperparameters: {}'.format(grid_search_forest.best_params_))"
   ]
  },
  {
   "cell_type": "markdown",
   "metadata": {},
   "source": [
    "Accuracy score is high, but we can try one more model - **Boosting** - in order to check final result."
   ]
  },
  {
   "cell_type": "code",
   "execution_count": 68,
   "metadata": {},
   "outputs": [
    {
     "name": "stdout",
     "output_type": "stream",
     "text": [
      "The best values of hyperparameters:{'learning_rate': 0.1, 'max_depth': 4, 'n_estimators': 200}\n",
      "The best values of metrics:0.9860896445131375\n",
      "\n",
      "Accuracy on test data: 0.983\n"
     ]
    }
   ],
   "source": [
    "\"\"\"\n",
    "Boosting\n",
    "\"\"\"\n",
    "model_for_gs = ensemble.GradientBoostingClassifier(random_state=RANDOM_SEED)\n",
    "\n",
    "param_grid = {\n",
    "    'max_depth': range(3, 7),\n",
    "    'learning_rate': [0.001, 0.01, 0.1],\n",
    "    'n_estimators': [100, 200, 500]\n",
    "}\n",
    "\n",
    "grid_search_gs = model_selection.GridSearchCV(model_for_gs,\n",
    "                                              param_grid,\n",
    "                                              cv=5,\n",
    "                                              scoring=metrics.make_scorer(metrics.accuracy_score),\n",
    "                                              n_jobs = -1)\n",
    "\n",
    "# Model training \n",
    "grid_search_gs.fit(X_train, y_train)\n",
    "\n",
    "# Get prediction\n",
    "y_train_pred = grid_search_gs.predict(X_train)\n",
    "y_test_pred = grid_search_gs.predict(X_test)\n",
    "\n",
    "# Computing metrics\n",
    "print(f'The best values of hyperparameters:{grid_search_gs.best_params_}')\n",
    "print(f'The best values of metrics:{grid_search_gs.best_score_}')\n",
    "print('\\nAccuracy on test data: {:.3f}'.format(metrics.accuracy_score(y_test, y_test_pred)))"
   ]
  },
  {
   "cell_type": "code",
   "execution_count": 69,
   "metadata": {},
   "outputs": [
    {
     "data": {
      "text/html": [
       "<div>\n",
       "<style scoped>\n",
       "    .dataframe tbody tr th:only-of-type {\n",
       "        vertical-align: middle;\n",
       "    }\n",
       "\n",
       "    .dataframe tbody tr th {\n",
       "        vertical-align: top;\n",
       "    }\n",
       "\n",
       "    .dataframe thead th {\n",
       "        text-align: right;\n",
       "    }\n",
       "</style>\n",
       "<table border=\"1\" class=\"dataframe\">\n",
       "  <thead>\n",
       "    <tr style=\"text-align: right;\">\n",
       "      <th></th>\n",
       "      <th>Model Name</th>\n",
       "      <th>Hyperparameters</th>\n",
       "      <th>Accuracy, train</th>\n",
       "      <th>Accuracy, test</th>\n",
       "    </tr>\n",
       "  </thead>\n",
       "  <tbody>\n",
       "    <tr>\n",
       "      <th>0</th>\n",
       "      <td>Random Forest Classifier</td>\n",
       "      <td>criterion=gini, max_depth=13, n_estimators=200</td>\n",
       "      <td>1.000</td>\n",
       "      <td>0.985</td>\n",
       "    </tr>\n",
       "    <tr>\n",
       "      <th>1</th>\n",
       "      <td>Gradient Boosting</td>\n",
       "      <td>learning_rate=0.1, max_depth=4, n_estimators=200</td>\n",
       "      <td>1.000</td>\n",
       "      <td>0.983</td>\n",
       "    </tr>\n",
       "  </tbody>\n",
       "</table>\n",
       "</div>"
      ],
      "text/plain": [
       "                 Model Name                                   Hyperparameters  \\\n",
       "0  Random Forest Classifier    criterion=gini, max_depth=13, n_estimators=200   \n",
       "1         Gradient Boosting  learning_rate=0.1, max_depth=4, n_estimators=200   \n",
       "\n",
       "  Accuracy, train Accuracy, test  \n",
       "0           1.000          0.985  \n",
       "1           1.000          0.983  "
      ]
     },
     "metadata": {},
     "output_type": "display_data"
    }
   ],
   "source": [
    "result = pd.DataFrame({\n",
    "    'Model Name': ['Random Forest Classifier', 'Gradient Boosting'],\n",
    "    'Hyperparameters': ['criterion=gini, max_depth=13, n_estimators=200',\n",
    "                        'learning_rate=0.1, max_depth=4, n_estimators=200'],\n",
    "    'Accuracy, train': ['1.000', '1.000'],\n",
    "    'Accuracy, test': ['0.985', '0.983']\n",
    "})\n",
    "\n",
    "display(result)"
   ]
  },
  {
   "cell_type": "markdown",
   "metadata": {},
   "source": [
    "***"
   ]
  },
  {
   "cell_type": "markdown",
   "metadata": {},
   "source": [
    "Further study:\n",
    "\n",
    "* Select wholesalers in a separate segment. Create RFMQ-table, where \"Q\" - mean quantity of products in one order.\n",
    "* Cluster analysis of goods based on their description. Create categories for which purchases are made.\n",
    "* Calculate the purchase frequency of each product category for each customer (segmentation by customers' interest)\n",
    "* Seasonality of purchases. Define **regular customers** and **seasonal customers**"
   ]
  },
  {
   "cell_type": "markdown",
   "metadata": {},
   "source": [
    "***"
   ]
  }
 ],
 "metadata": {
  "kernelspec": {
   "display_name": "base",
   "language": "python",
   "name": "python3"
  },
  "language_info": {
   "codemirror_mode": {
    "name": "ipython",
    "version": 3
   },
   "file_extension": ".py",
   "mimetype": "text/x-python",
   "name": "python",
   "nbconvert_exporter": "python",
   "pygments_lexer": "ipython3",
   "version": "3.8.8"
  },
  "orig_nbformat": 4
 },
 "nbformat": 4,
 "nbformat_minor": 2
}
